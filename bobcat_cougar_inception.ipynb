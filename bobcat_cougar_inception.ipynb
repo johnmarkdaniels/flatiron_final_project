{
 "cells": [
  {
   "cell_type": "code",
   "execution_count": 1,
   "metadata": {},
   "outputs": [
    {
     "name": "stderr",
     "output_type": "stream",
     "text": [
      "Using TensorFlow backend.\n"
     ]
    }
   ],
   "source": [
    "import matplotlib.pyplot as plt\n",
    "import numpy as np\n",
    "import os, shutil\n",
    "from keras import models\n",
    "from keras import layers\n",
    "from sklearn.metrics import confusion_matrix, f1_score\n",
    "np.random.seed(123)\n",
    "from keras.models import load_model\n",
    "from keras.preprocessing.image import ImageDataGenerator, array_to_img, img_to_array, load_img"
   ]
  },
  {
   "cell_type": "code",
   "execution_count": 2,
   "metadata": {},
   "outputs": [],
   "source": [
    "# # Set up data into train and test directories with folders of bobcat and not_bobcat\n",
    "# train_data_dir = '/Users/j.markdaniels/Downloads/final_proj_data/bobcat_cougar_data/train/'#348 bobcat, 340 not_bobcat\n",
    "# test_data_dir = '/Users/j.markdaniels/Downloads/final_proj_data/bobcat_cougar_data/test/'#348 bobcat, 340 not_bobcat\n",
    "\n",
    "# test_generator = ImageDataGenerator(rescale=1./255).flow_from_directory(\n",
    "#         test_data_dir, \n",
    "#         target_size=(128, 128), batch_size=340)\n",
    "\n",
    "# train_generator = ImageDataGenerator(rescale=1./255).flow_from_directory(\n",
    "#         train_data_dir, \n",
    "#         target_size=(128, 128), batch_size=340)\n",
    "\n",
    "# # create the data sets\n",
    "# train_images, train_labels = next(train_generator)\n",
    "# test_images, test_labels = next(test_generator)"
   ]
  },
  {
   "cell_type": "code",
   "execution_count": 3,
   "metadata": {},
   "outputs": [
    {
     "name": "stdout",
     "output_type": "stream",
     "text": [
      "Found 685 images belonging to 2 classes.\n"
     ]
    }
   ],
   "source": [
    "# get all the data in the directory split/test, and reshape them\n",
    "data_te = ImageDataGenerator(rescale=1./255).flow_from_directory( \n",
    "        '/Users/j.markdaniels/Downloads/final_proj_data/bobcat_cougar_data/test/', \n",
    "        target_size=(224, 224), \n",
    "        batch_size = 340, \n",
    "        seed = 123)"
   ]
  },
  {
   "cell_type": "code",
   "execution_count": 4,
   "metadata": {},
   "outputs": [
    {
     "name": "stdout",
     "output_type": "stream",
     "text": [
      "Found 680 images belonging to 2 classes.\n"
     ]
    }
   ],
   "source": [
    "data_tr = ImageDataGenerator(rescale=1./255).flow_from_directory( \n",
    "        '/Users/j.markdaniels/Downloads/final_proj_data/bobcat_cougar_data/train/', \n",
    "        target_size=(224, 224), \n",
    "        batch_size = 340, \n",
    "        seed = 123) "
   ]
  },
  {
   "cell_type": "code",
   "execution_count": 5,
   "metadata": {},
   "outputs": [],
   "source": [
    "#split images and labels\n",
    "images_tr, labels_tr = next(data_tr)"
   ]
  },
  {
   "cell_type": "code",
   "execution_count": 6,
   "metadata": {},
   "outputs": [
    {
     "name": "stderr",
     "output_type": "stream",
     "text": [
      "/anaconda3/lib/python3.7/site-packages/PIL/TiffImagePlugin.py:763: UserWarning: Possibly corrupt EXIF data.  Expecting to read 85 bytes but only got 0. Skipping tag 33285\n",
      "  \" Skipping tag %s\" % (size, len(data), tag))\n",
      "/anaconda3/lib/python3.7/site-packages/PIL/TiffImagePlugin.py:763: UserWarning: Possibly corrupt EXIF data.  Expecting to read 93 bytes but only got 0. Skipping tag 33285\n",
      "  \" Skipping tag %s\" % (size, len(data), tag))\n",
      "/anaconda3/lib/python3.7/site-packages/PIL/TiffImagePlugin.py:763: UserWarning: Possibly corrupt EXIF data.  Expecting to read 141 bytes but only got 0. Skipping tag 37386\n",
      "  \" Skipping tag %s\" % (size, len(data), tag))\n",
      "/anaconda3/lib/python3.7/site-packages/PIL/TiffImagePlugin.py:763: UserWarning: Possibly corrupt EXIF data.  Expecting to read 149 bytes but only got 0. Skipping tag 37381\n",
      "  \" Skipping tag %s\" % (size, len(data), tag))\n",
      "/anaconda3/lib/python3.7/site-packages/PIL/TiffImagePlugin.py:763: UserWarning: Possibly corrupt EXIF data.  Expecting to read 157 bytes but only got 0. Skipping tag 37381\n",
      "  \" Skipping tag %s\" % (size, len(data), tag))\n",
      "/anaconda3/lib/python3.7/site-packages/PIL/TiffImagePlugin.py:763: UserWarning: Possibly corrupt EXIF data.  Expecting to read 144 bytes but only got 0. Skipping tag 40964\n",
      "  \" Skipping tag %s\" % (size, len(data), tag))\n",
      "/anaconda3/lib/python3.7/site-packages/PIL/TiffImagePlugin.py:763: UserWarning: Possibly corrupt EXIF data.  Expecting to read 192 bytes but only got 0. Skipping tag 40964\n",
      "  \" Skipping tag %s\" % (size, len(data), tag))\n",
      "/anaconda3/lib/python3.7/site-packages/PIL/TiffImagePlugin.py:763: UserWarning: Possibly corrupt EXIF data.  Expecting to read 192 bytes but only got 0. Skipping tag 41735\n",
      "  \" Skipping tag %s\" % (size, len(data), tag))\n",
      "/anaconda3/lib/python3.7/site-packages/PIL/TiffImagePlugin.py:763: UserWarning: Possibly corrupt EXIF data.  Expecting to read 62 bytes but only got 0. Skipping tag 41989\n",
      "  \" Skipping tag %s\" % (size, len(data), tag))\n",
      "/anaconda3/lib/python3.7/site-packages/PIL/TiffImagePlugin.py:763: UserWarning: Possibly corrupt EXIF data.  Expecting to read 16908320 bytes but only got 8068. Skipping tag 2048\n",
      "  \" Skipping tag %s\" % (size, len(data), tag))\n",
      "/anaconda3/lib/python3.7/site-packages/PIL/TiffImagePlugin.py:763: UserWarning: Possibly corrupt EXIF data.  Expecting to read 16908320 bytes but only got 8036. Skipping tag 2048\n",
      "  \" Skipping tag %s\" % (size, len(data), tag))\n",
      "/anaconda3/lib/python3.7/site-packages/PIL/TiffImagePlugin.py:763: UserWarning: Possibly corrupt EXIF data.  Expecting to read 34209794 bytes but only got 8258. Skipping tag 2048\n",
      "  \" Skipping tag %s\" % (size, len(data), tag))\n",
      "/anaconda3/lib/python3.7/site-packages/PIL/TiffImagePlugin.py:763: UserWarning: Possibly corrupt EXIF data.  Expecting to read 68157444 bytes but only got 8276. Skipping tag 2304\n",
      "  \" Skipping tag %s\" % (size, len(data), tag))\n",
      "/anaconda3/lib/python3.7/site-packages/PIL/TiffImagePlugin.py:763: UserWarning: Possibly corrupt EXIF data.  Expecting to read 34078722 bytes but only got 8193. Skipping tag 1536\n",
      "  \" Skipping tag %s\" % (size, len(data), tag))\n",
      "/anaconda3/lib/python3.7/site-packages/PIL/TiffImagePlugin.py:763: UserWarning: Possibly corrupt EXIF data.  Expecting to read 34078722 bytes but only got 8105. Skipping tag 1024\n",
      "  \" Skipping tag %s\" % (size, len(data), tag))\n",
      "/anaconda3/lib/python3.7/site-packages/PIL/TiffImagePlugin.py:763: UserWarning: Possibly corrupt EXIF data.  Expecting to read 68157442 bytes but only got 8126. Skipping tag 768\n",
      "  \" Skipping tag %s\" % (size, len(data), tag))\n",
      "/anaconda3/lib/python3.7/site-packages/PIL/TiffImagePlugin.py:763: UserWarning: Possibly corrupt EXIF data.  Expecting to read 136315212 bytes but only got 8268. Skipping tag 1280\n",
      "  \" Skipping tag %s\" % (size, len(data), tag))\n",
      "/anaconda3/lib/python3.7/site-packages/PIL/TiffImagePlugin.py:763: UserWarning: Possibly corrupt EXIF data.  Expecting to read 135004164 bytes but only got 8023. Skipping tag 3584\n",
      "  \" Skipping tag %s\" % (size, len(data), tag))\n",
      "/anaconda3/lib/python3.7/site-packages/PIL/TiffImagePlugin.py:763: UserWarning: Possibly corrupt EXIF data.  Expecting to read 270008328 bytes but only got 8278. Skipping tag 0\n",
      "  \" Skipping tag %s\" % (size, len(data), tag))\n",
      "/anaconda3/lib/python3.7/site-packages/PIL/TiffImagePlugin.py:763: UserWarning: Possibly corrupt EXIF data.  Expecting to read 135004164 bytes but only got 8278. Skipping tag 0\n",
      "  \" Skipping tag %s\" % (size, len(data), tag))\n",
      "/anaconda3/lib/python3.7/site-packages/PIL/TiffImagePlugin.py:763: UserWarning: Possibly corrupt EXIF data.  Expecting to read 50528257 bytes but only got 8074. Skipping tag 0\n",
      "  \" Skipping tag %s\" % (size, len(data), tag))\n",
      "/anaconda3/lib/python3.7/site-packages/PIL/TiffImagePlugin.py:763: UserWarning: Possibly corrupt EXIF data.  Expecting to read 50528257 bytes but only got 8278. Skipping tag 256\n",
      "  \" Skipping tag %s\" % (size, len(data), tag))\n",
      "/anaconda3/lib/python3.7/site-packages/PIL/TiffImagePlugin.py:763: UserWarning: Possibly corrupt EXIF data.  Expecting to read 101056514 bytes but only got 8081. Skipping tag 0\n",
      "  \" Skipping tag %s\" % (size, len(data), tag))\n",
      "/anaconda3/lib/python3.7/site-packages/PIL/TiffImagePlugin.py:763: UserWarning: Possibly corrupt EXIF data.  Expecting to read 202113028 bytes but only got 8056. Skipping tag 256\n",
      "  \" Skipping tag %s\" % (size, len(data), tag))\n",
      "/anaconda3/lib/python3.7/site-packages/PIL/TiffImagePlugin.py:763: UserWarning: Possibly corrupt EXIF data.  Expecting to read 405274632 bytes but only got 8182. Skipping tag 256\n",
      "  \" Skipping tag %s\" % (size, len(data), tag))\n",
      "/anaconda3/lib/python3.7/site-packages/PIL/TiffImagePlugin.py:763: UserWarning: Possibly corrupt EXIF data.  Expecting to read 50528257 bytes but only got 8278. Skipping tag 6656\n",
      "  \" Skipping tag %s\" % (size, len(data), tag))\n",
      "/anaconda3/lib/python3.7/site-packages/PIL/TiffImagePlugin.py:763: UserWarning: Possibly corrupt EXIF data.  Expecting to read 101056514 bytes but only got 8278. Skipping tag 0\n",
      "  \" Skipping tag %s\" % (size, len(data), tag))\n",
      "/anaconda3/lib/python3.7/site-packages/PIL/TiffImagePlugin.py:763: UserWarning: Possibly corrupt EXIF data.  Expecting to read 404226064 bytes but only got 8278. Skipping tag 0\n",
      "  \" Skipping tag %s\" % (size, len(data), tag))\n",
      "/anaconda3/lib/python3.7/site-packages/PIL/TiffImagePlugin.py:763: UserWarning: Possibly corrupt EXIF data.  Expecting to read 302186498 bytes but only got 8278. Skipping tag 0\n",
      "  \" Skipping tag %s\" % (size, len(data), tag))\n",
      "/anaconda3/lib/python3.7/site-packages/PIL/TiffImagePlugin.py:763: UserWarning: Possibly corrupt EXIF data.  Expecting to read 302186497 bytes but only got 8198. Skipping tag 0\n",
      "  \" Skipping tag %s\" % (size, len(data), tag))\n",
      "/anaconda3/lib/python3.7/site-packages/PIL/TiffImagePlugin.py:763: UserWarning: Possibly corrupt EXIF data.  Expecting to read 605290498 bytes but only got 8090. Skipping tag 0\n",
      "  \" Skipping tag %s\" % (size, len(data), tag))\n",
      "/anaconda3/lib/python3.7/site-packages/PIL/TiffImagePlugin.py:763: UserWarning: Possibly corrupt EXIF data.  Expecting to read 1208745988 bytes but only got 8278. Skipping tag 6656\n",
      "  \" Skipping tag %s\" % (size, len(data), tag))\n",
      "/anaconda3/lib/python3.7/site-packages/PIL/TiffImagePlugin.py:763: UserWarning: Possibly corrupt EXIF data.  Expecting to read 2418540552 bytes but only got 8078. Skipping tag 0\n",
      "  \" Skipping tag %s\" % (size, len(data), tag))\n",
      "/anaconda3/lib/python3.7/site-packages/PIL/TiffImagePlugin.py:763: UserWarning: Possibly corrupt EXIF data.  Expecting to read 302186497 bytes but only got 8278. Skipping tag 6656\n",
      "  \" Skipping tag %s\" % (size, len(data), tag))\n",
      "/anaconda3/lib/python3.7/site-packages/PIL/TiffImagePlugin.py:763: UserWarning: Possibly corrupt EXIF data.  Expecting to read 302186497 bytes but only got 8278. Skipping tag 0\n",
      "  \" Skipping tag %s\" % (size, len(data), tag))\n",
      "/anaconda3/lib/python3.7/site-packages/PIL/TiffImagePlugin.py:763: UserWarning: Possibly corrupt EXIF data.  Expecting to read 604372994 bytes but only got 8278. Skipping tag 0\n",
      "  \" Skipping tag %s\" % (size, len(data), tag))\n",
      "/anaconda3/lib/python3.7/site-packages/PIL/TiffImagePlugin.py:763: UserWarning: Possibly corrupt EXIF data.  Expecting to read 2417491976 bytes but only got 8278. Skipping tag 0\n",
      "  \" Skipping tag %s\" % (size, len(data), tag))\n",
      "/anaconda3/lib/python3.7/site-packages/PIL/TiffImagePlugin.py:763: UserWarning: Possibly corrupt EXIF data.  Expecting to read 65537 bytes but only got 0. Skipping tag 1\n",
      "  \" Skipping tag %s\" % (size, len(data), tag))\n",
      "/anaconda3/lib/python3.7/site-packages/PIL/TiffImagePlugin.py:763: UserWarning: Possibly corrupt EXIF data.  Expecting to read 393222 bytes but only got 0. Skipping tag 3\n",
      "  \" Skipping tag %s\" % (size, len(data), tag))\n",
      "/anaconda3/lib/python3.7/site-packages/PIL/TiffImagePlugin.py:763: UserWarning: Possibly corrupt EXIF data.  Expecting to read 65536 bytes but only got 8278. Skipping tag 0\n",
      "  \" Skipping tag %s\" % (size, len(data), tag))\n",
      "/anaconda3/lib/python3.7/site-packages/PIL/TiffImagePlugin.py:763: UserWarning: Possibly corrupt EXIF data.  Expecting to read 6553646 bytes but only got 0. Skipping tag 4608\n",
      "  \" Skipping tag %s\" % (size, len(data), tag))\n",
      "/anaconda3/lib/python3.7/site-packages/PIL/TiffImagePlugin.py:763: UserWarning: Possibly corrupt EXIF data.  Expecting to read 3221260288 bytes but only got 0. Skipping tag 2072\n",
      "  \" Skipping tag %s\" % (size, len(data), tag))\n",
      "/anaconda3/lib/python3.7/site-packages/PIL/TiffImagePlugin.py:763: UserWarning: Possibly corrupt EXIF data.  Expecting to read 268435640 bytes but only got 0. Skipping tag 768\n",
      "  \" Skipping tag %s\" % (size, len(data), tag))\n",
      "/anaconda3/lib/python3.7/site-packages/PIL/TiffImagePlugin.py:763: UserWarning: Possibly corrupt EXIF data.  Expecting to read 4718640 bytes but only got 0. Skipping tag 2560\n",
      "  \" Skipping tag %s\" % (size, len(data), tag))\n",
      "/anaconda3/lib/python3.7/site-packages/PIL/TiffImagePlugin.py:763: UserWarning: Possibly corrupt EXIF data.  Expecting to read 458765 bytes but only got 0. Skipping tag 23\n",
      "  \" Skipping tag %s\" % (size, len(data), tag))\n",
      "/anaconda3/lib/python3.7/site-packages/PIL/TiffImagePlugin.py:763: UserWarning: Possibly corrupt EXIF data.  Expecting to read 1441794 bytes but only got 8278. Skipping tag 161\n",
      "  \" Skipping tag %s\" % (size, len(data), tag))\n",
      "/anaconda3/lib/python3.7/site-packages/PIL/TiffImagePlugin.py:763: UserWarning: Possibly corrupt EXIF data.  Expecting to read 65575 bytes but only got 0. Skipping tag 55\n",
      "  \" Skipping tag %s\" % (size, len(data), tag))\n",
      "/anaconda3/lib/python3.7/site-packages/PIL/TiffImagePlugin.py:763: UserWarning: Possibly corrupt EXIF data.  Expecting to read 393219 bytes but only got 0. Skipping tag 7\n",
      "  \" Skipping tag %s\" % (size, len(data), tag))\n",
      "/anaconda3/lib/python3.7/site-packages/PIL/TiffImagePlugin.py:763: UserWarning: Possibly corrupt EXIF data.  Expecting to read 13369600 bytes but only got 0. Skipping tag 180\n",
      "  \" Skipping tag %s\" % (size, len(data), tag))\n",
      "/anaconda3/lib/python3.7/site-packages/PIL/TiffImagePlugin.py:763: UserWarning: Possibly corrupt EXIF data.  Expecting to read 2080374824 bytes but only got 8278. Skipping tag 256\n",
      "  \" Skipping tag %s\" % (size, len(data), tag))\n",
      "/anaconda3/lib/python3.7/site-packages/PIL/TiffImagePlugin.py:780: UserWarning: Corrupt EXIF data.  Expecting to read 12 bytes but only got 0. \n",
      "  warnings.warn(str(msg))\n"
     ]
    },
    {
     "name": "stderr",
     "output_type": "stream",
     "text": [
      "/anaconda3/lib/python3.7/site-packages/PIL/Image.py:968: UserWarning: Palette images with Transparency   expressed in bytes should be converted to RGBA images\n",
      "  ' expressed in bytes should be converted ' +\n"
     ]
    }
   ],
   "source": [
    "#split images and labels\n",
    "images_te, labels_te = next(data_te)"
   ]
  },
  {
   "cell_type": "code",
   "execution_count": 7,
   "metadata": {},
   "outputs": [],
   "source": [
    "images = np.concatenate((images_tr, images_te))"
   ]
  },
  {
   "cell_type": "code",
   "execution_count": 8,
   "metadata": {},
   "outputs": [],
   "source": [
    "labels = np.concatenate((labels_tr[:,0], labels_te[:,0]))"
   ]
  },
  {
   "cell_type": "code",
   "execution_count": 9,
   "metadata": {},
   "outputs": [],
   "source": [
    "# %matplotlib inline\n",
    "# import matplotlib.pyplot as plt\n",
    "# plt.imshow(images[23])\n",
    "# plt.show()"
   ]
  },
  {
   "cell_type": "code",
   "execution_count": 10,
   "metadata": {},
   "outputs": [],
   "source": [
    "from sklearn.model_selection import train_test_split\n",
    "X_model, X_test, y_model, y_test = train_test_split(images, labels, test_size=0.20, random_state=123)"
   ]
  },
  {
   "cell_type": "code",
   "execution_count": 11,
   "metadata": {},
   "outputs": [],
   "source": [
    "from sklearn.model_selection import train_test_split\n",
    "X_train, X_val, y_train, y_val = train_test_split(X_model, y_model, test_size=0.20, random_state=123)"
   ]
  },
  {
   "cell_type": "code",
   "execution_count": 12,
   "metadata": {},
   "outputs": [],
   "source": [
    "from keras.applications import inception_v3\n",
    "from keras.layers import Dense,GlobalAveragePooling2D\n",
    "from sklearn.metrics import confusion_matrix, f1_score\n",
    "from keras.models import Model"
   ]
  },
  {
   "cell_type": "code",
   "execution_count": 13,
   "metadata": {},
   "outputs": [
    {
     "name": "stdout",
     "output_type": "stream",
     "text": [
      "WARNING:tensorflow:From /anaconda3/lib/python3.7/site-packages/tensorflow/python/framework/op_def_library.py:263: colocate_with (from tensorflow.python.framework.ops) is deprecated and will be removed in a future version.\n",
      "Instructions for updating:\n",
      "Colocations handled automatically by placer.\n"
     ]
    }
   ],
   "source": [
    "imagenet=inception_v3.InceptionV3(weights='imagenet',include_top=False)\n",
    "imagenet_new=imagenet.output\n",
    "new_model = models.Sequential()\n",
    "new_model.add(imagenet)\n",
    "new_model.add(GlobalAveragePooling2D())\n",
    "new_model.add(Dense(1024,activation='relu'))\n",
    "new_model.add(Dense(1024,activation='relu')) #dense layer 2\n",
    "new_model.add(Dense(512,activation='relu')) #dense layer 3\n",
    "new_model.add(Dense(1,activation='sigmoid')) #final layer with softmax activation"
   ]
  },
  {
   "cell_type": "code",
   "execution_count": 14,
   "metadata": {},
   "outputs": [
    {
     "name": "stdout",
     "output_type": "stream",
     "text": [
      "0 input_1 False\n",
      "1 conv2d_1 True\n",
      "2 batch_normalization_1 True\n",
      "3 activation_1 True\n",
      "4 conv2d_2 True\n",
      "5 batch_normalization_2 True\n",
      "6 activation_2 True\n",
      "7 conv2d_3 True\n",
      "8 batch_normalization_3 True\n",
      "9 activation_3 True\n",
      "10 max_pooling2d_1 True\n",
      "11 conv2d_4 True\n",
      "12 batch_normalization_4 True\n",
      "13 activation_4 True\n",
      "14 conv2d_5 True\n",
      "15 batch_normalization_5 True\n",
      "16 activation_5 True\n",
      "17 max_pooling2d_2 True\n",
      "18 conv2d_9 True\n",
      "19 batch_normalization_9 True\n",
      "20 activation_9 True\n",
      "21 conv2d_7 True\n",
      "22 conv2d_10 True\n",
      "23 batch_normalization_7 True\n",
      "24 batch_normalization_10 True\n",
      "25 activation_7 True\n",
      "26 activation_10 True\n",
      "27 average_pooling2d_1 True\n",
      "28 conv2d_6 True\n",
      "29 conv2d_8 True\n",
      "30 conv2d_11 True\n",
      "31 conv2d_12 True\n",
      "32 batch_normalization_6 True\n",
      "33 batch_normalization_8 True\n",
      "34 batch_normalization_11 True\n",
      "35 batch_normalization_12 True\n",
      "36 activation_6 True\n",
      "37 activation_8 True\n",
      "38 activation_11 True\n",
      "39 activation_12 True\n",
      "40 mixed0 True\n",
      "41 conv2d_16 True\n",
      "42 batch_normalization_16 True\n",
      "43 activation_16 True\n",
      "44 conv2d_14 True\n",
      "45 conv2d_17 True\n",
      "46 batch_normalization_14 True\n",
      "47 batch_normalization_17 True\n",
      "48 activation_14 True\n",
      "49 activation_17 True\n",
      "50 average_pooling2d_2 True\n",
      "51 conv2d_13 True\n",
      "52 conv2d_15 True\n",
      "53 conv2d_18 True\n",
      "54 conv2d_19 True\n",
      "55 batch_normalization_13 True\n",
      "56 batch_normalization_15 True\n",
      "57 batch_normalization_18 True\n",
      "58 batch_normalization_19 True\n",
      "59 activation_13 True\n",
      "60 activation_15 True\n",
      "61 activation_18 True\n",
      "62 activation_19 True\n",
      "63 mixed1 True\n",
      "64 conv2d_23 True\n",
      "65 batch_normalization_23 True\n",
      "66 activation_23 True\n",
      "67 conv2d_21 True\n",
      "68 conv2d_24 True\n",
      "69 batch_normalization_21 True\n",
      "70 batch_normalization_24 True\n",
      "71 activation_21 True\n",
      "72 activation_24 True\n",
      "73 average_pooling2d_3 True\n",
      "74 conv2d_20 True\n",
      "75 conv2d_22 True\n",
      "76 conv2d_25 True\n",
      "77 conv2d_26 True\n",
      "78 batch_normalization_20 True\n",
      "79 batch_normalization_22 True\n",
      "80 batch_normalization_25 True\n",
      "81 batch_normalization_26 True\n",
      "82 activation_20 True\n",
      "83 activation_22 True\n",
      "84 activation_25 True\n",
      "85 activation_26 True\n",
      "86 mixed2 True\n",
      "87 conv2d_28 True\n",
      "88 batch_normalization_28 True\n",
      "89 activation_28 True\n",
      "90 conv2d_29 True\n",
      "91 batch_normalization_29 True\n",
      "92 activation_29 True\n",
      "93 conv2d_27 True\n",
      "94 conv2d_30 True\n",
      "95 batch_normalization_27 True\n",
      "96 batch_normalization_30 True\n",
      "97 activation_27 True\n",
      "98 activation_30 True\n",
      "99 max_pooling2d_3 True\n",
      "100 mixed3 True\n",
      "101 conv2d_35 True\n",
      "102 batch_normalization_35 True\n",
      "103 activation_35 True\n",
      "104 conv2d_36 True\n",
      "105 batch_normalization_36 True\n",
      "106 activation_36 True\n",
      "107 conv2d_32 True\n",
      "108 conv2d_37 True\n",
      "109 batch_normalization_32 True\n",
      "110 batch_normalization_37 True\n",
      "111 activation_32 True\n",
      "112 activation_37 True\n",
      "113 conv2d_33 True\n",
      "114 conv2d_38 True\n",
      "115 batch_normalization_33 True\n",
      "116 batch_normalization_38 True\n",
      "117 activation_33 True\n",
      "118 activation_38 True\n",
      "119 average_pooling2d_4 True\n",
      "120 conv2d_31 True\n",
      "121 conv2d_34 True\n",
      "122 conv2d_39 True\n",
      "123 conv2d_40 True\n",
      "124 batch_normalization_31 True\n",
      "125 batch_normalization_34 True\n",
      "126 batch_normalization_39 True\n",
      "127 batch_normalization_40 True\n",
      "128 activation_31 True\n",
      "129 activation_34 True\n",
      "130 activation_39 True\n",
      "131 activation_40 True\n",
      "132 mixed4 True\n",
      "133 conv2d_45 True\n",
      "134 batch_normalization_45 True\n",
      "135 activation_45 True\n",
      "136 conv2d_46 True\n",
      "137 batch_normalization_46 True\n",
      "138 activation_46 True\n",
      "139 conv2d_42 True\n",
      "140 conv2d_47 True\n",
      "141 batch_normalization_42 True\n",
      "142 batch_normalization_47 True\n",
      "143 activation_42 True\n",
      "144 activation_47 True\n",
      "145 conv2d_43 True\n",
      "146 conv2d_48 True\n",
      "147 batch_normalization_43 True\n",
      "148 batch_normalization_48 True\n",
      "149 activation_43 True\n",
      "150 activation_48 True\n",
      "151 average_pooling2d_5 True\n",
      "152 conv2d_41 True\n",
      "153 conv2d_44 True\n",
      "154 conv2d_49 True\n",
      "155 conv2d_50 True\n",
      "156 batch_normalization_41 True\n",
      "157 batch_normalization_44 True\n",
      "158 batch_normalization_49 True\n",
      "159 batch_normalization_50 True\n",
      "160 activation_41 True\n",
      "161 activation_44 True\n",
      "162 activation_49 True\n",
      "163 activation_50 True\n",
      "164 mixed5 True\n",
      "165 conv2d_55 True\n",
      "166 batch_normalization_55 True\n",
      "167 activation_55 True\n",
      "168 conv2d_56 True\n",
      "169 batch_normalization_56 True\n",
      "170 activation_56 True\n",
      "171 conv2d_52 True\n",
      "172 conv2d_57 True\n",
      "173 batch_normalization_52 True\n",
      "174 batch_normalization_57 True\n",
      "175 activation_52 True\n",
      "176 activation_57 True\n",
      "177 conv2d_53 True\n",
      "178 conv2d_58 True\n",
      "179 batch_normalization_53 True\n",
      "180 batch_normalization_58 True\n",
      "181 activation_53 True\n",
      "182 activation_58 True\n",
      "183 average_pooling2d_6 True\n",
      "184 conv2d_51 True\n",
      "185 conv2d_54 True\n",
      "186 conv2d_59 True\n",
      "187 conv2d_60 True\n",
      "188 batch_normalization_51 True\n",
      "189 batch_normalization_54 True\n",
      "190 batch_normalization_59 True\n",
      "191 batch_normalization_60 True\n",
      "192 activation_51 True\n",
      "193 activation_54 True\n",
      "194 activation_59 True\n",
      "195 activation_60 True\n",
      "196 mixed6 True\n",
      "197 conv2d_65 True\n",
      "198 batch_normalization_65 True\n",
      "199 activation_65 True\n",
      "200 conv2d_66 True\n",
      "201 batch_normalization_66 True\n",
      "202 activation_66 True\n",
      "203 conv2d_62 True\n",
      "204 conv2d_67 True\n",
      "205 batch_normalization_62 True\n",
      "206 batch_normalization_67 True\n",
      "207 activation_62 True\n",
      "208 activation_67 True\n",
      "209 conv2d_63 True\n",
      "210 conv2d_68 True\n",
      "211 batch_normalization_63 True\n",
      "212 batch_normalization_68 True\n",
      "213 activation_63 True\n",
      "214 activation_68 True\n",
      "215 average_pooling2d_7 True\n",
      "216 conv2d_61 True\n",
      "217 conv2d_64 True\n",
      "218 conv2d_69 True\n",
      "219 conv2d_70 True\n",
      "220 batch_normalization_61 True\n",
      "221 batch_normalization_64 True\n",
      "222 batch_normalization_69 True\n",
      "223 batch_normalization_70 True\n",
      "224 activation_61 True\n",
      "225 activation_64 True\n",
      "226 activation_69 True\n",
      "227 activation_70 True\n",
      "228 mixed7 True\n",
      "229 conv2d_73 True\n",
      "230 batch_normalization_73 True\n",
      "231 activation_73 True\n",
      "232 conv2d_74 True\n",
      "233 batch_normalization_74 True\n",
      "234 activation_74 True\n",
      "235 conv2d_71 True\n",
      "236 conv2d_75 True\n",
      "237 batch_normalization_71 True\n",
      "238 batch_normalization_75 True\n",
      "239 activation_71 True\n",
      "240 activation_75 True\n",
      "241 conv2d_72 True\n",
      "242 conv2d_76 True\n",
      "243 batch_normalization_72 True\n",
      "244 batch_normalization_76 True\n",
      "245 activation_72 True\n",
      "246 activation_76 True\n",
      "247 max_pooling2d_4 True\n",
      "248 mixed8 True\n",
      "249 conv2d_81 True\n",
      "250 batch_normalization_81 True\n",
      "251 activation_81 True\n",
      "252 conv2d_78 True\n",
      "253 conv2d_82 True\n",
      "254 batch_normalization_78 True\n",
      "255 batch_normalization_82 True\n",
      "256 activation_78 True\n",
      "257 activation_82 True\n",
      "258 conv2d_79 True\n",
      "259 conv2d_80 True\n",
      "260 conv2d_83 True\n",
      "261 conv2d_84 True\n",
      "262 average_pooling2d_8 True\n",
      "263 conv2d_77 True\n",
      "264 batch_normalization_79 True\n",
      "265 batch_normalization_80 True\n",
      "266 batch_normalization_83 True\n",
      "267 batch_normalization_84 True\n",
      "268 conv2d_85 True\n",
      "269 batch_normalization_77 True\n",
      "270 activation_79 True\n",
      "271 activation_80 True\n",
      "272 activation_83 True\n",
      "273 activation_84 True\n",
      "274 batch_normalization_85 True\n",
      "275 activation_77 True\n",
      "276 mixed9_0 True\n",
      "277 concatenate_1 True\n",
      "278 activation_85 True\n",
      "279 mixed9 True\n",
      "280 conv2d_90 True\n",
      "281 batch_normalization_90 True\n",
      "282 activation_90 True\n",
      "283 conv2d_87 True\n",
      "284 conv2d_91 True\n",
      "285 batch_normalization_87 True\n",
      "286 batch_normalization_91 True\n",
      "287 activation_87 True\n",
      "288 activation_91 True\n",
      "289 conv2d_88 True\n",
      "290 conv2d_89 True\n",
      "291 conv2d_92 True\n",
      "292 conv2d_93 True\n",
      "293 average_pooling2d_9 True\n",
      "294 conv2d_86 True\n",
      "295 batch_normalization_88 True\n",
      "296 batch_normalization_89 True\n",
      "297 batch_normalization_92 True\n",
      "298 batch_normalization_93 True\n",
      "299 conv2d_94 True\n",
      "300 batch_normalization_86 True\n",
      "301 activation_88 True\n",
      "302 activation_89 True\n",
      "303 activation_92 True\n",
      "304 activation_93 True\n",
      "305 batch_normalization_94 True\n",
      "306 activation_86 True\n",
      "307 mixed9_1 True\n",
      "308 concatenate_2 True\n",
      "309 activation_94 True\n",
      "310 mixed10 True\n"
     ]
    }
   ],
   "source": [
    "for i,layer in enumerate(imagenet.layers):\n",
    "  print(i,layer.name, layer.trainable)"
   ]
  },
  {
   "cell_type": "code",
   "execution_count": 15,
   "metadata": {},
   "outputs": [
    {
     "name": "stdout",
     "output_type": "stream",
     "text": [
      "0 inception_v3 True\n",
      "1 global_average_pooling2d_1 True\n",
      "2 dense_1 True\n",
      "3 dense_2 True\n",
      "4 dense_3 True\n",
      "5 dense_4 True\n"
     ]
    }
   ],
   "source": [
    "for i,layer in enumerate(new_model.layers):\n",
    "  print(i,layer.name, layer.trainable)"
   ]
  },
  {
   "cell_type": "code",
   "execution_count": 16,
   "metadata": {},
   "outputs": [],
   "source": [
    "for layer in new_model.layers[:1]:\n",
    "    layer.trainable=False"
   ]
  },
  {
   "cell_type": "code",
   "execution_count": 17,
   "metadata": {},
   "outputs": [
    {
     "name": "stdout",
     "output_type": "stream",
     "text": [
      "0 inception_v3 False\n",
      "1 global_average_pooling2d_1 True\n",
      "2 dense_1 True\n",
      "3 dense_2 True\n",
      "4 dense_3 True\n",
      "5 dense_4 True\n"
     ]
    }
   ],
   "source": [
    "for i,layer in enumerate(new_model.layers):\n",
    "  print(i,layer.name, layer.trainable)"
   ]
  },
  {
   "cell_type": "code",
   "execution_count": 18,
   "metadata": {},
   "outputs": [
    {
     "name": "stdout",
     "output_type": "stream",
     "text": [
      "WARNING:tensorflow:From /anaconda3/lib/python3.7/site-packages/tensorflow/python/ops/math_ops.py:3066: to_int32 (from tensorflow.python.ops.math_ops) is deprecated and will be removed in a future version.\n",
      "Instructions for updating:\n",
      "Use tf.cast instead.\n",
      "Train on 435 samples, validate on 109 samples\n",
      "Epoch 1/10\n",
      "435/435 [==============================] - 48s 111ms/step - loss: 0.8122 - acc: 0.6000 - val_loss: 0.2505 - val_acc: 0.9541\n",
      "Epoch 2/10\n",
      "435/435 [==============================] - 35s 81ms/step - loss: 0.3257 - acc: 0.8644 - val_loss: 0.2987 - val_acc: 0.9450\n",
      "Epoch 3/10\n",
      "435/435 [==============================] - 35s 81ms/step - loss: 0.3152 - acc: 0.8667 - val_loss: 0.3033 - val_acc: 0.9174\n",
      "Epoch 4/10\n",
      "435/435 [==============================] - 36s 83ms/step - loss: 0.2040 - acc: 0.9103 - val_loss: 0.2786 - val_acc: 0.9450\n",
      "Epoch 5/10\n",
      "435/435 [==============================] - 35s 81ms/step - loss: 0.1137 - acc: 0.9678 - val_loss: 0.3321 - val_acc: 0.9450\n",
      "Epoch 6/10\n",
      "435/435 [==============================] - 35s 80ms/step - loss: 0.0685 - acc: 0.9793 - val_loss: 0.3894 - val_acc: 0.9266\n",
      "Epoch 7/10\n",
      "435/435 [==============================] - 34s 79ms/step - loss: 0.0722 - acc: 0.9724 - val_loss: 0.3743 - val_acc: 0.9358\n",
      "Epoch 8/10\n",
      "435/435 [==============================] - 35s 80ms/step - loss: 0.0267 - acc: 0.9931 - val_loss: 0.4723 - val_acc: 0.9541\n",
      "Epoch 9/10\n",
      "435/435 [==============================] - 35s 79ms/step - loss: 0.0278 - acc: 0.9885 - val_loss: 0.6679 - val_acc: 0.9083\n",
      "Epoch 10/10\n",
      "435/435 [==============================] - 34s 79ms/step - loss: 0.1118 - acc: 0.9563 - val_loss: 0.5557 - val_acc: 0.9358\n"
     ]
    },
    {
     "data": {
      "text/plain": [
       "<keras.callbacks.History at 0x105580320>"
      ]
     },
     "execution_count": 18,
     "metadata": {},
     "output_type": "execute_result"
    }
   ],
   "source": [
    "new_model.compile(optimizer='Adam',loss='binary_crossentropy',metrics=['accuracy'])\n",
    "\n",
    "# step_size_train=train_generator.n//train_generator.batch_size\n",
    "new_model.fit(X_train,\n",
    "          y_train,\n",
    "          epochs=10,\n",
    "          batch_size=50,\n",
    "          validation_data=(X_val, y_val))"
   ]
  },
  {
   "cell_type": "code",
   "execution_count": 19,
   "metadata": {},
   "outputs": [
    {
     "name": "stdout",
     "output_type": "stream",
     "text": [
      "136/136 [==============================] - 9s 70ms/step\n"
     ]
    },
    {
     "data": {
      "text/plain": [
       "[0.49848795638364907, 0.9411764705882353]"
      ]
     },
     "execution_count": 19,
     "metadata": {},
     "output_type": "execute_result"
    }
   ],
   "source": [
    "new_model.evaluate(X_test, y_test)"
   ]
  },
  {
   "cell_type": "code",
   "execution_count": 23,
   "metadata": {},
   "outputs": [],
   "source": [
    "predictions_transfer = new_model.predict(X_test)\n",
    "predictions_transfer = np.around(predictions_transfer)"
   ]
  },
  {
   "cell_type": "code",
   "execution_count": 24,
   "metadata": {},
   "outputs": [],
   "source": [
    "import itertools\n",
    "\n",
    "def plot_confusion_matrix(cm, classes,\n",
    "                          normalize=False,\n",
    "                          title='Confusion matrix',\n",
    "                          cmap=plt.cm.Blues):\n",
    "    \"\"\"\n",
    "    This function prints and plots the confusion matrix.\n",
    "    Normalization can be applied by setting `normalize=True`.\n",
    "    \"\"\"\n",
    "    if normalize:\n",
    "        cm = cm.astype('float') / cm.sum(axis=1)[:, np.newaxis]\n",
    "        print(\"Normalized confusion matrix\")\n",
    "    else:\n",
    "        print('Confusion matrix, without normalization')\n",
    "\n",
    "    print(cm)\n",
    "\n",
    "    plt.imshow(cm, interpolation='nearest', cmap=cmap)\n",
    "    plt.title(title)\n",
    "    plt.colorbar()\n",
    "    tick_marks = np.arange(len(classes))\n",
    "    plt.xticks(tick_marks, classes, rotation=45)\n",
    "    plt.yticks(tick_marks, classes)\n",
    "\n",
    "    fmt = '.2f' if normalize else 'd'\n",
    "    thresh = cm.max() / 2.\n",
    "    for i, j in itertools.product(range(cm.shape[0]), range(cm.shape[1])):\n",
    "        plt.text(j, i, format(cm[i, j], fmt),\n",
    "                 horizontalalignment=\"center\",\n",
    "                 color=\"white\" if cm[i, j] > thresh else \"black\")\n",
    "\n",
    "    plt.ylabel('True label')\n",
    "    plt.xlabel('Predicted label')\n",
    "    plt.tight_layout()"
   ]
  },
  {
   "cell_type": "code",
   "execution_count": 25,
   "metadata": {},
   "outputs": [
    {
     "name": "stdout",
     "output_type": "stream",
     "text": [
      "Confusion matrix, without normalization\n",
      "[[61  5]\n",
      " [ 3 67]]\n"
     ]
    },
    {
     "data": {
      "image/png": "[encoded data removed]",
      "text/plain": [
       "<Figure size 432x288 with 2 Axes>"
      ]
     },
     "metadata": {
      "needs_background": "light"
     },
     "output_type": "display_data"
    }
   ],
   "source": [
    "plt.figure()\n",
    "plot_confusion_matrix(confusion_matrix(y_test, predictions_transfer), classes=['bobcat', 'not bobcat'], normalize=False,\n",
    "                      title='Confusion matrix - ImagenetV3')"
   ]
  },
  {
   "cell_type": "code",
   "execution_count": null,
   "metadata": {},
   "outputs": [],
   "source": []
  },
  {
   "cell_type": "code",
   "execution_count": 26,
   "metadata": {
    "scrolled": false
   },
   "outputs": [
    {
     "data": {
      "text/plain": [
       "(array([0.        , 0.07575758, 1.        ]),\n",
       " array([0.        , 0.95714286, 1.        ]),\n",
       " array([2., 1., 0.], dtype=float32))"
      ]
     },
     "execution_count": 26,
     "metadata": {},
     "output_type": "execute_result"
    }
   ],
   "source": [
    "import numpy as np\n",
    "import sklearn\n",
    "from sklearn import metrics\n",
    "sklearn.metrics.roc_curve(y_test, predictions_transfer, pos_label=None, sample_weight=None, drop_intermediate=True)"
   ]
  },
  {
   "cell_type": "markdown",
   "metadata": {},
   "source": [
    "# ROC Graph"
   ]
  },
  {
   "cell_type": "code",
   "execution_count": null,
   "metadata": {},
   "outputs": [],
   "source": [
    "fpr = dict()\n",
    "tpr = dict()\n",
    "roc_auc = dict()\n",
    "for i in range(n_classes):\n",
    "    fpr[i], tpr[i], _ = roc_curve(y_test[:, i], y_score[:, i])\n",
    "    roc_auc[i] = auc(fpr[i], tpr[i])\n",
    "\n",
    "# Compute micro-average ROC curve and ROC area\n",
    "fpr[\"micro\"], tpr[\"micro\"], _ = roc_curve(y_test.ravel(), y_score.ravel())\n",
    "roc_auc[\"micro\"] = auc(fpr[\"micro\"], tpr[\"micro\"])"
   ]
  },
  {
   "cell_type": "code",
   "execution_count": null,
   "metadata": {},
   "outputs": [],
   "source": [
    "plt.figure()\n",
    "lw = 2\n",
    "plt.plot(fpr[2], tpr[2], color='darkorange',\n",
    "         lw=lw, label='ROC curve (area = %0.2f)' % roc_auc[2])\n",
    "plt.plot([0, 1], [0, 1], color='navy', lw=lw, linestyle='--')\n",
    "plt.xlim([0.0, 1.0])\n",
    "plt.ylim([0.0, 1.05])\n",
    "plt.xlabel('False Positive Rate')\n",
    "plt.ylabel('True Positive Rate')\n",
    "plt.title('Receiver operating characteristic example')\n",
    "plt.legend(loc=\"lower right\")\n",
    "plt.show()"
   ]
  },
  {
   "cell_type": "code",
   "execution_count": null,
   "metadata": {},
   "outputs": [],
   "source": []
  },
  {
   "cell_type": "code",
   "execution_count": 27,
   "metadata": {},
   "outputs": [
    {
     "ename": "TypeError",
     "evalue": "'History' object is not subscriptable",
     "output_type": "error",
     "traceback": [
      "\u001b[0;31m---------------------------------------------------------------------------\u001b[0m",
      "\u001b[0;31mTypeError\u001b[0m                                 Traceback (most recent call last)",
      "\u001b[0;32m<ipython-input-27-04b32c270058>\u001b[0m in \u001b[0;36m<module>\u001b[0;34m\u001b[0m\n\u001b[1;32m      1\u001b[0m \u001b[0mhist_new_model\u001b[0m \u001b[0;34m=\u001b[0m \u001b[0mnew_model\u001b[0m\u001b[0;34m.\u001b[0m\u001b[0mhistory\u001b[0m\u001b[0;34m\u001b[0m\u001b[0;34m\u001b[0m\u001b[0m\n\u001b[0;32m----> 2\u001b[0;31m \u001b[0mloss_values\u001b[0m \u001b[0;34m=\u001b[0m \u001b[0mhist_new_model\u001b[0m\u001b[0;34m[\u001b[0m\u001b[0;34m'loss'\u001b[0m\u001b[0;34m]\u001b[0m\u001b[0;34m\u001b[0m\u001b[0;34m\u001b[0m\u001b[0m\n\u001b[0m\u001b[1;32m      3\u001b[0m \u001b[0mval_loss_values\u001b[0m \u001b[0;34m=\u001b[0m \u001b[0mhist_new_model\u001b[0m\u001b[0;34m[\u001b[0m\u001b[0;34m'val_loss'\u001b[0m\u001b[0;34m]\u001b[0m\u001b[0;34m\u001b[0m\u001b[0;34m\u001b[0m\u001b[0m\n\u001b[1;32m      4\u001b[0m \u001b[0macc_values\u001b[0m \u001b[0;34m=\u001b[0m \u001b[0mhist_new_model\u001b[0m\u001b[0;34m[\u001b[0m\u001b[0;34m'acc'\u001b[0m\u001b[0;34m]\u001b[0m\u001b[0;34m\u001b[0m\u001b[0;34m\u001b[0m\u001b[0m\n\u001b[1;32m      5\u001b[0m \u001b[0mval_acc_values\u001b[0m \u001b[0;34m=\u001b[0m \u001b[0mhist_new_model\u001b[0m\u001b[0;34m[\u001b[0m\u001b[0;34m'val_acc'\u001b[0m\u001b[0;34m]\u001b[0m\u001b[0;34m\u001b[0m\u001b[0;34m\u001b[0m\u001b[0m\n",
      "\u001b[0;31mTypeError\u001b[0m: 'History' object is not subscriptable"
     ]
    }
   ],
   "source": [
    "hist_new_model = new_model.history\n",
    "loss_values = hist_new_model['loss']\n",
    "val_loss_values = hist_new_model['val_loss']\n",
    "acc_values = hist_new_model['acc'] \n",
    "val_acc_values = hist_new_model['val_acc']\n",
    "\n",
    "\n",
    "epochs = range(1, len(loss_values) + 1)\n",
    "\n",
    "plt.figure(figsize=(15,4))\n",
    "plt.subplot(121)\n",
    "plt.plot(epochs, loss_values, 'g.', label='Training loss')\n",
    "plt.plot(epochs, val_loss_values, 'g', label='Validation loss')\n",
    "\n",
    "plt.title('Training and validation loss')\n",
    "plt.xlabel('Epochs')\n",
    "plt.ylabel('Loss')\n",
    "plt.legend()\n",
    "\n",
    "plt.subplot(122)\n",
    "plt.plot(epochs, acc_values, 'r.', label='Training acc')\n",
    "plt.plot(epochs, val_acc_values, 'r', label='Validation acc')\n",
    "plt.title('Training and validation accuracy')\n",
    "plt.xlabel('Epochs')\n",
    "plt.ylabel('Accuracy')\n",
    "plt.legend()\n",
    "plt.show()"
   ]
  },
  {
   "cell_type": "code",
   "execution_count": 28,
   "metadata": {},
   "outputs": [
    {
     "name": "stdout",
     "output_type": "stream",
     "text": [
      "435/435 [==============================] - 30s 70ms/step\n",
      "136/136 [==============================] - 10s 70ms/step\n",
      "[0.48537304457705255, 0.9379310354419138] [0.49848795638364907, 0.9411764705882353]\n"
     ]
    }
   ],
   "source": [
    "results_train = new_model.evaluate(X_train, y_train)\n",
    "results_test = new_model.evaluate(X_test, y_test)\n",
    "print(results_train, results_test)"
   ]
  },
  {
   "cell_type": "code",
   "execution_count": 29,
   "metadata": {},
   "outputs": [],
   "source": [
    "predictions_transfer = new_model.predict(X_test)\n",
    "predictions_transfer = np.around(predictions_transfer)"
   ]
  },
  {
   "cell_type": "code",
   "execution_count": 30,
   "metadata": {},
   "outputs": [
    {
     "data": {
      "text/plain": [
       "0.943661971830986"
      ]
     },
     "execution_count": 30,
     "metadata": {},
     "output_type": "execute_result"
    }
   ],
   "source": [
    "f1_score(y_test, predictions_transfer)"
   ]
  },
  {
   "cell_type": "code",
   "execution_count": 31,
   "metadata": {},
   "outputs": [],
   "source": [
    "new_model.save('inception_draft.h5')"
   ]
  },
  {
   "cell_type": "code",
   "execution_count": null,
   "metadata": {},
   "outputs": [],
   "source": []
  }
 ],
 "metadata": {
  "kernelspec": {
   "display_name": "Python 3",
   "language": "python",
   "name": "python3"
  },
  "language_info": {
   "codemirror_mode": {
    "name": "ipython",
    "version": 3
   },
   "file_extension": ".py",
   "mimetype": "text/x-python",
   "name": "python",
   "nbconvert_exporter": "python",
   "pygments_lexer": "ipython3",
   "version": "3.7.1"
  },
  "toc": {
   "base_numbering": 1,
   "nav_menu": {},
   "number_sections": true,
   "sideBar": true,
   "skip_h1_title": false,
   "title_cell": "Table of Contents",
   "title_sidebar": "Contents",
   "toc_cell": false,
   "toc_position": {},
   "toc_section_display": true,
   "toc_window_display": true
  },
  "varInspector": {
   "cols": {
    "lenName": 16,
    "lenType": 16,
    "lenVar": 40
   },
   "kernels_config": {
    "python": {
     "delete_cmd_postfix": "",
     "delete_cmd_prefix": "del ",
     "library": "var_list.py",
     "varRefreshCmd": "print(var_dic_list())"
    },
    "r": {
     "delete_cmd_postfix": ") ",
     "delete_cmd_prefix": "rm(",
     "library": "var_list.r",
     "varRefreshCmd": "cat(var_dic_list()) "
    }
   },
   "types_to_exclude": [
    "module",
    "function",
    "builtin_function_or_method",
    "instance",
    "_Feature"
   ],
   "window_display": false
  }
 },
 "nbformat": 4,
 "nbformat_minor": 2
}
