{
 "cells": [
  {
   "cell_type": "code",
   "execution_count": 1,
   "metadata": {},
   "outputs": [
    {
     "name": "stderr",
     "output_type": "stream",
     "text": [
      "Using TensorFlow backend.\n"
     ]
    }
   ],
   "source": [
    "import matplotlib.pyplot as plt\n",
    "import numpy as np\n",
    "import os, shutil\n",
    "from keras import models\n",
    "from keras import layers\n",
    "from sklearn.metrics import confusion_matrix, f1_score\n",
    "np.random.seed(123)\n",
    "from keras.models import load_model\n",
    "from keras.preprocessing.image import ImageDataGenerator, array_to_img, img_to_array, load_img"
   ]
  },
  {
   "cell_type": "code",
   "execution_count": 19,
   "metadata": {},
   "outputs": [],
   "source": [
    "import os"
   ]
  },
  {
   "cell_type": "code",
   "execution_count": null,
   "metadata": {},
   "outputs": [],
   "source": [
    "### Checks if a directory exists or not and creates it if it doesn't.\n",
    "\n",
    "if not os.path.exists(dirName):\n",
    "    os.mkdir(dirName)\n",
    "    print(\"Directory \" , dirName ,  \" Created \")\n",
    "else:    \n",
    "    print(\"Directory \" , dirName ,  \" already exists\")"
   ]
  },
  {
   "cell_type": "code",
   "execution_count": 26,
   "metadata": {},
   "outputs": [],
   "source": [
    "### Tried to scan directory animals and print each entry in the directory.\n",
    "\n",
    "path='./Animals/'\n",
    "\n",
    "with os.scandir(path) as it:\n",
    "    for entry in it:\n",
    "        if not entry.name.startswith('.') and entry.is_file():\n",
    "            print(entry.name)"
   ]
  },
  {
   "cell_type": "code",
   "execution_count": null,
   "metadata": {},
   "outputs": [],
   "source": [
    "### Attempts to create train and test folders based on the folders within the directory\n",
    "### Second part tries to take half the files in the original folder and move them into one of the new directories\n",
    "### Then tries to take the other half of the files in the original folder and move them into the other new directory\n",
    "\n",
    "# for folder in directory:\n",
    "#     os.mkdir(foldername+'_test')\n",
    "#     os.mkdir(foldername+'_train')\n",
    "#     num_files = len(directory) #to get number of files in the directory\n",
    "#     test_files = os.cp(directory[0:(num_files-1)])\n",
    "#     train_files = os.cp(directory[num_files:])\n",
    "#     os.mv(test_files /foldername_test/)\n",
    "#     os.mv(train_files /foldername_train/)\n",
    "    \n",
    "    \n",
    "### Should end with 60 directories...the original 20 plus a _train and _test version for each folder.\n",
    "### The train and test folders should each include half the files found in the original folder."
   ]
  },
  {
   "cell_type": "code",
   "execution_count": 27,
   "metadata": {},
   "outputs": [],
   "source": [
    "import shutil"
   ]
  },
  {
   "cell_type": "code",
   "execution_count": null,
   "metadata": {},
   "outputs": [],
   "source": [
    "shutil.copy2('', dest)"
   ]
  },
  {
   "cell_type": "code",
   "execution_count": 72,
   "metadata": {},
   "outputs": [],
   "source": [
    "animal_list = []\n",
    "for folder in os.listdir(path='./Data'):\n",
    "    animal_list.append(folder)\n",
    "    \n",
    "\n"
   ]
  },
  {
   "cell_type": "code",
   "execution_count": null,
   "metadata": {},
   "outputs": [],
   "source": []
  },
  {
   "cell_type": "code",
   "execution_count": 82,
   "metadata": {},
   "outputs": [
    {
     "data": {
      "text/plain": [
       "20"
      ]
     },
     "execution_count": 82,
     "metadata": {},
     "output_type": "execute_result"
    }
   ],
   "source": [
    "len(animal_list)"
   ]
  },
  {
   "cell_type": "code",
   "execution_count": null,
   "metadata": {},
   "outputs": [],
   "source": []
  },
  {
   "cell_type": "code",
   "execution_count": 86,
   "metadata": {},
   "outputs": [
    {
     "data": {
      "text/plain": [
       "759"
      ]
     },
     "execution_count": 86,
     "metadata": {},
     "output_type": "execute_result"
    }
   ],
   "source": [
    "len(os.listdir(path='./Data/'+(animal_list[3])))"
   ]
  },
  {
   "cell_type": "code",
   "execution_count": 51,
   "metadata": {},
   "outputs": [
    {
     "name": "stdout",
     "output_type": "stream",
     "text": [
      "728\n",
      "728\n"
     ]
    },
    {
     "ename": "NotADirectoryError",
     "evalue": "[Errno 20] Not a directory: './Data/.DS_Store'",
     "output_type": "error",
     "traceback": [
      "\u001b[0;31m---------------------------------------------------------------------------\u001b[0m",
      "\u001b[0;31mNotADirectoryError\u001b[0m                        Traceback (most recent call last)",
      "\u001b[0;32m<ipython-input-51-9753169af8b1>\u001b[0m in \u001b[0;36m<module>\u001b[0;34m\u001b[0m\n\u001b[1;32m      1\u001b[0m \u001b[0;32mfor\u001b[0m \u001b[0mi\u001b[0m \u001b[0;32min\u001b[0m \u001b[0mos\u001b[0m\u001b[0;34m.\u001b[0m\u001b[0mlistdir\u001b[0m\u001b[0;34m(\u001b[0m\u001b[0mpath\u001b[0m\u001b[0;34m=\u001b[0m\u001b[0;34m'./Data'\u001b[0m\u001b[0;34m)\u001b[0m\u001b[0;34m:\u001b[0m\u001b[0;34m\u001b[0m\u001b[0;34m\u001b[0m\u001b[0m\n\u001b[0;32m----> 2\u001b[0;31m     \u001b[0mprint\u001b[0m\u001b[0;34m(\u001b[0m\u001b[0mlen\u001b[0m\u001b[0;34m(\u001b[0m\u001b[0mos\u001b[0m\u001b[0;34m.\u001b[0m\u001b[0mlistdir\u001b[0m\u001b[0;34m(\u001b[0m\u001b[0mpath\u001b[0m\u001b[0;34m=\u001b[0m\u001b[0;34m'./Data/'\u001b[0m\u001b[0;34m+\u001b[0m\u001b[0mi\u001b[0m\u001b[0;34m)\u001b[0m\u001b[0;34m)\u001b[0m\u001b[0;34m)\u001b[0m\u001b[0;34m\u001b[0m\u001b[0;34m\u001b[0m\u001b[0m\n\u001b[0m",
      "\u001b[0;31mNotADirectoryError\u001b[0m: [Errno 20] Not a directory: './Data/.DS_Store'"
     ]
    }
   ],
   "source": [
    "for i in os.listdir(path='./Data'):\n",
    "    print(len(os.listdir(path='./Data/'+i)))\n"
   ]
  },
  {
   "cell_type": "code",
   "execution_count": 43,
   "metadata": {},
   "outputs": [
    {
     "data": {
      "text/plain": [
       "23"
      ]
     },
     "execution_count": 43,
     "metadata": {},
     "output_type": "execute_result"
    }
   ],
   "source": [
    "len(os.listdir(path='./Data'))"
   ]
  },
  {
   "cell_type": "code",
   "execution_count": null,
   "metadata": {},
   "outputs": [],
   "source": [
    "import pandas as pd\n",
    "import os\n",
    "import matplotlib.pyplot as plt\n",
    "import seaborn as sns\n",
    "sns.set(style=\"darkgrid\")\n",
    "\n",
    "\n",
    "def create_img_dict():\n",
    "\n",
    "    data_dir = '/Users/basselhaidar/Desktop/Final Project/skin-cancer-mnist-ham10000/'\n",
    "    # Create dataframe and profile raw data\n",
    "    raw_metadata_df = pd.read_csv(data_dir + 'HAM10000_metadata.csv')\n",
    "    # Save the directory path of HAM10000_images_part_1 and HAM10000_images_part_2\n",
    "    image_part1_dir = '/Users/basselhaidar/Desktop/Final Project/skin-cancer-mnist-ham10000/HAM10000_images_part_1/'\n",
    "    image_part2_dir = '/Users/basselhaidar/Desktop/Final Project/skin-cancer-mnist-ham10000/HAM10000_images_part_2/'\n",
    "    # Save the path of the images into their respective lists\n",
    "    image_part_1_list = [image_part1_dir + image_path for image_path in os.listdir(image_part1_dir)]\n",
    "    image_part_2_list = [image_part2_dir + image_path for image_path in os.listdir(image_part2_dir)]\n",
    "    # Merge both lists\n",
    "    all_image_list = list(image_part_1_list + image_part_2_list)\n",
    "    print('Total number of images = {}'.format(len(all_image_list)))\n",
    "    # Create a dictionnary key : 'name of image' and value : 'file path of image' \n",
    "    image_dict = {os.path.splitext(os.path.basename(image_path))[0]: image_path for image_path in all_image_list}\n",
    "    len(image_dict) # both the list and dict display the correct total number of images\n",
    "    # Check path of one image in the dictionnary\n",
    "    print('Check path of ISIC_0025030.jpg = {}'.format(image_dict['ISIC_0025030']))\n",
    "    \n",
    "    return raw_metadata_df, image_dict\n",
    "\n",
    "def set_df():\n",
    "    # Create dictionary with the diagnostic categories of pigmented lesions\n",
    "    lesion_cat_dict = {\n",
    "        \n",
    "        'akiec': 'Actinic keratoses',\n",
    "        'bcc': 'Basal cell carcinoma',\n",
    "        'bkl': 'Benign keratosis-like lesions ',\n",
    "        'df': 'Dermatofibroma',\n",
    "        'mel': 'Melanoma',\n",
    "        'nv': 'Melanocytic nevi',\n",
    "        'vasc': 'Vascular lesions'\n",
    "    }\n",
    "\n",
    "    # Make a copy of the dataframe as we will be adding new columns\n",
    "    df, img_dict = create_img_dict()\n",
    "\n",
    "\n",
    "    # Create new column file_path and use the image_id as the key of image_dict and map \n",
    "    # its corresponding value to get the path for the image\n",
    "    df['file_path'] = df['image_id'].map(img_dict.get)\n",
    "\n",
    "    # Create new column category_name and use dx as the key to lesion_cat_dict and map \n",
    "    # it to its corresponding value to get the lesion name\n",
    "    df['category_name'] = df['dx'].map(lesion_cat_dict.get)\n",
    "\n",
    "    # Create new column category_id and assign the integer codes \n",
    "    # of the category_name that was transformed into a pandas categorical \n",
    "    df['category_id'] = pd.Categorical(df['category_name']).codes\n",
    "\n",
    "    # fill age null values by the mean age\n",
    "    df.age.fillna(df.age.mean(), inplace=True)\n",
    "    return df\n",
    "\n",
    "def sns_countplot(df, col_name):\n",
    "    fig, ax = plt.subplots()\n",
    "    fig.set_size_inches(20, 6)\n",
    "    sns.countplot(x=col_name, data=df, ax=ax);\n",
    "    plt.show();\n",
    "    \n",
    "'''def copy_images(id_num, df=metadata_df, col_name='category_id'):\n",
    "    all_cat_idx = np.array(df[df[col_name] == id_num].index) # All indices of a category\n",
    "    n_tr = np.ceil(len(df[df[col_name] == id_num].index) * 0.8) # Use 80% \n",
    "    indices = np.random.choice(all_cat_idx, int(n_tr), replace=False) # train + val indices\n",
    "    indices_tr = indices[:int(np.ceil(n_tr * 0.8))] # train indices 80%  \n",
    "    indices_val = indices[int(np.ceil(n_tr * 0.8)):] # validation indices 20%\n",
    "    train_cat = df[np.isin(df.index, indices_tr)].reset_index() # train rows from df\n",
    "    val_cat = df[np.isin(df.index, indices_val)].reset_index()  # validation rows from df  \n",
    "    \n",
    "    \n",
    "    train_destination = '/Users/basselhaidar/Desktop/Final Project/train_dir/'+ str(id_num)\n",
    "    test_destination = '/Users/basselhaidar/Desktop/Final Project/test_dir/'+ str(id_num)\n",
    "    valid_destination = '/Users/basselhaidar/Desktop/Final Project/valid_dir/'+ str(id_num)\n",
    "    \n",
    "    for row in range(train_cat.shape[0]):\n",
    "        copy2(train_cat.loc[row, 'file_path'], train_destination)\n",
    "    \n",
    "    for row in range(val_cat.shape[0]):\n",
    "        copy2(val_cat.loc[row, 'file_path'], valid_destination)\n",
    "        \n",
    "        \n",
    "    test_idx = all_cat_idx[~np.isin(all_cat_idx, indices)]\n",
    "    test_cat = df.iloc[test_idx, :].reset_index()\n",
    "    for row in range(len(test_idx)):\n",
    "        copy2(test_cat.loc[row, 'file_path'], test_destination)'''\n",
    "'''\n",
    "# fill age null values by the mean age\n",
    "metadata_df.age.fillna(metadata_df.age.mean(), inplace=True)\n",
    "\n",
    "fig, ax1 = plt.subplots(1, 1, figsize= (10, 5))\n",
    "metadata_df['category_name'].value_counts().plot(kind='bar', ax=ax1);\n",
    "\n",
    "\n",
    "\n",
    "metadata_df.category_name.value_counts()\n",
    "\n",
    "'''"
   ]
  },
  {
   "cell_type": "code",
   "execution_count": null,
   "metadata": {},
   "outputs": [],
   "source": []
  },
  {
   "cell_type": "code",
   "execution_count": null,
   "metadata": {},
   "outputs": [],
   "source": []
  },
  {
   "cell_type": "code",
   "execution_count": 2,
   "metadata": {},
   "outputs": [
    {
     "name": "stdout",
     "output_type": "stream",
     "text": [
      "Found 685 images belonging to 2 classes.\n",
      "Found 680 images belonging to 2 classes.\n"
     ]
    },
    {
     "name": "stderr",
     "output_type": "stream",
     "text": [
      "/anaconda3/lib/python3.7/site-packages/PIL/Image.py:968: UserWarning: Palette images with Transparency   expressed in bytes should be converted to RGBA images\n",
      "  ' expressed in bytes should be converted ' +\n",
      "/anaconda3/lib/python3.7/site-packages/PIL/TiffImagePlugin.py:763: UserWarning: Possibly corrupt EXIF data.  Expecting to read 85 bytes but only got 0. Skipping tag 33285\n",
      "  \" Skipping tag %s\" % (size, len(data), tag))\n",
      "/anaconda3/lib/python3.7/site-packages/PIL/TiffImagePlugin.py:763: UserWarning: Possibly corrupt EXIF data.  Expecting to read 93 bytes but only got 0. Skipping tag 33285\n",
      "  \" Skipping tag %s\" % (size, len(data), tag))\n",
      "/anaconda3/lib/python3.7/site-packages/PIL/TiffImagePlugin.py:763: UserWarning: Possibly corrupt EXIF data.  Expecting to read 141 bytes but only got 0. Skipping tag 37386\n",
      "  \" Skipping tag %s\" % (size, len(data), tag))\n",
      "/anaconda3/lib/python3.7/site-packages/PIL/TiffImagePlugin.py:763: UserWarning: Possibly corrupt EXIF data.  Expecting to read 149 bytes but only got 0. Skipping tag 37381\n",
      "  \" Skipping tag %s\" % (size, len(data), tag))\n",
      "/anaconda3/lib/python3.7/site-packages/PIL/TiffImagePlugin.py:763: UserWarning: Possibly corrupt EXIF data.  Expecting to read 157 bytes but only got 0. Skipping tag 37381\n",
      "  \" Skipping tag %s\" % (size, len(data), tag))\n",
      "/anaconda3/lib/python3.7/site-packages/PIL/TiffImagePlugin.py:763: UserWarning: Possibly corrupt EXIF data.  Expecting to read 144 bytes but only got 0. Skipping tag 40964\n",
      "  \" Skipping tag %s\" % (size, len(data), tag))\n",
      "/anaconda3/lib/python3.7/site-packages/PIL/TiffImagePlugin.py:763: UserWarning: Possibly corrupt EXIF data.  Expecting to read 192 bytes but only got 0. Skipping tag 40964\n",
      "  \" Skipping tag %s\" % (size, len(data), tag))\n",
      "/anaconda3/lib/python3.7/site-packages/PIL/TiffImagePlugin.py:763: UserWarning: Possibly corrupt EXIF data.  Expecting to read 192 bytes but only got 0. Skipping tag 41735\n",
      "  \" Skipping tag %s\" % (size, len(data), tag))\n",
      "/anaconda3/lib/python3.7/site-packages/PIL/TiffImagePlugin.py:763: UserWarning: Possibly corrupt EXIF data.  Expecting to read 62 bytes but only got 0. Skipping tag 41989\n",
      "  \" Skipping tag %s\" % (size, len(data), tag))\n",
      "/anaconda3/lib/python3.7/site-packages/PIL/TiffImagePlugin.py:763: UserWarning: Possibly corrupt EXIF data.  Expecting to read 16908320 bytes but only got 8068. Skipping tag 2048\n",
      "  \" Skipping tag %s\" % (size, len(data), tag))\n",
      "/anaconda3/lib/python3.7/site-packages/PIL/TiffImagePlugin.py:763: UserWarning: Possibly corrupt EXIF data.  Expecting to read 16908320 bytes but only got 8036. Skipping tag 2048\n",
      "  \" Skipping tag %s\" % (size, len(data), tag))\n",
      "/anaconda3/lib/python3.7/site-packages/PIL/TiffImagePlugin.py:763: UserWarning: Possibly corrupt EXIF data.  Expecting to read 34209794 bytes but only got 8258. Skipping tag 2048\n",
      "  \" Skipping tag %s\" % (size, len(data), tag))\n",
      "/anaconda3/lib/python3.7/site-packages/PIL/TiffImagePlugin.py:763: UserWarning: Possibly corrupt EXIF data.  Expecting to read 68157444 bytes but only got 8276. Skipping tag 2304\n",
      "  \" Skipping tag %s\" % (size, len(data), tag))\n",
      "/anaconda3/lib/python3.7/site-packages/PIL/TiffImagePlugin.py:763: UserWarning: Possibly corrupt EXIF data.  Expecting to read 34078722 bytes but only got 8193. Skipping tag 1536\n",
      "  \" Skipping tag %s\" % (size, len(data), tag))\n",
      "/anaconda3/lib/python3.7/site-packages/PIL/TiffImagePlugin.py:763: UserWarning: Possibly corrupt EXIF data.  Expecting to read 34078722 bytes but only got 8105. Skipping tag 1024\n",
      "  \" Skipping tag %s\" % (size, len(data), tag))\n",
      "/anaconda3/lib/python3.7/site-packages/PIL/TiffImagePlugin.py:763: UserWarning: Possibly corrupt EXIF data.  Expecting to read 68157442 bytes but only got 8126. Skipping tag 768\n",
      "  \" Skipping tag %s\" % (size, len(data), tag))\n",
      "/anaconda3/lib/python3.7/site-packages/PIL/TiffImagePlugin.py:763: UserWarning: Possibly corrupt EXIF data.  Expecting to read 136315212 bytes but only got 8268. Skipping tag 1280\n",
      "  \" Skipping tag %s\" % (size, len(data), tag))\n",
      "/anaconda3/lib/python3.7/site-packages/PIL/TiffImagePlugin.py:763: UserWarning: Possibly corrupt EXIF data.  Expecting to read 135004164 bytes but only got 8023. Skipping tag 3584\n",
      "  \" Skipping tag %s\" % (size, len(data), tag))\n",
      "/anaconda3/lib/python3.7/site-packages/PIL/TiffImagePlugin.py:763: UserWarning: Possibly corrupt EXIF data.  Expecting to read 270008328 bytes but only got 8278. Skipping tag 0\n",
      "  \" Skipping tag %s\" % (size, len(data), tag))\n",
      "/anaconda3/lib/python3.7/site-packages/PIL/TiffImagePlugin.py:763: UserWarning: Possibly corrupt EXIF data.  Expecting to read 135004164 bytes but only got 8278. Skipping tag 0\n",
      "  \" Skipping tag %s\" % (size, len(data), tag))\n",
      "/anaconda3/lib/python3.7/site-packages/PIL/TiffImagePlugin.py:763: UserWarning: Possibly corrupt EXIF data.  Expecting to read 50528257 bytes but only got 8074. Skipping tag 0\n",
      "  \" Skipping tag %s\" % (size, len(data), tag))\n",
      "/anaconda3/lib/python3.7/site-packages/PIL/TiffImagePlugin.py:763: UserWarning: Possibly corrupt EXIF data.  Expecting to read 50528257 bytes but only got 8278. Skipping tag 256\n",
      "  \" Skipping tag %s\" % (size, len(data), tag))\n",
      "/anaconda3/lib/python3.7/site-packages/PIL/TiffImagePlugin.py:763: UserWarning: Possibly corrupt EXIF data.  Expecting to read 101056514 bytes but only got 8081. Skipping tag 0\n",
      "  \" Skipping tag %s\" % (size, len(data), tag))\n",
      "/anaconda3/lib/python3.7/site-packages/PIL/TiffImagePlugin.py:763: UserWarning: Possibly corrupt EXIF data.  Expecting to read 202113028 bytes but only got 8056. Skipping tag 256\n",
      "  \" Skipping tag %s\" % (size, len(data), tag))\n",
      "/anaconda3/lib/python3.7/site-packages/PIL/TiffImagePlugin.py:763: UserWarning: Possibly corrupt EXIF data.  Expecting to read 405274632 bytes but only got 8182. Skipping tag 256\n",
      "  \" Skipping tag %s\" % (size, len(data), tag))\n",
      "/anaconda3/lib/python3.7/site-packages/PIL/TiffImagePlugin.py:763: UserWarning: Possibly corrupt EXIF data.  Expecting to read 50528257 bytes but only got 8278. Skipping tag 6656\n",
      "  \" Skipping tag %s\" % (size, len(data), tag))\n",
      "/anaconda3/lib/python3.7/site-packages/PIL/TiffImagePlugin.py:763: UserWarning: Possibly corrupt EXIF data.  Expecting to read 101056514 bytes but only got 8278. Skipping tag 0\n",
      "  \" Skipping tag %s\" % (size, len(data), tag))\n",
      "/anaconda3/lib/python3.7/site-packages/PIL/TiffImagePlugin.py:763: UserWarning: Possibly corrupt EXIF data.  Expecting to read 404226064 bytes but only got 8278. Skipping tag 0\n",
      "  \" Skipping tag %s\" % (size, len(data), tag))\n",
      "/anaconda3/lib/python3.7/site-packages/PIL/TiffImagePlugin.py:763: UserWarning: Possibly corrupt EXIF data.  Expecting to read 302186498 bytes but only got 8278. Skipping tag 0\n",
      "  \" Skipping tag %s\" % (size, len(data), tag))\n",
      "/anaconda3/lib/python3.7/site-packages/PIL/TiffImagePlugin.py:763: UserWarning: Possibly corrupt EXIF data.  Expecting to read 302186497 bytes but only got 8198. Skipping tag 0\n",
      "  \" Skipping tag %s\" % (size, len(data), tag))\n",
      "/anaconda3/lib/python3.7/site-packages/PIL/TiffImagePlugin.py:763: UserWarning: Possibly corrupt EXIF data.  Expecting to read 605290498 bytes but only got 8090. Skipping tag 0\n",
      "  \" Skipping tag %s\" % (size, len(data), tag))\n",
      "/anaconda3/lib/python3.7/site-packages/PIL/TiffImagePlugin.py:763: UserWarning: Possibly corrupt EXIF data.  Expecting to read 1208745988 bytes but only got 8278. Skipping tag 6656\n",
      "  \" Skipping tag %s\" % (size, len(data), tag))\n",
      "/anaconda3/lib/python3.7/site-packages/PIL/TiffImagePlugin.py:763: UserWarning: Possibly corrupt EXIF data.  Expecting to read 2418540552 bytes but only got 8078. Skipping tag 0\n",
      "  \" Skipping tag %s\" % (size, len(data), tag))\n",
      "/anaconda3/lib/python3.7/site-packages/PIL/TiffImagePlugin.py:763: UserWarning: Possibly corrupt EXIF data.  Expecting to read 302186497 bytes but only got 8278. Skipping tag 6656\n",
      "  \" Skipping tag %s\" % (size, len(data), tag))\n",
      "/anaconda3/lib/python3.7/site-packages/PIL/TiffImagePlugin.py:763: UserWarning: Possibly corrupt EXIF data.  Expecting to read 302186497 bytes but only got 8278. Skipping tag 0\n",
      "  \" Skipping tag %s\" % (size, len(data), tag))\n",
      "/anaconda3/lib/python3.7/site-packages/PIL/TiffImagePlugin.py:763: UserWarning: Possibly corrupt EXIF data.  Expecting to read 604372994 bytes but only got 8278. Skipping tag 0\n",
      "  \" Skipping tag %s\" % (size, len(data), tag))\n",
      "/anaconda3/lib/python3.7/site-packages/PIL/TiffImagePlugin.py:763: UserWarning: Possibly corrupt EXIF data.  Expecting to read 2417491976 bytes but only got 8278. Skipping tag 0\n",
      "  \" Skipping tag %s\" % (size, len(data), tag))\n",
      "/anaconda3/lib/python3.7/site-packages/PIL/TiffImagePlugin.py:763: UserWarning: Possibly corrupt EXIF data.  Expecting to read 65537 bytes but only got 0. Skipping tag 1\n",
      "  \" Skipping tag %s\" % (size, len(data), tag))\n",
      "/anaconda3/lib/python3.7/site-packages/PIL/TiffImagePlugin.py:763: UserWarning: Possibly corrupt EXIF data.  Expecting to read 393222 bytes but only got 0. Skipping tag 3\n",
      "  \" Skipping tag %s\" % (size, len(data), tag))\n",
      "/anaconda3/lib/python3.7/site-packages/PIL/TiffImagePlugin.py:763: UserWarning: Possibly corrupt EXIF data.  Expecting to read 65536 bytes but only got 8278. Skipping tag 0\n",
      "  \" Skipping tag %s\" % (size, len(data), tag))\n",
      "/anaconda3/lib/python3.7/site-packages/PIL/TiffImagePlugin.py:763: UserWarning: Possibly corrupt EXIF data.  Expecting to read 6553646 bytes but only got 0. Skipping tag 4608\n",
      "  \" Skipping tag %s\" % (size, len(data), tag))\n",
      "/anaconda3/lib/python3.7/site-packages/PIL/TiffImagePlugin.py:763: UserWarning: Possibly corrupt EXIF data.  Expecting to read 3221260288 bytes but only got 0. Skipping tag 2072\n",
      "  \" Skipping tag %s\" % (size, len(data), tag))\n",
      "/anaconda3/lib/python3.7/site-packages/PIL/TiffImagePlugin.py:763: UserWarning: Possibly corrupt EXIF data.  Expecting to read 268435640 bytes but only got 0. Skipping tag 768\n",
      "  \" Skipping tag %s\" % (size, len(data), tag))\n",
      "/anaconda3/lib/python3.7/site-packages/PIL/TiffImagePlugin.py:763: UserWarning: Possibly corrupt EXIF data.  Expecting to read 4718640 bytes but only got 0. Skipping tag 2560\n",
      "  \" Skipping tag %s\" % (size, len(data), tag))\n",
      "/anaconda3/lib/python3.7/site-packages/PIL/TiffImagePlugin.py:763: UserWarning: Possibly corrupt EXIF data.  Expecting to read 458765 bytes but only got 0. Skipping tag 23\n",
      "  \" Skipping tag %s\" % (size, len(data), tag))\n",
      "/anaconda3/lib/python3.7/site-packages/PIL/TiffImagePlugin.py:763: UserWarning: Possibly corrupt EXIF data.  Expecting to read 1441794 bytes but only got 8278. Skipping tag 161\n",
      "  \" Skipping tag %s\" % (size, len(data), tag))\n",
      "/anaconda3/lib/python3.7/site-packages/PIL/TiffImagePlugin.py:763: UserWarning: Possibly corrupt EXIF data.  Expecting to read 65575 bytes but only got 0. Skipping tag 55\n",
      "  \" Skipping tag %s\" % (size, len(data), tag))\n",
      "/anaconda3/lib/python3.7/site-packages/PIL/TiffImagePlugin.py:763: UserWarning: Possibly corrupt EXIF data.  Expecting to read 393219 bytes but only got 0. Skipping tag 7\n",
      "  \" Skipping tag %s\" % (size, len(data), tag))\n",
      "/anaconda3/lib/python3.7/site-packages/PIL/TiffImagePlugin.py:763: UserWarning: Possibly corrupt EXIF data.  Expecting to read 13369600 bytes but only got 0. Skipping tag 180\n",
      "  \" Skipping tag %s\" % (size, len(data), tag))\n",
      "/anaconda3/lib/python3.7/site-packages/PIL/TiffImagePlugin.py:763: UserWarning: Possibly corrupt EXIF data.  Expecting to read 2080374824 bytes but only got 8278. Skipping tag 256\n",
      "  \" Skipping tag %s\" % (size, len(data), tag))\n",
      "/anaconda3/lib/python3.7/site-packages/PIL/TiffImagePlugin.py:780: UserWarning: Corrupt EXIF data.  Expecting to read 12 bytes but only got 0. \n",
      "  warnings.warn(str(msg))\n"
     ]
    }
   ],
   "source": [
    "# Set up data into train and test directories with folders of bobcat and not_bobcat\n",
    "train_data_dir = '/Users/j.markdaniels/Downloads/final_proj_data/bobcat_cougar_data/train/'#348 bobcat, 340 not_bobcat\n",
    "test_data_dir = '/Users/j.markdaniels/Downloads/final_proj_data/bobcat_cougar_data/test/'#348 bobcat, 340 not_bobcat\n",
    "\n",
    "test_generator = ImageDataGenerator(rescale=1./255).flow_from_directory(\n",
    "        test_data_dir, \n",
    "        target_size=(128, 128), batch_size=340)\n",
    "\n",
    "train_generator = ImageDataGenerator(rescale=1./255).flow_from_directory(\n",
    "        train_data_dir, \n",
    "        target_size=(128, 128), batch_size=340)\n",
    "\n",
    "# create the data sets\n",
    "train_images, train_labels = next(train_generator)\n",
    "test_images, test_labels = next(test_generator)"
   ]
  },
  {
   "cell_type": "code",
   "execution_count": 3,
   "metadata": {},
   "outputs": [
    {
     "name": "stdout",
     "output_type": "stream",
     "text": [
      "Found 685 images belonging to 2 classes.\n"
     ]
    }
   ],
   "source": [
    "# get all the data in the directory split/test, and reshape them\n",
    "data_te = ImageDataGenerator(rescale=1./255).flow_from_directory( \n",
    "        '/Users/j.markdaniels/Downloads/final_proj_data/bobcat_cougar_data/test/', \n",
    "        target_size=(224, 224), \n",
    "        batch_size = 340, \n",
    "        seed = 123)"
   ]
  },
  {
   "cell_type": "code",
   "execution_count": 4,
   "metadata": {},
   "outputs": [
    {
     "name": "stdout",
     "output_type": "stream",
     "text": [
      "Found 680 images belonging to 2 classes.\n"
     ]
    }
   ],
   "source": [
    "data_tr = ImageDataGenerator(rescale=1./255).flow_from_directory( \n",
    "        '/Users/j.markdaniels/Downloads/final_proj_data/bobcat_cougar_data/train/', \n",
    "        target_size=(224, 224), \n",
    "        batch_size = 340, \n",
    "        seed = 123) "
   ]
  },
  {
   "cell_type": "code",
   "execution_count": 5,
   "metadata": {},
   "outputs": [],
   "source": [
    "#split images and labels\n",
    "images_tr, labels_tr = next(data_tr)"
   ]
  },
  {
   "cell_type": "code",
   "execution_count": 6,
   "metadata": {},
   "outputs": [],
   "source": [
    "#split images and labels\n",
    "images_te, labels_te = next(data_te)"
   ]
  },
  {
   "cell_type": "code",
   "execution_count": 7,
   "metadata": {},
   "outputs": [],
   "source": [
    "images = np.concatenate((images_tr, images_te))"
   ]
  },
  {
   "cell_type": "code",
   "execution_count": 8,
   "metadata": {},
   "outputs": [],
   "source": [
    "labels = np.concatenate((labels_tr[:,0], labels_te[:,0]))"
   ]
  },
  {
   "cell_type": "code",
   "execution_count": 9,
   "metadata": {},
   "outputs": [
    {
     "data": {
      "image/png": "[encoded data removed]",
      "text/plain": [
       "<Figure size 432x288 with 1 Axes>"
      ]
     },
     "metadata": {
      "needs_background": "light"
     },
     "output_type": "display_data"
    }
   ],
   "source": [
    "%matplotlib inline\n",
    "import matplotlib.pyplot as plt\n",
    "plt.imshow(images[23])\n",
    "plt.show()"
   ]
  },
  {
   "cell_type": "code",
   "execution_count": 10,
   "metadata": {},
   "outputs": [],
   "source": [
    "from sklearn.model_selection import train_test_split\n",
    "X_model, X_test, y_model, y_test = train_test_split(images, labels, test_size=0.20, random_state=123)"
   ]
  },
  {
   "cell_type": "code",
   "execution_count": 11,
   "metadata": {},
   "outputs": [],
   "source": [
    "from sklearn.model_selection import train_test_split\n",
    "X_train, X_val, y_train, y_val = train_test_split(X_model, y_model, test_size=0.20, random_state=123)"
   ]
  },
  {
   "cell_type": "code",
   "execution_count": 23,
   "metadata": {},
   "outputs": [],
   "source": [
    "cnn = models.Sequential()\n",
    "cnn.add(layers.Conv2D(64, (1, 1), activation='relu', input_shape=(224, 224,  3)))\n",
    "cnn.add(layers.BatchNormalization())\n",
    "cnn.add(layers.MaxPooling2D((2, 2)))\n",
    "cnn.add(layers.Conv2D(64, (3, 3), activation='relu'))\n",
    "cnn.add(layers.BatchNormalization())\n",
    "# 64 bias parameters\n",
    "# 64 * (3 * 3 * 3) weight parametrs\n",
    "# Output is 64*224*224\n",
    "cnn.add(layers.MaxPooling2D((2, 2)))\n",
    "#Output is 64*112*112\n",
    "cnn.add(layers.Conv2D(32, (3, 3), activation='relu', input_shape=(224, 224,  3)))\n",
    "cnn.add(layers.BatchNormalization())\n",
    "#32 bias parameters\n",
    "#32 * (3*3*64)\n",
    "#Output is 32*112*112 \n",
    "cnn.add(layers.MaxPooling2D((2, 2)))\n",
    "cnn.add(layers.Flatten())\n",
    "cnn.add(layers.Dense(32, activation='relu'))\n",
    "cnn.add(layers.Dense(1, activation='sigmoid'))\n",
    "\n",
    "cnn.compile(loss='binary_crossentropy',\n",
    "              optimizer=\"adam\",\n",
    "              metrics=['acc'])"
   ]
  },
  {
   "cell_type": "code",
   "execution_count": 24,
   "metadata": {
    "scrolled": false
   },
   "outputs": [
    {
     "name": "stdout",
     "output_type": "stream",
     "text": [
      "Train on 435 samples, validate on 109 samples\n",
      "Epoch 1/100\n",
      "435/435 [==============================] - 53s 122ms/step - loss: 1.2094 - acc: 0.6046 - val_loss: 0.6238 - val_acc: 0.6514\n",
      "Epoch 2/100\n",
      "435/435 [==============================] - 47s 108ms/step - loss: 0.5378 - acc: 0.7264 - val_loss: 0.6707 - val_acc: 0.6606\n",
      "Epoch 3/100\n",
      "435/435 [==============================] - 48s 110ms/step - loss: 0.4099 - acc: 0.8069 - val_loss: 0.5825 - val_acc: 0.7431\n",
      "Epoch 4/100\n",
      "435/435 [==============================] - 49s 112ms/step - loss: 0.3245 - acc: 0.8690 - val_loss: 0.7094 - val_acc: 0.6514\n",
      "Epoch 5/100\n",
      "435/435 [==============================] - 48s 110ms/step - loss: 0.2580 - acc: 0.9103 - val_loss: 0.6318 - val_acc: 0.7339\n",
      "Epoch 6/100\n",
      "435/435 [==============================] - 48s 111ms/step - loss: 0.1598 - acc: 0.9379 - val_loss: 0.6218 - val_acc: 0.7431\n",
      "Epoch 7/100\n",
      "435/435 [==============================] - 48s 110ms/step - loss: 0.1187 - acc: 0.9494 - val_loss: 0.7877 - val_acc: 0.7523\n",
      "Epoch 8/100\n",
      "435/435 [==============================] - 49s 112ms/step - loss: 0.1223 - acc: 0.9724 - val_loss: 0.8981 - val_acc: 0.7431\n",
      "Epoch 9/100\n",
      "435/435 [==============================] - 48s 111ms/step - loss: 0.1054 - acc: 0.9609 - val_loss: 0.9594 - val_acc: 0.7523\n",
      "Epoch 10/100\n",
      "435/435 [==============================] - 47s 109ms/step - loss: 0.0495 - acc: 0.9931 - val_loss: 0.9643 - val_acc: 0.7706\n",
      "Epoch 11/100\n",
      "435/435 [==============================] - 48s 111ms/step - loss: 0.0287 - acc: 0.9908 - val_loss: 0.9172 - val_acc: 0.7615\n",
      "Epoch 12/100\n",
      "435/435 [==============================] - 48s 110ms/step - loss: 0.0170 - acc: 0.9977 - val_loss: 0.9685 - val_acc: 0.7615\n",
      "Epoch 13/100\n",
      "435/435 [==============================] - 48s 110ms/step - loss: 0.0164 - acc: 0.9954 - val_loss: 1.0004 - val_acc: 0.7982\n",
      "Epoch 14/100\n",
      "435/435 [==============================] - 48s 110ms/step - loss: 0.0092 - acc: 1.0000 - val_loss: 1.0150 - val_acc: 0.7982\n",
      "Epoch 15/100\n",
      "435/435 [==============================] - 48s 111ms/step - loss: 0.0046 - acc: 1.0000 - val_loss: 1.0183 - val_acc: 0.7982\n",
      "Epoch 16/100\n",
      "435/435 [==============================] - 48s 111ms/step - loss: 0.0036 - acc: 1.0000 - val_loss: 1.0067 - val_acc: 0.8257\n",
      "Epoch 17/100\n",
      "435/435 [==============================] - 48s 110ms/step - loss: 0.0027 - acc: 1.0000 - val_loss: 1.0093 - val_acc: 0.8165\n",
      "Epoch 18/100\n",
      "435/435 [==============================] - 48s 110ms/step - loss: 0.0021 - acc: 1.0000 - val_loss: 1.0129 - val_acc: 0.8073\n",
      "Epoch 19/100\n",
      "435/435 [==============================] - 48s 110ms/step - loss: 0.0019 - acc: 1.0000 - val_loss: 1.0111 - val_acc: 0.8073\n",
      "Epoch 20/100\n",
      "435/435 [==============================] - 48s 110ms/step - loss: 0.0016 - acc: 1.0000 - val_loss: 1.0036 - val_acc: 0.8073\n",
      "Epoch 21/100\n",
      "435/435 [==============================] - 48s 110ms/step - loss: 0.0016 - acc: 1.0000 - val_loss: 0.9944 - val_acc: 0.8073\n",
      "Epoch 22/100\n",
      "435/435 [==============================] - 48s 110ms/step - loss: 0.0018 - acc: 1.0000 - val_loss: 0.9952 - val_acc: 0.8073\n",
      "Epoch 23/100\n",
      "435/435 [==============================] - 48s 110ms/step - loss: 0.0011 - acc: 1.0000 - val_loss: 0.9956 - val_acc: 0.8073\n",
      "Epoch 24/100\n",
      "435/435 [==============================] - 48s 111ms/step - loss: 0.0012 - acc: 1.0000 - val_loss: 0.9994 - val_acc: 0.8073\n",
      "Epoch 25/100\n",
      "435/435 [==============================] - 48s 110ms/step - loss: 0.0012 - acc: 1.0000 - val_loss: 0.9979 - val_acc: 0.8073\n",
      "Epoch 26/100\n",
      "435/435 [==============================] - 48s 110ms/step - loss: 8.7899e-04 - acc: 1.0000 - val_loss: 0.9977 - val_acc: 0.8073\n",
      "Epoch 27/100\n",
      "435/435 [==============================] - 48s 110ms/step - loss: 0.0010 - acc: 1.0000 - val_loss: 0.9890 - val_acc: 0.8073\n",
      "Epoch 28/100\n",
      "435/435 [==============================] - 48s 110ms/step - loss: 9.1514e-04 - acc: 1.0000 - val_loss: 0.9908 - val_acc: 0.8073\n",
      "Epoch 29/100\n",
      "435/435 [==============================] - 48s 109ms/step - loss: 7.4911e-04 - acc: 1.0000 - val_loss: 0.9971 - val_acc: 0.8073\n",
      "Epoch 30/100\n",
      "435/435 [==============================] - 48s 109ms/step - loss: 7.8319e-04 - acc: 1.0000 - val_loss: 1.0028 - val_acc: 0.8073\n",
      "Epoch 31/100\n",
      "435/435 [==============================] - 48s 111ms/step - loss: 7.5680e-04 - acc: 1.0000 - val_loss: 1.0036 - val_acc: 0.8073\n",
      "Epoch 32/100\n",
      "435/435 [==============================] - 48s 111ms/step - loss: 6.7725e-04 - acc: 1.0000 - val_loss: 1.0006 - val_acc: 0.8073\n",
      "Epoch 33/100\n",
      "435/435 [==============================] - 48s 110ms/step - loss: 7.5013e-04 - acc: 1.0000 - val_loss: 1.0030 - val_acc: 0.8073\n",
      "Epoch 34/100\n",
      "435/435 [==============================] - 48s 110ms/step - loss: 6.5340e-04 - acc: 1.0000 - val_loss: 1.0041 - val_acc: 0.8073\n",
      "Epoch 35/100\n",
      "435/435 [==============================] - 48s 111ms/step - loss: 5.3324e-04 - acc: 1.0000 - val_loss: 1.0063 - val_acc: 0.8073\n",
      "Epoch 36/100\n",
      "435/435 [==============================] - 48s 111ms/step - loss: 5.6351e-04 - acc: 1.0000 - val_loss: 1.0023 - val_acc: 0.8073\n",
      "Epoch 37/100\n",
      "435/435 [==============================] - 48s 110ms/step - loss: 5.5523e-04 - acc: 1.0000 - val_loss: 1.0043 - val_acc: 0.8073\n",
      "Epoch 38/100\n",
      "435/435 [==============================] - 48s 110ms/step - loss: 4.9351e-04 - acc: 1.0000 - val_loss: 1.0091 - val_acc: 0.8073\n",
      "Epoch 39/100\n",
      "435/435 [==============================] - 48s 111ms/step - loss: 5.3064e-04 - acc: 1.0000 - val_loss: 1.0130 - val_acc: 0.8073\n",
      "Epoch 40/100\n",
      "435/435 [==============================] - 48s 111ms/step - loss: 5.7416e-04 - acc: 1.0000 - val_loss: 1.0173 - val_acc: 0.8073\n",
      "Epoch 41/100\n",
      "435/435 [==============================] - 48s 111ms/step - loss: 4.4782e-04 - acc: 1.0000 - val_loss: 1.0166 - val_acc: 0.8073\n",
      "Epoch 42/100\n",
      "435/435 [==============================] - 48s 111ms/step - loss: 3.7149e-04 - acc: 1.0000 - val_loss: 1.0130 - val_acc: 0.8073\n",
      "Epoch 43/100\n",
      "435/435 [==============================] - 48s 111ms/step - loss: 4.2114e-04 - acc: 1.0000 - val_loss: 1.0141 - val_acc: 0.8165\n",
      "Epoch 44/100\n",
      "435/435 [==============================] - 50s 115ms/step - loss: 3.6397e-04 - acc: 1.0000 - val_loss: 1.0151 - val_acc: 0.8165\n",
      "Epoch 45/100\n",
      "435/435 [==============================] - 50s 116ms/step - loss: 4.5612e-04 - acc: 1.0000 - val_loss: 1.0174 - val_acc: 0.8165\n",
      "Epoch 46/100\n",
      "435/435 [==============================] - 49s 113ms/step - loss: 3.7059e-04 - acc: 1.0000 - val_loss: 1.0203 - val_acc: 0.8165\n",
      "Epoch 47/100\n",
      "435/435 [==============================] - 51s 118ms/step - loss: 3.0299e-04 - acc: 1.0000 - val_loss: 1.0235 - val_acc: 0.8165\n",
      "Epoch 48/100\n",
      "435/435 [==============================] - 48s 111ms/step - loss: 3.2241e-04 - acc: 1.0000 - val_loss: 1.0272 - val_acc: 0.8165\n",
      "Epoch 49/100\n",
      "435/435 [==============================] - 48s 109ms/step - loss: 3.0801e-04 - acc: 1.0000 - val_loss: 1.0298 - val_acc: 0.8165\n",
      "Epoch 50/100\n",
      "435/435 [==============================] - 47s 109ms/step - loss: 3.2802e-04 - acc: 1.0000 - val_loss: 1.0299 - val_acc: 0.8165\n",
      "Epoch 51/100\n",
      "435/435 [==============================] - 47s 109ms/step - loss: 2.7528e-04 - acc: 1.0000 - val_loss: 1.0325 - val_acc: 0.8165\n",
      "Epoch 52/100\n",
      "435/435 [==============================] - 47s 109ms/step - loss: 3.5671e-04 - acc: 1.0000 - val_loss: 1.0388 - val_acc: 0.8165\n",
      "Epoch 53/100\n",
      "435/435 [==============================] - 48s 109ms/step - loss: 2.9309e-04 - acc: 1.0000 - val_loss: 1.0378 - val_acc: 0.8165\n",
      "Epoch 54/100\n",
      "435/435 [==============================] - 48s 109ms/step - loss: 2.7326e-04 - acc: 1.0000 - val_loss: 1.0367 - val_acc: 0.8165\n",
      "Epoch 55/100\n",
      "435/435 [==============================] - 48s 110ms/step - loss: 2.7501e-04 - acc: 1.0000 - val_loss: 1.0348 - val_acc: 0.8165\n",
      "Epoch 56/100\n",
      "435/435 [==============================] - 48s 110ms/step - loss: 2.7743e-04 - acc: 1.0000 - val_loss: 1.0380 - val_acc: 0.8165\n",
      "Epoch 57/100\n",
      "435/435 [==============================] - 49s 112ms/step - loss: 2.5378e-04 - acc: 1.0000 - val_loss: 1.0414 - val_acc: 0.8165\n",
      "Epoch 58/100\n",
      "435/435 [==============================] - 49s 113ms/step - loss: 2.5524e-04 - acc: 1.0000 - val_loss: 1.0444 - val_acc: 0.8165\n",
      "Epoch 59/100\n",
      "435/435 [==============================] - 48s 111ms/step - loss: 2.3560e-04 - acc: 1.0000 - val_loss: 1.0455 - val_acc: 0.8165\n",
      "Epoch 60/100\n",
      "435/435 [==============================] - 48s 111ms/step - loss: 2.0597e-04 - acc: 1.0000 - val_loss: 1.0486 - val_acc: 0.8165\n",
      "Epoch 61/100\n",
      "435/435 [==============================] - 53s 122ms/step - loss: 2.8172e-04 - acc: 1.0000 - val_loss: 1.0500 - val_acc: 0.8165\n",
      "Epoch 62/100\n",
      "435/435 [==============================] - 53s 122ms/step - loss: 2.0420e-04 - acc: 1.0000 - val_loss: 1.0523 - val_acc: 0.8165\n",
      "Epoch 63/100\n",
      "435/435 [==============================] - 50s 116ms/step - loss: 2.0111e-04 - acc: 1.0000 - val_loss: 1.0521 - val_acc: 0.8165\n",
      "Epoch 64/100\n",
      "435/435 [==============================] - 50s 116ms/step - loss: 2.0870e-04 - acc: 1.0000 - val_loss: 1.0531 - val_acc: 0.8165\n",
      "Epoch 65/100\n",
      "435/435 [==============================] - 50s 114ms/step - loss: 2.4323e-04 - acc: 1.0000 - val_loss: 1.0497 - val_acc: 0.8257\n",
      "Epoch 66/100\n",
      "435/435 [==============================] - 49s 112ms/step - loss: 1.8838e-04 - acc: 1.0000 - val_loss: 1.0514 - val_acc: 0.8257\n",
      "Epoch 67/100\n",
      "435/435 [==============================] - 49s 112ms/step - loss: 2.0422e-04 - acc: 1.0000 - val_loss: 1.0547 - val_acc: 0.8257\n",
      "Epoch 68/100\n",
      "435/435 [==============================] - 49s 112ms/step - loss: 1.7464e-04 - acc: 1.0000 - val_loss: 1.0578 - val_acc: 0.8257\n",
      "Epoch 69/100\n",
      "435/435 [==============================] - 49s 112ms/step - loss: 1.7642e-04 - acc: 1.0000 - val_loss: 1.0585 - val_acc: 0.8257\n",
      "Epoch 70/100\n",
      "435/435 [==============================] - 49s 112ms/step - loss: 1.8211e-04 - acc: 1.0000 - val_loss: 1.0583 - val_acc: 0.8257\n",
      "Epoch 71/100\n",
      "435/435 [==============================] - 48s 111ms/step - loss: 2.0490e-04 - acc: 1.0000 - val_loss: 1.0578 - val_acc: 0.8165\n",
      "Epoch 72/100\n",
      "435/435 [==============================] - 48s 111ms/step - loss: 1.7030e-04 - acc: 1.0000 - val_loss: 1.0602 - val_acc: 0.8165\n",
      "Epoch 73/100\n",
      "435/435 [==============================] - 49s 112ms/step - loss: 1.6430e-04 - acc: 1.0000 - val_loss: 1.0609 - val_acc: 0.8165\n",
      "Epoch 74/100\n",
      "435/435 [==============================] - 48s 111ms/step - loss: 1.3277e-04 - acc: 1.0000 - val_loss: 1.0616 - val_acc: 0.8165\n",
      "Epoch 75/100\n",
      "435/435 [==============================] - 49s 112ms/step - loss: 1.5461e-04 - acc: 1.0000 - val_loss: 1.0622 - val_acc: 0.8165\n",
      "Epoch 76/100\n",
      "435/435 [==============================] - 48s 111ms/step - loss: 1.7010e-04 - acc: 1.0000 - val_loss: 1.0652 - val_acc: 0.8165\n",
      "Epoch 77/100\n",
      "435/435 [==============================] - 49s 112ms/step - loss: 1.4602e-04 - acc: 1.0000 - val_loss: 1.0680 - val_acc: 0.8165\n",
      "Epoch 78/100\n",
      "435/435 [==============================] - 49s 112ms/step - loss: 1.7891e-04 - acc: 1.0000 - val_loss: 1.0694 - val_acc: 0.8165\n",
      "Epoch 79/100\n",
      "435/435 [==============================] - 48s 111ms/step - loss: 1.3711e-04 - acc: 1.0000 - val_loss: 1.0708 - val_acc: 0.8257\n",
      "Epoch 80/100\n",
      "435/435 [==============================] - 49s 112ms/step - loss: 1.0527e-04 - acc: 1.0000 - val_loss: 1.0721 - val_acc: 0.8257\n",
      "Epoch 81/100\n",
      "435/435 [==============================] - 48s 111ms/step - loss: 1.3430e-04 - acc: 1.0000 - val_loss: 1.0731 - val_acc: 0.8257\n",
      "Epoch 82/100\n",
      "435/435 [==============================] - 49s 112ms/step - loss: 1.0749e-04 - acc: 1.0000 - val_loss: 1.0742 - val_acc: 0.8257\n",
      "Epoch 83/100\n",
      "435/435 [==============================] - 49s 112ms/step - loss: 1.2819e-04 - acc: 1.0000 - val_loss: 1.0750 - val_acc: 0.8257\n",
      "Epoch 84/100\n",
      "435/435 [==============================] - 49s 112ms/step - loss: 1.1348e-04 - acc: 1.0000 - val_loss: 1.0760 - val_acc: 0.8257\n",
      "Epoch 85/100\n",
      "435/435 [==============================] - 49s 112ms/step - loss: 1.0439e-04 - acc: 1.0000 - val_loss: 1.0777 - val_acc: 0.8257\n",
      "Epoch 86/100\n",
      "435/435 [==============================] - 49s 112ms/step - loss: 1.3145e-04 - acc: 1.0000 - val_loss: 1.0791 - val_acc: 0.8257\n",
      "Epoch 87/100\n",
      "435/435 [==============================] - 48s 111ms/step - loss: 1.2038e-04 - acc: 1.0000 - val_loss: 1.0781 - val_acc: 0.8257\n",
      "Epoch 88/100\n",
      "435/435 [==============================] - 49s 112ms/step - loss: 1.1051e-04 - acc: 1.0000 - val_loss: 1.0804 - val_acc: 0.8257\n",
      "Epoch 89/100\n",
      "435/435 [==============================] - 49s 112ms/step - loss: 9.8823e-05 - acc: 1.0000 - val_loss: 1.0809 - val_acc: 0.8257\n",
      "Epoch 90/100\n",
      "435/435 [==============================] - 48s 111ms/step - loss: 1.1196e-04 - acc: 1.0000 - val_loss: 1.0822 - val_acc: 0.8165\n",
      "Epoch 91/100\n",
      "435/435 [==============================] - 49s 112ms/step - loss: 9.7693e-05 - acc: 1.0000 - val_loss: 1.0832 - val_acc: 0.8165\n",
      "Epoch 92/100\n",
      "435/435 [==============================] - 48s 111ms/step - loss: 1.0635e-04 - acc: 1.0000 - val_loss: 1.0832 - val_acc: 0.8257\n",
      "Epoch 93/100\n",
      "435/435 [==============================] - 49s 112ms/step - loss: 1.0311e-04 - acc: 1.0000 - val_loss: 1.0842 - val_acc: 0.8257\n",
      "Epoch 94/100\n",
      "435/435 [==============================] - 48s 111ms/step - loss: 1.0566e-04 - acc: 1.0000 - val_loss: 1.0866 - val_acc: 0.8257\n",
      "Epoch 95/100\n",
      "435/435 [==============================] - 49s 112ms/step - loss: 9.2428e-05 - acc: 1.0000 - val_loss: 1.0891 - val_acc: 0.8257\n",
      "Epoch 96/100\n",
      "435/435 [==============================] - 48s 111ms/step - loss: 1.2727e-04 - acc: 1.0000 - val_loss: 1.0930 - val_acc: 0.8257\n",
      "Epoch 97/100\n",
      "435/435 [==============================] - 49s 112ms/step - loss: 9.2268e-05 - acc: 1.0000 - val_loss: 1.0939 - val_acc: 0.8257\n",
      "Epoch 98/100\n",
      "435/435 [==============================] - 49s 112ms/step - loss: 1.1524e-04 - acc: 1.0000 - val_loss: 1.0927 - val_acc: 0.8165\n",
      "Epoch 99/100\n",
      "435/435 [==============================] - 49s 112ms/step - loss: 9.1728e-05 - acc: 1.0000 - val_loss: 1.0916 - val_acc: 0.8165\n",
      "Epoch 100/100\n",
      "435/435 [==============================] - 49s 113ms/step - loss: 9.6082e-05 - acc: 1.0000 - val_loss: 1.0946 - val_acc: 0.8257\n"
     ]
    }
   ],
   "source": [
    "cnn1 = cnn.fit(X_train,\n",
    "                    y_train,\n",
    "                    epochs=100,\n",
    "                    batch_size=50,\n",
    "                    validation_data=(X_val, y_val))"
   ]
  },
  {
   "cell_type": "code",
   "execution_count": 25,
   "metadata": {},
   "outputs": [
    {
     "name": "stdout",
     "output_type": "stream",
     "text": [
      "_________________________________________________________________\n",
      "Layer (type)                 Output Shape              Param #   \n",
      "=================================================================\n",
      "conv2d_2 (Conv2D)            (None, 224, 224, 64)      256       \n",
      "_________________________________________________________________\n",
      "batch_normalization_2 (Batch (None, 224, 224, 64)      256       \n",
      "_________________________________________________________________\n",
      "max_pooling2d_2 (MaxPooling2 (None, 112, 112, 64)      0         \n",
      "_________________________________________________________________\n",
      "conv2d_3 (Conv2D)            (None, 110, 110, 64)      36928     \n",
      "_________________________________________________________________\n",
      "batch_normalization_3 (Batch (None, 110, 110, 64)      256       \n",
      "_________________________________________________________________\n",
      "max_pooling2d_3 (MaxPooling2 (None, 55, 55, 64)        0         \n",
      "_________________________________________________________________\n",
      "conv2d_4 (Conv2D)            (None, 53, 53, 32)        18464     \n",
      "_________________________________________________________________\n",
      "batch_normalization_4 (Batch (None, 53, 53, 32)        128       \n",
      "_________________________________________________________________\n",
      "max_pooling2d_4 (MaxPooling2 (None, 26, 26, 32)        0         \n",
      "_________________________________________________________________\n",
      "flatten_2 (Flatten)          (None, 21632)             0         \n",
      "_________________________________________________________________\n",
      "dense_3 (Dense)              (None, 32)                692256    \n",
      "_________________________________________________________________\n",
      "dense_4 (Dense)              (None, 1)                 33        \n",
      "=================================================================\n",
      "Total params: 748,577\n",
      "Trainable params: 748,257\n",
      "Non-trainable params: 320\n",
      "_________________________________________________________________\n",
      "None\n"
     ]
    }
   ],
   "source": [
    "print(cnn.summary())"
   ]
  },
  {
   "cell_type": "code",
   "execution_count": 26,
   "metadata": {},
   "outputs": [
    {
     "data": {
      "image/png": "[encoded data removed]",
      "text/plain": [
       "<Figure size 1080x288 with 2 Axes>"
      ]
     },
     "metadata": {
      "needs_background": "light"
     },
     "output_type": "display_data"
    }
   ],
   "source": [
    "hist_cnn = cnn1.history\n",
    "loss_values = hist_cnn['loss']\n",
    "val_loss_values = hist_cnn['val_loss']\n",
    "acc_values = hist_cnn['acc'] \n",
    "val_acc_values = hist_cnn['val_acc']\n",
    "\n",
    "\n",
    "epochs = range(1, len(loss_values) + 1)\n",
    "\n",
    "plt.figure(figsize=(15,4))\n",
    "plt.subplot(121)\n",
    "plt.plot(epochs, loss_values, 'g.', label='Training loss')\n",
    "plt.plot(epochs, val_loss_values, 'g', label='Validation loss')\n",
    "\n",
    "plt.title('Training and validation loss')\n",
    "plt.xlabel('Epochs')\n",
    "plt.ylabel('Loss')\n",
    "plt.legend()\n",
    "\n",
    "plt.subplot(122)\n",
    "plt.plot(epochs, acc_values, 'r.', label='Training acc')\n",
    "plt.plot(epochs, val_acc_values, 'r', label='Validation acc')\n",
    "plt.title('Training and validation accuracy')\n",
    "plt.xlabel('Epochs')\n",
    "plt.ylabel('Accuracy')\n",
    "plt.legend()\n",
    "plt.show()"
   ]
  },
  {
   "cell_type": "code",
   "execution_count": 27,
   "metadata": {},
   "outputs": [
    {
     "name": "stdout",
     "output_type": "stream",
     "text": [
      "435/435 [==============================] - 19s 44ms/step\n",
      "136/136 [==============================] - 6s 44ms/step\n",
      "[6.323382405607008e-05, 1.0] [0.785735193420859, 0.8235294117647058]\n"
     ]
    }
   ],
   "source": [
    "results_train = cnn.evaluate(X_train, y_train)\n",
    "results_test = cnn.evaluate(X_test, y_test)\n",
    "print(results_train, results_test)"
   ]
  },
  {
   "cell_type": "code",
   "execution_count": 29,
   "metadata": {},
   "outputs": [],
   "source": [
    "cnn.save('cnn_first_draft.h5')"
   ]
  },
  {
   "cell_type": "code",
   "execution_count": null,
   "metadata": {},
   "outputs": [],
   "source": []
  }
 ],
 "metadata": {
  "kernelspec": {
   "display_name": "Python 3",
   "language": "python",
   "name": "python3"
  },
  "language_info": {
   "codemirror_mode": {
    "name": "ipython",
    "version": 3
   },
   "file_extension": ".py",
   "mimetype": "text/x-python",
   "name": "python",
   "nbconvert_exporter": "python",
   "pygments_lexer": "ipython3",
   "version": "3.7.1"
  },
  "toc": {
   "base_numbering": 1,
   "nav_menu": {},
   "number_sections": true,
   "sideBar": true,
   "skip_h1_title": false,
   "title_cell": "Table of Contents",
   "title_sidebar": "Contents",
   "toc_cell": false,
   "toc_position": {},
   "toc_section_display": true,
   "toc_window_display": true
  },
  "varInspector": {
   "cols": {
    "lenName": 16,
    "lenType": 16,
    "lenVar": 40
   },
   "kernels_config": {
    "python": {
     "delete_cmd_postfix": "",
     "delete_cmd_prefix": "del ",
     "library": "var_list.py",
     "varRefreshCmd": "print(var_dic_list())"
    },
    "r": {
     "delete_cmd_postfix": ") ",
     "delete_cmd_prefix": "rm(",
     "library": "var_list.r",
     "varRefreshCmd": "cat(var_dic_list()) "
    }
   },
   "types_to_exclude": [
    "module",
    "function",
    "builtin_function_or_method",
    "instance",
    "_Feature"
   ],
   "window_display": false
  }
 },
 "nbformat": 4,
 "nbformat_minor": 2
}
