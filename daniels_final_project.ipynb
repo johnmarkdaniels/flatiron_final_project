{
  "nbformat": 4,
  "nbformat_minor": 0,
  "metadata": {
    "kernelspec": {
      "name": "python3",
      "display_name": "Python 3"
    },
    "language_info": {
      "codemirror_mode": {
        "name": "ipython",
        "version": 3
      },
      "file_extension": ".py",
      "mimetype": "text/x-python",
      "name": "python",
      "nbconvert_exporter": "python",
      "pygments_lexer": "ipython3",
      "version": "3.7.1"
    },
    "toc": {
      "base_numbering": 1,
      "nav_menu": {},
      "number_sections": false,
      "sideBar": true,
      "skip_h1_title": false,
      "title_cell": "Table of Contents",
      "title_sidebar": "Contents",
      "toc_cell": false,
      "toc_position": {
        "height": "calc(100% - 180px)",
        "left": "10px",
        "top": "150px",
        "width": "277px"
      },
      "toc_section_display": true,
      "toc_window_display": true
    },
    "varInspector": {
      "cols": {
        "lenName": 16,
        "lenType": 16,
        "lenVar": 40
      },
      "kernels_config": {
        "python": {
          "delete_cmd_postfix": "",
          "delete_cmd_prefix": "del ",
          "library": "var_list.py",
          "varRefreshCmd": "print(var_dic_list())"
        },
        "r": {
          "delete_cmd_postfix": ") ",
          "delete_cmd_prefix": "rm(",
          "library": "var_list.r",
          "varRefreshCmd": "cat(var_dic_list()) "
        }
      },
      "types_to_exclude": [
        "module",
        "function",
        "builtin_function_or_method",
        "instance",
        "_Feature"
      ],
      "window_display": false
    },
    "colab": {
      "name": "daniels_final_project.ipynb",
      "version": "0.3.2",
      "provenance": [],
      "toc_visible": true,
      "machine_shape": "hm",
      "include_colab_link": true
    },
    "accelerator": "GPU"
  },
  "cells": [
    {
      "cell_type": "markdown",
      "metadata": {
        "id": "view-in-github",
        "colab_type": "text"
      },
      "source": [
        "<a href=\"https://colab.research.google.com/github/johnmarkdaniels/flatiron_final_project/blob/mark/daniels_final_project.ipynb\" target=\"_parent\"><img src=\"https://colab.research.google.com/assets/colab-badge.svg\" alt=\"Open In Colab\"/></a>"
      ]
    },
    {
      "cell_type": "markdown",
      "metadata": {
        "id": "0XHQZkjD1g-U",
        "colab_type": "text"
      },
      "source": [
        "# Oregon Wildlife Image Classification\n",
        "# Final Project\n",
        "\n",
        "# Flatiron School - Washington DC\n",
        "# Data Science Fellowship\n",
        "\n",
        "### J. Mark Daniels, PhD"
      ]
    },
    {
      "cell_type": "markdown",
      "metadata": {
        "id": "8xJ5eAbc1g-W",
        "colab_type": "text"
      },
      "source": [
        "# Binary Classification - Bobcat"
      ]
    },
    {
      "cell_type": "markdown",
      "metadata": {
        "id": "PNO3wIBU1g-X",
        "colab_type": "text"
      },
      "source": [
        "## Import Libraries for CNN"
      ]
    },
    {
      "cell_type": "code",
      "metadata": {
        "id": "R9IhvOWo1g-Y",
        "colab_type": "code",
        "colab": {
          "base_uri": "https://localhost:8080/",
          "height": 34
        },
        "outputId": "65cb61b4-8d53-47d5-d982-ce1072c4bc5e"
      },
      "source": [
        "import matplotlib.pyplot as plt\n",
        "import numpy as np\n",
        "import os, shutil\n",
        "import itertools\n",
        "from keras import models\n",
        "from keras.models import Model\n",
        "from keras import layers\n",
        "from sklearn.metrics import confusion_matrix, f1_score\n",
        "np.random.seed(123)\n",
        "from keras.models import load_model\n",
        "from keras.preprocessing.image import ImageDataGenerator, array_to_img, img_to_array, load_img\n",
        "from keras.applications import inception_v3\n",
        "from keras.layers import Dense,GlobalAveragePooling2D"
      ],
      "execution_count": 1,
      "outputs": [
        {
          "output_type": "stream",
          "text": [
            "Using TensorFlow backend.\n"
          ],
          "name": "stderr"
        }
      ]
    },
    {
      "cell_type": "code",
      "metadata": {
        "id": "mvKVd8NcHgf1",
        "colab_type": "code",
        "colab": {
          "base_uri": "https://localhost:8080/",
          "height": 122
        },
        "outputId": "850f9349-0866-46e5-f7ca-801289de3ed1"
      },
      "source": [
        "from google.colab import drive\n",
        "drive.mount('/content/drive')"
      ],
      "execution_count": 2,
      "outputs": [
        {
          "output_type": "stream",
          "text": [
            "Go to this URL in a browser: https://accounts.google.com/o/oauth2/auth?client_id=947318989803-6bn6qk8qdgf4n4g3pfee6491hc0brc4i.apps.googleusercontent.com&redirect_uri=urn%3Aietf%3Awg%3Aoauth%3A2.0%3Aoob&scope=email%20https%3A%2F%2Fwww.googleapis.com%2Fauth%2Fdocs.test%20https%3A%2F%2Fwww.googleapis.com%2Fauth%2Fdrive%20https%3A%2F%2Fwww.googleapis.com%2Fauth%2Fdrive.photos.readonly%20https%3A%2F%2Fwww.googleapis.com%2Fauth%2Fpeopleapi.readonly&response_type=code\n",
            "\n",
            "Enter your authorization code:\n",
            "··········\n",
            "Mounted at /content/drive\n"
          ],
          "name": "stdout"
        }
      ]
    },
    {
      "cell_type": "markdown",
      "metadata": {
        "id": "IW5u1w6e1g-e",
        "colab_type": "text"
      },
      "source": [
        "## Prepare Data"
      ]
    },
    {
      "cell_type": "markdown",
      "metadata": {
        "id": "y41CaXfY1g-e",
        "colab_type": "text"
      },
      "source": [
        "### Import, Resize, and Rescale Images"
      ]
    },
    {
      "cell_type": "markdown",
      "metadata": {
        "id": "W7W3m_Vo1g-f",
        "colab_type": "text"
      },
      "source": [
        "Build a function and export to .py to call these in to avoid conflicts"
      ]
    },
    {
      "cell_type": "code",
      "metadata": {
        "id": "gyFF11vl1g-g",
        "colab_type": "code",
        "colab": {}
      },
      "source": [
        "# def imagenlabel_gen(test_dir, train_dir, images=None, labels=None):\n",
        "#     # Generate and resize images\n",
        "#     data_te = ImageDataGenerator(rescale=1./255).flow_from_directory( \n",
        "#         test_dir, \n",
        "#         target_size=(224, 224), \n",
        "#         batch_size = 340, \n",
        "#         seed = 123)\n",
        "#     data_tr = ImageDataGenerator(rescale=1./255).flow_from_directory( \n",
        "#         train_dir, \n",
        "#         target_size=(224, 224), \n",
        "#         batch_size = 340, \n",
        "#         seed = 123) \n",
        "    \n",
        "#     # Split images and labels into arrays\n",
        "#     images_te, labels_te = next(data_te)\n",
        "#     images_tr, labels_tr = next(data_tr)\n",
        "    \n",
        "#     # Final images and labels\n",
        "#     images = np.concatenate((images_tr, images_te))\n",
        "#     labels = np.concatenate((labels_tr[:,0], labels_te[:,0]))\n",
        "    \n",
        "#     return(images_te, labels_te,images_tr, labels_tr, images, labels)"
      ],
      "execution_count": 0,
      "outputs": []
    },
    {
      "cell_type": "code",
      "metadata": {
        "id": "I9heqJK-1g-i",
        "colab_type": "code",
        "colab": {}
      },
      "source": [
        "# cnn_test = './drive/My Drive/final_project_data/bobcat_cougar_data/test/'\n",
        "# cnn_train = './drive/My Drive/final_project_data/bobcat_cougar_data/train/'"
      ],
      "execution_count": 0,
      "outputs": []
    },
    {
      "cell_type": "code",
      "metadata": {
        "id": "t9lb83cz1g-l",
        "colab_type": "code",
        "colab": {
          "base_uri": "https://localhost:8080/",
          "height": 1000
        },
        "outputId": "db81cece-289d-4300-9e42-4862457c17d1"
      },
      "source": [
        "# images_te, labels_te,images_tr, labels_tr, images, labels = imagenlabel_gen(cnn_test, cnn_train)"
      ],
      "execution_count": 24,
      "outputs": [
        {
          "output_type": "stream",
          "text": [
            "Found 685 images belonging to 2 classes.\n",
            "Found 680 images belonging to 2 classes.\n"
          ],
          "name": "stdout"
        },
        {
          "output_type": "stream",
          "text": [
            "/usr/local/lib/python3.6/dist-packages/PIL/TiffImagePlugin.py:725: UserWarning: Possibly corrupt EXIF data.  Expecting to read 85 bytes but only got 0. Skipping tag 33285\n",
            "  \" Skipping tag %s\" % (size, len(data), tag))\n",
            "/usr/local/lib/python3.6/dist-packages/PIL/TiffImagePlugin.py:725: UserWarning: Possibly corrupt EXIF data.  Expecting to read 93 bytes but only got 0. Skipping tag 33285\n",
            "  \" Skipping tag %s\" % (size, len(data), tag))\n",
            "/usr/local/lib/python3.6/dist-packages/PIL/TiffImagePlugin.py:725: UserWarning: Possibly corrupt EXIF data.  Expecting to read 141 bytes but only got 0. Skipping tag 37386\n",
            "  \" Skipping tag %s\" % (size, len(data), tag))\n",
            "/usr/local/lib/python3.6/dist-packages/PIL/TiffImagePlugin.py:725: UserWarning: Possibly corrupt EXIF data.  Expecting to read 149 bytes but only got 0. Skipping tag 37381\n",
            "  \" Skipping tag %s\" % (size, len(data), tag))\n",
            "/usr/local/lib/python3.6/dist-packages/PIL/TiffImagePlugin.py:725: UserWarning: Possibly corrupt EXIF data.  Expecting to read 157 bytes but only got 0. Skipping tag 37381\n",
            "  \" Skipping tag %s\" % (size, len(data), tag))\n",
            "/usr/local/lib/python3.6/dist-packages/PIL/TiffImagePlugin.py:725: UserWarning: Possibly corrupt EXIF data.  Expecting to read 144 bytes but only got 0. Skipping tag 40964\n",
            "  \" Skipping tag %s\" % (size, len(data), tag))\n",
            "/usr/local/lib/python3.6/dist-packages/PIL/TiffImagePlugin.py:725: UserWarning: Possibly corrupt EXIF data.  Expecting to read 192 bytes but only got 0. Skipping tag 40964\n",
            "  \" Skipping tag %s\" % (size, len(data), tag))\n",
            "/usr/local/lib/python3.6/dist-packages/PIL/TiffImagePlugin.py:725: UserWarning: Possibly corrupt EXIF data.  Expecting to read 192 bytes but only got 0. Skipping tag 41735\n",
            "  \" Skipping tag %s\" % (size, len(data), tag))\n",
            "/usr/local/lib/python3.6/dist-packages/PIL/TiffImagePlugin.py:725: UserWarning: Possibly corrupt EXIF data.  Expecting to read 62 bytes but only got 0. Skipping tag 41989\n",
            "  \" Skipping tag %s\" % (size, len(data), tag))\n",
            "/usr/local/lib/python3.6/dist-packages/PIL/TiffImagePlugin.py:725: UserWarning: Possibly corrupt EXIF data.  Expecting to read 16908320 bytes but only got 8068. Skipping tag 2048\n",
            "  \" Skipping tag %s\" % (size, len(data), tag))\n",
            "/usr/local/lib/python3.6/dist-packages/PIL/TiffImagePlugin.py:725: UserWarning: Possibly corrupt EXIF data.  Expecting to read 16908320 bytes but only got 8036. Skipping tag 2048\n",
            "  \" Skipping tag %s\" % (size, len(data), tag))\n",
            "/usr/local/lib/python3.6/dist-packages/PIL/TiffImagePlugin.py:725: UserWarning: Possibly corrupt EXIF data.  Expecting to read 34209794 bytes but only got 8258. Skipping tag 2048\n",
            "  \" Skipping tag %s\" % (size, len(data), tag))\n",
            "/usr/local/lib/python3.6/dist-packages/PIL/TiffImagePlugin.py:725: UserWarning: Possibly corrupt EXIF data.  Expecting to read 68157444 bytes but only got 8276. Skipping tag 2304\n",
            "  \" Skipping tag %s\" % (size, len(data), tag))\n",
            "/usr/local/lib/python3.6/dist-packages/PIL/TiffImagePlugin.py:725: UserWarning: Possibly corrupt EXIF data.  Expecting to read 34078722 bytes but only got 8193. Skipping tag 1536\n",
            "  \" Skipping tag %s\" % (size, len(data), tag))\n",
            "/usr/local/lib/python3.6/dist-packages/PIL/TiffImagePlugin.py:725: UserWarning: Possibly corrupt EXIF data.  Expecting to read 34078722 bytes but only got 8105. Skipping tag 1024\n",
            "  \" Skipping tag %s\" % (size, len(data), tag))\n",
            "/usr/local/lib/python3.6/dist-packages/PIL/TiffImagePlugin.py:725: UserWarning: Possibly corrupt EXIF data.  Expecting to read 68157442 bytes but only got 8126. Skipping tag 768\n",
            "  \" Skipping tag %s\" % (size, len(data), tag))\n",
            "/usr/local/lib/python3.6/dist-packages/PIL/TiffImagePlugin.py:725: UserWarning: Possibly corrupt EXIF data.  Expecting to read 136315212 bytes but only got 8268. Skipping tag 1280\n",
            "  \" Skipping tag %s\" % (size, len(data), tag))\n",
            "/usr/local/lib/python3.6/dist-packages/PIL/TiffImagePlugin.py:725: UserWarning: Possibly corrupt EXIF data.  Expecting to read 135004164 bytes but only got 8023. Skipping tag 3584\n",
            "  \" Skipping tag %s\" % (size, len(data), tag))\n",
            "/usr/local/lib/python3.6/dist-packages/PIL/TiffImagePlugin.py:725: UserWarning: Possibly corrupt EXIF data.  Expecting to read 270008328 bytes but only got 8278. Skipping tag 0\n",
            "  \" Skipping tag %s\" % (size, len(data), tag))\n",
            "/usr/local/lib/python3.6/dist-packages/PIL/TiffImagePlugin.py:725: UserWarning: Possibly corrupt EXIF data.  Expecting to read 135004164 bytes but only got 8278. Skipping tag 0\n",
            "  \" Skipping tag %s\" % (size, len(data), tag))\n",
            "/usr/local/lib/python3.6/dist-packages/PIL/TiffImagePlugin.py:725: UserWarning: Possibly corrupt EXIF data.  Expecting to read 50528257 bytes but only got 8074. Skipping tag 0\n",
            "  \" Skipping tag %s\" % (size, len(data), tag))\n",
            "/usr/local/lib/python3.6/dist-packages/PIL/TiffImagePlugin.py:725: UserWarning: Possibly corrupt EXIF data.  Expecting to read 50528257 bytes but only got 8278. Skipping tag 256\n",
            "  \" Skipping tag %s\" % (size, len(data), tag))\n",
            "/usr/local/lib/python3.6/dist-packages/PIL/TiffImagePlugin.py:725: UserWarning: Possibly corrupt EXIF data.  Expecting to read 101056514 bytes but only got 8081. Skipping tag 0\n",
            "  \" Skipping tag %s\" % (size, len(data), tag))\n",
            "/usr/local/lib/python3.6/dist-packages/PIL/TiffImagePlugin.py:725: UserWarning: Possibly corrupt EXIF data.  Expecting to read 202113028 bytes but only got 8056. Skipping tag 256\n",
            "  \" Skipping tag %s\" % (size, len(data), tag))\n",
            "/usr/local/lib/python3.6/dist-packages/PIL/TiffImagePlugin.py:725: UserWarning: Possibly corrupt EXIF data.  Expecting to read 405274632 bytes but only got 8182. Skipping tag 256\n",
            "  \" Skipping tag %s\" % (size, len(data), tag))\n",
            "/usr/local/lib/python3.6/dist-packages/PIL/TiffImagePlugin.py:725: UserWarning: Possibly corrupt EXIF data.  Expecting to read 50528257 bytes but only got 8278. Skipping tag 6656\n",
            "  \" Skipping tag %s\" % (size, len(data), tag))\n",
            "/usr/local/lib/python3.6/dist-packages/PIL/TiffImagePlugin.py:725: UserWarning: Possibly corrupt EXIF data.  Expecting to read 101056514 bytes but only got 8278. Skipping tag 0\n",
            "  \" Skipping tag %s\" % (size, len(data), tag))\n",
            "/usr/local/lib/python3.6/dist-packages/PIL/TiffImagePlugin.py:725: UserWarning: Possibly corrupt EXIF data.  Expecting to read 404226064 bytes but only got 8278. Skipping tag 0\n",
            "  \" Skipping tag %s\" % (size, len(data), tag))\n",
            "/usr/local/lib/python3.6/dist-packages/PIL/TiffImagePlugin.py:725: UserWarning: Possibly corrupt EXIF data.  Expecting to read 302186498 bytes but only got 8278. Skipping tag 0\n",
            "  \" Skipping tag %s\" % (size, len(data), tag))\n",
            "/usr/local/lib/python3.6/dist-packages/PIL/TiffImagePlugin.py:725: UserWarning: Possibly corrupt EXIF data.  Expecting to read 302186497 bytes but only got 8198. Skipping tag 0\n",
            "  \" Skipping tag %s\" % (size, len(data), tag))\n",
            "/usr/local/lib/python3.6/dist-packages/PIL/TiffImagePlugin.py:725: UserWarning: Possibly corrupt EXIF data.  Expecting to read 605290498 bytes but only got 8090. Skipping tag 0\n",
            "  \" Skipping tag %s\" % (size, len(data), tag))\n",
            "/usr/local/lib/python3.6/dist-packages/PIL/TiffImagePlugin.py:725: UserWarning: Possibly corrupt EXIF data.  Expecting to read 1208745988 bytes but only got 8278. Skipping tag 6656\n",
            "  \" Skipping tag %s\" % (size, len(data), tag))\n",
            "/usr/local/lib/python3.6/dist-packages/PIL/TiffImagePlugin.py:725: UserWarning: Possibly corrupt EXIF data.  Expecting to read 2418540552 bytes but only got 8078. Skipping tag 0\n",
            "  \" Skipping tag %s\" % (size, len(data), tag))\n",
            "/usr/local/lib/python3.6/dist-packages/PIL/TiffImagePlugin.py:725: UserWarning: Possibly corrupt EXIF data.  Expecting to read 302186497 bytes but only got 8278. Skipping tag 6656\n",
            "  \" Skipping tag %s\" % (size, len(data), tag))\n",
            "/usr/local/lib/python3.6/dist-packages/PIL/TiffImagePlugin.py:725: UserWarning: Possibly corrupt EXIF data.  Expecting to read 302186497 bytes but only got 8278. Skipping tag 0\n",
            "  \" Skipping tag %s\" % (size, len(data), tag))\n",
            "/usr/local/lib/python3.6/dist-packages/PIL/TiffImagePlugin.py:725: UserWarning: Possibly corrupt EXIF data.  Expecting to read 604372994 bytes but only got 8278. Skipping tag 0\n",
            "  \" Skipping tag %s\" % (size, len(data), tag))\n",
            "/usr/local/lib/python3.6/dist-packages/PIL/TiffImagePlugin.py:725: UserWarning: Possibly corrupt EXIF data.  Expecting to read 2417491976 bytes but only got 8278. Skipping tag 0\n",
            "  \" Skipping tag %s\" % (size, len(data), tag))\n",
            "/usr/local/lib/python3.6/dist-packages/PIL/TiffImagePlugin.py:725: UserWarning: Possibly corrupt EXIF data.  Expecting to read 65537 bytes but only got 0. Skipping tag 1\n",
            "  \" Skipping tag %s\" % (size, len(data), tag))\n",
            "/usr/local/lib/python3.6/dist-packages/PIL/TiffImagePlugin.py:725: UserWarning: Possibly corrupt EXIF data.  Expecting to read 393222 bytes but only got 0. Skipping tag 3\n",
            "  \" Skipping tag %s\" % (size, len(data), tag))\n",
            "/usr/local/lib/python3.6/dist-packages/PIL/TiffImagePlugin.py:725: UserWarning: Possibly corrupt EXIF data.  Expecting to read 65536 bytes but only got 8278. Skipping tag 0\n",
            "  \" Skipping tag %s\" % (size, len(data), tag))\n",
            "/usr/local/lib/python3.6/dist-packages/PIL/TiffImagePlugin.py:725: UserWarning: Possibly corrupt EXIF data.  Expecting to read 6553646 bytes but only got 0. Skipping tag 4608\n",
            "  \" Skipping tag %s\" % (size, len(data), tag))\n",
            "/usr/local/lib/python3.6/dist-packages/PIL/TiffImagePlugin.py:725: UserWarning: Possibly corrupt EXIF data.  Expecting to read 3221260288 bytes but only got 0. Skipping tag 2072\n",
            "  \" Skipping tag %s\" % (size, len(data), tag))\n",
            "/usr/local/lib/python3.6/dist-packages/PIL/TiffImagePlugin.py:725: UserWarning: Possibly corrupt EXIF data.  Expecting to read 268435640 bytes but only got 0. Skipping tag 768\n",
            "  \" Skipping tag %s\" % (size, len(data), tag))\n",
            "/usr/local/lib/python3.6/dist-packages/PIL/TiffImagePlugin.py:725: UserWarning: Possibly corrupt EXIF data.  Expecting to read 4718640 bytes but only got 0. Skipping tag 2560\n",
            "  \" Skipping tag %s\" % (size, len(data), tag))\n",
            "/usr/local/lib/python3.6/dist-packages/PIL/TiffImagePlugin.py:725: UserWarning: Possibly corrupt EXIF data.  Expecting to read 458765 bytes but only got 0. Skipping tag 23\n",
            "  \" Skipping tag %s\" % (size, len(data), tag))\n",
            "/usr/local/lib/python3.6/dist-packages/PIL/TiffImagePlugin.py:725: UserWarning: Possibly corrupt EXIF data.  Expecting to read 1441794 bytes but only got 8278. Skipping tag 161\n",
            "  \" Skipping tag %s\" % (size, len(data), tag))\n",
            "/usr/local/lib/python3.6/dist-packages/PIL/TiffImagePlugin.py:725: UserWarning: Possibly corrupt EXIF data.  Expecting to read 65575 bytes but only got 0. Skipping tag 55\n",
            "  \" Skipping tag %s\" % (size, len(data), tag))\n",
            "/usr/local/lib/python3.6/dist-packages/PIL/TiffImagePlugin.py:725: UserWarning: Possibly corrupt EXIF data.  Expecting to read 393219 bytes but only got 0. Skipping tag 7\n",
            "  \" Skipping tag %s\" % (size, len(data), tag))\n",
            "/usr/local/lib/python3.6/dist-packages/PIL/TiffImagePlugin.py:725: UserWarning: Possibly corrupt EXIF data.  Expecting to read 13369600 bytes but only got 0. Skipping tag 180\n",
            "  \" Skipping tag %s\" % (size, len(data), tag))\n",
            "/usr/local/lib/python3.6/dist-packages/PIL/TiffImagePlugin.py:725: UserWarning: Possibly corrupt EXIF data.  Expecting to read 2080374824 bytes but only got 8278. Skipping tag 256\n",
            "  \" Skipping tag %s\" % (size, len(data), tag))\n",
            "/usr/local/lib/python3.6/dist-packages/PIL/TiffImagePlugin.py:742: UserWarning: Corrupt EXIF data.  Expecting to read 12 bytes but only got 0. \n",
            "  warnings.warn(str(msg))\n",
            "/usr/local/lib/python3.6/dist-packages/PIL/Image.py:914: UserWarning: Palette images with Transparency   expressed in bytes should be converted to RGBA images\n",
            "  'to RGBA images')\n"
          ],
          "name": "stderr"
        }
      ]
    },
    {
      "cell_type": "code",
      "metadata": {
        "id": "pEe9NVnm1g-o",
        "colab_type": "code",
        "colab": {}
      },
      "source": [
        "# data_te = ImageDataGenerator(rescale=1./255).flow_from_directory( \n",
        "#         '/Users/j.markdaniels/Downloads/final_proj_data/bobcat_cougar_data/test/', \n",
        "#         target_size=(224, 224), \n",
        "#         batch_size = 340, \n",
        "#         seed = 123)"
      ],
      "execution_count": 0,
      "outputs": []
    },
    {
      "cell_type": "code",
      "metadata": {
        "id": "WSP-kObp1g-q",
        "colab_type": "code",
        "colab": {}
      },
      "source": [
        "# data_tr = ImageDataGenerator(rescale=1./255).flow_from_directory( \n",
        "#         '/Users/j.markdaniels/Downloads/final_proj_data/bobcat_cougar_data/train/', \n",
        "#         target_size=(224, 224), \n",
        "#         batch_size = 340, \n",
        "#         seed = 123) "
      ],
      "execution_count": 0,
      "outputs": []
    },
    {
      "cell_type": "markdown",
      "metadata": {
        "id": "vyKw9sZw1g-v",
        "colab_type": "text"
      },
      "source": [
        "### Split Images and Labels into Arrays"
      ]
    },
    {
      "cell_type": "markdown",
      "metadata": {
        "id": "eHuhYrAo1g-v",
        "colab_type": "text"
      },
      "source": [
        "Build a function and export to .py to call these in to avoid conflicts"
      ]
    },
    {
      "cell_type": "code",
      "metadata": {
        "id": "LGvULusI1g-w",
        "colab_type": "code",
        "colab": {}
      },
      "source": [
        "# images_tr, labels_tr = next(data_tr)\n",
        "\n",
        "# images_te, labels_te = next(data_te)\n",
        "\n",
        "# images = np.concatenate((images_tr, images_te))\n",
        "\n",
        "# labels = np.concatenate((labels_tr[:,0], labels_te[:,0]))"
      ],
      "execution_count": 0,
      "outputs": []
    },
    {
      "cell_type": "markdown",
      "metadata": {
        "id": "yP7yCbzF1g-z",
        "colab_type": "text"
      },
      "source": [
        "### Perform Train-Test Split"
      ]
    },
    {
      "cell_type": "markdown",
      "metadata": {
        "id": "6lmq-Ryd1g-0",
        "colab_type": "text"
      },
      "source": [
        "Build a function and export to .py to call these in to avoid conflicts"
      ]
    },
    {
      "cell_type": "code",
      "metadata": {
        "id": "oTKL4g5x1g-1",
        "colab_type": "code",
        "colab": {}
      },
      "source": [
        ""
      ],
      "execution_count": 0,
      "outputs": []
    },
    {
      "cell_type": "code",
      "metadata": {
        "id": "OVcMGIrR1g-3",
        "colab_type": "code",
        "colab": {}
      },
      "source": [
        "# from sklearn.model_selection import train_test_split\n",
        "# X_model, X_test, y_model, y_test = train_test_split(images, labels, test_size=0.20, random_state=123)"
      ],
      "execution_count": 0,
      "outputs": []
    },
    {
      "cell_type": "code",
      "metadata": {
        "id": "SM_jdOTW1g-5",
        "colab_type": "code",
        "colab": {}
      },
      "source": [
        "# from sklearn.model_selection import train_test_split\n",
        "# X_train, X_val, y_train, y_val = train_test_split(X_model, y_model, test_size=0.20, random_state=123)"
      ],
      "execution_count": 0,
      "outputs": []
    },
    {
      "cell_type": "markdown",
      "metadata": {
        "id": "eENa1jHE1g-7",
        "colab_type": "text"
      },
      "source": [
        "## Convolutional Neural Network (CNN)"
      ]
    },
    {
      "cell_type": "markdown",
      "metadata": {
        "id": "eYrrus5p1g-7",
        "colab_type": "text"
      },
      "source": [
        "### Create Model"
      ]
    },
    {
      "cell_type": "code",
      "metadata": {
        "scrolled": true,
        "id": "wSr6sejJ1g-8",
        "colab_type": "code",
        "colab": {
          "base_uri": "https://localhost:8080/",
          "height": 377
        },
        "outputId": "b60c42a3-4e81-46cc-fc96-18495dfc106f"
      },
      "source": [
        "cnn = models.Sequential()\n",
        "cnn.add(layers.Conv2D(64, (1, 1), activation='relu', input_shape=(224, 224,  3)))\n",
        "cnn.add(layers.BatchNormalization())\n",
        "cnn.add(layers.MaxPooling2D((2, 2)))\n",
        "cnn.add(layers.Conv2D(64, (3, 3), activation='relu'))\n",
        "cnn.add(layers.BatchNormalization())\n",
        "# 64 bias parameters\n",
        "# 64 * (3 * 3 * 3) weight parametrs\n",
        "# Output is 64*224*224\n",
        "cnn.add(layers.MaxPooling2D((2, 2)))\n",
        "#Output is 64*112*112\n",
        "cnn.add(layers.Conv2D(32, (3, 3), activation='relu', input_shape=(224, 224,  3)))\n",
        "cnn.add(layers.BatchNormalization())\n",
        "#32 bias parameters\n",
        "#32 * (3*3*64)\n",
        "#Output is 32*112*112 \n",
        "cnn.add(layers.MaxPooling2D((2, 2)))\n",
        "cnn.add(layers.Flatten())\n",
        "cnn.add(layers.Dense(32, activation='relu'))\n",
        "cnn.add(layers.Dense(1, activation='sigmoid'))\n",
        "\n",
        "cnn.compile(loss='binary_crossentropy',\n",
        "              optimizer=\"adam\",\n",
        "              metrics=['acc'])"
      ],
      "execution_count": 3,
      "outputs": [
        {
          "output_type": "stream",
          "text": [
            "WARNING: Logging before flag parsing goes to stderr.\n",
            "W0730 15:28:07.179323 140491916240768 deprecation_wrapper.py:119] From /usr/local/lib/python3.6/dist-packages/keras/backend/tensorflow_backend.py:74: The name tf.get_default_graph is deprecated. Please use tf.compat.v1.get_default_graph instead.\n",
            "\n",
            "W0730 15:28:07.225335 140491916240768 deprecation_wrapper.py:119] From /usr/local/lib/python3.6/dist-packages/keras/backend/tensorflow_backend.py:517: The name tf.placeholder is deprecated. Please use tf.compat.v1.placeholder instead.\n",
            "\n",
            "W0730 15:28:07.232822 140491916240768 deprecation_wrapper.py:119] From /usr/local/lib/python3.6/dist-packages/keras/backend/tensorflow_backend.py:4138: The name tf.random_uniform is deprecated. Please use tf.random.uniform instead.\n",
            "\n",
            "W0730 15:28:07.272684 140491916240768 deprecation_wrapper.py:119] From /usr/local/lib/python3.6/dist-packages/keras/backend/tensorflow_backend.py:174: The name tf.get_default_session is deprecated. Please use tf.compat.v1.get_default_session instead.\n",
            "\n",
            "W0730 15:28:07.273830 140491916240768 deprecation_wrapper.py:119] From /usr/local/lib/python3.6/dist-packages/keras/backend/tensorflow_backend.py:181: The name tf.ConfigProto is deprecated. Please use tf.compat.v1.ConfigProto instead.\n",
            "\n",
            "W0730 15:28:10.359528 140491916240768 deprecation_wrapper.py:119] From /usr/local/lib/python3.6/dist-packages/keras/backend/tensorflow_backend.py:1834: The name tf.nn.fused_batch_norm is deprecated. Please use tf.compat.v1.nn.fused_batch_norm instead.\n",
            "\n",
            "W0730 15:28:10.431637 140491916240768 deprecation_wrapper.py:119] From /usr/local/lib/python3.6/dist-packages/keras/backend/tensorflow_backend.py:3976: The name tf.nn.max_pool is deprecated. Please use tf.nn.max_pool2d instead.\n",
            "\n",
            "W0730 15:28:10.612865 140491916240768 deprecation_wrapper.py:119] From /usr/local/lib/python3.6/dist-packages/keras/optimizers.py:790: The name tf.train.Optimizer is deprecated. Please use tf.compat.v1.train.Optimizer instead.\n",
            "\n",
            "W0730 15:28:10.634255 140491916240768 deprecation.py:323] From /usr/local/lib/python3.6/dist-packages/tensorflow/python/ops/nn_impl.py:180: add_dispatch_support.<locals>.wrapper (from tensorflow.python.ops.array_ops) is deprecated and will be removed in a future version.\n",
            "Instructions for updating:\n",
            "Use tf.where in 2.0, which has the same broadcast rule as np.where\n"
          ],
          "name": "stderr"
        }
      ]
    },
    {
      "cell_type": "markdown",
      "metadata": {
        "id": "PQXfcLp-1g-_",
        "colab_type": "text"
      },
      "source": [
        "### Train Model"
      ]
    },
    {
      "cell_type": "code",
      "metadata": {
        "scrolled": true,
        "id": "ncZWId-Q1g_A",
        "colab_type": "code",
        "colab": {
          "base_uri": "https://localhost:8080/",
          "height": 1000
        },
        "outputId": "2f176805-9feb-455a-d112-687af07e24db"
      },
      "source": [
        "cnn1 = cnn.fit(X_train,\n",
        "                    y_train,\n",
        "                    epochs=100, # 100\n",
        "                    batch_size=50, #50\n",
        "                    validation_data=(X_val, y_val))"
      ],
      "execution_count": 29,
      "outputs": [
        {
          "output_type": "stream",
          "text": [
            "Train on 435 samples, validate on 109 samples\n",
            "Epoch 1/100\n",
            "435/435 [==============================] - 8s 19ms/step - loss: 1.4736 - acc: 0.6138 - val_loss: 1.0191 - val_acc: 0.6239\n",
            "Epoch 2/100\n",
            "435/435 [==============================] - 2s 4ms/step - loss: 0.5967 - acc: 0.7816 - val_loss: 0.7150 - val_acc: 0.7156\n",
            "Epoch 3/100\n",
            "435/435 [==============================] - 2s 4ms/step - loss: 0.3814 - acc: 0.8644 - val_loss: 0.7509 - val_acc: 0.7064\n",
            "Epoch 4/100\n",
            "435/435 [==============================] - 2s 4ms/step - loss: 0.1922 - acc: 0.9333 - val_loss: 0.6443 - val_acc: 0.7706\n",
            "Epoch 5/100\n",
            "435/435 [==============================] - 2s 4ms/step - loss: 0.0948 - acc: 0.9770 - val_loss: 0.6548 - val_acc: 0.7706\n",
            "Epoch 6/100\n",
            "435/435 [==============================] - 2s 4ms/step - loss: 0.0507 - acc: 0.9862 - val_loss: 0.6548 - val_acc: 0.7890\n",
            "Epoch 7/100\n",
            "435/435 [==============================] - 2s 4ms/step - loss: 0.0277 - acc: 0.9954 - val_loss: 0.6868 - val_acc: 0.8165\n",
            "Epoch 8/100\n",
            "435/435 [==============================] - 2s 4ms/step - loss: 0.0169 - acc: 0.9954 - val_loss: 0.6912 - val_acc: 0.8165\n",
            "Epoch 9/100\n",
            "435/435 [==============================] - 2s 4ms/step - loss: 0.0084 - acc: 0.9977 - val_loss: 0.6874 - val_acc: 0.8257\n",
            "Epoch 10/100\n",
            "435/435 [==============================] - 2s 4ms/step - loss: 0.0078 - acc: 1.0000 - val_loss: 0.6910 - val_acc: 0.7982\n",
            "Epoch 11/100\n",
            "435/435 [==============================] - 2s 4ms/step - loss: 0.0045 - acc: 1.0000 - val_loss: 0.7073 - val_acc: 0.7890\n",
            "Epoch 12/100\n",
            "435/435 [==============================] - 2s 4ms/step - loss: 0.0041 - acc: 1.0000 - val_loss: 0.7276 - val_acc: 0.7798\n",
            "Epoch 13/100\n",
            "435/435 [==============================] - 2s 4ms/step - loss: 0.0027 - acc: 1.0000 - val_loss: 0.7386 - val_acc: 0.7890\n",
            "Epoch 14/100\n",
            "435/435 [==============================] - 2s 4ms/step - loss: 0.0023 - acc: 1.0000 - val_loss: 0.7396 - val_acc: 0.7798\n",
            "Epoch 15/100\n",
            "435/435 [==============================] - 2s 4ms/step - loss: 0.0020 - acc: 1.0000 - val_loss: 0.7367 - val_acc: 0.7890\n",
            "Epoch 16/100\n",
            "435/435 [==============================] - 2s 4ms/step - loss: 0.0018 - acc: 1.0000 - val_loss: 0.7399 - val_acc: 0.7982\n",
            "Epoch 17/100\n",
            "435/435 [==============================] - 2s 4ms/step - loss: 0.0016 - acc: 1.0000 - val_loss: 0.7428 - val_acc: 0.7982\n",
            "Epoch 18/100\n",
            "435/435 [==============================] - 2s 4ms/step - loss: 0.0015 - acc: 1.0000 - val_loss: 0.7482 - val_acc: 0.8073\n",
            "Epoch 19/100\n",
            "435/435 [==============================] - 2s 4ms/step - loss: 0.0014 - acc: 1.0000 - val_loss: 0.7447 - val_acc: 0.8073\n",
            "Epoch 20/100\n",
            "435/435 [==============================] - 2s 4ms/step - loss: 0.0013 - acc: 1.0000 - val_loss: 0.7456 - val_acc: 0.7982\n",
            "Epoch 21/100\n",
            "435/435 [==============================] - 2s 4ms/step - loss: 0.0013 - acc: 1.0000 - val_loss: 0.7487 - val_acc: 0.7798\n",
            "Epoch 22/100\n",
            "435/435 [==============================] - 2s 4ms/step - loss: 0.0011 - acc: 1.0000 - val_loss: 0.7525 - val_acc: 0.7982\n",
            "Epoch 23/100\n",
            "435/435 [==============================] - 2s 4ms/step - loss: 0.0011 - acc: 1.0000 - val_loss: 0.7561 - val_acc: 0.8073\n",
            "Epoch 24/100\n",
            "435/435 [==============================] - 2s 4ms/step - loss: 9.4152e-04 - acc: 1.0000 - val_loss: 0.7577 - val_acc: 0.8073\n",
            "Epoch 25/100\n",
            "435/435 [==============================] - 2s 4ms/step - loss: 0.0012 - acc: 1.0000 - val_loss: 0.7592 - val_acc: 0.7982\n",
            "Epoch 26/100\n",
            "435/435 [==============================] - 2s 4ms/step - loss: 8.8864e-04 - acc: 1.0000 - val_loss: 0.7625 - val_acc: 0.7982\n",
            "Epoch 27/100\n",
            "435/435 [==============================] - 2s 4ms/step - loss: 9.8975e-04 - acc: 1.0000 - val_loss: 0.7630 - val_acc: 0.8073\n",
            "Epoch 28/100\n",
            "435/435 [==============================] - 2s 4ms/step - loss: 7.7930e-04 - acc: 1.0000 - val_loss: 0.7654 - val_acc: 0.7890\n",
            "Epoch 29/100\n",
            "435/435 [==============================] - 2s 4ms/step - loss: 6.3112e-04 - acc: 1.0000 - val_loss: 0.7678 - val_acc: 0.7982\n",
            "Epoch 30/100\n",
            "435/435 [==============================] - 2s 4ms/step - loss: 6.6004e-04 - acc: 1.0000 - val_loss: 0.7690 - val_acc: 0.7982\n",
            "Epoch 31/100\n",
            "435/435 [==============================] - 2s 4ms/step - loss: 7.6103e-04 - acc: 1.0000 - val_loss: 0.7674 - val_acc: 0.7982\n",
            "Epoch 32/100\n",
            "435/435 [==============================] - 2s 4ms/step - loss: 5.6778e-04 - acc: 1.0000 - val_loss: 0.7636 - val_acc: 0.7890\n",
            "Epoch 33/100\n",
            "435/435 [==============================] - 2s 4ms/step - loss: 5.4306e-04 - acc: 1.0000 - val_loss: 0.7614 - val_acc: 0.8073\n",
            "Epoch 34/100\n",
            "435/435 [==============================] - 2s 4ms/step - loss: 6.3612e-04 - acc: 1.0000 - val_loss: 0.7646 - val_acc: 0.7890\n",
            "Epoch 35/100\n",
            "435/435 [==============================] - 2s 4ms/step - loss: 6.8865e-04 - acc: 1.0000 - val_loss: 0.7615 - val_acc: 0.7982\n",
            "Epoch 36/100\n",
            "435/435 [==============================] - 2s 4ms/step - loss: 4.7788e-04 - acc: 1.0000 - val_loss: 0.7668 - val_acc: 0.7982\n",
            "Epoch 37/100\n",
            "435/435 [==============================] - 2s 4ms/step - loss: 5.0621e-04 - acc: 1.0000 - val_loss: 0.7724 - val_acc: 0.7982\n",
            "Epoch 38/100\n",
            "435/435 [==============================] - 2s 4ms/step - loss: 4.6249e-04 - acc: 1.0000 - val_loss: 0.7761 - val_acc: 0.7982\n",
            "Epoch 39/100\n",
            "435/435 [==============================] - 2s 4ms/step - loss: 4.7469e-04 - acc: 1.0000 - val_loss: 0.7758 - val_acc: 0.7982\n",
            "Epoch 40/100\n",
            "435/435 [==============================] - 2s 4ms/step - loss: 4.3590e-04 - acc: 1.0000 - val_loss: 0.7772 - val_acc: 0.7982\n",
            "Epoch 41/100\n",
            "435/435 [==============================] - 2s 4ms/step - loss: 3.4380e-04 - acc: 1.0000 - val_loss: 0.7776 - val_acc: 0.7982\n",
            "Epoch 42/100\n",
            "435/435 [==============================] - 2s 4ms/step - loss: 4.0275e-04 - acc: 1.0000 - val_loss: 0.7776 - val_acc: 0.7982\n",
            "Epoch 43/100\n",
            "435/435 [==============================] - 2s 4ms/step - loss: 3.9729e-04 - acc: 1.0000 - val_loss: 0.7784 - val_acc: 0.7982\n",
            "Epoch 44/100\n",
            "435/435 [==============================] - 2s 4ms/step - loss: 3.2258e-04 - acc: 1.0000 - val_loss: 0.7756 - val_acc: 0.7890\n",
            "Epoch 45/100\n",
            "435/435 [==============================] - 2s 4ms/step - loss: 4.1280e-04 - acc: 1.0000 - val_loss: 0.7798 - val_acc: 0.7982\n",
            "Epoch 46/100\n",
            "435/435 [==============================] - 2s 4ms/step - loss: 3.6941e-04 - acc: 1.0000 - val_loss: 0.7782 - val_acc: 0.7982\n",
            "Epoch 47/100\n",
            "435/435 [==============================] - 2s 4ms/step - loss: 4.0142e-04 - acc: 1.0000 - val_loss: 0.7832 - val_acc: 0.7982\n",
            "Epoch 48/100\n",
            "435/435 [==============================] - 2s 4ms/step - loss: 2.7219e-04 - acc: 1.0000 - val_loss: 0.7890 - val_acc: 0.7982\n",
            "Epoch 49/100\n",
            "435/435 [==============================] - 2s 4ms/step - loss: 2.8901e-04 - acc: 1.0000 - val_loss: 0.7910 - val_acc: 0.7982\n",
            "Epoch 50/100\n",
            "435/435 [==============================] - 2s 4ms/step - loss: 2.4978e-04 - acc: 1.0000 - val_loss: 0.8024 - val_acc: 0.7890\n",
            "Epoch 51/100\n",
            "435/435 [==============================] - 2s 4ms/step - loss: 3.2075e-04 - acc: 1.0000 - val_loss: 0.8016 - val_acc: 0.7890\n",
            "Epoch 52/100\n",
            "435/435 [==============================] - 2s 4ms/step - loss: 2.9389e-04 - acc: 1.0000 - val_loss: 0.7996 - val_acc: 0.7982\n",
            "Epoch 53/100\n",
            "435/435 [==============================] - 2s 4ms/step - loss: 2.5683e-04 - acc: 1.0000 - val_loss: 0.8011 - val_acc: 0.7890\n",
            "Epoch 54/100\n",
            "435/435 [==============================] - 2s 4ms/step - loss: 2.6371e-04 - acc: 1.0000 - val_loss: 0.8018 - val_acc: 0.7890\n",
            "Epoch 55/100\n",
            "435/435 [==============================] - 2s 4ms/step - loss: 3.0087e-04 - acc: 1.0000 - val_loss: 0.8016 - val_acc: 0.7982\n",
            "Epoch 56/100\n",
            "435/435 [==============================] - 2s 4ms/step - loss: 2.5816e-04 - acc: 1.0000 - val_loss: 0.8019 - val_acc: 0.7982\n",
            "Epoch 57/100\n",
            "435/435 [==============================] - 2s 4ms/step - loss: 2.2030e-04 - acc: 1.0000 - val_loss: 0.8005 - val_acc: 0.7890\n",
            "Epoch 58/100\n",
            "435/435 [==============================] - 2s 4ms/step - loss: 2.4680e-04 - acc: 1.0000 - val_loss: 0.8040 - val_acc: 0.7890\n",
            "Epoch 59/100\n",
            "435/435 [==============================] - 2s 4ms/step - loss: 1.8843e-04 - acc: 1.0000 - val_loss: 0.8080 - val_acc: 0.7798\n",
            "Epoch 60/100\n",
            "435/435 [==============================] - 2s 4ms/step - loss: 2.4777e-04 - acc: 1.0000 - val_loss: 0.8112 - val_acc: 0.7890\n",
            "Epoch 61/100\n",
            "435/435 [==============================] - 2s 4ms/step - loss: 1.6707e-04 - acc: 1.0000 - val_loss: 0.8086 - val_acc: 0.7890\n",
            "Epoch 62/100\n",
            "435/435 [==============================] - 2s 4ms/step - loss: 1.7973e-04 - acc: 1.0000 - val_loss: 0.8091 - val_acc: 0.7798\n",
            "Epoch 63/100\n",
            "435/435 [==============================] - 2s 4ms/step - loss: 1.8340e-04 - acc: 1.0000 - val_loss: 0.8119 - val_acc: 0.7798\n",
            "Epoch 64/100\n",
            "435/435 [==============================] - 2s 4ms/step - loss: 1.8679e-04 - acc: 1.0000 - val_loss: 0.8149 - val_acc: 0.7890\n",
            "Epoch 65/100\n",
            "435/435 [==============================] - 2s 4ms/step - loss: 1.6509e-04 - acc: 1.0000 - val_loss: 0.8158 - val_acc: 0.7890\n",
            "Epoch 66/100\n",
            "435/435 [==============================] - 2s 4ms/step - loss: 1.8692e-04 - acc: 1.0000 - val_loss: 0.8170 - val_acc: 0.7890\n",
            "Epoch 67/100\n",
            "435/435 [==============================] - 2s 4ms/step - loss: 1.4773e-04 - acc: 1.0000 - val_loss: 0.8226 - val_acc: 0.7890\n",
            "Epoch 68/100\n",
            "435/435 [==============================] - 2s 4ms/step - loss: 1.5783e-04 - acc: 1.0000 - val_loss: 0.8213 - val_acc: 0.7890\n",
            "Epoch 69/100\n",
            "435/435 [==============================] - 2s 4ms/step - loss: 1.4203e-04 - acc: 1.0000 - val_loss: 0.8213 - val_acc: 0.7890\n",
            "Epoch 70/100\n",
            "435/435 [==============================] - 2s 4ms/step - loss: 1.6654e-04 - acc: 1.0000 - val_loss: 0.8241 - val_acc: 0.7890\n",
            "Epoch 71/100\n",
            "435/435 [==============================] - 2s 4ms/step - loss: 1.2500e-04 - acc: 1.0000 - val_loss: 0.8279 - val_acc: 0.7890\n",
            "Epoch 72/100\n",
            "435/435 [==============================] - 2s 4ms/step - loss: 1.9853e-04 - acc: 1.0000 - val_loss: 0.8301 - val_acc: 0.7890\n",
            "Epoch 73/100\n",
            "435/435 [==============================] - 2s 4ms/step - loss: 1.7867e-04 - acc: 1.0000 - val_loss: 0.8261 - val_acc: 0.7890\n",
            "Epoch 74/100\n",
            "435/435 [==============================] - 2s 4ms/step - loss: 1.4428e-04 - acc: 1.0000 - val_loss: 0.8210 - val_acc: 0.7798\n",
            "Epoch 75/100\n",
            "435/435 [==============================] - 2s 4ms/step - loss: 1.1378e-04 - acc: 1.0000 - val_loss: 0.8210 - val_acc: 0.7890\n",
            "Epoch 76/100\n",
            "435/435 [==============================] - 2s 4ms/step - loss: 1.5636e-04 - acc: 1.0000 - val_loss: 0.8252 - val_acc: 0.7798\n",
            "Epoch 77/100\n",
            "435/435 [==============================] - 2s 4ms/step - loss: 1.1782e-04 - acc: 1.0000 - val_loss: 0.8307 - val_acc: 0.7890\n",
            "Epoch 78/100\n",
            "435/435 [==============================] - 2s 4ms/step - loss: 1.1823e-04 - acc: 1.0000 - val_loss: 0.8319 - val_acc: 0.7890\n",
            "Epoch 79/100\n",
            "435/435 [==============================] - 2s 4ms/step - loss: 1.2970e-04 - acc: 1.0000 - val_loss: 0.8339 - val_acc: 0.7890\n",
            "Epoch 80/100\n",
            "435/435 [==============================] - 2s 4ms/step - loss: 1.2526e-04 - acc: 1.0000 - val_loss: 0.8387 - val_acc: 0.7890\n",
            "Epoch 81/100\n",
            "435/435 [==============================] - 2s 4ms/step - loss: 1.3214e-04 - acc: 1.0000 - val_loss: 0.8412 - val_acc: 0.7890\n",
            "Epoch 82/100\n",
            "435/435 [==============================] - 2s 4ms/step - loss: 1.2592e-04 - acc: 1.0000 - val_loss: 0.8438 - val_acc: 0.7890\n",
            "Epoch 83/100\n",
            "435/435 [==============================] - 2s 4ms/step - loss: 1.1591e-04 - acc: 1.0000 - val_loss: 0.8445 - val_acc: 0.7890\n",
            "Epoch 84/100\n",
            "435/435 [==============================] - 2s 4ms/step - loss: 1.1596e-04 - acc: 1.0000 - val_loss: 0.8431 - val_acc: 0.7982\n",
            "Epoch 85/100\n",
            "435/435 [==============================] - 2s 4ms/step - loss: 1.0638e-04 - acc: 1.0000 - val_loss: 0.8425 - val_acc: 0.7982\n",
            "Epoch 86/100\n",
            "435/435 [==============================] - 2s 4ms/step - loss: 1.0682e-04 - acc: 1.0000 - val_loss: 0.8446 - val_acc: 0.7890\n",
            "Epoch 87/100\n",
            "435/435 [==============================] - 2s 4ms/step - loss: 1.0748e-04 - acc: 1.0000 - val_loss: 0.8494 - val_acc: 0.7890\n",
            "Epoch 88/100\n",
            "435/435 [==============================] - 2s 4ms/step - loss: 9.5198e-05 - acc: 1.0000 - val_loss: 0.8509 - val_acc: 0.7890\n",
            "Epoch 89/100\n",
            "435/435 [==============================] - 2s 4ms/step - loss: 1.0012e-04 - acc: 1.0000 - val_loss: 0.8505 - val_acc: 0.7890\n",
            "Epoch 90/100\n",
            "435/435 [==============================] - 2s 4ms/step - loss: 8.7790e-05 - acc: 1.0000 - val_loss: 0.8509 - val_acc: 0.7890\n",
            "Epoch 91/100\n",
            "435/435 [==============================] - 2s 4ms/step - loss: 9.0070e-05 - acc: 1.0000 - val_loss: 0.8494 - val_acc: 0.7890\n",
            "Epoch 92/100\n",
            "435/435 [==============================] - 2s 4ms/step - loss: 1.0535e-04 - acc: 1.0000 - val_loss: 0.8467 - val_acc: 0.7890\n",
            "Epoch 93/100\n",
            "435/435 [==============================] - 2s 4ms/step - loss: 9.9059e-05 - acc: 1.0000 - val_loss: 0.8484 - val_acc: 0.7890\n",
            "Epoch 94/100\n",
            "435/435 [==============================] - 2s 4ms/step - loss: 8.2282e-05 - acc: 1.0000 - val_loss: 0.8508 - val_acc: 0.7890\n",
            "Epoch 95/100\n",
            "435/435 [==============================] - 2s 4ms/step - loss: 8.0203e-05 - acc: 1.0000 - val_loss: 0.8536 - val_acc: 0.7890\n",
            "Epoch 96/100\n",
            "435/435 [==============================] - 2s 4ms/step - loss: 8.7054e-05 - acc: 1.0000 - val_loss: 0.8532 - val_acc: 0.7890\n",
            "Epoch 97/100\n",
            "435/435 [==============================] - 2s 4ms/step - loss: 8.4361e-05 - acc: 1.0000 - val_loss: 0.8545 - val_acc: 0.7890\n",
            "Epoch 98/100\n",
            "435/435 [==============================] - 2s 4ms/step - loss: 9.3237e-05 - acc: 1.0000 - val_loss: 0.8539 - val_acc: 0.7890\n",
            "Epoch 99/100\n",
            "435/435 [==============================] - 2s 4ms/step - loss: 1.0230e-04 - acc: 1.0000 - val_loss: 0.8507 - val_acc: 0.7890\n",
            "Epoch 100/100\n",
            "435/435 [==============================] - 2s 4ms/step - loss: 8.8674e-05 - acc: 1.0000 - val_loss: 0.8545 - val_acc: 0.7890\n"
          ],
          "name": "stdout"
        }
      ]
    },
    {
      "cell_type": "markdown",
      "metadata": {
        "id": "lE2KzIp11g_D",
        "colab_type": "text"
      },
      "source": [
        "### Save Loaded CNN Model"
      ]
    },
    {
      "cell_type": "code",
      "metadata": {
        "id": "n4LxLIg41g_D",
        "colab_type": "code",
        "colab": {}
      },
      "source": [
        "cnn.save('/content/drive/My Drive/final_project_data/models/cnn1.h5')"
      ],
      "execution_count": 0,
      "outputs": []
    },
    {
      "cell_type": "markdown",
      "metadata": {
        "id": "Frz9oQoC1g_F",
        "colab_type": "text"
      },
      "source": [
        "### Load Saved CNN Model"
      ]
    },
    {
      "cell_type": "code",
      "metadata": {
        "id": "tzCOMcdk1g_G",
        "colab_type": "code",
        "colab": {}
      },
      "source": [
        "# from numpy import loadtxt\n",
        "# from keras.models import load_model\n",
        "\n",
        "\n",
        "# cnn.load_weights('/Users/j.markdaniels/Desktop/flatiron_final_project/cnn_first_draft.h5')\n",
        "\n",
        "# model = load_model('/Users/j.markdaniels/Desktop/flatiron_final_project/cnn_first_draft.h5')\n",
        "\n",
        "# cnn.summary()\n",
        "\n"
      ],
      "execution_count": 0,
      "outputs": []
    },
    {
      "cell_type": "markdown",
      "metadata": {
        "id": "WHdF2cK31g_K",
        "colab_type": "text"
      },
      "source": [
        "#### Summary"
      ]
    },
    {
      "cell_type": "code",
      "metadata": {
        "id": "kpJBNkzz1g_L",
        "colab_type": "code",
        "colab": {}
      },
      "source": [
        "### Which should I keep? ###\n",
        "print(cnn.summary())\n"
      ],
      "execution_count": 0,
      "outputs": []
    },
    {
      "cell_type": "markdown",
      "metadata": {
        "id": "wGWugEY61g_Q",
        "colab_type": "text"
      },
      "source": [
        "### Evaluate CNN Model Performance"
      ]
    },
    {
      "cell_type": "markdown",
      "metadata": {
        "id": "z8CHn1Y91g_R",
        "colab_type": "text"
      },
      "source": [
        "Build a function and export to .py to call these in to avoid conflicts"
      ]
    },
    {
      "cell_type": "code",
      "metadata": {
        "id": "rP7iBhRN1g_S",
        "colab_type": "code",
        "colab": {}
      },
      "source": [
        "from keras.callbacks import History \n",
        "history = History()"
      ],
      "execution_count": 0,
      "outputs": []
    },
    {
      "cell_type": "code",
      "metadata": {
        "id": "hSArQWb31g_V",
        "colab_type": "code",
        "colab": {
          "base_uri": "https://localhost:8080/",
          "height": 295
        },
        "outputId": "cb8cd5a5-14b0-47f9-ec8e-bcdcc24a48c7"
      },
      "source": [
        "hist_cnn = cnn1.history\n",
        "loss_values = hist_cnn['loss']\n",
        "val_loss_values = hist_cnn['val_loss']\n",
        "acc_values = hist_cnn['acc'] \n",
        "val_acc_values = hist_cnn['val_acc']\n",
        "\n",
        "\n",
        "epochs = range(1, len(loss_values) + 1)\n",
        "\n",
        "plt.figure(figsize=(15,4))\n",
        "plt.subplot(121)\n",
        "plt.plot(epochs, loss_values, 'g.', label='Training loss')\n",
        "plt.plot(epochs, val_loss_values, 'g', label='Validation loss')\n",
        "\n",
        "plt.title('Training and validation loss')\n",
        "plt.xlabel('Epochs')\n",
        "plt.ylabel('Loss')\n",
        "plt.legend()\n",
        "\n",
        "plt.subplot(122)\n",
        "plt.plot(epochs, acc_values, 'r.', label='Training acc')\n",
        "plt.plot(epochs, val_acc_values, 'r', label='Validation acc')\n",
        "plt.title('Training and validation accuracy')\n",
        "plt.xlabel('Epochs')\n",
        "plt.ylabel('Accuracy')\n",
        "plt.legend()\n",
        "plt.show()"
      ],
      "execution_count": 32,
      "outputs": [
        {
          "output_type": "display_data",
          "data": {
            "image/png": "[encoded data removed]",
            "text/plain": [
              "<Figure size 1080x288 with 2 Axes>"
            ]
          },
          "metadata": {
            "tags": []
          }
        }
      ]
    },
    {
      "cell_type": "markdown",
      "metadata": {
        "id": "L99VjOE81g_X",
        "colab_type": "text"
      },
      "source": [
        "#### Accuracy"
      ]
    },
    {
      "cell_type": "markdown",
      "metadata": {
        "id": "UDYUJMiE1g_Y",
        "colab_type": "text"
      },
      "source": [
        "Build a function and export to .py to call these in to avoid conflicts"
      ]
    },
    {
      "cell_type": "code",
      "metadata": {
        "id": "Wns7Dn4M1g_Y",
        "colab_type": "code",
        "colab": {}
      },
      "source": [
        ""
      ],
      "execution_count": 0,
      "outputs": []
    },
    {
      "cell_type": "code",
      "metadata": {
        "id": "bb7V6yEo1g_c",
        "colab_type": "code",
        "colab": {
          "base_uri": "https://localhost:8080/",
          "height": 68
        },
        "outputId": "a444aa4a-bbfb-4212-f90b-f964caf50b3a"
      },
      "source": [
        "results_train = cnn.evaluate(X_train, y_train)\n",
        "results_test = cnn.evaluate(X_test, y_test)\n",
        "print(results_train, results_test)"
      ],
      "execution_count": 33,
      "outputs": [
        {
          "output_type": "stream",
          "text": [
            "435/435 [==============================] - 1s 3ms/step\n",
            "136/136 [==============================] - 0s 2ms/step\n",
            "[5.8526789733401404e-05, 1.0] [0.8348332152647131, 0.8308823529411765]\n"
          ],
          "name": "stdout"
        }
      ]
    },
    {
      "cell_type": "markdown",
      "metadata": {
        "id": "WS30Ol_11g_e",
        "colab_type": "text"
      },
      "source": [
        "#### Confusion Matrix"
      ]
    },
    {
      "cell_type": "code",
      "metadata": {
        "id": "Q44ZEiSV1g_f",
        "colab_type": "code",
        "colab": {}
      },
      "source": [
        "import itertools\n",
        "\n",
        "def plot_confusion_matrix(cm, classes,\n",
        "                          normalize=False,\n",
        "                          title='Confusion matrix',\n",
        "                          cmap=plt.cm.Blues):\n",
        "    \"\"\"\n",
        "    This function prints and plots the confusion matrix.\n",
        "    Normalization can be applied by setting `normalize=True`.\n",
        "    \"\"\"\n",
        "    if normalize:\n",
        "        cm = cm.astype('float') / cm.sum(axis=1)[:, np.newaxis]\n",
        "        print(\"Normalized confusion matrix\")\n",
        "    else:\n",
        "        print('Confusion matrix, without normalization')\n",
        "\n",
        "    print(cm)\n",
        "\n",
        "    plt.imshow(cm, interpolation='nearest', cmap=cmap)\n",
        "    plt.title(title)\n",
        "    plt.colorbar()\n",
        "    tick_marks = np.arange(len(classes))\n",
        "    plt.xticks(tick_marks, classes, rotation=45)\n",
        "    plt.yticks(tick_marks, classes)\n",
        "\n",
        "    fmt = '.2f' if normalize else 'd'\n",
        "    thresh = cm.max() / 2.\n",
        "    for i, j in itertools.product(range(cm.shape[0]), range(cm.shape[1])):\n",
        "        plt.text(j, i, format(cm[i, j], fmt),\n",
        "                 horizontalalignment=\"center\",\n",
        "                 color=\"white\" if cm[i, j] > thresh else \"black\")\n",
        "\n",
        "    plt.ylabel('True label')\n",
        "    plt.xlabel('Predicted label')\n",
        "    plt.tight_layout()"
      ],
      "execution_count": 0,
      "outputs": []
    },
    {
      "cell_type": "code",
      "metadata": {
        "id": "QFETOK-j1g_h",
        "colab_type": "code",
        "colab": {}
      },
      "source": [
        "predictions_transfer = cnn.predict(X_test)\n",
        "predictions_transfer = np.around(predictions_transfer)"
      ],
      "execution_count": 0,
      "outputs": []
    },
    {
      "cell_type": "code",
      "metadata": {
        "id": "WQcO8-wo1g_j",
        "colab_type": "code",
        "colab": {
          "base_uri": "https://localhost:8080/",
          "height": 348
        },
        "outputId": "b567584d-cfb5-41e5-8e77-4069ca0ede60"
      },
      "source": [
        "plt.figure()\n",
        "plot_confusion_matrix(confusion_matrix(y_test, predictions_transfer), classes=['bobcat', 'not bobcat'], normalize=False,\n",
        "                      title='Confusion matrix - ImagenetV3')"
      ],
      "execution_count": 36,
      "outputs": [
        {
          "output_type": "stream",
          "text": [
            "Confusion matrix, without normalization\n",
            "[[57  9]\n",
            " [14 56]]\n"
          ],
          "name": "stdout"
        },
        {
          "output_type": "display_data",
          "data": {
            "image/png": "[encoded data removed]",
            "text/plain": [
              "<Figure size 432x288 with 2 Axes>"
            ]
          },
          "metadata": {
            "tags": []
          }
        }
      ]
    },
    {
      "cell_type": "markdown",
      "metadata": {
        "id": "Nakws_Q61g_l",
        "colab_type": "text"
      },
      "source": [
        "#### F1 Score"
      ]
    },
    {
      "cell_type": "code",
      "metadata": {
        "id": "8ttkWFUl1g_l",
        "colab_type": "code",
        "colab": {
          "base_uri": "https://localhost:8080/",
          "height": 34
        },
        "outputId": "d152d001-59c8-4913-ef83-8a3abb676dd8"
      },
      "source": [
        "f1_score(y_test, predictions_transfer)"
      ],
      "execution_count": 37,
      "outputs": [
        {
          "output_type": "execute_result",
          "data": {
            "text/plain": [
              "0.8296296296296297"
            ]
          },
          "metadata": {
            "tags": []
          },
          "execution_count": 37
        }
      ]
    },
    {
      "cell_type": "markdown",
      "metadata": {
        "id": "hyqqskxf1g_o",
        "colab_type": "text"
      },
      "source": [
        "### ROC Graph"
      ]
    },
    {
      "cell_type": "code",
      "metadata": {
        "id": "NpxjnTDy1g_o",
        "colab_type": "code",
        "colab": {
          "base_uri": "https://localhost:8080/",
          "height": 295
        },
        "outputId": "2739d967-c933-4db2-9a48-cffca5d2c807"
      },
      "source": [
        "import numpy as np\n",
        "import sklearn\n",
        "from sklearn import metrics\n",
        "from sklearn.metrics import roc_curve\n",
        "from sklearn.metrics import roc_auc_score\n",
        "\n",
        "roc_predictions_transfer = cnn.predict(X_test)\n",
        "\n",
        "fpr, tpr = roc_curve(y_test, roc_predictions_transfer)[:2]\n",
        "\n",
        "auc_cnn = roc_auc_score(y_test, roc_predictions_transfer)\n",
        "\n",
        "plt.figure()\n",
        "lw = 2\n",
        "plt.plot(fpr, tpr, color='darkorange',\n",
        "         lw=lw, label='ROC curve (area = %0.2f)' % auc_cnn)\n",
        "plt.plot([0, 1], [0, 1], color='navy', lw=lw, linestyle='--')\n",
        "plt.xlim([0.0, 1.0])\n",
        "plt.ylim([0.0, 1.05])\n",
        "plt.xlabel('False Positive Rate')\n",
        "plt.ylabel('True Positive Rate')\n",
        "plt.title('Receiver operating characteristic example')\n",
        "plt.legend(loc=\"lower right\")\n",
        "plt.show()"
      ],
      "execution_count": 38,
      "outputs": [
        {
          "output_type": "display_data",
          "data": {
            "image/png": "[encoded data removed]",
            "text/plain": [
              "<Figure size 432x288 with 1 Axes>"
            ]
          },
          "metadata": {
            "tags": []
          }
        }
      ]
    },
    {
      "cell_type": "code",
      "metadata": {
        "id": "YiT53lUf1g_q",
        "colab_type": "code",
        "colab": {
          "base_uri": "https://localhost:8080/",
          "height": 34
        },
        "outputId": "12cf8b21-4cd7-4cbb-997e-17b4965ef29f"
      },
      "source": [
        "fpr.shape"
      ],
      "execution_count": 39,
      "outputs": [
        {
          "output_type": "execute_result",
          "data": {
            "text/plain": [
              "(45,)"
            ]
          },
          "metadata": {
            "tags": []
          },
          "execution_count": 39
        }
      ]
    },
    {
      "cell_type": "code",
      "metadata": {
        "id": "Mx61syzc1g_s",
        "colab_type": "code",
        "colab": {
          "base_uri": "https://localhost:8080/",
          "height": 34
        },
        "outputId": "0ed09773-c310-4f5b-8e07-8bf2e3b68d4b"
      },
      "source": [
        "tpr.shape"
      ],
      "execution_count": 40,
      "outputs": [
        {
          "output_type": "execute_result",
          "data": {
            "text/plain": [
              "(45,)"
            ]
          },
          "metadata": {
            "tags": []
          },
          "execution_count": 40
        }
      ]
    },
    {
      "cell_type": "code",
      "metadata": {
        "id": "zt7eRZjo1g_t",
        "colab_type": "code",
        "colab": {
          "base_uri": "https://localhost:8080/",
          "height": 1000
        },
        "outputId": "4a08ff8f-4a07-430c-8950-d3471d62420b"
      },
      "source": [
        "roc_predictions_transfer"
      ],
      "execution_count": 41,
      "outputs": [
        {
          "output_type": "execute_result",
          "data": {
            "text/plain": [
              "array([[7.4505806e-07],\n",
              "       [7.4204475e-02],\n",
              "       [2.2908473e-01],\n",
              "       [8.5970461e-03],\n",
              "       [9.6864331e-01],\n",
              "       [1.3792783e-02],\n",
              "       [2.7643806e-01],\n",
              "       [2.9055923e-01],\n",
              "       [3.6716461e-05],\n",
              "       [9.9722743e-01],\n",
              "       [9.9990380e-01],\n",
              "       [3.1888485e-06],\n",
              "       [2.1411109e-01],\n",
              "       [9.9996042e-01],\n",
              "       [8.3535314e-03],\n",
              "       [2.1457672e-06],\n",
              "       [6.4700842e-05],\n",
              "       [5.9425831e-05],\n",
              "       [5.3513825e-01],\n",
              "       [9.9999988e-01],\n",
              "       [3.6716461e-05],\n",
              "       [2.2476244e-01],\n",
              "       [1.3597012e-02],\n",
              "       [9.3457806e-01],\n",
              "       [9.9975199e-01],\n",
              "       [8.1668901e-01],\n",
              "       [9.9999738e-01],\n",
              "       [8.2175928e-01],\n",
              "       [9.9996263e-01],\n",
              "       [0.0000000e+00],\n",
              "       [1.5079975e-05],\n",
              "       [6.8918240e-01],\n",
              "       [2.0748883e-01],\n",
              "       [6.4340234e-04],\n",
              "       [9.9942261e-01],\n",
              "       [3.5787633e-01],\n",
              "       [1.4858571e-01],\n",
              "       [2.3753047e-02],\n",
              "       [4.5260787e-04],\n",
              "       [8.7618828e-05],\n",
              "       [9.9999797e-01],\n",
              "       [9.9674857e-01],\n",
              "       [9.5746017e-01],\n",
              "       [0.0000000e+00],\n",
              "       [9.9999839e-01],\n",
              "       [6.8482023e-01],\n",
              "       [9.9998540e-01],\n",
              "       [9.9996305e-01],\n",
              "       [1.1271238e-04],\n",
              "       [1.3792783e-02],\n",
              "       [5.7905912e-05],\n",
              "       [9.9990410e-01],\n",
              "       [4.1283157e-01],\n",
              "       [9.9984264e-01],\n",
              "       [1.0162592e-05],\n",
              "       [2.5123358e-05],\n",
              "       [3.4630299e-05],\n",
              "       [9.8428130e-04],\n",
              "       [4.4614345e-02],\n",
              "       [1.1224419e-02],\n",
              "       [9.9999952e-01],\n",
              "       [2.6356161e-02],\n",
              "       [1.1444092e-05],\n",
              "       [3.9206773e-02],\n",
              "       [5.8375812e-01],\n",
              "       [8.6429870e-01],\n",
              "       [4.2945147e-05],\n",
              "       [0.0000000e+00],\n",
              "       [3.4067887e-01],\n",
              "       [9.9999166e-01],\n",
              "       [8.6607683e-01],\n",
              "       [9.9999952e-01],\n",
              "       [9.8023218e-01],\n",
              "       [9.9989712e-01],\n",
              "       [9.8945439e-01],\n",
              "       [9.9999416e-01],\n",
              "       [9.9997950e-01],\n",
              "       [9.6481359e-01],\n",
              "       [9.9999100e-01],\n",
              "       [7.0833564e-03],\n",
              "       [1.2841195e-02],\n",
              "       [9.9997270e-01],\n",
              "       [9.7751957e-01],\n",
              "       [2.6356161e-02],\n",
              "       [9.8379874e-01],\n",
              "       [2.0217896e-04],\n",
              "       [2.2607869e-01],\n",
              "       [2.8744042e-03],\n",
              "       [9.9996257e-01],\n",
              "       [4.1738153e-04],\n",
              "       [2.1755695e-06],\n",
              "       [9.9929965e-01],\n",
              "       [9.9995971e-01],\n",
              "       [7.3490769e-01],\n",
              "       [5.7547235e-01],\n",
              "       [9.9999809e-01],\n",
              "       [5.1588029e-02],\n",
              "       [3.6060810e-06],\n",
              "       [9.1202796e-01],\n",
              "       [9.9985069e-01],\n",
              "       [5.8794284e-01],\n",
              "       [9.9999380e-01],\n",
              "       [9.9999517e-01],\n",
              "       [2.4894178e-03],\n",
              "       [1.9103289e-05],\n",
              "       [9.1556740e-01],\n",
              "       [9.9142230e-01],\n",
              "       [2.0944804e-02],\n",
              "       [6.0647726e-05],\n",
              "       [9.9951923e-01],\n",
              "       [9.0752554e-01],\n",
              "       [1.0000000e+00],\n",
              "       [3.4022927e-03],\n",
              "       [1.6796589e-04],\n",
              "       [5.7523251e-03],\n",
              "       [1.0000000e+00],\n",
              "       [9.9999964e-01],\n",
              "       [3.2663345e-05],\n",
              "       [6.9930851e-03],\n",
              "       [7.0869923e-05],\n",
              "       [9.9999911e-01],\n",
              "       [2.4500757e-02],\n",
              "       [8.2880259e-05],\n",
              "       [9.9987721e-01],\n",
              "       [9.9999809e-01],\n",
              "       [9.9996096e-01],\n",
              "       [1.0000000e+00],\n",
              "       [1.2308359e-05],\n",
              "       [9.9987859e-01],\n",
              "       [5.8948994e-05],\n",
              "       [9.9999428e-01],\n",
              "       [9.5963478e-06],\n",
              "       [9.9991947e-01],\n",
              "       [9.1254711e-05],\n",
              "       [6.6369772e-05],\n",
              "       [2.3753047e-02]], dtype=float32)"
            ]
          },
          "metadata": {
            "tags": []
          },
          "execution_count": 41
        }
      ]
    },
    {
      "cell_type": "code",
      "metadata": {
        "id": "0yvKF9_M1g_v",
        "colab_type": "code",
        "colab": {}
      },
      "source": [
        ""
      ],
      "execution_count": 0,
      "outputs": []
    },
    {
      "cell_type": "code",
      "metadata": {
        "id": "LtvyigQG1g_y",
        "colab_type": "code",
        "colab": {}
      },
      "source": [
        ""
      ],
      "execution_count": 0,
      "outputs": []
    },
    {
      "cell_type": "code",
      "metadata": {
        "id": "8hBl9s7f1g_0",
        "colab_type": "code",
        "colab": {}
      },
      "source": [
        ""
      ],
      "execution_count": 0,
      "outputs": []
    },
    {
      "cell_type": "markdown",
      "metadata": {
        "id": "T-8JSKq91g_2",
        "colab_type": "text"
      },
      "source": [
        "## Convolutional Neural Network with Inception (CNN-i)"
      ]
    },
    {
      "cell_type": "markdown",
      "metadata": {
        "id": "RvWHw5gj1g_3",
        "colab_type": "text"
      },
      "source": [
        "### Create Model"
      ]
    },
    {
      "cell_type": "code",
      "metadata": {
        "id": "rQ_EWMpp1g_3",
        "colab_type": "code",
        "colab": {
          "base_uri": "https://localhost:8080/",
          "height": 105
        },
        "outputId": "6ec62cc6-0d86-43ad-c54d-d041a5aef9ad"
      },
      "source": [
        "imagenet=inception_v3.InceptionV3(weights='imagenet',include_top=False)\n",
        "imagenet_new=imagenet.output\n",
        "cnn_i = models.Sequential()\n",
        "cnn_i.add(imagenet)\n",
        "cnn_i.add(GlobalAveragePooling2D())\n",
        "cnn_i.add(Dense(1024,activation='relu'))\n",
        "cnn_i.add(Dense(1024,activation='relu')) #dense layer 2\n",
        "cnn_i.add(Dense(512,activation='relu')) #dense layer 3\n",
        "cnn_i.add(Dense(1,activation='sigmoid')) #final layer with sigmoid activation"
      ],
      "execution_count": 42,
      "outputs": [
        {
          "output_type": "stream",
          "text": [
            "W0729 19:23:23.382105 139713931782016 deprecation_wrapper.py:119] From /usr/local/lib/python3.6/dist-packages/keras/backend/tensorflow_backend.py:3980: The name tf.nn.avg_pool is deprecated. Please use tf.nn.avg_pool2d instead.\n",
            "\n"
          ],
          "name": "stderr"
        },
        {
          "output_type": "stream",
          "text": [
            "Downloading data from https://github.com/fchollet/deep-learning-models/releases/download/v0.5/inception_v3_weights_tf_dim_ordering_tf_kernels_notop.h5\n",
            "87916544/87910968 [==============================] - 3s 0us/step\n"
          ],
          "name": "stdout"
        }
      ]
    },
    {
      "cell_type": "code",
      "metadata": {
        "id": "ksN7q8-J1g_5",
        "colab_type": "code",
        "colab": {
          "base_uri": "https://localhost:8080/",
          "height": 1000
        },
        "outputId": "ecbbb7ec-82b4-44c4-9371-d70f158a839d"
      },
      "source": [
        "for i,layer in enumerate(imagenet.layers):\n",
        "  print(i,layer.name, layer.trainable)"
      ],
      "execution_count": 43,
      "outputs": [
        {
          "output_type": "stream",
          "text": [
            "0 input_1 False\n",
            "1 conv2d_4 True\n",
            "2 batch_normalization_4 True\n",
            "3 activation_1 True\n",
            "4 conv2d_5 True\n",
            "5 batch_normalization_5 True\n",
            "6 activation_2 True\n",
            "7 conv2d_6 True\n",
            "8 batch_normalization_6 True\n",
            "9 activation_3 True\n",
            "10 max_pooling2d_4 True\n",
            "11 conv2d_7 True\n",
            "12 batch_normalization_7 True\n",
            "13 activation_4 True\n",
            "14 conv2d_8 True\n",
            "15 batch_normalization_8 True\n",
            "16 activation_5 True\n",
            "17 max_pooling2d_5 True\n",
            "18 conv2d_12 True\n",
            "19 batch_normalization_12 True\n",
            "20 activation_9 True\n",
            "21 conv2d_10 True\n",
            "22 conv2d_13 True\n",
            "23 batch_normalization_10 True\n",
            "24 batch_normalization_13 True\n",
            "25 activation_7 True\n",
            "26 activation_10 True\n",
            "27 average_pooling2d_1 True\n",
            "28 conv2d_9 True\n",
            "29 conv2d_11 True\n",
            "30 conv2d_14 True\n",
            "31 conv2d_15 True\n",
            "32 batch_normalization_9 True\n",
            "33 batch_normalization_11 True\n",
            "34 batch_normalization_14 True\n",
            "35 batch_normalization_15 True\n",
            "36 activation_6 True\n",
            "37 activation_8 True\n",
            "38 activation_11 True\n",
            "39 activation_12 True\n",
            "40 mixed0 True\n",
            "41 conv2d_19 True\n",
            "42 batch_normalization_19 True\n",
            "43 activation_16 True\n",
            "44 conv2d_17 True\n",
            "45 conv2d_20 True\n",
            "46 batch_normalization_17 True\n",
            "47 batch_normalization_20 True\n",
            "48 activation_14 True\n",
            "49 activation_17 True\n",
            "50 average_pooling2d_2 True\n",
            "51 conv2d_16 True\n",
            "52 conv2d_18 True\n",
            "53 conv2d_21 True\n",
            "54 conv2d_22 True\n",
            "55 batch_normalization_16 True\n",
            "56 batch_normalization_18 True\n",
            "57 batch_normalization_21 True\n",
            "58 batch_normalization_22 True\n",
            "59 activation_13 True\n",
            "60 activation_15 True\n",
            "61 activation_18 True\n",
            "62 activation_19 True\n",
            "63 mixed1 True\n",
            "64 conv2d_26 True\n",
            "65 batch_normalization_26 True\n",
            "66 activation_23 True\n",
            "67 conv2d_24 True\n",
            "68 conv2d_27 True\n",
            "69 batch_normalization_24 True\n",
            "70 batch_normalization_27 True\n",
            "71 activation_21 True\n",
            "72 activation_24 True\n",
            "73 average_pooling2d_3 True\n",
            "74 conv2d_23 True\n",
            "75 conv2d_25 True\n",
            "76 conv2d_28 True\n",
            "77 conv2d_29 True\n",
            "78 batch_normalization_23 True\n",
            "79 batch_normalization_25 True\n",
            "80 batch_normalization_28 True\n",
            "81 batch_normalization_29 True\n",
            "82 activation_20 True\n",
            "83 activation_22 True\n",
            "84 activation_25 True\n",
            "85 activation_26 True\n",
            "86 mixed2 True\n",
            "87 conv2d_31 True\n",
            "88 batch_normalization_31 True\n",
            "89 activation_28 True\n",
            "90 conv2d_32 True\n",
            "91 batch_normalization_32 True\n",
            "92 activation_29 True\n",
            "93 conv2d_30 True\n",
            "94 conv2d_33 True\n",
            "95 batch_normalization_30 True\n",
            "96 batch_normalization_33 True\n",
            "97 activation_27 True\n",
            "98 activation_30 True\n",
            "99 max_pooling2d_6 True\n",
            "100 mixed3 True\n",
            "101 conv2d_38 True\n",
            "102 batch_normalization_38 True\n",
            "103 activation_35 True\n",
            "104 conv2d_39 True\n",
            "105 batch_normalization_39 True\n",
            "106 activation_36 True\n",
            "107 conv2d_35 True\n",
            "108 conv2d_40 True\n",
            "109 batch_normalization_35 True\n",
            "110 batch_normalization_40 True\n",
            "111 activation_32 True\n",
            "112 activation_37 True\n",
            "113 conv2d_36 True\n",
            "114 conv2d_41 True\n",
            "115 batch_normalization_36 True\n",
            "116 batch_normalization_41 True\n",
            "117 activation_33 True\n",
            "118 activation_38 True\n",
            "119 average_pooling2d_4 True\n",
            "120 conv2d_34 True\n",
            "121 conv2d_37 True\n",
            "122 conv2d_42 True\n",
            "123 conv2d_43 True\n",
            "124 batch_normalization_34 True\n",
            "125 batch_normalization_37 True\n",
            "126 batch_normalization_42 True\n",
            "127 batch_normalization_43 True\n",
            "128 activation_31 True\n",
            "129 activation_34 True\n",
            "130 activation_39 True\n",
            "131 activation_40 True\n",
            "132 mixed4 True\n",
            "133 conv2d_48 True\n",
            "134 batch_normalization_48 True\n",
            "135 activation_45 True\n",
            "136 conv2d_49 True\n",
            "137 batch_normalization_49 True\n",
            "138 activation_46 True\n",
            "139 conv2d_45 True\n",
            "140 conv2d_50 True\n",
            "141 batch_normalization_45 True\n",
            "142 batch_normalization_50 True\n",
            "143 activation_42 True\n",
            "144 activation_47 True\n",
            "145 conv2d_46 True\n",
            "146 conv2d_51 True\n",
            "147 batch_normalization_46 True\n",
            "148 batch_normalization_51 True\n",
            "149 activation_43 True\n",
            "150 activation_48 True\n",
            "151 average_pooling2d_5 True\n",
            "152 conv2d_44 True\n",
            "153 conv2d_47 True\n",
            "154 conv2d_52 True\n",
            "155 conv2d_53 True\n",
            "156 batch_normalization_44 True\n",
            "157 batch_normalization_47 True\n",
            "158 batch_normalization_52 True\n",
            "159 batch_normalization_53 True\n",
            "160 activation_41 True\n",
            "161 activation_44 True\n",
            "162 activation_49 True\n",
            "163 activation_50 True\n",
            "164 mixed5 True\n",
            "165 conv2d_58 True\n",
            "166 batch_normalization_58 True\n",
            "167 activation_55 True\n",
            "168 conv2d_59 True\n",
            "169 batch_normalization_59 True\n",
            "170 activation_56 True\n",
            "171 conv2d_55 True\n",
            "172 conv2d_60 True\n",
            "173 batch_normalization_55 True\n",
            "174 batch_normalization_60 True\n",
            "175 activation_52 True\n",
            "176 activation_57 True\n",
            "177 conv2d_56 True\n",
            "178 conv2d_61 True\n",
            "179 batch_normalization_56 True\n",
            "180 batch_normalization_61 True\n",
            "181 activation_53 True\n",
            "182 activation_58 True\n",
            "183 average_pooling2d_6 True\n",
            "184 conv2d_54 True\n",
            "185 conv2d_57 True\n",
            "186 conv2d_62 True\n",
            "187 conv2d_63 True\n",
            "188 batch_normalization_54 True\n",
            "189 batch_normalization_57 True\n",
            "190 batch_normalization_62 True\n",
            "191 batch_normalization_63 True\n",
            "192 activation_51 True\n",
            "193 activation_54 True\n",
            "194 activation_59 True\n",
            "195 activation_60 True\n",
            "196 mixed6 True\n",
            "197 conv2d_68 True\n",
            "198 batch_normalization_68 True\n",
            "199 activation_65 True\n",
            "200 conv2d_69 True\n",
            "201 batch_normalization_69 True\n",
            "202 activation_66 True\n",
            "203 conv2d_65 True\n",
            "204 conv2d_70 True\n",
            "205 batch_normalization_65 True\n",
            "206 batch_normalization_70 True\n",
            "207 activation_62 True\n",
            "208 activation_67 True\n",
            "209 conv2d_66 True\n",
            "210 conv2d_71 True\n",
            "211 batch_normalization_66 True\n",
            "212 batch_normalization_71 True\n",
            "213 activation_63 True\n",
            "214 activation_68 True\n",
            "215 average_pooling2d_7 True\n",
            "216 conv2d_64 True\n",
            "217 conv2d_67 True\n",
            "218 conv2d_72 True\n",
            "219 conv2d_73 True\n",
            "220 batch_normalization_64 True\n",
            "221 batch_normalization_67 True\n",
            "222 batch_normalization_72 True\n",
            "223 batch_normalization_73 True\n",
            "224 activation_61 True\n",
            "225 activation_64 True\n",
            "226 activation_69 True\n",
            "227 activation_70 True\n",
            "228 mixed7 True\n",
            "229 conv2d_76 True\n",
            "230 batch_normalization_76 True\n",
            "231 activation_73 True\n",
            "232 conv2d_77 True\n",
            "233 batch_normalization_77 True\n",
            "234 activation_74 True\n",
            "235 conv2d_74 True\n",
            "236 conv2d_78 True\n",
            "237 batch_normalization_74 True\n",
            "238 batch_normalization_78 True\n",
            "239 activation_71 True\n",
            "240 activation_75 True\n",
            "241 conv2d_75 True\n",
            "242 conv2d_79 True\n",
            "243 batch_normalization_75 True\n",
            "244 batch_normalization_79 True\n",
            "245 activation_72 True\n",
            "246 activation_76 True\n",
            "247 max_pooling2d_7 True\n",
            "248 mixed8 True\n",
            "249 conv2d_84 True\n",
            "250 batch_normalization_84 True\n",
            "251 activation_81 True\n",
            "252 conv2d_81 True\n",
            "253 conv2d_85 True\n",
            "254 batch_normalization_81 True\n",
            "255 batch_normalization_85 True\n",
            "256 activation_78 True\n",
            "257 activation_82 True\n",
            "258 conv2d_82 True\n",
            "259 conv2d_83 True\n",
            "260 conv2d_86 True\n",
            "261 conv2d_87 True\n",
            "262 average_pooling2d_8 True\n",
            "263 conv2d_80 True\n",
            "264 batch_normalization_82 True\n",
            "265 batch_normalization_83 True\n",
            "266 batch_normalization_86 True\n",
            "267 batch_normalization_87 True\n",
            "268 conv2d_88 True\n",
            "269 batch_normalization_80 True\n",
            "270 activation_79 True\n",
            "271 activation_80 True\n",
            "272 activation_83 True\n",
            "273 activation_84 True\n",
            "274 batch_normalization_88 True\n",
            "275 activation_77 True\n",
            "276 mixed9_0 True\n",
            "277 concatenate_1 True\n",
            "278 activation_85 True\n",
            "279 mixed9 True\n",
            "280 conv2d_93 True\n",
            "281 batch_normalization_93 True\n",
            "282 activation_90 True\n",
            "283 conv2d_90 True\n",
            "284 conv2d_94 True\n",
            "285 batch_normalization_90 True\n",
            "286 batch_normalization_94 True\n",
            "287 activation_87 True\n",
            "288 activation_91 True\n",
            "289 conv2d_91 True\n",
            "290 conv2d_92 True\n",
            "291 conv2d_95 True\n",
            "292 conv2d_96 True\n",
            "293 average_pooling2d_9 True\n",
            "294 conv2d_89 True\n",
            "295 batch_normalization_91 True\n",
            "296 batch_normalization_92 True\n",
            "297 batch_normalization_95 True\n",
            "298 batch_normalization_96 True\n",
            "299 conv2d_97 True\n",
            "300 batch_normalization_89 True\n",
            "301 activation_88 True\n",
            "302 activation_89 True\n",
            "303 activation_92 True\n",
            "304 activation_93 True\n",
            "305 batch_normalization_97 True\n",
            "306 activation_86 True\n",
            "307 mixed9_1 True\n",
            "308 concatenate_2 True\n",
            "309 activation_94 True\n",
            "310 mixed10 True\n"
          ],
          "name": "stdout"
        }
      ]
    },
    {
      "cell_type": "code",
      "metadata": {
        "id": "oNDxeFog1g_7",
        "colab_type": "code",
        "colab": {
          "base_uri": "https://localhost:8080/",
          "height": 119
        },
        "outputId": "33476878-50ec-4ee5-b00f-a2a441000d34"
      },
      "source": [
        "for i,layer in enumerate(cnn_i.layers):\n",
        "  print(i,layer.name, layer.trainable)"
      ],
      "execution_count": 44,
      "outputs": [
        {
          "output_type": "stream",
          "text": [
            "0 inception_v3 True\n",
            "1 global_average_pooling2d_1 True\n",
            "2 dense_3 True\n",
            "3 dense_4 True\n",
            "4 dense_5 True\n",
            "5 dense_6 True\n"
          ],
          "name": "stdout"
        }
      ]
    },
    {
      "cell_type": "code",
      "metadata": {
        "id": "VILuE8BN1g_-",
        "colab_type": "code",
        "colab": {}
      },
      "source": [
        "for layer in cnn_i.layers[:1]:\n",
        "    layer.trainable=False"
      ],
      "execution_count": 0,
      "outputs": []
    },
    {
      "cell_type": "code",
      "metadata": {
        "id": "747Kj2IR1hAA",
        "colab_type": "code",
        "colab": {
          "base_uri": "https://localhost:8080/",
          "height": 119
        },
        "outputId": "b84cd450-1068-4906-ec4c-46970e480919"
      },
      "source": [
        "for i,layer in enumerate(cnn_i.layers):\n",
        "  print(i,layer.name, layer.trainable)"
      ],
      "execution_count": 46,
      "outputs": [
        {
          "output_type": "stream",
          "text": [
            "0 inception_v3 False\n",
            "1 global_average_pooling2d_1 True\n",
            "2 dense_3 True\n",
            "3 dense_4 True\n",
            "4 dense_5 True\n",
            "5 dense_6 True\n"
          ],
          "name": "stdout"
        }
      ]
    },
    {
      "cell_type": "markdown",
      "metadata": {
        "id": "LZB009hX1hAC",
        "colab_type": "text"
      },
      "source": [
        "### Train Model"
      ]
    },
    {
      "cell_type": "code",
      "metadata": {
        "scrolled": true,
        "id": "sQnX6uvf1hAC",
        "colab_type": "code",
        "colab": {
          "base_uri": "https://localhost:8080/",
          "height": 1000
        },
        "outputId": "58740d60-4ef3-4bf0-b8a8-d491d6769114"
      },
      "source": [
        "cnn_i.compile(optimizer='Adam',loss='binary_crossentropy',metrics=['accuracy'])\n",
        "\n",
        "# step_size_train=train_generator.n//train_generator.batch_size\n",
        "cnn_i_1= cnn_i.fit(X_train,\n",
        "          y_train,\n",
        "          epochs=100, # 100\n",
        "          batch_size=50, # 50\n",
        "          validation_data=(X_val, y_val))"
      ],
      "execution_count": 47,
      "outputs": [
        {
          "output_type": "stream",
          "text": [
            "Train on 435 samples, validate on 109 samples\n",
            "Epoch 1/100\n",
            "435/435 [==============================] - 10s 23ms/step - loss: 1.0269 - acc: 0.5747 - val_loss: 0.3953 - val_acc: 0.9266\n",
            "Epoch 2/100\n",
            "435/435 [==============================] - 1s 3ms/step - loss: 0.4176 - acc: 0.8299 - val_loss: 0.2700 - val_acc: 0.9358\n",
            "Epoch 3/100\n",
            "435/435 [==============================] - 1s 3ms/step - loss: 0.3397 - acc: 0.8414 - val_loss: 0.3118 - val_acc: 0.9174\n",
            "Epoch 4/100\n",
            "435/435 [==============================] - 1s 3ms/step - loss: 0.1613 - acc: 0.9241 - val_loss: 0.2691 - val_acc: 0.9358\n",
            "Epoch 5/100\n",
            "435/435 [==============================] - 1s 3ms/step - loss: 0.1484 - acc: 0.9540 - val_loss: 0.3245 - val_acc: 0.9450\n",
            "Epoch 6/100\n",
            "435/435 [==============================] - 1s 3ms/step - loss: 0.1133 - acc: 0.9563 - val_loss: 0.3448 - val_acc: 0.9541\n",
            "Epoch 7/100\n",
            "435/435 [==============================] - 1s 3ms/step - loss: 0.0916 - acc: 0.9793 - val_loss: 0.3375 - val_acc: 0.9358\n",
            "Epoch 8/100\n",
            "435/435 [==============================] - 1s 3ms/step - loss: 0.0539 - acc: 0.9770 - val_loss: 0.4716 - val_acc: 0.9358\n",
            "Epoch 9/100\n",
            "435/435 [==============================] - 1s 3ms/step - loss: 0.0992 - acc: 0.9678 - val_loss: 0.4280 - val_acc: 0.9541\n",
            "Epoch 10/100\n",
            "435/435 [==============================] - 1s 3ms/step - loss: 0.1342 - acc: 0.9425 - val_loss: 0.4216 - val_acc: 0.9266\n",
            "Epoch 11/100\n",
            "435/435 [==============================] - 1s 3ms/step - loss: 0.0726 - acc: 0.9747 - val_loss: 0.4269 - val_acc: 0.9450\n",
            "Epoch 12/100\n",
            "435/435 [==============================] - 1s 3ms/step - loss: 0.0388 - acc: 0.9862 - val_loss: 0.5334 - val_acc: 0.9450\n",
            "Epoch 13/100\n",
            "435/435 [==============================] - 1s 3ms/step - loss: 0.0299 - acc: 0.9931 - val_loss: 0.5436 - val_acc: 0.9358\n",
            "Epoch 14/100\n",
            "435/435 [==============================] - 1s 3ms/step - loss: 0.0353 - acc: 0.9885 - val_loss: 0.5664 - val_acc: 0.9450\n",
            "Epoch 15/100\n",
            "435/435 [==============================] - 1s 3ms/step - loss: 0.0301 - acc: 0.9885 - val_loss: 0.5855 - val_acc: 0.9450\n",
            "Epoch 16/100\n",
            "435/435 [==============================] - 1s 3ms/step - loss: 0.0424 - acc: 0.9816 - val_loss: 0.5539 - val_acc: 0.9450\n",
            "Epoch 17/100\n",
            "435/435 [==============================] - 1s 3ms/step - loss: 0.1103 - acc: 0.9632 - val_loss: 0.4896 - val_acc: 0.9450\n",
            "Epoch 18/100\n",
            "435/435 [==============================] - 1s 3ms/step - loss: 0.2358 - acc: 0.9034 - val_loss: 0.3089 - val_acc: 0.9450\n",
            "Epoch 19/100\n",
            "435/435 [==============================] - 1s 3ms/step - loss: 0.0997 - acc: 0.9563 - val_loss: 0.4570 - val_acc: 0.9174\n",
            "Epoch 20/100\n",
            "435/435 [==============================] - 1s 3ms/step - loss: 0.1917 - acc: 0.9218 - val_loss: 0.3969 - val_acc: 0.9174\n",
            "Epoch 21/100\n",
            "435/435 [==============================] - 1s 3ms/step - loss: 0.1236 - acc: 0.9494 - val_loss: 0.3532 - val_acc: 0.9450\n",
            "Epoch 22/100\n",
            "435/435 [==============================] - 1s 3ms/step - loss: 0.0331 - acc: 0.9908 - val_loss: 0.4376 - val_acc: 0.9266\n",
            "Epoch 23/100\n",
            "435/435 [==============================] - 1s 3ms/step - loss: 0.0249 - acc: 0.9954 - val_loss: 0.6295 - val_acc: 0.9541\n",
            "Epoch 24/100\n",
            "435/435 [==============================] - 1s 3ms/step - loss: 0.0284 - acc: 0.9931 - val_loss: 0.5239 - val_acc: 0.9450\n",
            "Epoch 25/100\n",
            "435/435 [==============================] - 1s 3ms/step - loss: 0.0106 - acc: 0.9977 - val_loss: 0.5523 - val_acc: 0.9541\n",
            "Epoch 26/100\n",
            "435/435 [==============================] - 1s 3ms/step - loss: 0.0145 - acc: 0.9954 - val_loss: 0.5563 - val_acc: 0.9541\n",
            "Epoch 27/100\n",
            "435/435 [==============================] - 1s 3ms/step - loss: 0.0278 - acc: 0.9839 - val_loss: 0.5548 - val_acc: 0.9450\n",
            "Epoch 28/100\n",
            "435/435 [==============================] - 1s 3ms/step - loss: 0.0134 - acc: 0.9954 - val_loss: 0.4628 - val_acc: 0.9358\n",
            "Epoch 29/100\n",
            "435/435 [==============================] - 1s 3ms/step - loss: 0.0154 - acc: 0.9954 - val_loss: 0.5199 - val_acc: 0.9450\n",
            "Epoch 30/100\n",
            "435/435 [==============================] - 1s 3ms/step - loss: 0.0092 - acc: 0.9977 - val_loss: 0.5126 - val_acc: 0.9358\n",
            "Epoch 31/100\n",
            "435/435 [==============================] - 1s 3ms/step - loss: 0.0019 - acc: 1.0000 - val_loss: 0.5664 - val_acc: 0.9358\n",
            "Epoch 32/100\n",
            "435/435 [==============================] - 1s 3ms/step - loss: 0.0129 - acc: 0.9931 - val_loss: 0.6519 - val_acc: 0.9358\n",
            "Epoch 33/100\n",
            "435/435 [==============================] - 1s 3ms/step - loss: 0.0262 - acc: 0.9954 - val_loss: 0.5932 - val_acc: 0.9358\n",
            "Epoch 34/100\n",
            "435/435 [==============================] - 1s 3ms/step - loss: 0.0161 - acc: 0.9954 - val_loss: 0.6171 - val_acc: 0.9450\n",
            "Epoch 35/100\n",
            "435/435 [==============================] - 1s 3ms/step - loss: 0.0074 - acc: 0.9977 - val_loss: 0.6379 - val_acc: 0.9541\n",
            "Epoch 36/100\n",
            "435/435 [==============================] - 1s 3ms/step - loss: 0.0295 - acc: 0.9908 - val_loss: 0.6004 - val_acc: 0.9266\n",
            "Epoch 37/100\n",
            "435/435 [==============================] - 1s 3ms/step - loss: 0.0127 - acc: 0.9954 - val_loss: 0.4891 - val_acc: 0.9541\n",
            "Epoch 38/100\n",
            "435/435 [==============================] - 1s 3ms/step - loss: 0.0127 - acc: 0.9977 - val_loss: 0.5549 - val_acc: 0.9450\n",
            "Epoch 39/100\n",
            "435/435 [==============================] - 1s 3ms/step - loss: 0.0658 - acc: 0.9816 - val_loss: 0.3759 - val_acc: 0.9541\n",
            "Epoch 40/100\n",
            "435/435 [==============================] - 1s 3ms/step - loss: 0.0528 - acc: 0.9816 - val_loss: 0.4661 - val_acc: 0.9174\n",
            "Epoch 41/100\n",
            "435/435 [==============================] - 1s 3ms/step - loss: 0.1130 - acc: 0.9494 - val_loss: 0.5442 - val_acc: 0.9450\n",
            "Epoch 42/100\n",
            "435/435 [==============================] - 1s 3ms/step - loss: 0.1749 - acc: 0.9402 - val_loss: 0.2759 - val_acc: 0.9541\n",
            "Epoch 43/100\n",
            "435/435 [==============================] - 1s 3ms/step - loss: 0.0177 - acc: 0.9954 - val_loss: 0.3779 - val_acc: 0.9450\n",
            "Epoch 44/100\n",
            "435/435 [==============================] - 1s 3ms/step - loss: 0.0322 - acc: 0.9908 - val_loss: 0.5886 - val_acc: 0.9266\n",
            "Epoch 45/100\n",
            "435/435 [==============================] - 1s 3ms/step - loss: 0.0266 - acc: 0.9931 - val_loss: 0.5635 - val_acc: 0.9450\n",
            "Epoch 46/100\n",
            "435/435 [==============================] - 1s 3ms/step - loss: 0.0047 - acc: 0.9977 - val_loss: 0.5754 - val_acc: 0.9358\n",
            "Epoch 47/100\n",
            "435/435 [==============================] - 1s 3ms/step - loss: 0.0301 - acc: 0.9908 - val_loss: 0.5078 - val_acc: 0.9450\n",
            "Epoch 48/100\n",
            "435/435 [==============================] - 1s 3ms/step - loss: 0.0341 - acc: 0.9862 - val_loss: 0.4414 - val_acc: 0.9450\n",
            "Epoch 49/100\n",
            "435/435 [==============================] - 1s 3ms/step - loss: 0.0266 - acc: 0.9885 - val_loss: 0.4096 - val_acc: 0.9266\n",
            "Epoch 50/100\n",
            "435/435 [==============================] - 1s 3ms/step - loss: 0.0196 - acc: 0.9977 - val_loss: 0.4712 - val_acc: 0.9450\n",
            "Epoch 51/100\n",
            "435/435 [==============================] - 1s 3ms/step - loss: 0.0061 - acc: 0.9977 - val_loss: 0.5065 - val_acc: 0.9450\n",
            "Epoch 52/100\n",
            "435/435 [==============================] - 1s 3ms/step - loss: 0.0161 - acc: 0.9908 - val_loss: 0.5109 - val_acc: 0.9450\n",
            "Epoch 53/100\n",
            "435/435 [==============================] - 1s 3ms/step - loss: 0.0198 - acc: 0.9954 - val_loss: 0.5810 - val_acc: 0.9450\n",
            "Epoch 54/100\n",
            "435/435 [==============================] - 1s 3ms/step - loss: 8.3675e-04 - acc: 1.0000 - val_loss: 0.5374 - val_acc: 0.9174\n",
            "Epoch 55/100\n",
            "435/435 [==============================] - 1s 3ms/step - loss: 0.0222 - acc: 0.9908 - val_loss: 0.5448 - val_acc: 0.9450\n",
            "Epoch 56/100\n",
            "435/435 [==============================] - 1s 3ms/step - loss: 0.0094 - acc: 0.9977 - val_loss: 0.4371 - val_acc: 0.9450\n",
            "Epoch 57/100\n",
            "435/435 [==============================] - 1s 3ms/step - loss: 0.0070 - acc: 0.9977 - val_loss: 0.4755 - val_acc: 0.9450\n",
            "Epoch 58/100\n",
            "435/435 [==============================] - 1s 3ms/step - loss: 0.0147 - acc: 0.9977 - val_loss: 0.4473 - val_acc: 0.9450\n",
            "Epoch 59/100\n",
            "435/435 [==============================] - 1s 3ms/step - loss: 0.0013 - acc: 1.0000 - val_loss: 0.5412 - val_acc: 0.9450\n",
            "Epoch 60/100\n",
            "435/435 [==============================] - 1s 3ms/step - loss: 0.0096 - acc: 0.9977 - val_loss: 0.5469 - val_acc: 0.9266\n",
            "Epoch 61/100\n",
            "435/435 [==============================] - 1s 3ms/step - loss: 0.0036 - acc: 0.9977 - val_loss: 0.5284 - val_acc: 0.9450\n",
            "Epoch 62/100\n",
            "435/435 [==============================] - 1s 3ms/step - loss: 7.0041e-04 - acc: 1.0000 - val_loss: 0.5332 - val_acc: 0.9541\n",
            "Epoch 63/100\n",
            "435/435 [==============================] - 1s 3ms/step - loss: 2.6198e-04 - acc: 1.0000 - val_loss: 0.5498 - val_acc: 0.9541\n",
            "Epoch 64/100\n",
            "435/435 [==============================] - 1s 3ms/step - loss: 0.0122 - acc: 0.9977 - val_loss: 0.5532 - val_acc: 0.9266\n",
            "Epoch 65/100\n",
            "435/435 [==============================] - 1s 3ms/step - loss: 0.0052 - acc: 0.9977 - val_loss: 0.5397 - val_acc: 0.9266\n",
            "Epoch 66/100\n",
            "435/435 [==============================] - 1s 3ms/step - loss: 0.0227 - acc: 0.9885 - val_loss: 0.4773 - val_acc: 0.9450\n",
            "Epoch 67/100\n",
            "435/435 [==============================] - 1s 3ms/step - loss: 0.0267 - acc: 0.9885 - val_loss: 0.4857 - val_acc: 0.9266\n",
            "Epoch 68/100\n",
            "435/435 [==============================] - 1s 3ms/step - loss: 0.0222 - acc: 0.9908 - val_loss: 0.3738 - val_acc: 0.9266\n",
            "Epoch 69/100\n",
            "435/435 [==============================] - 1s 3ms/step - loss: 0.0057 - acc: 0.9977 - val_loss: 0.4471 - val_acc: 0.9450\n",
            "Epoch 70/100\n",
            "435/435 [==============================] - 1s 3ms/step - loss: 0.0038 - acc: 0.9977 - val_loss: 0.5811 - val_acc: 0.9450\n",
            "Epoch 71/100\n",
            "435/435 [==============================] - 1s 3ms/step - loss: 0.0038 - acc: 1.0000 - val_loss: 0.5635 - val_acc: 0.9266\n",
            "Epoch 72/100\n",
            "435/435 [==============================] - 1s 3ms/step - loss: 0.0043 - acc: 0.9977 - val_loss: 0.6094 - val_acc: 0.9358\n",
            "Epoch 73/100\n",
            "435/435 [==============================] - 1s 3ms/step - loss: 0.0272 - acc: 0.9931 - val_loss: 0.6073 - val_acc: 0.9174\n",
            "Epoch 74/100\n",
            "435/435 [==============================] - 1s 3ms/step - loss: 0.0745 - acc: 0.9724 - val_loss: 0.5852 - val_acc: 0.9266\n",
            "Epoch 75/100\n",
            "435/435 [==============================] - 1s 3ms/step - loss: 0.0260 - acc: 0.9931 - val_loss: 0.5071 - val_acc: 0.9450\n",
            "Epoch 76/100\n",
            "435/435 [==============================] - 1s 3ms/step - loss: 0.0391 - acc: 0.9793 - val_loss: 0.7018 - val_acc: 0.9083\n",
            "Epoch 77/100\n",
            "435/435 [==============================] - 1s 3ms/step - loss: 0.0302 - acc: 0.9885 - val_loss: 0.6897 - val_acc: 0.9266\n",
            "Epoch 78/100\n",
            "435/435 [==============================] - 1s 3ms/step - loss: 0.0384 - acc: 0.9839 - val_loss: 0.5334 - val_acc: 0.9174\n",
            "Epoch 79/100\n",
            "435/435 [==============================] - 1s 3ms/step - loss: 0.0299 - acc: 0.9885 - val_loss: 0.5768 - val_acc: 0.9541\n",
            "Epoch 80/100\n",
            "435/435 [==============================] - 1s 3ms/step - loss: 0.0213 - acc: 0.9931 - val_loss: 0.5759 - val_acc: 0.9358\n",
            "Epoch 81/100\n",
            "435/435 [==============================] - 1s 3ms/step - loss: 0.0428 - acc: 0.9862 - val_loss: 0.5342 - val_acc: 0.9450\n",
            "Epoch 82/100\n",
            "435/435 [==============================] - 1s 3ms/step - loss: 0.0317 - acc: 0.9885 - val_loss: 0.4683 - val_acc: 0.9266\n",
            "Epoch 83/100\n",
            "435/435 [==============================] - 1s 3ms/step - loss: 0.0093 - acc: 1.0000 - val_loss: 0.5148 - val_acc: 0.9266\n",
            "Epoch 84/100\n",
            "435/435 [==============================] - 1s 3ms/step - loss: 0.0059 - acc: 1.0000 - val_loss: 0.5741 - val_acc: 0.9174\n",
            "Epoch 85/100\n",
            "435/435 [==============================] - 1s 3ms/step - loss: 0.0015 - acc: 1.0000 - val_loss: 0.5685 - val_acc: 0.9541\n",
            "Epoch 86/100\n",
            "435/435 [==============================] - 1s 3ms/step - loss: 1.7765e-04 - acc: 1.0000 - val_loss: 0.5961 - val_acc: 0.9450\n",
            "Epoch 87/100\n",
            "435/435 [==============================] - 1s 3ms/step - loss: 9.4052e-05 - acc: 1.0000 - val_loss: 0.6117 - val_acc: 0.9450\n",
            "Epoch 88/100\n",
            "435/435 [==============================] - 1s 3ms/step - loss: 1.9702e-04 - acc: 1.0000 - val_loss: 0.6306 - val_acc: 0.9450\n",
            "Epoch 89/100\n",
            "435/435 [==============================] - 1s 3ms/step - loss: 0.0142 - acc: 0.9954 - val_loss: 0.8231 - val_acc: 0.9174\n",
            "Epoch 90/100\n",
            "435/435 [==============================] - 1s 3ms/step - loss: 0.0357 - acc: 0.9862 - val_loss: 0.5361 - val_acc: 0.9358\n",
            "Epoch 91/100\n",
            "435/435 [==============================] - 1s 3ms/step - loss: 0.0079 - acc: 0.9977 - val_loss: 0.4714 - val_acc: 0.9174\n",
            "Epoch 92/100\n",
            "435/435 [==============================] - 1s 3ms/step - loss: 0.0162 - acc: 0.9885 - val_loss: 0.4583 - val_acc: 0.9266\n",
            "Epoch 93/100\n",
            "435/435 [==============================] - 1s 3ms/step - loss: 0.0023 - acc: 1.0000 - val_loss: 0.4861 - val_acc: 0.9358\n",
            "Epoch 94/100\n",
            "435/435 [==============================] - 1s 3ms/step - loss: 3.6037e-04 - acc: 1.0000 - val_loss: 0.5091 - val_acc: 0.9358\n",
            "Epoch 95/100\n",
            "435/435 [==============================] - 1s 3ms/step - loss: 5.2150e-04 - acc: 1.0000 - val_loss: 0.5321 - val_acc: 0.9358\n",
            "Epoch 96/100\n",
            "435/435 [==============================] - 1s 3ms/step - loss: 9.1561e-04 - acc: 1.0000 - val_loss: 0.5584 - val_acc: 0.9358\n",
            "Epoch 97/100\n",
            "435/435 [==============================] - 1s 3ms/step - loss: 0.0037 - acc: 1.0000 - val_loss: 0.5819 - val_acc: 0.9541\n",
            "Epoch 98/100\n",
            "435/435 [==============================] - 1s 3ms/step - loss: 9.5983e-04 - acc: 1.0000 - val_loss: 0.6046 - val_acc: 0.9358\n",
            "Epoch 99/100\n",
            "435/435 [==============================] - 1s 3ms/step - loss: 2.0248e-04 - acc: 1.0000 - val_loss: 0.6080 - val_acc: 0.9266\n",
            "Epoch 100/100\n",
            "435/435 [==============================] - 1s 3ms/step - loss: 0.0136 - acc: 0.9977 - val_loss: 0.7036 - val_acc: 0.9266\n"
          ],
          "name": "stdout"
        }
      ]
    },
    {
      "cell_type": "markdown",
      "metadata": {
        "id": "9d2KJBg91hAH",
        "colab_type": "text"
      },
      "source": [
        "### Save Loaded CNN-i Model"
      ]
    },
    {
      "cell_type": "code",
      "metadata": {
        "id": "HKALYBdJ1hAH",
        "colab_type": "code",
        "colab": {}
      },
      "source": [
        "cnn_i.save('/content/drive/My Drive/final_project_data/models/cnn_i.h5')"
      ],
      "execution_count": 0,
      "outputs": []
    },
    {
      "cell_type": "markdown",
      "metadata": {
        "id": "gaBzHQqS1hAJ",
        "colab_type": "text"
      },
      "source": [
        "### Load Saved CNN-i Model"
      ]
    },
    {
      "cell_type": "code",
      "metadata": {
        "id": "KII1f6911hAJ",
        "colab_type": "code",
        "colab": {}
      },
      "source": [
        "\n",
        "# from numpy import loadtxt\n",
        "# from keras.models import load_model\n",
        "\n",
        "\n",
        "# cnn_i.load_weights('/Users/j.markdaniels/iCloud Drive (Archive)/Desktop/Flatiron/projects/Final_Project/final_project/flatiron_final_project/cnn_i.h5')\n",
        "\n",
        "# model = load_model('/Users/j.markdaniels/iCloud Drive (Archive)/Desktop/Flatiron/projects/Final_Project/final_project/flatiron_final_project/cnn_i.h5')\n",
        "\n",
        "# cnn_i.summary()\n",
        "\n"
      ],
      "execution_count": 0,
      "outputs": []
    },
    {
      "cell_type": "markdown",
      "metadata": {
        "id": "FhSVzufD1hAM",
        "colab_type": "text"
      },
      "source": [
        "#### Summary"
      ]
    },
    {
      "cell_type": "code",
      "metadata": {
        "id": "GILWHwUe1hAN",
        "colab_type": "code",
        "colab": {
          "base_uri": "https://localhost:8080/",
          "height": 357
        },
        "outputId": "feff3704-5088-43bd-afea-e20602e02ce7"
      },
      "source": [
        "print(cnn_i.summary())"
      ],
      "execution_count": 49,
      "outputs": [
        {
          "output_type": "stream",
          "text": [
            "_________________________________________________________________\n",
            "Layer (type)                 Output Shape              Param #   \n",
            "=================================================================\n",
            "inception_v3 (Model)         (None, None, None, 2048)  21802784  \n",
            "_________________________________________________________________\n",
            "global_average_pooling2d_1 ( (None, 2048)              0         \n",
            "_________________________________________________________________\n",
            "dense_3 (Dense)              (None, 1024)              2098176   \n",
            "_________________________________________________________________\n",
            "dense_4 (Dense)              (None, 1024)              1049600   \n",
            "_________________________________________________________________\n",
            "dense_5 (Dense)              (None, 512)               524800    \n",
            "_________________________________________________________________\n",
            "dense_6 (Dense)              (None, 1)                 513       \n",
            "=================================================================\n",
            "Total params: 25,475,873\n",
            "Trainable params: 3,673,089\n",
            "Non-trainable params: 21,802,784\n",
            "_________________________________________________________________\n",
            "None\n"
          ],
          "name": "stdout"
        }
      ]
    },
    {
      "cell_type": "markdown",
      "metadata": {
        "id": "L8v4kBNd1hAQ",
        "colab_type": "text"
      },
      "source": [
        "### Evaluate CNN-i Model Performance"
      ]
    },
    {
      "cell_type": "code",
      "metadata": {
        "id": "drKZb6Gy1hAQ",
        "colab_type": "code",
        "colab": {
          "base_uri": "https://localhost:8080/",
          "height": 295
        },
        "outputId": "a82458e3-e902-4aa3-8453-0243a5f47690"
      },
      "source": [
        "hist_cnn_i = cnn_i_1.history\n",
        "loss_values = hist_cnn_i['loss']\n",
        "val_loss_values = hist_cnn_i['val_loss']\n",
        "acc_values = hist_cnn_i['acc'] \n",
        "val_acc_values = hist_cnn_i['val_acc']\n",
        "\n",
        "\n",
        "epochs = range(1, len(loss_values) + 1)\n",
        "\n",
        "plt.figure(figsize=(15,4))\n",
        "plt.subplot(121)\n",
        "plt.plot(epochs, loss_values, 'g.', label='Training loss')\n",
        "plt.plot(epochs, val_loss_values, 'g', label='Validation loss')\n",
        "\n",
        "plt.title('Training and validation loss')\n",
        "plt.xlabel('Epochs')\n",
        "plt.ylabel('Loss')\n",
        "plt.legend()\n",
        "\n",
        "plt.subplot(122)\n",
        "plt.plot(epochs, acc_values, 'r.', label='Training acc')\n",
        "plt.plot(epochs, val_acc_values, 'r', label='Validation acc')\n",
        "plt.title('Training and validation accuracy')\n",
        "plt.xlabel('Epochs')\n",
        "plt.ylabel('Accuracy')\n",
        "plt.legend()\n",
        "plt.show()"
      ],
      "execution_count": 50,
      "outputs": [
        {
          "output_type": "display_data",
          "data": {
            "image/png": "[encoded data removed]",
            "text/plain": [
              "<Figure size 1080x288 with 2 Axes>"
            ]
          },
          "metadata": {
            "tags": []
          }
        }
      ]
    },
    {
      "cell_type": "code",
      "metadata": {
        "id": "lpkJWdgn1hAS",
        "colab_type": "code",
        "colab": {}
      },
      "source": [
        "# hist_cnn_i = cnn_i.history\n",
        "# loss_values = hist_cnn_i['loss']\n",
        "# val_loss_values = hist_cnn_i['val_loss']\n",
        "# acc_values = hist_cnn_i['acc'] \n",
        "# val_acc_values = hist_cnn_i['val_acc']\n",
        "\n",
        "\n",
        "# epochs = range(1, len(loss_values) + 1)\n",
        "\n",
        "# plt.figure(figsize=(15,4))\n",
        "# plt.subplot(121)\n",
        "# plt.plot(epochs, loss_values, 'g.', label='Training loss')\n",
        "# plt.plot(epochs, val_loss_values, 'g', label='Validation loss')\n",
        "\n",
        "# plt.title('Training and validation loss')\n",
        "# plt.xlabel('Epochs')\n",
        "# plt.ylabel('Loss')\n",
        "# plt.legend()\n",
        "\n",
        "# plt.subplot(122)\n",
        "# plt.plot(epochs, acc_values, 'r.', label='Training acc')\n",
        "# plt.plot(epochs, val_acc_values, 'r', label='Validation acc')\n",
        "# plt.title('Training and validation accuracy')\n",
        "# plt.xlabel('Epochs')\n",
        "# plt.ylabel('Accuracy')\n",
        "# plt.legend()\n",
        "# plt.show()"
      ],
      "execution_count": 0,
      "outputs": []
    },
    {
      "cell_type": "markdown",
      "metadata": {
        "id": "Lk-uKNnv1hAT",
        "colab_type": "text"
      },
      "source": [
        "#### Accuracy"
      ]
    },
    {
      "cell_type": "code",
      "metadata": {
        "id": "3P00uKAA1hAU",
        "colab_type": "code",
        "colab": {
          "base_uri": "https://localhost:8080/",
          "height": 68
        },
        "outputId": "53966d88-a5cc-49a3-f4ad-22703ed3a722"
      },
      "source": [
        "results_train = cnn_i.evaluate(X_train, y_train)\n",
        "results_test = cnn_i.evaluate(X_test, y_test)\n",
        "print(results_train, results_test)"
      ],
      "execution_count": 52,
      "outputs": [
        {
          "output_type": "stream",
          "text": [
            "435/435 [==============================] - 3s 7ms/step\n",
            "136/136 [==============================] - 1s 7ms/step\n",
            "[0.5452979244377422, 0.9379310354419138] [0.5491433634477503, 0.9191176470588235]\n"
          ],
          "name": "stdout"
        }
      ]
    },
    {
      "cell_type": "markdown",
      "metadata": {
        "id": "-ibwx4Bi1hAW",
        "colab_type": "text"
      },
      "source": [
        "#### Confusion Matrix"
      ]
    },
    {
      "cell_type": "code",
      "metadata": {
        "id": "CPg-Vu2a1hAW",
        "colab_type": "code",
        "colab": {}
      },
      "source": [
        "predictions_transfer_cnn_i = cnn_i.predict(X_test)\n",
        "predictions_transfer_cnn_i = np.around(predictions_transfer)"
      ],
      "execution_count": 0,
      "outputs": []
    },
    {
      "cell_type": "code",
      "metadata": {
        "id": "PtMn2LuM1hAY",
        "colab_type": "code",
        "colab": {
          "base_uri": "https://localhost:8080/",
          "height": 348
        },
        "outputId": "14abc9c1-18b1-44f7-c21f-9e405e160477"
      },
      "source": [
        "plt.figure()\n",
        "plot_confusion_matrix(confusion_matrix(y_test, predictions_transfer_cnn_i), classes=['bobcat', 'not bobcat'], normalize=False,\n",
        "                      title='Confusion matrix - ImagenetV3')"
      ],
      "execution_count": 54,
      "outputs": [
        {
          "output_type": "stream",
          "text": [
            "Confusion matrix, without normalization\n",
            "[[57  9]\n",
            " [14 56]]\n"
          ],
          "name": "stdout"
        },
        {
          "output_type": "display_data",
          "data": {
            "image/png": "[encoded data removed]",
            "text/plain": [
              "<Figure size 432x288 with 2 Axes>"
            ]
          },
          "metadata": {
            "tags": []
          }
        }
      ]
    },
    {
      "cell_type": "markdown",
      "metadata": {
        "id": "lrjsL5LZ1hAb",
        "colab_type": "text"
      },
      "source": [
        "#### F1 Score"
      ]
    },
    {
      "cell_type": "code",
      "metadata": {
        "id": "lDY-Cgt71hAc",
        "colab_type": "code",
        "colab": {}
      },
      "source": [
        "predictions_transfer_cnn_i = cnn_i.predict(X_test)\n",
        "predictions_transfer_cnn_i = np.around(predictions_transfer)"
      ],
      "execution_count": 0,
      "outputs": []
    },
    {
      "cell_type": "code",
      "metadata": {
        "id": "VsLLw6BK1hAd",
        "colab_type": "code",
        "colab": {
          "base_uri": "https://localhost:8080/",
          "height": 34
        },
        "outputId": "2634ac4a-9cd3-4e33-cb7c-7baa2d4dc5b2"
      },
      "source": [
        "f1_score(y_test, predictions_transfer_cnn_i)"
      ],
      "execution_count": 56,
      "outputs": [
        {
          "output_type": "execute_result",
          "data": {
            "text/plain": [
              "0.8296296296296297"
            ]
          },
          "metadata": {
            "tags": []
          },
          "execution_count": 56
        }
      ]
    },
    {
      "cell_type": "code",
      "metadata": {
        "id": "qkTRlfgQ1hAg",
        "colab_type": "code",
        "colab": {}
      },
      "source": [
        ""
      ],
      "execution_count": 0,
      "outputs": []
    },
    {
      "cell_type": "code",
      "metadata": {
        "id": "H6MSlxpj1hAi",
        "colab_type": "code",
        "colab": {}
      },
      "source": [
        ""
      ],
      "execution_count": 0,
      "outputs": []
    },
    {
      "cell_type": "markdown",
      "metadata": {
        "id": "E57w9iUt1hAj",
        "colab_type": "text"
      },
      "source": [
        "#### ROC Graph"
      ]
    },
    {
      "cell_type": "code",
      "metadata": {
        "id": "tJYmb7Mm1hAj",
        "colab_type": "code",
        "colab": {
          "base_uri": "https://localhost:8080/",
          "height": 295
        },
        "outputId": "8715b241-4366-493e-f6ea-9fd9c461f6cf"
      },
      "source": [
        "import numpy as np\n",
        "import sklearn\n",
        "from sklearn import metrics\n",
        "from sklearn.metrics import roc_curve\n",
        "from sklearn.metrics import roc_auc_score\n",
        "\n",
        "roc_predictions_transfer = cnn.predict(X_test)\n",
        "\n",
        "fpr, tpr = roc_curve(y_test, roc_predictions_transfer)[:2]\n",
        "\n",
        "auc_cnn_i = roc_auc_score(y_test, roc_predictions_transfer)\n",
        "\n",
        "plt.figure()\n",
        "lw = 2\n",
        "plt.plot(fpr, tpr, color='darkorange',\n",
        "         lw=lw, label='ROC curve (area = %0.2f)' % auc_cnn)\n",
        "plt.plot([0, 1], [0, 1], color='navy', lw=lw, linestyle='--')\n",
        "plt.xlim([0.0, 1.0])\n",
        "plt.ylim([0.0, 1.05])\n",
        "plt.xlabel('False Positive Rate')\n",
        "plt.ylabel('True Positive Rate')\n",
        "plt.title('Receiver operating characteristic example')\n",
        "plt.legend(loc=\"lower right\")\n",
        "plt.show()"
      ],
      "execution_count": 57,
      "outputs": [
        {
          "output_type": "display_data",
          "data": {
            "image/png": "[encoded data removed]",
            "text/plain": [
              "<Figure size 432x288 with 1 Axes>"
            ]
          },
          "metadata": {
            "tags": []
          }
        }
      ]
    },
    {
      "cell_type": "code",
      "metadata": {
        "id": "i0EmesZj1hAm",
        "colab_type": "code",
        "colab": {}
      },
      "source": [
        ""
      ],
      "execution_count": 0,
      "outputs": []
    },
    {
      "cell_type": "markdown",
      "metadata": {
        "id": "rAfy0QZl1hAn",
        "colab_type": "text"
      },
      "source": [
        "# 20-class Wildlife Classification"
      ]
    },
    {
      "cell_type": "markdown",
      "metadata": {
        "id": "U6joYjuV1hAo",
        "colab_type": "text"
      },
      "source": [
        "## Import Libraries for Multiclass CNN with Inception"
      ]
    },
    {
      "cell_type": "code",
      "metadata": {
        "id": "PNTGo_5H1hAo",
        "colab_type": "code",
        "colab": {}
      },
      "source": [
        "import matplotlib.pyplot as plt\n",
        "import numpy as np\n",
        "import os, shutil\n",
        "import os\n",
        "import numpy as np\n",
        "import pandas as pd\n",
        "import itertools\n",
        "import seaborn as sns\n",
        "import functools\n",
        "\n",
        "from keras import models\n",
        "from keras import layers\n",
        "from keras.models import load_model\n",
        "from keras.preprocessing.image import ImageDataGenerator, array_to_img, img_to_array, load_img\n",
        "from sklearn.metrics import confusion_matrix, f1_score\n",
        "from sklearn.model_selection import train_test_split\n",
        "from shutil import copy2\n",
        "\n",
        "from keras.applications import inception_v3\n",
        "from keras.layers import Dense,GlobalAveragePooling2D\n",
        "from sklearn.metrics import confusion_matrix, f1_score\n",
        "from keras.models import Model\n",
        "from sklearn.model_selection import train_test_split\n",
        "from keras.metrics import top_k_categorical_accuracy\n",
        "from keras.callbacks import ModelCheckpoint\n",
        "\n",
        "np.random.seed(123)"
      ],
      "execution_count": 0,
      "outputs": []
    },
    {
      "cell_type": "markdown",
      "metadata": {
        "id": "nv5nfKjN1hAq",
        "colab_type": "text"
      },
      "source": [
        "## Prepare Data"
      ]
    },
    {
      "cell_type": "markdown",
      "metadata": {
        "id": "vUf8t7AM1hAr",
        "colab_type": "text"
      },
      "source": [
        "### Import, Resize, and Rescale Images"
      ]
    },
    {
      "cell_type": "code",
      "metadata": {
        "id": "fXSW6cei1hAr",
        "colab_type": "code",
        "colab": {
          "base_uri": "https://localhost:8080/",
          "height": 51
        },
        "outputId": "02c60db9-a2ea-4b49-b29f-660a5abc7800"
      },
      "source": [
        "multi_data_te = ImageDataGenerator(rescale=1./255).flow_from_directory( \n",
        "        '/content/drive/My Drive/final_project_data/multiclass/test', \n",
        "        target_size=(224, 224), \n",
        "        batch_size = 100, \n",
        "        class_mode='categorical',\n",
        "        seed = 123)\n",
        "\n",
        "multi_data_tr = ImageDataGenerator(rescale=1./255).flow_from_directory( \n",
        "        '/content/drive/My Drive/final_project_data/multiclass/train', \n",
        "        target_size=(224, 224), \n",
        "        batch_size = 100, \n",
        "        class_mode='categorical',\n",
        "        seed = 123) "
      ],
      "execution_count": 19,
      "outputs": [
        {
          "output_type": "stream",
          "text": [
            "Found 2776 images belonging to 20 classes.\n",
            "Found 11179 images belonging to 20 classes.\n"
          ],
          "name": "stdout"
        }
      ]
    },
    {
      "cell_type": "code",
      "metadata": {
        "id": "LOGPnAGx1hAu",
        "colab_type": "code",
        "colab": {}
      },
      "source": [
        "# def imagenlabel_gen_multi(test_dir, train_dir, images=None, labels=None):\n",
        "#     # Generate and resize images\n",
        "#     multi_data_te = ImageDataGenerator(rescale=1./255).flow_from_directory( \n",
        "#         test_dir, \n",
        "#         target_size=(224, 224), \n",
        "#         batch_size = 2776, \n",
        "#         class_mode='categorical',\n",
        "#         seed = 123)\n",
        "#     multi_data_tr = ImageDataGenerator(rescale=1./255).flow_from_directory( \n",
        "#         train_dir, \n",
        "#         target_size=(224, 224), \n",
        "#         batch_size = 340, \n",
        "#         class_mode='categorical',\n",
        "#         seed = 123) \n",
        "    \n",
        "#     # Split images and labels into arrays\n",
        "#     multi_images_te, multi_labels_te = next(multi_data_te)\n",
        "#     multi_images_tr, multi_labels_tr = next(multi_data_tr)\n",
        "    \n",
        "#     # Final images and labels\n",
        "#     multi_images = np.concatenate((multi_images_tr, multi_images_te))\n",
        "#     multi_labels = np.concatenate((multi_labels_tr[:,0], multi_labels_te[:,0]))\n",
        "    \n",
        "#     return(multi_images_te, multi_labels_te,multi_images_tr, multi_labels_tr, multi_images, multi_labels)"
      ],
      "execution_count": 0,
      "outputs": []
    },
    {
      "cell_type": "markdown",
      "metadata": {
        "id": "N1nvzGIU1hAw",
        "colab_type": "text"
      },
      "source": [
        "### Split Images and Labels into Arrays"
      ]
    },
    {
      "cell_type": "code",
      "metadata": {
        "id": "lMoxeu911hAw",
        "colab_type": "code",
        "colab": {}
      },
      "source": [
        "# multi_images_tr, multi_labels_tr = next(multi_data_tr)"
      ],
      "execution_count": 0,
      "outputs": []
    },
    {
      "cell_type": "code",
      "metadata": {
        "id": "O0h1qiRT1hAy",
        "colab_type": "code",
        "colab": {}
      },
      "source": [
        "# multi_images_te, multi_labels_te = next(multi_data_te)"
      ],
      "execution_count": 0,
      "outputs": []
    },
    {
      "cell_type": "code",
      "metadata": {
        "id": "XgBjrAdz1hA1",
        "colab_type": "code",
        "colab": {}
      },
      "source": [
        "# multi_test = '/content/drive/My Drive/final_project_data/multiclass/test'\n",
        "# multi_train = '/content/drive/My Drive/final_project_data/multiclass/train'"
      ],
      "execution_count": 0,
      "outputs": []
    },
    {
      "cell_type": "code",
      "metadata": {
        "id": "qWAXlKXY1hA2",
        "colab_type": "code",
        "colab": {
          "base_uri": "https://localhost:8080/",
          "height": 395
        },
        "outputId": "d550dd58-235e-4230-b9b5-135ae7c02d08"
      },
      "source": [
        "# multi_images_te, multi_labels_te,multi_images_tr, multi_labels_tr, multi_images, multi_labels = imagenlabel_gen_multi(multi_test, multi_train)"
      ],
      "execution_count": 64,
      "outputs": [
        {
          "output_type": "stream",
          "text": [
            "Found 2776 images belonging to 20 classes.\n",
            "Found 11179 images belonging to 20 classes.\n"
          ],
          "name": "stdout"
        },
        {
          "output_type": "stream",
          "text": [
            "/usr/local/lib/python3.6/dist-packages/PIL/Image.py:914: UserWarning: Palette images with Transparency   expressed in bytes should be converted to RGBA images\n",
            "  'to RGBA images')\n"
          ],
          "name": "stderr"
        },
        {
          "output_type": "error",
          "ename": "KeyboardInterrupt",
          "evalue": "ignored",
          "traceback": [
            "\u001b[0;31m---------------------------------------------------------------------------\u001b[0m",
            "\u001b[0;31mKeyboardInterrupt\u001b[0m                         Traceback (most recent call last)",
            "\u001b[0;32m<ipython-input-64-b9e224ee73a2>\u001b[0m in \u001b[0;36m<module>\u001b[0;34m()\u001b[0m\n\u001b[0;32m----> 1\u001b[0;31m \u001b[0mmulti_images_te\u001b[0m\u001b[0;34m,\u001b[0m \u001b[0mmulti_labels_te\u001b[0m\u001b[0;34m,\u001b[0m\u001b[0mmulti_images_tr\u001b[0m\u001b[0;34m,\u001b[0m \u001b[0mmulti_labels_tr\u001b[0m\u001b[0;34m,\u001b[0m \u001b[0mmulti_images\u001b[0m\u001b[0;34m,\u001b[0m \u001b[0mmulti_labels\u001b[0m \u001b[0;34m=\u001b[0m \u001b[0mimagenlabel_gen_multi\u001b[0m\u001b[0;34m(\u001b[0m\u001b[0mmulti_test\u001b[0m\u001b[0;34m,\u001b[0m \u001b[0mmulti_train\u001b[0m\u001b[0;34m)\u001b[0m\u001b[0;34m\u001b[0m\u001b[0;34m\u001b[0m\u001b[0m\n\u001b[0m",
            "\u001b[0;32m<ipython-input-60-548a1f7489d6>\u001b[0m in \u001b[0;36mimagenlabel_gen_multi\u001b[0;34m(test_dir, train_dir, images, labels)\u001b[0m\n\u001b[1;32m     15\u001b[0m \u001b[0;34m\u001b[0m\u001b[0m\n\u001b[1;32m     16\u001b[0m     \u001b[0;31m# Split images and labels into arrays\u001b[0m\u001b[0;34m\u001b[0m\u001b[0;34m\u001b[0m\u001b[0;34m\u001b[0m\u001b[0m\n\u001b[0;32m---> 17\u001b[0;31m     \u001b[0mmulti_images_te\u001b[0m\u001b[0;34m,\u001b[0m \u001b[0mmulti_labels_te\u001b[0m \u001b[0;34m=\u001b[0m \u001b[0mnext\u001b[0m\u001b[0;34m(\u001b[0m\u001b[0mmulti_data_te\u001b[0m\u001b[0;34m)\u001b[0m\u001b[0;34m\u001b[0m\u001b[0;34m\u001b[0m\u001b[0m\n\u001b[0m\u001b[1;32m     18\u001b[0m     \u001b[0mmulti_images_tr\u001b[0m\u001b[0;34m,\u001b[0m \u001b[0mmulti_labels_tr\u001b[0m \u001b[0;34m=\u001b[0m \u001b[0mnext\u001b[0m\u001b[0;34m(\u001b[0m\u001b[0mmulti_data_tr\u001b[0m\u001b[0;34m)\u001b[0m\u001b[0;34m\u001b[0m\u001b[0;34m\u001b[0m\u001b[0m\n\u001b[1;32m     19\u001b[0m \u001b[0;34m\u001b[0m\u001b[0m\n",
            "\u001b[0;32m/usr/local/lib/python3.6/dist-packages/keras_preprocessing/image/iterator.py\u001b[0m in \u001b[0;36m__next__\u001b[0;34m(self, *args, **kwargs)\u001b[0m\n\u001b[1;32m    102\u001b[0m \u001b[0;34m\u001b[0m\u001b[0m\n\u001b[1;32m    103\u001b[0m     \u001b[0;32mdef\u001b[0m \u001b[0m__next__\u001b[0m\u001b[0;34m(\u001b[0m\u001b[0mself\u001b[0m\u001b[0;34m,\u001b[0m \u001b[0;34m*\u001b[0m\u001b[0margs\u001b[0m\u001b[0;34m,\u001b[0m \u001b[0;34m**\u001b[0m\u001b[0mkwargs\u001b[0m\u001b[0;34m)\u001b[0m\u001b[0;34m:\u001b[0m\u001b[0;34m\u001b[0m\u001b[0;34m\u001b[0m\u001b[0m\n\u001b[0;32m--> 104\u001b[0;31m         \u001b[0;32mreturn\u001b[0m \u001b[0mself\u001b[0m\u001b[0;34m.\u001b[0m\u001b[0mnext\u001b[0m\u001b[0;34m(\u001b[0m\u001b[0;34m*\u001b[0m\u001b[0margs\u001b[0m\u001b[0;34m,\u001b[0m \u001b[0;34m**\u001b[0m\u001b[0mkwargs\u001b[0m\u001b[0;34m)\u001b[0m\u001b[0;34m\u001b[0m\u001b[0;34m\u001b[0m\u001b[0m\n\u001b[0m\u001b[1;32m    105\u001b[0m \u001b[0;34m\u001b[0m\u001b[0m\n\u001b[1;32m    106\u001b[0m     \u001b[0;32mdef\u001b[0m \u001b[0mnext\u001b[0m\u001b[0;34m(\u001b[0m\u001b[0mself\u001b[0m\u001b[0;34m)\u001b[0m\u001b[0;34m:\u001b[0m\u001b[0;34m\u001b[0m\u001b[0;34m\u001b[0m\u001b[0m\n",
            "\u001b[0;32m/usr/local/lib/python3.6/dist-packages/keras_preprocessing/image/iterator.py\u001b[0m in \u001b[0;36mnext\u001b[0;34m(self)\u001b[0m\n\u001b[1;32m    114\u001b[0m         \u001b[0;31m# The transformation of images is not under thread lock\u001b[0m\u001b[0;34m\u001b[0m\u001b[0;34m\u001b[0m\u001b[0;34m\u001b[0m\u001b[0m\n\u001b[1;32m    115\u001b[0m         \u001b[0;31m# so it can be done in parallel\u001b[0m\u001b[0;34m\u001b[0m\u001b[0;34m\u001b[0m\u001b[0;34m\u001b[0m\u001b[0m\n\u001b[0;32m--> 116\u001b[0;31m         \u001b[0;32mreturn\u001b[0m \u001b[0mself\u001b[0m\u001b[0;34m.\u001b[0m\u001b[0m_get_batches_of_transformed_samples\u001b[0m\u001b[0;34m(\u001b[0m\u001b[0mindex_array\u001b[0m\u001b[0;34m)\u001b[0m\u001b[0;34m\u001b[0m\u001b[0;34m\u001b[0m\u001b[0m\n\u001b[0m\u001b[1;32m    117\u001b[0m \u001b[0;34m\u001b[0m\u001b[0m\n\u001b[1;32m    118\u001b[0m     \u001b[0;32mdef\u001b[0m \u001b[0m_get_batches_of_transformed_samples\u001b[0m\u001b[0;34m(\u001b[0m\u001b[0mself\u001b[0m\u001b[0;34m,\u001b[0m \u001b[0mindex_array\u001b[0m\u001b[0;34m)\u001b[0m\u001b[0;34m:\u001b[0m\u001b[0;34m\u001b[0m\u001b[0;34m\u001b[0m\u001b[0m\n",
            "\u001b[0;32m/usr/local/lib/python3.6/dist-packages/keras_preprocessing/image/iterator.py\u001b[0m in \u001b[0;36m_get_batches_of_transformed_samples\u001b[0;34m(self, index_array)\u001b[0m\n\u001b[1;32m    228\u001b[0m                            \u001b[0mcolor_mode\u001b[0m\u001b[0;34m=\u001b[0m\u001b[0mself\u001b[0m\u001b[0;34m.\u001b[0m\u001b[0mcolor_mode\u001b[0m\u001b[0;34m,\u001b[0m\u001b[0;34m\u001b[0m\u001b[0;34m\u001b[0m\u001b[0m\n\u001b[1;32m    229\u001b[0m                            \u001b[0mtarget_size\u001b[0m\u001b[0;34m=\u001b[0m\u001b[0mself\u001b[0m\u001b[0;34m.\u001b[0m\u001b[0mtarget_size\u001b[0m\u001b[0;34m,\u001b[0m\u001b[0;34m\u001b[0m\u001b[0;34m\u001b[0m\u001b[0m\n\u001b[0;32m--> 230\u001b[0;31m                            interpolation=self.interpolation)\n\u001b[0m\u001b[1;32m    231\u001b[0m             \u001b[0mx\u001b[0m \u001b[0;34m=\u001b[0m \u001b[0mimg_to_array\u001b[0m\u001b[0;34m(\u001b[0m\u001b[0mimg\u001b[0m\u001b[0;34m,\u001b[0m \u001b[0mdata_format\u001b[0m\u001b[0;34m=\u001b[0m\u001b[0mself\u001b[0m\u001b[0;34m.\u001b[0m\u001b[0mdata_format\u001b[0m\u001b[0;34m)\u001b[0m\u001b[0;34m\u001b[0m\u001b[0;34m\u001b[0m\u001b[0m\n\u001b[1;32m    232\u001b[0m             \u001b[0;31m# Pillow images should be closed after `load_img`,\u001b[0m\u001b[0;34m\u001b[0m\u001b[0;34m\u001b[0m\u001b[0;34m\u001b[0m\u001b[0m\n",
            "\u001b[0;32m/usr/local/lib/python3.6/dist-packages/keras_preprocessing/image/utils.py\u001b[0m in \u001b[0;36mload_img\u001b[0;34m(path, grayscale, color_mode, target_size, interpolation)\u001b[0m\n\u001b[1;32m    108\u001b[0m         raise ImportError('Could not import PIL.Image. '\n\u001b[1;32m    109\u001b[0m                           'The use of `load_img` requires PIL.')\n\u001b[0;32m--> 110\u001b[0;31m     \u001b[0mimg\u001b[0m \u001b[0;34m=\u001b[0m \u001b[0mpil_image\u001b[0m\u001b[0;34m.\u001b[0m\u001b[0mopen\u001b[0m\u001b[0;34m(\u001b[0m\u001b[0mpath\u001b[0m\u001b[0;34m)\u001b[0m\u001b[0;34m\u001b[0m\u001b[0;34m\u001b[0m\u001b[0m\n\u001b[0m\u001b[1;32m    111\u001b[0m     \u001b[0;32mif\u001b[0m \u001b[0mcolor_mode\u001b[0m \u001b[0;34m==\u001b[0m \u001b[0;34m'grayscale'\u001b[0m\u001b[0;34m:\u001b[0m\u001b[0;34m\u001b[0m\u001b[0;34m\u001b[0m\u001b[0m\n\u001b[1;32m    112\u001b[0m         \u001b[0;32mif\u001b[0m \u001b[0mimg\u001b[0m\u001b[0;34m.\u001b[0m\u001b[0mmode\u001b[0m \u001b[0;34m!=\u001b[0m \u001b[0;34m'L'\u001b[0m\u001b[0;34m:\u001b[0m\u001b[0;34m\u001b[0m\u001b[0;34m\u001b[0m\u001b[0m\n",
            "\u001b[0;32m/usr/local/lib/python3.6/dist-packages/PIL/Image.py\u001b[0m in \u001b[0;36mopen\u001b[0;34m(fp, mode)\u001b[0m\n\u001b[1;32m   2537\u001b[0m         \u001b[0mexclusive_fp\u001b[0m \u001b[0;34m=\u001b[0m \u001b[0;32mTrue\u001b[0m\u001b[0;34m\u001b[0m\u001b[0;34m\u001b[0m\u001b[0m\n\u001b[1;32m   2538\u001b[0m \u001b[0;34m\u001b[0m\u001b[0m\n\u001b[0;32m-> 2539\u001b[0;31m     \u001b[0mprefix\u001b[0m \u001b[0;34m=\u001b[0m \u001b[0mfp\u001b[0m\u001b[0;34m.\u001b[0m\u001b[0mread\u001b[0m\u001b[0;34m(\u001b[0m\u001b[0;36m16\u001b[0m\u001b[0;34m)\u001b[0m\u001b[0;34m\u001b[0m\u001b[0;34m\u001b[0m\u001b[0m\n\u001b[0m\u001b[1;32m   2540\u001b[0m \u001b[0;34m\u001b[0m\u001b[0m\n\u001b[1;32m   2541\u001b[0m     \u001b[0mpreinit\u001b[0m\u001b[0;34m(\u001b[0m\u001b[0;34m)\u001b[0m\u001b[0;34m\u001b[0m\u001b[0;34m\u001b[0m\u001b[0m\n",
            "\u001b[0;31mKeyboardInterrupt\u001b[0m: "
          ]
        }
      ]
    },
    {
      "cell_type": "markdown",
      "metadata": {
        "id": "7DKi-Fjv1hA3",
        "colab_type": "text"
      },
      "source": [
        "### Perform Train-Test Split"
      ]
    },
    {
      "cell_type": "code",
      "metadata": {
        "id": "ZP6b_t161hA4",
        "colab_type": "code",
        "colab": {}
      },
      "source": [
        "# X_train, X_val, y_train, y_val = train_test_split(multi_images_tr, multi_labels_tr, test_size=0.20, random_state=123)"
      ],
      "execution_count": 0,
      "outputs": []
    },
    {
      "cell_type": "code",
      "metadata": {
        "id": "F2DecwZB1hA5",
        "colab_type": "code",
        "colab": {}
      },
      "source": [
        "# y_test  = multi_labels_te"
      ],
      "execution_count": 0,
      "outputs": []
    },
    {
      "cell_type": "code",
      "metadata": {
        "id": "eOp7SjPZ1hA8",
        "colab_type": "code",
        "colab": {}
      },
      "source": [
        "# y_test.shape"
      ],
      "execution_count": 0,
      "outputs": []
    },
    {
      "cell_type": "code",
      "metadata": {
        "id": "8T0JjX5_1hA9",
        "colab_type": "code",
        "colab": {}
      },
      "source": [
        "# X_test = multi_images_te"
      ],
      "execution_count": 0,
      "outputs": []
    },
    {
      "cell_type": "code",
      "metadata": {
        "id": "kqiE3FOK1hA-",
        "colab_type": "code",
        "colab": {}
      },
      "source": [
        "# X_test.shape"
      ],
      "execution_count": 0,
      "outputs": []
    },
    {
      "cell_type": "markdown",
      "metadata": {
        "id": "GsrO4wve1hBB",
        "colab_type": "text"
      },
      "source": [
        "## Multi-class CNN-i Model"
      ]
    },
    {
      "cell_type": "markdown",
      "metadata": {
        "id": "kO9ki8sW1hBB",
        "colab_type": "text"
      },
      "source": [
        "### Create Model"
      ]
    },
    {
      "cell_type": "code",
      "metadata": {
        "id": "YJ238oCT1hBB",
        "colab_type": "code",
        "colab": {}
      },
      "source": [
        ""
      ],
      "execution_count": 0,
      "outputs": []
    },
    {
      "cell_type": "code",
      "metadata": {
        "id": "RUmv7Y1D1hBD",
        "colab_type": "code",
        "colab": {
          "base_uri": "https://localhost:8080/",
          "height": 105
        },
        "outputId": "8556bb6a-13e5-48ae-b3e9-7864a2947f66"
      },
      "source": [
        "imagenet=inception_v3.InceptionV3(weights='imagenet',include_top=False)\n",
        "imagenet_new=imagenet.output\n",
        "multi_class_model = models.Sequential()\n",
        "multi_class_model.add(imagenet)\n",
        "multi_class_model.add(GlobalAveragePooling2D())\n",
        "multi_class_model.add(Dense(1024,activation='relu'))\n",
        "multi_class_model.add(Dense(1024,activation='relu')) #dense layer 2\n",
        "multi_class_model.add(Dense(512,activation='relu')) #dense layer 3\n",
        "multi_class_model.add(Dense(20,activation='softmax')) #final layer with softmax activation"
      ],
      "execution_count": 4,
      "outputs": [
        {
          "output_type": "stream",
          "text": [
            "W0730 15:28:56.820874 140491916240768 deprecation_wrapper.py:119] From /usr/local/lib/python3.6/dist-packages/keras/backend/tensorflow_backend.py:3980: The name tf.nn.avg_pool is deprecated. Please use tf.nn.avg_pool2d instead.\n",
            "\n"
          ],
          "name": "stderr"
        },
        {
          "output_type": "stream",
          "text": [
            "Downloading data from https://github.com/fchollet/deep-learning-models/releases/download/v0.5/inception_v3_weights_tf_dim_ordering_tf_kernels_notop.h5\n",
            "87916544/87910968 [==============================] - 3s 0us/step\n"
          ],
          "name": "stdout"
        }
      ]
    },
    {
      "cell_type": "code",
      "metadata": {
        "id": "JtV7tz2W1hBE",
        "colab_type": "code",
        "colab": {
          "base_uri": "https://localhost:8080/",
          "height": 1000
        },
        "outputId": "657a6a84-032d-4358-e752-d7f1ab7c655f"
      },
      "source": [
        "for i,layer in enumerate(imagenet.layers):\n",
        "  print(i,layer.name, layer.trainable)"
      ],
      "execution_count": 7,
      "outputs": [
        {
          "output_type": "stream",
          "text": [
            "0 input_1 False\n",
            "1 conv2d_4 True\n",
            "2 batch_normalization_4 True\n",
            "3 activation_1 True\n",
            "4 conv2d_5 True\n",
            "5 batch_normalization_5 True\n",
            "6 activation_2 True\n",
            "7 conv2d_6 True\n",
            "8 batch_normalization_6 True\n",
            "9 activation_3 True\n",
            "10 max_pooling2d_4 True\n",
            "11 conv2d_7 True\n",
            "12 batch_normalization_7 True\n",
            "13 activation_4 True\n",
            "14 conv2d_8 True\n",
            "15 batch_normalization_8 True\n",
            "16 activation_5 True\n",
            "17 max_pooling2d_5 True\n",
            "18 conv2d_12 True\n",
            "19 batch_normalization_12 True\n",
            "20 activation_9 True\n",
            "21 conv2d_10 True\n",
            "22 conv2d_13 True\n",
            "23 batch_normalization_10 True\n",
            "24 batch_normalization_13 True\n",
            "25 activation_7 True\n",
            "26 activation_10 True\n",
            "27 average_pooling2d_1 True\n",
            "28 conv2d_9 True\n",
            "29 conv2d_11 True\n",
            "30 conv2d_14 True\n",
            "31 conv2d_15 True\n",
            "32 batch_normalization_9 True\n",
            "33 batch_normalization_11 True\n",
            "34 batch_normalization_14 True\n",
            "35 batch_normalization_15 True\n",
            "36 activation_6 True\n",
            "37 activation_8 True\n",
            "38 activation_11 True\n",
            "39 activation_12 True\n",
            "40 mixed0 True\n",
            "41 conv2d_19 True\n",
            "42 batch_normalization_19 True\n",
            "43 activation_16 True\n",
            "44 conv2d_17 True\n",
            "45 conv2d_20 True\n",
            "46 batch_normalization_17 True\n",
            "47 batch_normalization_20 True\n",
            "48 activation_14 True\n",
            "49 activation_17 True\n",
            "50 average_pooling2d_2 True\n",
            "51 conv2d_16 True\n",
            "52 conv2d_18 True\n",
            "53 conv2d_21 True\n",
            "54 conv2d_22 True\n",
            "55 batch_normalization_16 True\n",
            "56 batch_normalization_18 True\n",
            "57 batch_normalization_21 True\n",
            "58 batch_normalization_22 True\n",
            "59 activation_13 True\n",
            "60 activation_15 True\n",
            "61 activation_18 True\n",
            "62 activation_19 True\n",
            "63 mixed1 True\n",
            "64 conv2d_26 True\n",
            "65 batch_normalization_26 True\n",
            "66 activation_23 True\n",
            "67 conv2d_24 True\n",
            "68 conv2d_27 True\n",
            "69 batch_normalization_24 True\n",
            "70 batch_normalization_27 True\n",
            "71 activation_21 True\n",
            "72 activation_24 True\n",
            "73 average_pooling2d_3 True\n",
            "74 conv2d_23 True\n",
            "75 conv2d_25 True\n",
            "76 conv2d_28 True\n",
            "77 conv2d_29 True\n",
            "78 batch_normalization_23 True\n",
            "79 batch_normalization_25 True\n",
            "80 batch_normalization_28 True\n",
            "81 batch_normalization_29 True\n",
            "82 activation_20 True\n",
            "83 activation_22 True\n",
            "84 activation_25 True\n",
            "85 activation_26 True\n",
            "86 mixed2 True\n",
            "87 conv2d_31 True\n",
            "88 batch_normalization_31 True\n",
            "89 activation_28 True\n",
            "90 conv2d_32 True\n",
            "91 batch_normalization_32 True\n",
            "92 activation_29 True\n",
            "93 conv2d_30 True\n",
            "94 conv2d_33 True\n",
            "95 batch_normalization_30 True\n",
            "96 batch_normalization_33 True\n",
            "97 activation_27 True\n",
            "98 activation_30 True\n",
            "99 max_pooling2d_6 True\n",
            "100 mixed3 True\n",
            "101 conv2d_38 True\n",
            "102 batch_normalization_38 True\n",
            "103 activation_35 True\n",
            "104 conv2d_39 True\n",
            "105 batch_normalization_39 True\n",
            "106 activation_36 True\n",
            "107 conv2d_35 True\n",
            "108 conv2d_40 True\n",
            "109 batch_normalization_35 True\n",
            "110 batch_normalization_40 True\n",
            "111 activation_32 True\n",
            "112 activation_37 True\n",
            "113 conv2d_36 True\n",
            "114 conv2d_41 True\n",
            "115 batch_normalization_36 True\n",
            "116 batch_normalization_41 True\n",
            "117 activation_33 True\n",
            "118 activation_38 True\n",
            "119 average_pooling2d_4 True\n",
            "120 conv2d_34 True\n",
            "121 conv2d_37 True\n",
            "122 conv2d_42 True\n",
            "123 conv2d_43 True\n",
            "124 batch_normalization_34 True\n",
            "125 batch_normalization_37 True\n",
            "126 batch_normalization_42 True\n",
            "127 batch_normalization_43 True\n",
            "128 activation_31 True\n",
            "129 activation_34 True\n",
            "130 activation_39 True\n",
            "131 activation_40 True\n",
            "132 mixed4 True\n",
            "133 conv2d_48 True\n",
            "134 batch_normalization_48 True\n",
            "135 activation_45 True\n",
            "136 conv2d_49 True\n",
            "137 batch_normalization_49 True\n",
            "138 activation_46 True\n",
            "139 conv2d_45 True\n",
            "140 conv2d_50 True\n",
            "141 batch_normalization_45 True\n",
            "142 batch_normalization_50 True\n",
            "143 activation_42 True\n",
            "144 activation_47 True\n",
            "145 conv2d_46 True\n",
            "146 conv2d_51 True\n",
            "147 batch_normalization_46 True\n",
            "148 batch_normalization_51 True\n",
            "149 activation_43 True\n",
            "150 activation_48 True\n",
            "151 average_pooling2d_5 True\n",
            "152 conv2d_44 True\n",
            "153 conv2d_47 True\n",
            "154 conv2d_52 True\n",
            "155 conv2d_53 True\n",
            "156 batch_normalization_44 True\n",
            "157 batch_normalization_47 True\n",
            "158 batch_normalization_52 True\n",
            "159 batch_normalization_53 True\n",
            "160 activation_41 True\n",
            "161 activation_44 True\n",
            "162 activation_49 True\n",
            "163 activation_50 True\n",
            "164 mixed5 True\n",
            "165 conv2d_58 True\n",
            "166 batch_normalization_58 True\n",
            "167 activation_55 True\n",
            "168 conv2d_59 True\n",
            "169 batch_normalization_59 True\n",
            "170 activation_56 True\n",
            "171 conv2d_55 True\n",
            "172 conv2d_60 True\n",
            "173 batch_normalization_55 True\n",
            "174 batch_normalization_60 True\n",
            "175 activation_52 True\n",
            "176 activation_57 True\n",
            "177 conv2d_56 True\n",
            "178 conv2d_61 True\n",
            "179 batch_normalization_56 True\n",
            "180 batch_normalization_61 True\n",
            "181 activation_53 True\n",
            "182 activation_58 True\n",
            "183 average_pooling2d_6 True\n",
            "184 conv2d_54 True\n",
            "185 conv2d_57 True\n",
            "186 conv2d_62 True\n",
            "187 conv2d_63 True\n",
            "188 batch_normalization_54 True\n",
            "189 batch_normalization_57 True\n",
            "190 batch_normalization_62 True\n",
            "191 batch_normalization_63 True\n",
            "192 activation_51 True\n",
            "193 activation_54 True\n",
            "194 activation_59 True\n",
            "195 activation_60 True\n",
            "196 mixed6 True\n",
            "197 conv2d_68 True\n",
            "198 batch_normalization_68 True\n",
            "199 activation_65 True\n",
            "200 conv2d_69 True\n",
            "201 batch_normalization_69 True\n",
            "202 activation_66 True\n",
            "203 conv2d_65 True\n",
            "204 conv2d_70 True\n",
            "205 batch_normalization_65 True\n",
            "206 batch_normalization_70 True\n",
            "207 activation_62 True\n",
            "208 activation_67 True\n",
            "209 conv2d_66 True\n",
            "210 conv2d_71 True\n",
            "211 batch_normalization_66 True\n",
            "212 batch_normalization_71 True\n",
            "213 activation_63 True\n",
            "214 activation_68 True\n",
            "215 average_pooling2d_7 True\n",
            "216 conv2d_64 True\n",
            "217 conv2d_67 True\n",
            "218 conv2d_72 True\n",
            "219 conv2d_73 True\n",
            "220 batch_normalization_64 True\n",
            "221 batch_normalization_67 True\n",
            "222 batch_normalization_72 True\n",
            "223 batch_normalization_73 True\n",
            "224 activation_61 True\n",
            "225 activation_64 True\n",
            "226 activation_69 True\n",
            "227 activation_70 True\n",
            "228 mixed7 True\n",
            "229 conv2d_76 True\n",
            "230 batch_normalization_76 True\n",
            "231 activation_73 True\n",
            "232 conv2d_77 True\n",
            "233 batch_normalization_77 True\n",
            "234 activation_74 True\n",
            "235 conv2d_74 True\n",
            "236 conv2d_78 True\n",
            "237 batch_normalization_74 True\n",
            "238 batch_normalization_78 True\n",
            "239 activation_71 True\n",
            "240 activation_75 True\n",
            "241 conv2d_75 True\n",
            "242 conv2d_79 True\n",
            "243 batch_normalization_75 True\n",
            "244 batch_normalization_79 True\n",
            "245 activation_72 True\n",
            "246 activation_76 True\n",
            "247 max_pooling2d_7 True\n",
            "248 mixed8 True\n",
            "249 conv2d_84 True\n",
            "250 batch_normalization_84 True\n",
            "251 activation_81 True\n",
            "252 conv2d_81 True\n",
            "253 conv2d_85 True\n",
            "254 batch_normalization_81 True\n",
            "255 batch_normalization_85 True\n",
            "256 activation_78 True\n",
            "257 activation_82 True\n",
            "258 conv2d_82 True\n",
            "259 conv2d_83 True\n",
            "260 conv2d_86 True\n",
            "261 conv2d_87 True\n",
            "262 average_pooling2d_8 True\n",
            "263 conv2d_80 True\n",
            "264 batch_normalization_82 True\n",
            "265 batch_normalization_83 True\n",
            "266 batch_normalization_86 True\n",
            "267 batch_normalization_87 True\n",
            "268 conv2d_88 True\n",
            "269 batch_normalization_80 True\n",
            "270 activation_79 True\n",
            "271 activation_80 True\n",
            "272 activation_83 True\n",
            "273 activation_84 True\n",
            "274 batch_normalization_88 True\n",
            "275 activation_77 True\n",
            "276 mixed9_0 True\n",
            "277 concatenate_1 True\n",
            "278 activation_85 True\n",
            "279 mixed9 True\n",
            "280 conv2d_93 True\n",
            "281 batch_normalization_93 True\n",
            "282 activation_90 True\n",
            "283 conv2d_90 True\n",
            "284 conv2d_94 True\n",
            "285 batch_normalization_90 True\n",
            "286 batch_normalization_94 True\n",
            "287 activation_87 True\n",
            "288 activation_91 True\n",
            "289 conv2d_91 True\n",
            "290 conv2d_92 True\n",
            "291 conv2d_95 True\n",
            "292 conv2d_96 True\n",
            "293 average_pooling2d_9 True\n",
            "294 conv2d_89 True\n",
            "295 batch_normalization_91 True\n",
            "296 batch_normalization_92 True\n",
            "297 batch_normalization_95 True\n",
            "298 batch_normalization_96 True\n",
            "299 conv2d_97 True\n",
            "300 batch_normalization_89 True\n",
            "301 activation_88 True\n",
            "302 activation_89 True\n",
            "303 activation_92 True\n",
            "304 activation_93 True\n",
            "305 batch_normalization_97 True\n",
            "306 activation_86 True\n",
            "307 mixed9_1 True\n",
            "308 concatenate_2 True\n",
            "309 activation_94 True\n",
            "310 mixed10 True\n"
          ],
          "name": "stdout"
        }
      ]
    },
    {
      "cell_type": "code",
      "metadata": {
        "id": "FYrCjJyD1hBF",
        "colab_type": "code",
        "colab": {
          "base_uri": "https://localhost:8080/",
          "height": 119
        },
        "outputId": "9f99196e-4d59-48a2-b8f2-e3ae6fe93a23"
      },
      "source": [
        "for i,layer in enumerate(multi_class_model.layers):\n",
        "  print(i,layer.name, layer.trainable)"
      ],
      "execution_count": 8,
      "outputs": [
        {
          "output_type": "stream",
          "text": [
            "0 inception_v3 True\n",
            "1 global_average_pooling2d_1 True\n",
            "2 dense_3 True\n",
            "3 dense_4 True\n",
            "4 dense_5 True\n",
            "5 dense_6 True\n"
          ],
          "name": "stdout"
        }
      ]
    },
    {
      "cell_type": "code",
      "metadata": {
        "id": "UE5P-hHw1hBH",
        "colab_type": "code",
        "colab": {}
      },
      "source": [
        "for layer in multi_class_model.layers[:1]:\n",
        "    layer.trainable=False"
      ],
      "execution_count": 0,
      "outputs": []
    },
    {
      "cell_type": "code",
      "metadata": {
        "scrolled": true,
        "id": "wlXKsgSF1hBI",
        "colab_type": "code",
        "colab": {
          "base_uri": "https://localhost:8080/",
          "height": 119
        },
        "outputId": "69bcfeeb-b156-4861-b099-a312d162c3d4"
      },
      "source": [
        "for i,layer in enumerate(multi_class_model.layers):\n",
        "  print(i,layer.name, layer.trainable)"
      ],
      "execution_count": 10,
      "outputs": [
        {
          "output_type": "stream",
          "text": [
            "0 inception_v3 False\n",
            "1 global_average_pooling2d_1 True\n",
            "2 dense_3 True\n",
            "3 dense_4 True\n",
            "4 dense_5 True\n",
            "5 dense_6 True\n"
          ],
          "name": "stdout"
        }
      ]
    },
    {
      "cell_type": "markdown",
      "metadata": {
        "id": "KhMYn4k21hBO",
        "colab_type": "text"
      },
      "source": [
        "### Train Model"
      ]
    },
    {
      "cell_type": "code",
      "metadata": {
        "id": "6bGDsCU31hBP",
        "colab_type": "code",
        "colab": {}
      },
      "source": [
        "# top5_accuracy = functools.partial(top_k_categorical_accuracy, k=5)\n",
        "\n",
        "top3_acc = functools.partial(top_k_categorical_accuracy, k=3)\n",
        "\n",
        "top3_acc.__name__ = 'top3_acc'"
      ],
      "execution_count": 0,
      "outputs": []
    },
    {
      "cell_type": "code",
      "metadata": {
        "id": "TbxR7EsU1hBQ",
        "colab_type": "code",
        "colab": {}
      },
      "source": [
        "multi_class_model.compile(optimizer='Adam',loss='categorical_crossentropy',metrics=['accuracy', top3_acc])"
      ],
      "execution_count": 0,
      "outputs": []
    },
    {
      "cell_type": "code",
      "metadata": {
        "scrolled": true,
        "id": "zI1bdVT61hBR",
        "colab_type": "code",
        "colab": {}
      },
      "source": [
        "# multi_class_model_1 = multi_class_model.fit(X_train,\n",
        "#                                           y_train,\n",
        "#                                           epochs=100, #100\n",
        "#                                           batch_size=60, #60\n",
        "#                                           validation_data=(X_val, y_val))"
      ],
      "execution_count": 0,
      "outputs": []
    },
    {
      "cell_type": "code",
      "metadata": {
        "id": "sDE9ZZgEh-gW",
        "colab_type": "code",
        "colab": {}
      },
      "source": [
        "checkpoint = ModelCheckpoint(filepath='/content/drive/My Drive/final_project_data/models/checkpoints.h5', \n",
        "                             monitor='val_acc', \n",
        "                             verbose=1, \n",
        "                             save_best_only=False)"
      ],
      "execution_count": 0,
      "outputs": []
    },
    {
      "cell_type": "code",
      "metadata": {
        "id": "z3ESq-RDTXnt",
        "colab_type": "code",
        "colab": {
          "base_uri": "https://localhost:8080/",
          "height": 1000
        },
        "outputId": "83753072-aab8-4e01-d5d3-d19f9753390b"
      },
      "source": [
        "multi_class_model_1 = multi_class_model.fit_generator(multi_data_tr, \n",
        "                                                      steps_per_epoch=5,\n",
        "                                                      epochs=25,\n",
        "                                                      validation_data=multi_data_te, \n",
        "                                                      validation_steps=10,\n",
        "                                                      callbacks=[checkpoint])"
      ],
      "execution_count": 21,
      "outputs": [
        {
          "output_type": "stream",
          "text": [
            "Epoch 1/25\n",
            "1/5 [=====>........................] - ETA: 3:17 - loss: 2.7285 - acc: 0.2900 - top3_acc: 0.3600"
          ],
          "name": "stdout"
        },
        {
          "output_type": "stream",
          "text": [
            "/usr/local/lib/python3.6/dist-packages/PIL/TiffImagePlugin.py:725: UserWarning: Possibly corrupt EXIF data.  Expecting to read 85 bytes but only got 0. Skipping tag 33285\n",
            "  \" Skipping tag %s\" % (size, len(data), tag))\n",
            "/usr/local/lib/python3.6/dist-packages/PIL/TiffImagePlugin.py:725: UserWarning: Possibly corrupt EXIF data.  Expecting to read 93 bytes but only got 0. Skipping tag 33285\n",
            "  \" Skipping tag %s\" % (size, len(data), tag))\n",
            "/usr/local/lib/python3.6/dist-packages/PIL/TiffImagePlugin.py:725: UserWarning: Possibly corrupt EXIF data.  Expecting to read 141 bytes but only got 0. Skipping tag 37386\n",
            "  \" Skipping tag %s\" % (size, len(data), tag))\n",
            "/usr/local/lib/python3.6/dist-packages/PIL/TiffImagePlugin.py:725: UserWarning: Possibly corrupt EXIF data.  Expecting to read 149 bytes but only got 0. Skipping tag 37381\n",
            "  \" Skipping tag %s\" % (size, len(data), tag))\n",
            "/usr/local/lib/python3.6/dist-packages/PIL/TiffImagePlugin.py:725: UserWarning: Possibly corrupt EXIF data.  Expecting to read 157 bytes but only got 0. Skipping tag 37381\n",
            "  \" Skipping tag %s\" % (size, len(data), tag))\n",
            "/usr/local/lib/python3.6/dist-packages/PIL/TiffImagePlugin.py:725: UserWarning: Possibly corrupt EXIF data.  Expecting to read 144 bytes but only got 0. Skipping tag 40964\n",
            "  \" Skipping tag %s\" % (size, len(data), tag))\n",
            "/usr/local/lib/python3.6/dist-packages/PIL/TiffImagePlugin.py:725: UserWarning: Possibly corrupt EXIF data.  Expecting to read 192 bytes but only got 0. Skipping tag 40964\n",
            "  \" Skipping tag %s\" % (size, len(data), tag))\n",
            "/usr/local/lib/python3.6/dist-packages/PIL/TiffImagePlugin.py:725: UserWarning: Possibly corrupt EXIF data.  Expecting to read 192 bytes but only got 0. Skipping tag 41735\n",
            "  \" Skipping tag %s\" % (size, len(data), tag))\n",
            "/usr/local/lib/python3.6/dist-packages/PIL/TiffImagePlugin.py:725: UserWarning: Possibly corrupt EXIF data.  Expecting to read 62 bytes but only got 0. Skipping tag 41989\n",
            "  \" Skipping tag %s\" % (size, len(data), tag))\n",
            "/usr/local/lib/python3.6/dist-packages/PIL/TiffImagePlugin.py:725: UserWarning: Possibly corrupt EXIF data.  Expecting to read 16908320 bytes but only got 8068. Skipping tag 2048\n",
            "  \" Skipping tag %s\" % (size, len(data), tag))\n",
            "/usr/local/lib/python3.6/dist-packages/PIL/TiffImagePlugin.py:725: UserWarning: Possibly corrupt EXIF data.  Expecting to read 16908320 bytes but only got 8036. Skipping tag 2048\n",
            "  \" Skipping tag %s\" % (size, len(data), tag))\n",
            "/usr/local/lib/python3.6/dist-packages/PIL/TiffImagePlugin.py:725: UserWarning: Possibly corrupt EXIF data.  Expecting to read 34209794 bytes but only got 8258. Skipping tag 2048\n",
            "  \" Skipping tag %s\" % (size, len(data), tag))\n",
            "/usr/local/lib/python3.6/dist-packages/PIL/TiffImagePlugin.py:725: UserWarning: Possibly corrupt EXIF data.  Expecting to read 68157444 bytes but only got 8276. Skipping tag 2304\n",
            "  \" Skipping tag %s\" % (size, len(data), tag))\n",
            "/usr/local/lib/python3.6/dist-packages/PIL/TiffImagePlugin.py:725: UserWarning: Possibly corrupt EXIF data.  Expecting to read 34078722 bytes but only got 8193. Skipping tag 1536\n",
            "  \" Skipping tag %s\" % (size, len(data), tag))\n",
            "/usr/local/lib/python3.6/dist-packages/PIL/TiffImagePlugin.py:725: UserWarning: Possibly corrupt EXIF data.  Expecting to read 34078722 bytes but only got 8105. Skipping tag 1024\n",
            "  \" Skipping tag %s\" % (size, len(data), tag))\n",
            "/usr/local/lib/python3.6/dist-packages/PIL/TiffImagePlugin.py:725: UserWarning: Possibly corrupt EXIF data.  Expecting to read 68157442 bytes but only got 8126. Skipping tag 768\n",
            "  \" Skipping tag %s\" % (size, len(data), tag))\n",
            "/usr/local/lib/python3.6/dist-packages/PIL/TiffImagePlugin.py:725: UserWarning: Possibly corrupt EXIF data.  Expecting to read 136315212 bytes but only got 8268. Skipping tag 1280\n",
            "  \" Skipping tag %s\" % (size, len(data), tag))\n",
            "/usr/local/lib/python3.6/dist-packages/PIL/TiffImagePlugin.py:725: UserWarning: Possibly corrupt EXIF data.  Expecting to read 135004164 bytes but only got 8023. Skipping tag 3584\n",
            "  \" Skipping tag %s\" % (size, len(data), tag))\n",
            "/usr/local/lib/python3.6/dist-packages/PIL/TiffImagePlugin.py:725: UserWarning: Possibly corrupt EXIF data.  Expecting to read 270008328 bytes but only got 8278. Skipping tag 0\n",
            "  \" Skipping tag %s\" % (size, len(data), tag))\n",
            "/usr/local/lib/python3.6/dist-packages/PIL/TiffImagePlugin.py:725: UserWarning: Possibly corrupt EXIF data.  Expecting to read 135004164 bytes but only got 8278. Skipping tag 0\n",
            "  \" Skipping tag %s\" % (size, len(data), tag))\n",
            "/usr/local/lib/python3.6/dist-packages/PIL/TiffImagePlugin.py:725: UserWarning: Possibly corrupt EXIF data.  Expecting to read 50528257 bytes but only got 8074. Skipping tag 0\n",
            "  \" Skipping tag %s\" % (size, len(data), tag))\n",
            "/usr/local/lib/python3.6/dist-packages/PIL/TiffImagePlugin.py:725: UserWarning: Possibly corrupt EXIF data.  Expecting to read 50528257 bytes but only got 8278. Skipping tag 256\n",
            "  \" Skipping tag %s\" % (size, len(data), tag))\n",
            "/usr/local/lib/python3.6/dist-packages/PIL/TiffImagePlugin.py:725: UserWarning: Possibly corrupt EXIF data.  Expecting to read 101056514 bytes but only got 8081. Skipping tag 0\n",
            "  \" Skipping tag %s\" % (size, len(data), tag))\n",
            "/usr/local/lib/python3.6/dist-packages/PIL/TiffImagePlugin.py:725: UserWarning: Possibly corrupt EXIF data.  Expecting to read 202113028 bytes but only got 8056. Skipping tag 256\n",
            "  \" Skipping tag %s\" % (size, len(data), tag))\n",
            "/usr/local/lib/python3.6/dist-packages/PIL/TiffImagePlugin.py:725: UserWarning: Possibly corrupt EXIF data.  Expecting to read 405274632 bytes but only got 8182. Skipping tag 256\n",
            "  \" Skipping tag %s\" % (size, len(data), tag))\n",
            "/usr/local/lib/python3.6/dist-packages/PIL/TiffImagePlugin.py:725: UserWarning: Possibly corrupt EXIF data.  Expecting to read 50528257 bytes but only got 8278. Skipping tag 6656\n",
            "  \" Skipping tag %s\" % (size, len(data), tag))\n",
            "/usr/local/lib/python3.6/dist-packages/PIL/TiffImagePlugin.py:725: UserWarning: Possibly corrupt EXIF data.  Expecting to read 101056514 bytes but only got 8278. Skipping tag 0\n",
            "  \" Skipping tag %s\" % (size, len(data), tag))\n",
            "/usr/local/lib/python3.6/dist-packages/PIL/TiffImagePlugin.py:725: UserWarning: Possibly corrupt EXIF data.  Expecting to read 404226064 bytes but only got 8278. Skipping tag 0\n",
            "  \" Skipping tag %s\" % (size, len(data), tag))\n",
            "/usr/local/lib/python3.6/dist-packages/PIL/TiffImagePlugin.py:725: UserWarning: Possibly corrupt EXIF data.  Expecting to read 302186498 bytes but only got 8278. Skipping tag 0\n",
            "  \" Skipping tag %s\" % (size, len(data), tag))\n",
            "/usr/local/lib/python3.6/dist-packages/PIL/TiffImagePlugin.py:725: UserWarning: Possibly corrupt EXIF data.  Expecting to read 302186497 bytes but only got 8198. Skipping tag 0\n",
            "  \" Skipping tag %s\" % (size, len(data), tag))\n",
            "/usr/local/lib/python3.6/dist-packages/PIL/TiffImagePlugin.py:725: UserWarning: Possibly corrupt EXIF data.  Expecting to read 605290498 bytes but only got 8090. Skipping tag 0\n",
            "  \" Skipping tag %s\" % (size, len(data), tag))\n",
            "/usr/local/lib/python3.6/dist-packages/PIL/TiffImagePlugin.py:725: UserWarning: Possibly corrupt EXIF data.  Expecting to read 1208745988 bytes but only got 8278. Skipping tag 6656\n",
            "  \" Skipping tag %s\" % (size, len(data), tag))\n",
            "/usr/local/lib/python3.6/dist-packages/PIL/TiffImagePlugin.py:725: UserWarning: Possibly corrupt EXIF data.  Expecting to read 2418540552 bytes but only got 8078. Skipping tag 0\n",
            "  \" Skipping tag %s\" % (size, len(data), tag))\n",
            "/usr/local/lib/python3.6/dist-packages/PIL/TiffImagePlugin.py:725: UserWarning: Possibly corrupt EXIF data.  Expecting to read 302186497 bytes but only got 8278. Skipping tag 6656\n",
            "  \" Skipping tag %s\" % (size, len(data), tag))\n",
            "/usr/local/lib/python3.6/dist-packages/PIL/TiffImagePlugin.py:725: UserWarning: Possibly corrupt EXIF data.  Expecting to read 302186497 bytes but only got 8278. Skipping tag 0\n",
            "  \" Skipping tag %s\" % (size, len(data), tag))\n",
            "/usr/local/lib/python3.6/dist-packages/PIL/TiffImagePlugin.py:725: UserWarning: Possibly corrupt EXIF data.  Expecting to read 604372994 bytes but only got 8278. Skipping tag 0\n",
            "  \" Skipping tag %s\" % (size, len(data), tag))\n",
            "/usr/local/lib/python3.6/dist-packages/PIL/TiffImagePlugin.py:725: UserWarning: Possibly corrupt EXIF data.  Expecting to read 2417491976 bytes but only got 8278. Skipping tag 0\n",
            "  \" Skipping tag %s\" % (size, len(data), tag))\n",
            "/usr/local/lib/python3.6/dist-packages/PIL/TiffImagePlugin.py:725: UserWarning: Possibly corrupt EXIF data.  Expecting to read 65537 bytes but only got 0. Skipping tag 1\n",
            "  \" Skipping tag %s\" % (size, len(data), tag))\n",
            "/usr/local/lib/python3.6/dist-packages/PIL/TiffImagePlugin.py:725: UserWarning: Possibly corrupt EXIF data.  Expecting to read 393222 bytes but only got 0. Skipping tag 3\n",
            "  \" Skipping tag %s\" % (size, len(data), tag))\n",
            "/usr/local/lib/python3.6/dist-packages/PIL/TiffImagePlugin.py:725: UserWarning: Possibly corrupt EXIF data.  Expecting to read 65536 bytes but only got 8278. Skipping tag 0\n",
            "  \" Skipping tag %s\" % (size, len(data), tag))\n",
            "/usr/local/lib/python3.6/dist-packages/PIL/TiffImagePlugin.py:725: UserWarning: Possibly corrupt EXIF data.  Expecting to read 6553646 bytes but only got 0. Skipping tag 4608\n",
            "  \" Skipping tag %s\" % (size, len(data), tag))\n",
            "/usr/local/lib/python3.6/dist-packages/PIL/TiffImagePlugin.py:725: UserWarning: Possibly corrupt EXIF data.  Expecting to read 3221260288 bytes but only got 0. Skipping tag 2072\n",
            "  \" Skipping tag %s\" % (size, len(data), tag))\n",
            "/usr/local/lib/python3.6/dist-packages/PIL/TiffImagePlugin.py:725: UserWarning: Possibly corrupt EXIF data.  Expecting to read 268435640 bytes but only got 0. Skipping tag 768\n",
            "  \" Skipping tag %s\" % (size, len(data), tag))\n",
            "/usr/local/lib/python3.6/dist-packages/PIL/TiffImagePlugin.py:725: UserWarning: Possibly corrupt EXIF data.  Expecting to read 4718640 bytes but only got 0. Skipping tag 2560\n",
            "  \" Skipping tag %s\" % (size, len(data), tag))\n",
            "/usr/local/lib/python3.6/dist-packages/PIL/TiffImagePlugin.py:725: UserWarning: Possibly corrupt EXIF data.  Expecting to read 458765 bytes but only got 0. Skipping tag 23\n",
            "  \" Skipping tag %s\" % (size, len(data), tag))\n",
            "/usr/local/lib/python3.6/dist-packages/PIL/TiffImagePlugin.py:725: UserWarning: Possibly corrupt EXIF data.  Expecting to read 1441794 bytes but only got 8278. Skipping tag 161\n",
            "  \" Skipping tag %s\" % (size, len(data), tag))\n",
            "/usr/local/lib/python3.6/dist-packages/PIL/TiffImagePlugin.py:725: UserWarning: Possibly corrupt EXIF data.  Expecting to read 65575 bytes but only got 0. Skipping tag 55\n",
            "  \" Skipping tag %s\" % (size, len(data), tag))\n",
            "/usr/local/lib/python3.6/dist-packages/PIL/TiffImagePlugin.py:725: UserWarning: Possibly corrupt EXIF data.  Expecting to read 393219 bytes but only got 0. Skipping tag 7\n",
            "  \" Skipping tag %s\" % (size, len(data), tag))\n",
            "/usr/local/lib/python3.6/dist-packages/PIL/TiffImagePlugin.py:725: UserWarning: Possibly corrupt EXIF data.  Expecting to read 13369600 bytes but only got 0. Skipping tag 180\n",
            "  \" Skipping tag %s\" % (size, len(data), tag))\n",
            "/usr/local/lib/python3.6/dist-packages/PIL/TiffImagePlugin.py:725: UserWarning: Possibly corrupt EXIF data.  Expecting to read 2080374824 bytes but only got 8278. Skipping tag 256\n",
            "  \" Skipping tag %s\" % (size, len(data), tag))\n",
            "/usr/local/lib/python3.6/dist-packages/PIL/TiffImagePlugin.py:742: UserWarning: Corrupt EXIF data.  Expecting to read 12 bytes but only got 0. \n",
            "  warnings.warn(str(msg))\n"
          ],
          "name": "stderr"
        },
        {
          "output_type": "stream",
          "text": [
            "\b\b\b\b\b\b\b\b\b\b\b\b\b\b\b\b\b\b\b\b\b\b\b\b\b\b\b\b\b\b\b\b\b\b\b\b\b\b\b\b\b\b\b\b\b\b\b\b\b\b\b\b\b\b\b\b\b\b\b\b\b\b\b\b\b\b\b\b\b\b\b\b\b\b\b\b\b\b\b\b\b\b\b\b\b\b\b\b\b\b\b\b\b\b\b\b\r2/5 [===========>..................] - ETA: 2:16 - loss: 2.7457 - acc: 0.2900 - top3_acc: 0.3900"
          ],
          "name": "stdout"
        },
        {
          "output_type": "stream",
          "text": [
            "/usr/local/lib/python3.6/dist-packages/PIL/Image.py:914: UserWarning: Palette images with Transparency   expressed in bytes should be converted to RGBA images\n",
            "  'to RGBA images')\n"
          ],
          "name": "stderr"
        },
        {
          "output_type": "stream",
          "text": [
            "5/5 [==============================] - 432s 86s/step - loss: 2.7162 - acc: 0.2420 - top3_acc: 0.4180 - val_loss: 2.1485 - val_acc: 0.3850 - val_top3_acc: 0.7400\n",
            "\n",
            "Epoch 00001: saving model to /content/drive/My Drive/final_project_data/models/checkpoints.h5\n",
            "Epoch 2/25\n",
            "5/5 [==============================] - 397s 79s/step - loss: 2.3941 - acc: 0.3500 - top3_acc: 0.5800 - val_loss: 1.7493 - val_acc: 0.5230 - val_top3_acc: 0.7220\n",
            "\n",
            "Epoch 00002: saving model to /content/drive/My Drive/final_project_data/models/checkpoints.h5\n",
            "Epoch 3/25\n",
            "5/5 [==============================] - 189s 38s/step - loss: 1.9455 - acc: 0.4520 - top3_acc: 0.7140 - val_loss: 1.3737 - val_acc: 0.5482 - val_top3_acc: 0.8299\n",
            "\n",
            "Epoch 00003: saving model to /content/drive/My Drive/final_project_data/models/checkpoints.h5\n",
            "Epoch 4/25\n",
            "5/5 [==============================] - 23s 5s/step - loss: 1.5710 - acc: 0.5020 - top3_acc: 0.7800 - val_loss: 1.3027 - val_acc: 0.5560 - val_top3_acc: 0.8590\n",
            "\n",
            "Epoch 00004: saving model to /content/drive/My Drive/final_project_data/models/checkpoints.h5\n",
            "Epoch 5/25\n",
            "5/5 [==============================] - 24s 5s/step - loss: 1.4100 - acc: 0.5320 - top3_acc: 0.7940 - val_loss: 1.2491 - val_acc: 0.6400 - val_top3_acc: 0.8760\n",
            "\n",
            "Epoch 00005: saving model to /content/drive/My Drive/final_project_data/models/checkpoints.h5\n",
            "Epoch 6/25\n",
            "5/5 [==============================] - 102s 20s/step - loss: 1.2962 - acc: 0.5620 - top3_acc: 0.8140 - val_loss: 1.0123 - val_acc: 0.6527 - val_top3_acc: 0.9191\n",
            "\n",
            "Epoch 00006: saving model to /content/drive/My Drive/final_project_data/models/checkpoints.h5\n",
            "Epoch 7/25\n",
            "5/5 [==============================] - 178s 36s/step - loss: 1.1762 - acc: 0.6340 - top3_acc: 0.8480 - val_loss: 1.1739 - val_acc: 0.6470 - val_top3_acc: 0.8960\n",
            "\n",
            "Epoch 00007: saving model to /content/drive/My Drive/final_project_data/models/checkpoints.h5\n",
            "Epoch 8/25\n",
            "5/5 [==============================] - 183s 37s/step - loss: 1.1484 - acc: 0.6100 - top3_acc: 0.8540 - val_loss: 1.0793 - val_acc: 0.6760 - val_top3_acc: 0.9070\n",
            "\n",
            "Epoch 00008: saving model to /content/drive/My Drive/final_project_data/models/checkpoints.h5\n",
            "Epoch 9/25\n",
            "5/5 [==============================] - 179s 36s/step - loss: 1.1705 - acc: 0.6140 - top3_acc: 0.8580 - val_loss: 1.0993 - val_acc: 0.6691 - val_top3_acc: 0.9273\n",
            "\n",
            "Epoch 00009: saving model to /content/drive/My Drive/final_project_data/models/checkpoints.h5\n",
            "Epoch 10/25\n",
            "5/5 [==============================] - 173s 35s/step - loss: 0.9888 - acc: 0.6440 - top3_acc: 0.8880 - val_loss: 1.1682 - val_acc: 0.6580 - val_top3_acc: 0.9010\n",
            "\n",
            "Epoch 00010: saving model to /content/drive/My Drive/final_project_data/models/checkpoints.h5\n",
            "Epoch 11/25\n",
            "5/5 [==============================] - 172s 34s/step - loss: 0.9324 - acc: 0.7060 - top3_acc: 0.9040 - val_loss: 1.0697 - val_acc: 0.6988 - val_top3_acc: 0.9324\n",
            "\n",
            "Epoch 00011: saving model to /content/drive/My Drive/final_project_data/models/checkpoints.h5\n",
            "Epoch 12/25\n",
            "5/5 [==============================] - 166s 33s/step - loss: 0.9270 - acc: 0.7040 - top3_acc: 0.9040 - val_loss: 1.1947 - val_acc: 0.6680 - val_top3_acc: 0.9190\n",
            "\n",
            "Epoch 00012: saving model to /content/drive/My Drive/final_project_data/models/checkpoints.h5\n",
            "Epoch 13/25\n",
            "5/5 [==============================] - 170s 34s/step - loss: 1.0298 - acc: 0.6420 - top3_acc: 0.8580 - val_loss: 1.1525 - val_acc: 0.6730 - val_top3_acc: 0.9250\n",
            "\n",
            "Epoch 00013: saving model to /content/drive/My Drive/final_project_data/models/checkpoints.h5\n",
            "Epoch 14/25\n",
            "5/5 [==============================] - 163s 33s/step - loss: 0.8859 - acc: 0.7140 - top3_acc: 0.9200 - val_loss: 1.2186 - val_acc: 0.6855 - val_top3_acc: 0.9129\n",
            "\n",
            "Epoch 00014: saving model to /content/drive/My Drive/final_project_data/models/checkpoints.h5\n",
            "Epoch 15/25\n",
            "5/5 [==============================] - 172s 34s/step - loss: 0.9740 - acc: 0.6620 - top3_acc: 0.9020 - val_loss: 1.2702 - val_acc: 0.6630 - val_top3_acc: 0.9100\n",
            "\n",
            "Epoch 00015: saving model to /content/drive/My Drive/final_project_data/models/checkpoints.h5\n",
            "Epoch 16/25\n",
            "5/5 [==============================] - 168s 34s/step - loss: 0.9579 - acc: 0.6940 - top3_acc: 0.9100 - val_loss: 1.1051 - val_acc: 0.7070 - val_top3_acc: 0.9240\n",
            "\n",
            "Epoch 00016: saving model to /content/drive/My Drive/final_project_data/models/checkpoints.h5\n",
            "Epoch 17/25\n",
            "5/5 [==============================] - 162s 32s/step - loss: 0.8330 - acc: 0.7180 - top3_acc: 0.9020 - val_loss: 1.0700 - val_acc: 0.6998 - val_top3_acc: 0.9201\n",
            "\n",
            "Epoch 00017: saving model to /content/drive/My Drive/final_project_data/models/checkpoints.h5\n",
            "Epoch 18/25\n",
            "5/5 [==============================] - 159s 32s/step - loss: 0.8376 - acc: 0.7260 - top3_acc: 0.9000 - val_loss: 0.9907 - val_acc: 0.7230 - val_top3_acc: 0.9340\n",
            "\n",
            "Epoch 00018: saving model to /content/drive/My Drive/final_project_data/models/checkpoints.h5\n",
            "Epoch 19/25\n",
            "5/5 [==============================] - 152s 30s/step - loss: 0.7720 - acc: 0.7540 - top3_acc: 0.9220 - val_loss: 0.9164 - val_acc: 0.7370 - val_top3_acc: 0.9470\n",
            "\n",
            "Epoch 00019: saving model to /content/drive/My Drive/final_project_data/models/checkpoints.h5\n",
            "Epoch 20/25\n",
            "5/5 [==============================] - 154s 31s/step - loss: 0.6934 - acc: 0.7660 - top3_acc: 0.9400 - val_loss: 1.0080 - val_acc: 0.7398 - val_top3_acc: 0.9283\n",
            "\n",
            "Epoch 00020: saving model to /content/drive/My Drive/final_project_data/models/checkpoints.h5\n",
            "Epoch 21/25\n",
            "5/5 [==============================] - 156s 31s/step - loss: 0.8856 - acc: 0.7100 - top3_acc: 0.8980 - val_loss: 1.1291 - val_acc: 0.7190 - val_top3_acc: 0.9360\n",
            "\n",
            "Epoch 00021: saving model to /content/drive/My Drive/final_project_data/models/checkpoints.h5\n",
            "Epoch 22/25\n",
            "5/5 [==============================] - 150s 30s/step - loss: 0.8536 - acc: 0.7200 - top3_acc: 0.8920 - val_loss: 1.0358 - val_acc: 0.6930 - val_top3_acc: 0.9420\n",
            "\n",
            "Epoch 00022: saving model to /content/drive/My Drive/final_project_data/models/checkpoints.h5\n",
            "Epoch 23/25\n",
            "5/5 [==============================] - 33s 7s/step - loss: 0.6782 - acc: 0.7854 - top3_acc: 0.9342 - val_loss: 1.0569 - val_acc: 0.7080 - val_top3_acc: 0.9426\n",
            "\n",
            "Epoch 00023: saving model to /content/drive/My Drive/final_project_data/models/checkpoints.h5\n",
            "Epoch 24/25\n",
            "5/5 [==============================] - 22s 4s/step - loss: 0.6696 - acc: 0.7940 - top3_acc: 0.9580 - val_loss: 1.2187 - val_acc: 0.6920 - val_top3_acc: 0.9240\n",
            "\n",
            "Epoch 00024: saving model to /content/drive/My Drive/final_project_data/models/checkpoints.h5\n",
            "Epoch 25/25\n",
            "5/5 [==============================] - 26s 5s/step - loss: 0.6814 - acc: 0.7700 - top3_acc: 0.9440 - val_loss: 0.9202 - val_acc: 0.7510 - val_top3_acc: 0.9416\n",
            "\n",
            "Epoch 00025: saving model to /content/drive/My Drive/final_project_data/models/checkpoints.h5\n"
          ],
          "name": "stdout"
        }
      ]
    },
    {
      "cell_type": "markdown",
      "metadata": {
        "id": "tC7m3w_k1hBT",
        "colab_type": "text"
      },
      "source": [
        "### Save Loaded Multi-class Model"
      ]
    },
    {
      "cell_type": "code",
      "metadata": {
        "id": "rZ5lacZM1hBT",
        "colab_type": "code",
        "colab": {}
      },
      "source": [
        "multi_class_model.save('/content/drive/My Drive/final_project_data/models/multiple_classes.h5')"
      ],
      "execution_count": 0,
      "outputs": []
    },
    {
      "cell_type": "markdown",
      "metadata": {
        "id": "hK8k8v991hBU",
        "colab_type": "text"
      },
      "source": [
        "### Load Saved Multi-class Model"
      ]
    },
    {
      "cell_type": "code",
      "metadata": {
        "id": "JYAi4bM81hBV",
        "colab_type": "code",
        "colab": {}
      },
      "source": [
        "# from numpy import loadtxt\n",
        "# from keras.models import load_model\n",
        "\n",
        "\n",
        "# multi_class_model.load_weights('/Users/j.markdaniels/iCloud Drive (Archive)/Desktop/Flatiron/projects/Final_Project/final_project/flatiron_final_project/inception_multiple_classes.h5')\n",
        "\n",
        "# model = load_model('/Users/j.markdaniels/iCloud Drive (Archive)/Desktop/Flatiron/projects/Final_Project/final_project/flatiron_final_project/inception_multiple_classes.h5')\n",
        "\n",
        "# multi_class_model.summary()\n"
      ],
      "execution_count": 0,
      "outputs": []
    },
    {
      "cell_type": "markdown",
      "metadata": {
        "id": "LYV-mlCD1hBW",
        "colab_type": "text"
      },
      "source": [
        "#### Summary"
      ]
    },
    {
      "cell_type": "code",
      "metadata": {
        "scrolled": false,
        "id": "iqx-XyNw1hBX",
        "colab_type": "code",
        "colab": {
          "base_uri": "https://localhost:8080/",
          "height": 357
        },
        "outputId": "ddb5151d-7ead-4688-d3d0-c49a4d070798"
      },
      "source": [
        "\n",
        "print(multi_class_model.summary())\n"
      ],
      "execution_count": 74,
      "outputs": [
        {
          "output_type": "stream",
          "text": [
            "_________________________________________________________________\n",
            "Layer (type)                 Output Shape              Param #   \n",
            "=================================================================\n",
            "inception_v3 (Model)         (None, None, None, 2048)  21802784  \n",
            "_________________________________________________________________\n",
            "global_average_pooling2d_2 ( (None, 2048)              0         \n",
            "_________________________________________________________________\n",
            "dense_7 (Dense)              (None, 1024)              2098176   \n",
            "_________________________________________________________________\n",
            "dense_8 (Dense)              (None, 1024)              1049600   \n",
            "_________________________________________________________________\n",
            "dense_9 (Dense)              (None, 512)               524800    \n",
            "_________________________________________________________________\n",
            "dense_10 (Dense)             (None, 20)                10260     \n",
            "=================================================================\n",
            "Total params: 25,485,620\n",
            "Trainable params: 3,682,836\n",
            "Non-trainable params: 21,802,784\n",
            "_________________________________________________________________\n",
            "None\n"
          ],
          "name": "stdout"
        }
      ]
    },
    {
      "cell_type": "code",
      "metadata": {
        "id": "3YosQ4ve1hBY",
        "colab_type": "code",
        "colab": {
          "base_uri": "https://localhost:8080/",
          "height": 295
        },
        "outputId": "8b1cf0b4-8954-43ba-e4a9-97a2c9c06d7f"
      },
      "source": [
        "hist_multi = multi_class_model_1.history\n",
        "loss_values = hist_multi['loss']\n",
        "val_loss_values = hist_multi['val_loss']\n",
        "acc_values = hist_multi['acc'] \n",
        "val_acc_values = hist_multi['val_acc']\n",
        "\n",
        "\n",
        "epochs = range(1, len(loss_values) + 1)\n",
        "\n",
        "plt.figure(figsize=(15,4))\n",
        "plt.subplot(121)\n",
        "plt.plot(epochs, loss_values, 'g.', label='Training loss')\n",
        "plt.plot(epochs, val_loss_values, 'g', label='Validation loss')\n",
        "\n",
        "plt.title('Training and validation loss')\n",
        "plt.xlabel('Epochs')\n",
        "plt.ylabel('Loss')\n",
        "plt.legend()\n",
        "\n",
        "plt.subplot(122)\n",
        "plt.plot(epochs, acc_values, 'r.', label='Training acc')\n",
        "plt.plot(epochs, val_acc_values, 'r', label='Validation acc')\n",
        "plt.title('Training and validation accuracy')\n",
        "plt.xlabel('Epochs')\n",
        "plt.ylabel('Accuracy')\n",
        "plt.legend()\n",
        "plt.show()"
      ],
      "execution_count": 22,
      "outputs": [
        {
          "output_type": "display_data",
          "data": {
            "image/png": "[encoded data removed]",
            "text/plain": [
              "<Figure size 1080x288 with 2 Axes>"
            ]
          },
          "metadata": {
            "tags": []
          }
        }
      ]
    },
    {
      "cell_type": "markdown",
      "metadata": {
        "id": "AivlG5Ei1hBc",
        "colab_type": "text"
      },
      "source": [
        "### Evaluate Model"
      ]
    },
    {
      "cell_type": "code",
      "metadata": {
        "id": "xmeod9s92RN7",
        "colab_type": "code",
        "colab": {
          "base_uri": "https://localhost:8080/",
          "height": 34
        },
        "outputId": "57d5cedd-39a3-4d6e-f8d9-29287a55657d"
      },
      "source": [
        "final_validation = ImageDataGenerator(rescale=1./255).flow_from_directory( \n",
        "        '/content/drive/My Drive/final_project_data/multiclass/test', \n",
        "        target_size=(224, 224), \n",
        "        batch_size = 1, \n",
        "        class_mode='categorical',\n",
        "        seed = 123)"
      ],
      "execution_count": 26,
      "outputs": [
        {
          "output_type": "stream",
          "text": [
            "Found 2776 images belonging to 20 classes.\n"
          ],
          "name": "stdout"
        }
      ]
    },
    {
      "cell_type": "code",
      "metadata": {
        "id": "M2LYa31V2eM3",
        "colab_type": "code",
        "colab": {
          "base_uri": "https://localhost:8080/",
          "height": 71
        },
        "outputId": "11965e2f-386e-4926-87dc-9f28d6b26c3e"
      },
      "source": [
        "multi_final_eval = multi_class_model.evaluate_generator(final_validation, \n",
        "                                                        steps=2776)"
      ],
      "execution_count": 27,
      "outputs": [
        {
          "output_type": "stream",
          "text": [
            "/usr/local/lib/python3.6/dist-packages/PIL/Image.py:914: UserWarning: Palette images with Transparency   expressed in bytes should be converted to RGBA images\n",
            "  'to RGBA images')\n"
          ],
          "name": "stderr"
        }
      ]
    },
    {
      "cell_type": "code",
      "metadata": {
        "id": "ywcncQMd2eTD",
        "colab_type": "code",
        "colab": {
          "base_uri": "https://localhost:8080/",
          "height": 34
        },
        "outputId": "b840d8f1-bad1-4ceb-87e0-245c2672c28b"
      },
      "source": [
        "multi_final_eval"
      ],
      "execution_count": 28,
      "outputs": [
        {
          "output_type": "execute_result",
          "data": {
            "text/plain": [
              "[0.9584115587568889, 0.7485590778097982, 0.9387608069164265]"
            ]
          },
          "metadata": {
            "tags": []
          },
          "execution_count": 28
        }
      ]
    },
    {
      "cell_type": "code",
      "metadata": {
        "id": "9x-Sy9cpD-Q4",
        "colab_type": "code",
        "colab": {
          "base_uri": "https://localhost:8080/",
          "height": 232
        },
        "outputId": "b26e5dd2-1009-4a69-e78d-7f8b90524f21"
      },
      "source": [
        "predictions_transfer = multi_class_model.predict(multi_images_te)\n",
        "\n",
        "k = 3\n",
        "i=890\n",
        "top_k_predictions = [x[:k] for x in (-predictions_transfer).argsort()]\n",
        "top_values_index=top_k_predictions[i]\n",
        "plt.imshow(X_test[i])\n",
        "print('Top 3 guesses: {}'.format([labels[i].replace('_test','') for i in top_values_index]))\n",
        "print(labels[y_test[i].argmax()].replace('_test',''))"
      ],
      "execution_count": 44,
      "outputs": [
        {
          "output_type": "error",
          "ename": "NameError",
          "evalue": "ignored",
          "traceback": [
            "\u001b[0;31m---------------------------------------------------------------------------\u001b[0m",
            "\u001b[0;31mNameError\u001b[0m                                 Traceback (most recent call last)",
            "\u001b[0;32m<ipython-input-44-42cf96f9ea67>\u001b[0m in \u001b[0;36m<module>\u001b[0;34m()\u001b[0m\n\u001b[0;32m----> 1\u001b[0;31m \u001b[0mpredictions_transfer\u001b[0m \u001b[0;34m=\u001b[0m \u001b[0mmulti_class_model\u001b[0m\u001b[0;34m.\u001b[0m\u001b[0mpredict\u001b[0m\u001b[0;34m(\u001b[0m\u001b[0mmulti_images_te\u001b[0m\u001b[0;34m)\u001b[0m\u001b[0;34m\u001b[0m\u001b[0;34m\u001b[0m\u001b[0m\n\u001b[0m\u001b[1;32m      2\u001b[0m \u001b[0;34m\u001b[0m\u001b[0m\n\u001b[1;32m      3\u001b[0m \u001b[0mk\u001b[0m \u001b[0;34m=\u001b[0m \u001b[0;36m3\u001b[0m\u001b[0;34m\u001b[0m\u001b[0;34m\u001b[0m\u001b[0m\n\u001b[1;32m      4\u001b[0m \u001b[0mi\u001b[0m\u001b[0;34m=\u001b[0m\u001b[0;36m890\u001b[0m\u001b[0;34m\u001b[0m\u001b[0;34m\u001b[0m\u001b[0m\n\u001b[1;32m      5\u001b[0m \u001b[0mtop_k_predictions\u001b[0m \u001b[0;34m=\u001b[0m \u001b[0;34m[\u001b[0m\u001b[0mx\u001b[0m\u001b[0;34m[\u001b[0m\u001b[0;34m:\u001b[0m\u001b[0mk\u001b[0m\u001b[0;34m]\u001b[0m \u001b[0;32mfor\u001b[0m \u001b[0mx\u001b[0m \u001b[0;32min\u001b[0m \u001b[0;34m(\u001b[0m\u001b[0;34m-\u001b[0m\u001b[0mpredictions_transfer\u001b[0m\u001b[0;34m)\u001b[0m\u001b[0;34m.\u001b[0m\u001b[0margsort\u001b[0m\u001b[0;34m(\u001b[0m\u001b[0;34m)\u001b[0m\u001b[0;34m]\u001b[0m\u001b[0;34m\u001b[0m\u001b[0;34m\u001b[0m\u001b[0m\n",
            "\u001b[0;31mNameError\u001b[0m: name 'multi_images_te' is not defined"
          ]
        }
      ]
    },
    {
      "cell_type": "code",
      "metadata": {
        "id": "FUW7OVrbD-U7",
        "colab_type": "code",
        "colab": {}
      },
      "source": [
        ""
      ],
      "execution_count": 0,
      "outputs": []
    },
    {
      "cell_type": "code",
      "metadata": {
        "id": "6QiiLTON86UN",
        "colab_type": "code",
        "colab": {}
      },
      "source": [
        ""
      ],
      "execution_count": 0,
      "outputs": []
    },
    {
      "cell_type": "code",
      "metadata": {
        "id": "RavWXZVy86fY",
        "colab_type": "code",
        "colab": {
          "base_uri": "https://localhost:8080/",
          "height": 34
        },
        "outputId": "ef63f386-a09f-453f-fdec-6ec7da6ef9c4"
      },
      "source": [
        "matts_data = ImageDataGenerator(rescale=1./255).flow_from_directory( \n",
        "        '/content/drive/My Drive/final_project_data/matts_game_cam/test/', \n",
        "        target_size=(224, 224), \n",
        "        batch_size = 2, \n",
        "        class_mode='categorical',\n",
        "        seed = 123)"
      ],
      "execution_count": 36,
      "outputs": [
        {
          "output_type": "stream",
          "text": [
            "Found 5 images belonging to 1 classes.\n"
          ],
          "name": "stdout"
        }
      ]
    },
    {
      "cell_type": "code",
      "metadata": {
        "id": "2yF5gbKgCPL7",
        "colab_type": "code",
        "colab": {
          "base_uri": "https://localhost:8080/",
          "height": 307
        },
        "outputId": "89e992b5-e6dc-48b9-802e-c8692f278542"
      },
      "source": [
        "predictions_transfer_matt = multi_class_model.predict(matts_data, batch_size=5, steps=1)"
      ],
      "execution_count": 41,
      "outputs": [
        {
          "output_type": "error",
          "ename": "AttributeError",
          "evalue": "ignored",
          "traceback": [
            "\u001b[0;31m---------------------------------------------------------------------------\u001b[0m",
            "\u001b[0;31mAttributeError\u001b[0m                            Traceback (most recent call last)",
            "\u001b[0;32m<ipython-input-41-fd5fdec072d4>\u001b[0m in \u001b[0;36m<module>\u001b[0;34m()\u001b[0m\n\u001b[0;32m----> 1\u001b[0;31m \u001b[0mpredictions_transfer_matt\u001b[0m \u001b[0;34m=\u001b[0m \u001b[0mmulti_class_model\u001b[0m\u001b[0;34m.\u001b[0m\u001b[0mpredict\u001b[0m\u001b[0;34m(\u001b[0m\u001b[0mmatts_data\u001b[0m\u001b[0;34m,\u001b[0m \u001b[0mbatch_size\u001b[0m\u001b[0;34m=\u001b[0m\u001b[0;36m5\u001b[0m\u001b[0;34m,\u001b[0m \u001b[0msteps\u001b[0m\u001b[0;34m=\u001b[0m\u001b[0;36m1\u001b[0m\u001b[0;34m)\u001b[0m\u001b[0;34m\u001b[0m\u001b[0;34m\u001b[0m\u001b[0m\n\u001b[0m",
            "\u001b[0;32m/usr/local/lib/python3.6/dist-packages/keras/engine/training.py\u001b[0m in \u001b[0;36mpredict\u001b[0;34m(self, x, batch_size, verbose, steps)\u001b[0m\n\u001b[1;32m   1147\u001b[0m                              'argument.')\n\u001b[1;32m   1148\u001b[0m         \u001b[0;31m# Validate user data.\u001b[0m\u001b[0;34m\u001b[0m\u001b[0;34m\u001b[0m\u001b[0;34m\u001b[0m\u001b[0m\n\u001b[0;32m-> 1149\u001b[0;31m         \u001b[0mx\u001b[0m\u001b[0;34m,\u001b[0m \u001b[0m_\u001b[0m\u001b[0;34m,\u001b[0m \u001b[0m_\u001b[0m \u001b[0;34m=\u001b[0m \u001b[0mself\u001b[0m\u001b[0;34m.\u001b[0m\u001b[0m_standardize_user_data\u001b[0m\u001b[0;34m(\u001b[0m\u001b[0mx\u001b[0m\u001b[0;34m)\u001b[0m\u001b[0;34m\u001b[0m\u001b[0;34m\u001b[0m\u001b[0m\n\u001b[0m\u001b[1;32m   1150\u001b[0m         \u001b[0;32mif\u001b[0m \u001b[0mself\u001b[0m\u001b[0;34m.\u001b[0m\u001b[0mstateful\u001b[0m\u001b[0;34m:\u001b[0m\u001b[0;34m\u001b[0m\u001b[0;34m\u001b[0m\u001b[0m\n\u001b[1;32m   1151\u001b[0m             \u001b[0;32mif\u001b[0m \u001b[0mx\u001b[0m\u001b[0;34m[\u001b[0m\u001b[0;36m0\u001b[0m\u001b[0;34m]\u001b[0m\u001b[0;34m.\u001b[0m\u001b[0mshape\u001b[0m\u001b[0;34m[\u001b[0m\u001b[0;36m0\u001b[0m\u001b[0;34m]\u001b[0m \u001b[0;34m>\u001b[0m \u001b[0mbatch_size\u001b[0m \u001b[0;32mand\u001b[0m \u001b[0mx\u001b[0m\u001b[0;34m[\u001b[0m\u001b[0;36m0\u001b[0m\u001b[0;34m]\u001b[0m\u001b[0;34m.\u001b[0m\u001b[0mshape\u001b[0m\u001b[0;34m[\u001b[0m\u001b[0;36m0\u001b[0m\u001b[0;34m]\u001b[0m \u001b[0;34m%\u001b[0m \u001b[0mbatch_size\u001b[0m \u001b[0;34m!=\u001b[0m \u001b[0;36m0\u001b[0m\u001b[0;34m:\u001b[0m\u001b[0;34m\u001b[0m\u001b[0;34m\u001b[0m\u001b[0m\n",
            "\u001b[0;32m/usr/local/lib/python3.6/dist-packages/keras/engine/training.py\u001b[0m in \u001b[0;36m_standardize_user_data\u001b[0;34m(self, x, y, sample_weight, class_weight, check_array_lengths, batch_size)\u001b[0m\n\u001b[1;32m    749\u001b[0m             \u001b[0mfeed_input_shapes\u001b[0m\u001b[0;34m,\u001b[0m\u001b[0;34m\u001b[0m\u001b[0;34m\u001b[0m\u001b[0m\n\u001b[1;32m    750\u001b[0m             \u001b[0mcheck_batch_axis\u001b[0m\u001b[0;34m=\u001b[0m\u001b[0;32mFalse\u001b[0m\u001b[0;34m,\u001b[0m  \u001b[0;31m# Don't enforce the batch size.\u001b[0m\u001b[0;34m\u001b[0m\u001b[0;34m\u001b[0m\u001b[0m\n\u001b[0;32m--> 751\u001b[0;31m             exception_prefix='input')\n\u001b[0m\u001b[1;32m    752\u001b[0m \u001b[0;34m\u001b[0m\u001b[0m\n\u001b[1;32m    753\u001b[0m         \u001b[0;32mif\u001b[0m \u001b[0my\u001b[0m \u001b[0;32mis\u001b[0m \u001b[0;32mnot\u001b[0m \u001b[0;32mNone\u001b[0m\u001b[0;34m:\u001b[0m\u001b[0;34m\u001b[0m\u001b[0;34m\u001b[0m\u001b[0m\n",
            "\u001b[0;32m/usr/local/lib/python3.6/dist-packages/keras/engine/training_utils.py\u001b[0m in \u001b[0;36mstandardize_input_data\u001b[0;34m(data, names, shapes, check_batch_axis, exception_prefix)\u001b[0m\n\u001b[1;32m     90\u001b[0m         \u001b[0mdata\u001b[0m \u001b[0;34m=\u001b[0m \u001b[0mdata\u001b[0m\u001b[0;34m.\u001b[0m\u001b[0mvalues\u001b[0m \u001b[0;32mif\u001b[0m \u001b[0mdata\u001b[0m\u001b[0;34m.\u001b[0m\u001b[0m__class__\u001b[0m\u001b[0;34m.\u001b[0m\u001b[0m__name__\u001b[0m \u001b[0;34m==\u001b[0m \u001b[0;34m'DataFrame'\u001b[0m \u001b[0;32melse\u001b[0m \u001b[0mdata\u001b[0m\u001b[0;34m\u001b[0m\u001b[0;34m\u001b[0m\u001b[0m\n\u001b[1;32m     91\u001b[0m         \u001b[0mdata\u001b[0m \u001b[0;34m=\u001b[0m \u001b[0;34m[\u001b[0m\u001b[0mdata\u001b[0m\u001b[0;34m]\u001b[0m\u001b[0;34m\u001b[0m\u001b[0;34m\u001b[0m\u001b[0m\n\u001b[0;32m---> 92\u001b[0;31m     \u001b[0mdata\u001b[0m \u001b[0;34m=\u001b[0m \u001b[0;34m[\u001b[0m\u001b[0mstandardize_single_array\u001b[0m\u001b[0;34m(\u001b[0m\u001b[0mx\u001b[0m\u001b[0;34m)\u001b[0m \u001b[0;32mfor\u001b[0m \u001b[0mx\u001b[0m \u001b[0;32min\u001b[0m \u001b[0mdata\u001b[0m\u001b[0;34m]\u001b[0m\u001b[0;34m\u001b[0m\u001b[0;34m\u001b[0m\u001b[0m\n\u001b[0m\u001b[1;32m     93\u001b[0m \u001b[0;34m\u001b[0m\u001b[0m\n\u001b[1;32m     94\u001b[0m     \u001b[0;32mif\u001b[0m \u001b[0mlen\u001b[0m\u001b[0;34m(\u001b[0m\u001b[0mdata\u001b[0m\u001b[0;34m)\u001b[0m \u001b[0;34m!=\u001b[0m \u001b[0mlen\u001b[0m\u001b[0;34m(\u001b[0m\u001b[0mnames\u001b[0m\u001b[0;34m)\u001b[0m\u001b[0;34m:\u001b[0m\u001b[0;34m\u001b[0m\u001b[0;34m\u001b[0m\u001b[0m\n",
            "\u001b[0;32m/usr/local/lib/python3.6/dist-packages/keras/engine/training_utils.py\u001b[0m in \u001b[0;36m<listcomp>\u001b[0;34m(.0)\u001b[0m\n\u001b[1;32m     90\u001b[0m         \u001b[0mdata\u001b[0m \u001b[0;34m=\u001b[0m \u001b[0mdata\u001b[0m\u001b[0;34m.\u001b[0m\u001b[0mvalues\u001b[0m \u001b[0;32mif\u001b[0m \u001b[0mdata\u001b[0m\u001b[0;34m.\u001b[0m\u001b[0m__class__\u001b[0m\u001b[0;34m.\u001b[0m\u001b[0m__name__\u001b[0m \u001b[0;34m==\u001b[0m \u001b[0;34m'DataFrame'\u001b[0m \u001b[0;32melse\u001b[0m \u001b[0mdata\u001b[0m\u001b[0;34m\u001b[0m\u001b[0;34m\u001b[0m\u001b[0m\n\u001b[1;32m     91\u001b[0m         \u001b[0mdata\u001b[0m \u001b[0;34m=\u001b[0m \u001b[0;34m[\u001b[0m\u001b[0mdata\u001b[0m\u001b[0;34m]\u001b[0m\u001b[0;34m\u001b[0m\u001b[0;34m\u001b[0m\u001b[0m\n\u001b[0;32m---> 92\u001b[0;31m     \u001b[0mdata\u001b[0m \u001b[0;34m=\u001b[0m \u001b[0;34m[\u001b[0m\u001b[0mstandardize_single_array\u001b[0m\u001b[0;34m(\u001b[0m\u001b[0mx\u001b[0m\u001b[0;34m)\u001b[0m \u001b[0;32mfor\u001b[0m \u001b[0mx\u001b[0m \u001b[0;32min\u001b[0m \u001b[0mdata\u001b[0m\u001b[0;34m]\u001b[0m\u001b[0;34m\u001b[0m\u001b[0;34m\u001b[0m\u001b[0m\n\u001b[0m\u001b[1;32m     93\u001b[0m \u001b[0;34m\u001b[0m\u001b[0m\n\u001b[1;32m     94\u001b[0m     \u001b[0;32mif\u001b[0m \u001b[0mlen\u001b[0m\u001b[0;34m(\u001b[0m\u001b[0mdata\u001b[0m\u001b[0;34m)\u001b[0m \u001b[0;34m!=\u001b[0m \u001b[0mlen\u001b[0m\u001b[0;34m(\u001b[0m\u001b[0mnames\u001b[0m\u001b[0;34m)\u001b[0m\u001b[0;34m:\u001b[0m\u001b[0;34m\u001b[0m\u001b[0;34m\u001b[0m\u001b[0m\n",
            "\u001b[0;32m/usr/local/lib/python3.6/dist-packages/keras/engine/training_utils.py\u001b[0m in \u001b[0;36mstandardize_single_array\u001b[0;34m(x)\u001b[0m\n\u001b[1;32m     25\u001b[0m                 'Got tensor with shape: %s' % str(shape))\n\u001b[1;32m     26\u001b[0m         \u001b[0;32mreturn\u001b[0m \u001b[0mx\u001b[0m\u001b[0;34m\u001b[0m\u001b[0;34m\u001b[0m\u001b[0m\n\u001b[0;32m---> 27\u001b[0;31m     \u001b[0;32melif\u001b[0m \u001b[0mx\u001b[0m\u001b[0;34m.\u001b[0m\u001b[0mndim\u001b[0m \u001b[0;34m==\u001b[0m \u001b[0;36m1\u001b[0m\u001b[0;34m:\u001b[0m\u001b[0;34m\u001b[0m\u001b[0;34m\u001b[0m\u001b[0m\n\u001b[0m\u001b[1;32m     28\u001b[0m         \u001b[0mx\u001b[0m \u001b[0;34m=\u001b[0m \u001b[0mnp\u001b[0m\u001b[0;34m.\u001b[0m\u001b[0mexpand_dims\u001b[0m\u001b[0;34m(\u001b[0m\u001b[0mx\u001b[0m\u001b[0;34m,\u001b[0m \u001b[0;36m1\u001b[0m\u001b[0;34m)\u001b[0m\u001b[0;34m\u001b[0m\u001b[0;34m\u001b[0m\u001b[0m\n\u001b[1;32m     29\u001b[0m     \u001b[0;32mreturn\u001b[0m \u001b[0mx\u001b[0m\u001b[0;34m\u001b[0m\u001b[0;34m\u001b[0m\u001b[0m\n",
            "\u001b[0;31mAttributeError\u001b[0m: 'DirectoryIterator' object has no attribute 'ndim'"
          ]
        }
      ]
    },
    {
      "cell_type": "code",
      "metadata": {
        "id": "HHXrwt_4BR8B",
        "colab_type": "code",
        "colab": {}
      },
      "source": [
        "labels = [label for label in multi_data_te.class_indices] "
      ],
      "execution_count": 0,
      "outputs": []
    },
    {
      "cell_type": "code",
      "metadata": {
        "id": "F8Re_Jm-BS-1",
        "colab_type": "code",
        "colab": {}
      },
      "source": [
        "k = 3\n",
        "i=5\n",
        "top_k_predictions = [x[:k] for x in (-predictions_transfer_matt).argsort()]\n",
        "top_values_index=top_k_predictions[i]\n",
        "plt.imshow(matts_data[i])\n",
        "print('Top 3 guesses: {}'.format([labels[i] for i in top_values_index]))\n",
        "print(labels[matts_data[i].argmax()])"
      ],
      "execution_count": 0,
      "outputs": []
    },
    {
      "cell_type": "markdown",
      "metadata": {
        "id": "ekZgazeh1hBc",
        "colab_type": "text"
      },
      "source": [
        "#### Accuracy"
      ]
    },
    {
      "cell_type": "code",
      "metadata": {
        "scrolled": true,
        "id": "qCpRiqqE1hBd",
        "colab_type": "code",
        "colab": {
          "base_uri": "https://localhost:8080/",
          "height": 164
        },
        "outputId": "e9ac8e1e-3ce0-45ef-8372-64f8cd46874d"
      },
      "source": [
        "multi_class_model.evaluate(X_test, y_test)"
      ],
      "execution_count": 23,
      "outputs": [
        {
          "output_type": "error",
          "ename": "NameError",
          "evalue": "ignored",
          "traceback": [
            "\u001b[0;31m---------------------------------------------------------------------------\u001b[0m",
            "\u001b[0;31mNameError\u001b[0m                                 Traceback (most recent call last)",
            "\u001b[0;32m<ipython-input-23-328aa91d3c99>\u001b[0m in \u001b[0;36m<module>\u001b[0;34m()\u001b[0m\n\u001b[0;32m----> 1\u001b[0;31m \u001b[0mmulti_class_model\u001b[0m\u001b[0;34m.\u001b[0m\u001b[0mevaluate\u001b[0m\u001b[0;34m(\u001b[0m\u001b[0mX_test\u001b[0m\u001b[0;34m,\u001b[0m \u001b[0my_test\u001b[0m\u001b[0;34m)\u001b[0m\u001b[0;34m\u001b[0m\u001b[0;34m\u001b[0m\u001b[0m\n\u001b[0m",
            "\u001b[0;31mNameError\u001b[0m: name 'X_test' is not defined"
          ]
        }
      ]
    },
    {
      "cell_type": "markdown",
      "metadata": {
        "id": "JtymulOv1hBf",
        "colab_type": "text"
      },
      "source": [
        "#### Confusion Matrix"
      ]
    },
    {
      "cell_type": "code",
      "metadata": {
        "id": "CgSPtel91hBg",
        "colab_type": "code",
        "colab": {}
      },
      "source": [
        "predictions_transfer = multi_class_model.predict(X_test)"
      ],
      "execution_count": 0,
      "outputs": []
    },
    {
      "cell_type": "code",
      "metadata": {
        "id": "c7OP17hc1hBi",
        "colab_type": "code",
        "colab": {}
      },
      "source": [
        "labels = [label for label in multi_data_te.class_indices] \n",
        "labels"
      ],
      "execution_count": 0,
      "outputs": []
    },
    {
      "cell_type": "code",
      "metadata": {
        "id": "JbRx65Sd1hBj",
        "colab_type": "code",
        "colab": {}
      },
      "source": [
        "\n",
        "\n",
        "k = 3\n",
        "i=890\n",
        "top_k_predictions = [x[:k] for x in (-predictions_transfer).argsort()]\n",
        "top_values_index=top_k_predictions[i]\n",
        "plt.imshow(X_test[i])\n",
        "print('Top 3 guesses: {}'.format([labels[i].replace('_test','') for i in top_values_index]))\n",
        "print(labels[y_test[i].argmax()].replace('_test',''))"
      ],
      "execution_count": 0,
      "outputs": []
    },
    {
      "cell_type": "code",
      "metadata": {
        "id": "XdISzYPV1hBk",
        "colab_type": "code",
        "colab": {}
      },
      "source": [
        "multi_data_te.class_indices\n"
      ],
      "execution_count": 0,
      "outputs": []
    },
    {
      "cell_type": "code",
      "metadata": {
        "id": "nwg6OQMZ1hBl",
        "colab_type": "code",
        "colab": {}
      },
      "source": [
        "y_pred = np.argmax(predictions_transfer, axis=1)\n",
        "\n",
        "y_true = np.where(y_test != 0)[1]"
      ],
      "execution_count": 0,
      "outputs": []
    },
    {
      "cell_type": "code",
      "metadata": {
        "id": "2cVbVM181hBo",
        "colab_type": "code",
        "colab": {}
      },
      "source": [
        "# Calculate Confusion Matrix\n",
        "cm = confusion_matrix(y_true, y_pred)\n",
        "# classes = classes[unique_labels(y_true, y_pred)]\n",
        "# Figure adjustment and heatmap plot\n",
        "f = plt.figure(figsize=(20,30))\n",
        "ax= plt.subplot()\n",
        "sns.heatmap(cm, annot=True, ax = ax, vmax=100, cbar=False, cmap='Paired', mask=(cm==0), fmt=',.0f', linewidths=2, linecolor='grey', ); \n",
        "\n",
        "# labels\n",
        "ax.set_xlabel('Predicted labels', fontsize=16);\n",
        "ax.set_ylabel('True labels', labelpad=30, fontsize=16); \n",
        "ax.set_title('Confusion Matrix', fontsize=18); \n",
        "ax.xaxis.set_ticklabels(labels, rotation=90); \n",
        "ax.yaxis.set_ticklabels(labels, rotation=0);\n",
        "ax.set_facecolor('white')"
      ],
      "execution_count": 0,
      "outputs": []
    },
    {
      "cell_type": "markdown",
      "metadata": {
        "id": "puvws_e11hBp",
        "colab_type": "text"
      },
      "source": [
        "#### Top-k Categorical Accuracy"
      ]
    },
    {
      "cell_type": "code",
      "metadata": {
        "id": "YP_iAXyi1hBp",
        "colab_type": "code",
        "colab": {}
      },
      "source": [
        "import functools\n",
        "from keras.metrics import top_k_categorical_accuracy"
      ],
      "execution_count": 0,
      "outputs": []
    },
    {
      "cell_type": "code",
      "metadata": {
        "id": "xU3DdSXH1hBq",
        "colab_type": "code",
        "colab": {}
      },
      "source": [
        "\n",
        "\n",
        "top_5_accuracy = functools.partial(top_k_categorical_accuracy, k=5)"
      ],
      "execution_count": 0,
      "outputs": []
    },
    {
      "cell_type": "code",
      "metadata": {
        "id": "l4ToREEp1hBr",
        "colab_type": "code",
        "colab": {}
      },
      "source": [
        "\n",
        "import functools\n",
        "\n",
        "top10_acc = functools.partial(top_k_categorical_accuracy, k=10)\n",
        "\n",
        "top10_acc.__name__ = 'top10_acc'\n",
        "\n",
        "top3_acc = functools.partial(top_k_categorical_accuracy, k=3)\n",
        "\n",
        "top3_acc.__name__ = 'top3_acc'\n",
        "\n",
        "cnn.compile(loss=\"categorical_crossentropy\", optimizer=opt, metrics=[\"accuracy\", top3_acc, top10_acc])"
      ],
      "execution_count": 0,
      "outputs": []
    },
    {
      "cell_type": "code",
      "metadata": {
        "id": "y1NpRdeY1hBs",
        "colab_type": "code",
        "colab": {}
      },
      "source": [
        ""
      ],
      "execution_count": 0,
      "outputs": []
    },
    {
      "cell_type": "code",
      "metadata": {
        "id": "wqqBtQo51hBv",
        "colab_type": "code",
        "colab": {}
      },
      "source": [
        ""
      ],
      "execution_count": 0,
      "outputs": []
    },
    {
      "cell_type": "code",
      "metadata": {
        "id": "dO0-Khgu1hBw",
        "colab_type": "code",
        "colab": {}
      },
      "source": [
        ""
      ],
      "execution_count": 0,
      "outputs": []
    }
  ]
}