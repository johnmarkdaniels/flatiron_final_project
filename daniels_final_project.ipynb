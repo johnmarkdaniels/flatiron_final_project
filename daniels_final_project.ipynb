{
 "cells": [
  {
   "cell_type": "markdown",
   "metadata": {},
   "source": [
    "# Oregon Wildlife Image Classification\n",
    "# Final Project\n",
    "\n",
    "# Flatiron School - Washington DC\n",
    "# Data Science Fellowship\n",
    "\n",
    "### J. Mark Daniels, PhD"
   ]
  },
  {
   "cell_type": "markdown",
   "metadata": {},
   "source": [
    "# Binary Classification - Bobcat"
   ]
  },
  {
   "cell_type": "markdown",
   "metadata": {},
   "source": [
    "## Import Libraries for CNN"
   ]
  },
  {
   "cell_type": "code",
   "execution_count": 1,
   "metadata": {},
   "outputs": [
    {
     "name": "stderr",
     "output_type": "stream",
     "text": [
      "Using TensorFlow backend.\n"
     ]
    }
   ],
   "source": [
    "import matplotlib.pyplot as plt\n",
    "import numpy as np\n",
    "import os, shutil\n",
    "import itertools\n",
    "from keras import models\n",
    "from keras.models import Model\n",
    "from keras import layers\n",
    "from sklearn.metrics import confusion_matrix, f1_score\n",
    "np.random.seed(123)\n",
    "from keras.models import load_model\n",
    "from keras.preprocessing.image import ImageDataGenerator, array_to_img, img_to_array, load_img\n",
    "from keras.applications import inception_v3\n",
    "from keras.layers import Dense,GlobalAveragePooling2D"
   ]
  },
  {
   "cell_type": "markdown",
   "metadata": {},
   "source": [
    "## Prepare Data"
   ]
  },
  {
   "cell_type": "markdown",
   "metadata": {},
   "source": [
    "### Import, Resize, and Rescale Images"
   ]
  },
  {
   "cell_type": "markdown",
   "metadata": {},
   "source": [
    "Build a function and export to .py to call these in to avoid conflicts"
   ]
  },
  {
   "cell_type": "code",
   "execution_count": 2,
   "metadata": {},
   "outputs": [],
   "source": [
    "def imagenlabel_gen(test_dir, train_dir, images=None, labels=None):\n",
    "    # Generate and resize images\n",
    "    data_te = ImageDataGenerator(rescale=1./255).flow_from_directory( \n",
    "        '/Users/j.markdaniels/Downloads/final_proj_data/bobcat_cougar_data/test/', \n",
    "        target_size=(224, 224), \n",
    "        batch_size = 340, \n",
    "        seed = 123)\n",
    "    data_tr = ImageDataGenerator(rescale=1./255).flow_from_directory( \n",
    "        '/Users/j.markdaniels/Downloads/final_proj_data/bobcat_cougar_data/train/', \n",
    "        target_size=(224, 224), \n",
    "        batch_size = 340, \n",
    "        seed = 123) \n",
    "    \n",
    "    # Split images and labels into arrays\n",
    "    images_te, labels_te = next(data_te)\n",
    "    images_tr, labels_tr = next(data_tr)\n",
    "    \n",
    "    # Final images and labels\n",
    "    images = np.concatenate((images_tr, images_te))\n",
    "    labels = np.concatenate((labels_tr[:,0], labels_te[:,0]))\n",
    "    \n",
    "    return(images_te, labels_te,images_tr, labels_tr, images, labels)"
   ]
  },
  {
   "cell_type": "code",
   "execution_count": 3,
   "metadata": {},
   "outputs": [],
   "source": [
    "cnn_test = '/Users/j.markdaniels/Downloads/final_proj_data/bobcat_cougar_data/test/'\n",
    "cnn_train = '/Users/j.markdaniels/Downloads/final_proj_data/bobcat_cougar_data/train/'"
   ]
  },
  {
   "cell_type": "code",
   "execution_count": 4,
   "metadata": {},
   "outputs": [
    {
     "name": "stdout",
     "output_type": "stream",
     "text": [
      "Found 685 images belonging to 2 classes.\n",
      "Found 680 images belonging to 2 classes.\n"
     ]
    },
    {
     "name": "stderr",
     "output_type": "stream",
     "text": [
      "/anaconda3/lib/python3.7/site-packages/PIL/TiffImagePlugin.py:763: UserWarning: Possibly corrupt EXIF data.  Expecting to read 85 bytes but only got 0. Skipping tag 33285\n",
      "  \" Skipping tag %s\" % (size, len(data), tag))\n",
      "/anaconda3/lib/python3.7/site-packages/PIL/TiffImagePlugin.py:763: UserWarning: Possibly corrupt EXIF data.  Expecting to read 93 bytes but only got 0. Skipping tag 33285\n",
      "  \" Skipping tag %s\" % (size, len(data), tag))\n",
      "/anaconda3/lib/python3.7/site-packages/PIL/TiffImagePlugin.py:763: UserWarning: Possibly corrupt EXIF data.  Expecting to read 141 bytes but only got 0. Skipping tag 37386\n",
      "  \" Skipping tag %s\" % (size, len(data), tag))\n",
      "/anaconda3/lib/python3.7/site-packages/PIL/TiffImagePlugin.py:763: UserWarning: Possibly corrupt EXIF data.  Expecting to read 149 bytes but only got 0. Skipping tag 37381\n",
      "  \" Skipping tag %s\" % (size, len(data), tag))\n",
      "/anaconda3/lib/python3.7/site-packages/PIL/TiffImagePlugin.py:763: UserWarning: Possibly corrupt EXIF data.  Expecting to read 157 bytes but only got 0. Skipping tag 37381\n",
      "  \" Skipping tag %s\" % (size, len(data), tag))\n",
      "/anaconda3/lib/python3.7/site-packages/PIL/TiffImagePlugin.py:763: UserWarning: Possibly corrupt EXIF data.  Expecting to read 144 bytes but only got 0. Skipping tag 40964\n",
      "  \" Skipping tag %s\" % (size, len(data), tag))\n",
      "/anaconda3/lib/python3.7/site-packages/PIL/TiffImagePlugin.py:763: UserWarning: Possibly corrupt EXIF data.  Expecting to read 192 bytes but only got 0. Skipping tag 40964\n",
      "  \" Skipping tag %s\" % (size, len(data), tag))\n",
      "/anaconda3/lib/python3.7/site-packages/PIL/TiffImagePlugin.py:763: UserWarning: Possibly corrupt EXIF data.  Expecting to read 192 bytes but only got 0. Skipping tag 41735\n",
      "  \" Skipping tag %s\" % (size, len(data), tag))\n",
      "/anaconda3/lib/python3.7/site-packages/PIL/TiffImagePlugin.py:763: UserWarning: Possibly corrupt EXIF data.  Expecting to read 62 bytes but only got 0. Skipping tag 41989\n",
      "  \" Skipping tag %s\" % (size, len(data), tag))\n",
      "/anaconda3/lib/python3.7/site-packages/PIL/TiffImagePlugin.py:763: UserWarning: Possibly corrupt EXIF data.  Expecting to read 16908320 bytes but only got 8068. Skipping tag 2048\n",
      "  \" Skipping tag %s\" % (size, len(data), tag))\n",
      "/anaconda3/lib/python3.7/site-packages/PIL/TiffImagePlugin.py:763: UserWarning: Possibly corrupt EXIF data.  Expecting to read 16908320 bytes but only got 8036. Skipping tag 2048\n",
      "  \" Skipping tag %s\" % (size, len(data), tag))\n",
      "/anaconda3/lib/python3.7/site-packages/PIL/TiffImagePlugin.py:763: UserWarning: Possibly corrupt EXIF data.  Expecting to read 34209794 bytes but only got 8258. Skipping tag 2048\n",
      "  \" Skipping tag %s\" % (size, len(data), tag))\n",
      "/anaconda3/lib/python3.7/site-packages/PIL/TiffImagePlugin.py:763: UserWarning: Possibly corrupt EXIF data.  Expecting to read 68157444 bytes but only got 8276. Skipping tag 2304\n",
      "  \" Skipping tag %s\" % (size, len(data), tag))\n",
      "/anaconda3/lib/python3.7/site-packages/PIL/TiffImagePlugin.py:763: UserWarning: Possibly corrupt EXIF data.  Expecting to read 34078722 bytes but only got 8193. Skipping tag 1536\n",
      "  \" Skipping tag %s\" % (size, len(data), tag))\n",
      "/anaconda3/lib/python3.7/site-packages/PIL/TiffImagePlugin.py:763: UserWarning: Possibly corrupt EXIF data.  Expecting to read 34078722 bytes but only got 8105. Skipping tag 1024\n",
      "  \" Skipping tag %s\" % (size, len(data), tag))\n",
      "/anaconda3/lib/python3.7/site-packages/PIL/TiffImagePlugin.py:763: UserWarning: Possibly corrupt EXIF data.  Expecting to read 68157442 bytes but only got 8126. Skipping tag 768\n",
      "  \" Skipping tag %s\" % (size, len(data), tag))\n",
      "/anaconda3/lib/python3.7/site-packages/PIL/TiffImagePlugin.py:763: UserWarning: Possibly corrupt EXIF data.  Expecting to read 136315212 bytes but only got 8268. Skipping tag 1280\n",
      "  \" Skipping tag %s\" % (size, len(data), tag))\n",
      "/anaconda3/lib/python3.7/site-packages/PIL/TiffImagePlugin.py:763: UserWarning: Possibly corrupt EXIF data.  Expecting to read 135004164 bytes but only got 8023. Skipping tag 3584\n",
      "  \" Skipping tag %s\" % (size, len(data), tag))\n",
      "/anaconda3/lib/python3.7/site-packages/PIL/TiffImagePlugin.py:763: UserWarning: Possibly corrupt EXIF data.  Expecting to read 270008328 bytes but only got 8278. Skipping tag 0\n",
      "  \" Skipping tag %s\" % (size, len(data), tag))\n",
      "/anaconda3/lib/python3.7/site-packages/PIL/TiffImagePlugin.py:763: UserWarning: Possibly corrupt EXIF data.  Expecting to read 135004164 bytes but only got 8278. Skipping tag 0\n",
      "  \" Skipping tag %s\" % (size, len(data), tag))\n",
      "/anaconda3/lib/python3.7/site-packages/PIL/TiffImagePlugin.py:763: UserWarning: Possibly corrupt EXIF data.  Expecting to read 50528257 bytes but only got 8074. Skipping tag 0\n",
      "  \" Skipping tag %s\" % (size, len(data), tag))\n",
      "/anaconda3/lib/python3.7/site-packages/PIL/TiffImagePlugin.py:763: UserWarning: Possibly corrupt EXIF data.  Expecting to read 50528257 bytes but only got 8278. Skipping tag 256\n",
      "  \" Skipping tag %s\" % (size, len(data), tag))\n",
      "/anaconda3/lib/python3.7/site-packages/PIL/TiffImagePlugin.py:763: UserWarning: Possibly corrupt EXIF data.  Expecting to read 101056514 bytes but only got 8081. Skipping tag 0\n",
      "  \" Skipping tag %s\" % (size, len(data), tag))\n",
      "/anaconda3/lib/python3.7/site-packages/PIL/TiffImagePlugin.py:763: UserWarning: Possibly corrupt EXIF data.  Expecting to read 202113028 bytes but only got 8056. Skipping tag 256\n",
      "  \" Skipping tag %s\" % (size, len(data), tag))\n",
      "/anaconda3/lib/python3.7/site-packages/PIL/TiffImagePlugin.py:763: UserWarning: Possibly corrupt EXIF data.  Expecting to read 405274632 bytes but only got 8182. Skipping tag 256\n",
      "  \" Skipping tag %s\" % (size, len(data), tag))\n",
      "/anaconda3/lib/python3.7/site-packages/PIL/TiffImagePlugin.py:763: UserWarning: Possibly corrupt EXIF data.  Expecting to read 50528257 bytes but only got 8278. Skipping tag 6656\n",
      "  \" Skipping tag %s\" % (size, len(data), tag))\n",
      "/anaconda3/lib/python3.7/site-packages/PIL/TiffImagePlugin.py:763: UserWarning: Possibly corrupt EXIF data.  Expecting to read 101056514 bytes but only got 8278. Skipping tag 0\n",
      "  \" Skipping tag %s\" % (size, len(data), tag))\n",
      "/anaconda3/lib/python3.7/site-packages/PIL/TiffImagePlugin.py:763: UserWarning: Possibly corrupt EXIF data.  Expecting to read 404226064 bytes but only got 8278. Skipping tag 0\n",
      "  \" Skipping tag %s\" % (size, len(data), tag))\n",
      "/anaconda3/lib/python3.7/site-packages/PIL/TiffImagePlugin.py:763: UserWarning: Possibly corrupt EXIF data.  Expecting to read 302186498 bytes but only got 8278. Skipping tag 0\n",
      "  \" Skipping tag %s\" % (size, len(data), tag))\n",
      "/anaconda3/lib/python3.7/site-packages/PIL/TiffImagePlugin.py:763: UserWarning: Possibly corrupt EXIF data.  Expecting to read 302186497 bytes but only got 8198. Skipping tag 0\n",
      "  \" Skipping tag %s\" % (size, len(data), tag))\n",
      "/anaconda3/lib/python3.7/site-packages/PIL/TiffImagePlugin.py:763: UserWarning: Possibly corrupt EXIF data.  Expecting to read 605290498 bytes but only got 8090. Skipping tag 0\n",
      "  \" Skipping tag %s\" % (size, len(data), tag))\n",
      "/anaconda3/lib/python3.7/site-packages/PIL/TiffImagePlugin.py:763: UserWarning: Possibly corrupt EXIF data.  Expecting to read 1208745988 bytes but only got 8278. Skipping tag 6656\n",
      "  \" Skipping tag %s\" % (size, len(data), tag))\n",
      "/anaconda3/lib/python3.7/site-packages/PIL/TiffImagePlugin.py:763: UserWarning: Possibly corrupt EXIF data.  Expecting to read 2418540552 bytes but only got 8078. Skipping tag 0\n",
      "  \" Skipping tag %s\" % (size, len(data), tag))\n",
      "/anaconda3/lib/python3.7/site-packages/PIL/TiffImagePlugin.py:763: UserWarning: Possibly corrupt EXIF data.  Expecting to read 302186497 bytes but only got 8278. Skipping tag 6656\n",
      "  \" Skipping tag %s\" % (size, len(data), tag))\n",
      "/anaconda3/lib/python3.7/site-packages/PIL/TiffImagePlugin.py:763: UserWarning: Possibly corrupt EXIF data.  Expecting to read 302186497 bytes but only got 8278. Skipping tag 0\n",
      "  \" Skipping tag %s\" % (size, len(data), tag))\n",
      "/anaconda3/lib/python3.7/site-packages/PIL/TiffImagePlugin.py:763: UserWarning: Possibly corrupt EXIF data.  Expecting to read 604372994 bytes but only got 8278. Skipping tag 0\n",
      "  \" Skipping tag %s\" % (size, len(data), tag))\n",
      "/anaconda3/lib/python3.7/site-packages/PIL/TiffImagePlugin.py:763: UserWarning: Possibly corrupt EXIF data.  Expecting to read 2417491976 bytes but only got 8278. Skipping tag 0\n",
      "  \" Skipping tag %s\" % (size, len(data), tag))\n",
      "/anaconda3/lib/python3.7/site-packages/PIL/TiffImagePlugin.py:763: UserWarning: Possibly corrupt EXIF data.  Expecting to read 65537 bytes but only got 0. Skipping tag 1\n",
      "  \" Skipping tag %s\" % (size, len(data), tag))\n",
      "/anaconda3/lib/python3.7/site-packages/PIL/TiffImagePlugin.py:763: UserWarning: Possibly corrupt EXIF data.  Expecting to read 393222 bytes but only got 0. Skipping tag 3\n",
      "  \" Skipping tag %s\" % (size, len(data), tag))\n",
      "/anaconda3/lib/python3.7/site-packages/PIL/TiffImagePlugin.py:763: UserWarning: Possibly corrupt EXIF data.  Expecting to read 65536 bytes but only got 8278. Skipping tag 0\n",
      "  \" Skipping tag %s\" % (size, len(data), tag))\n",
      "/anaconda3/lib/python3.7/site-packages/PIL/TiffImagePlugin.py:763: UserWarning: Possibly corrupt EXIF data.  Expecting to read 6553646 bytes but only got 0. Skipping tag 4608\n",
      "  \" Skipping tag %s\" % (size, len(data), tag))\n",
      "/anaconda3/lib/python3.7/site-packages/PIL/TiffImagePlugin.py:763: UserWarning: Possibly corrupt EXIF data.  Expecting to read 3221260288 bytes but only got 0. Skipping tag 2072\n",
      "  \" Skipping tag %s\" % (size, len(data), tag))\n",
      "/anaconda3/lib/python3.7/site-packages/PIL/TiffImagePlugin.py:763: UserWarning: Possibly corrupt EXIF data.  Expecting to read 268435640 bytes but only got 0. Skipping tag 768\n",
      "  \" Skipping tag %s\" % (size, len(data), tag))\n",
      "/anaconda3/lib/python3.7/site-packages/PIL/TiffImagePlugin.py:763: UserWarning: Possibly corrupt EXIF data.  Expecting to read 4718640 bytes but only got 0. Skipping tag 2560\n",
      "  \" Skipping tag %s\" % (size, len(data), tag))\n",
      "/anaconda3/lib/python3.7/site-packages/PIL/TiffImagePlugin.py:763: UserWarning: Possibly corrupt EXIF data.  Expecting to read 458765 bytes but only got 0. Skipping tag 23\n",
      "  \" Skipping tag %s\" % (size, len(data), tag))\n",
      "/anaconda3/lib/python3.7/site-packages/PIL/TiffImagePlugin.py:763: UserWarning: Possibly corrupt EXIF data.  Expecting to read 1441794 bytes but only got 8278. Skipping tag 161\n",
      "  \" Skipping tag %s\" % (size, len(data), tag))\n",
      "/anaconda3/lib/python3.7/site-packages/PIL/TiffImagePlugin.py:763: UserWarning: Possibly corrupt EXIF data.  Expecting to read 65575 bytes but only got 0. Skipping tag 55\n",
      "  \" Skipping tag %s\" % (size, len(data), tag))\n",
      "/anaconda3/lib/python3.7/site-packages/PIL/TiffImagePlugin.py:763: UserWarning: Possibly corrupt EXIF data.  Expecting to read 393219 bytes but only got 0. Skipping tag 7\n",
      "  \" Skipping tag %s\" % (size, len(data), tag))\n",
      "/anaconda3/lib/python3.7/site-packages/PIL/TiffImagePlugin.py:763: UserWarning: Possibly corrupt EXIF data.  Expecting to read 13369600 bytes but only got 0. Skipping tag 180\n",
      "  \" Skipping tag %s\" % (size, len(data), tag))\n",
      "/anaconda3/lib/python3.7/site-packages/PIL/TiffImagePlugin.py:763: UserWarning: Possibly corrupt EXIF data.  Expecting to read 2080374824 bytes but only got 8278. Skipping tag 256\n",
      "  \" Skipping tag %s\" % (size, len(data), tag))\n",
      "/anaconda3/lib/python3.7/site-packages/PIL/TiffImagePlugin.py:780: UserWarning: Corrupt EXIF data.  Expecting to read 12 bytes but only got 0. \n",
      "  warnings.warn(str(msg))\n"
     ]
    },
    {
     "name": "stderr",
     "output_type": "stream",
     "text": [
      "/anaconda3/lib/python3.7/site-packages/PIL/Image.py:968: UserWarning: Palette images with Transparency   expressed in bytes should be converted to RGBA images\n",
      "  ' expressed in bytes should be converted ' +\n"
     ]
    }
   ],
   "source": [
    "images_te, labels_te,images_tr, labels_tr, images, labels = imagenlabel_gen(cnn_test, cnn_train)"
   ]
  },
  {
   "cell_type": "code",
   "execution_count": 5,
   "metadata": {},
   "outputs": [],
   "source": [
    "# data_te = ImageDataGenerator(rescale=1./255).flow_from_directory( \n",
    "#         '/Users/j.markdaniels/Downloads/final_proj_data/bobcat_cougar_data/test/', \n",
    "#         target_size=(224, 224), \n",
    "#         batch_size = 340, \n",
    "#         seed = 123)"
   ]
  },
  {
   "cell_type": "code",
   "execution_count": 6,
   "metadata": {},
   "outputs": [],
   "source": [
    "# data_tr = ImageDataGenerator(rescale=1./255).flow_from_directory( \n",
    "#         '/Users/j.markdaniels/Downloads/final_proj_data/bobcat_cougar_data/train/', \n",
    "#         target_size=(224, 224), \n",
    "#         batch_size = 340, \n",
    "#         seed = 123) "
   ]
  },
  {
   "cell_type": "markdown",
   "metadata": {},
   "source": [
    "### Split Images and Labels into Arrays"
   ]
  },
  {
   "cell_type": "markdown",
   "metadata": {},
   "source": [
    "Build a function and export to .py to call these in to avoid conflicts"
   ]
  },
  {
   "cell_type": "code",
   "execution_count": 7,
   "metadata": {},
   "outputs": [],
   "source": [
    "# images_tr, labels_tr = next(data_tr)\n",
    "\n",
    "# images_te, labels_te = next(data_te)\n",
    "\n",
    "# images = np.concatenate((images_tr, images_te))\n",
    "\n",
    "# labels = np.concatenate((labels_tr[:,0], labels_te[:,0]))"
   ]
  },
  {
   "cell_type": "markdown",
   "metadata": {},
   "source": [
    "### Perform Train-Test Split"
   ]
  },
  {
   "cell_type": "markdown",
   "metadata": {},
   "source": [
    "Build a function and export to .py to call these in to avoid conflicts"
   ]
  },
  {
   "cell_type": "code",
   "execution_count": null,
   "metadata": {},
   "outputs": [],
   "source": []
  },
  {
   "cell_type": "code",
   "execution_count": 8,
   "metadata": {},
   "outputs": [],
   "source": [
    "from sklearn.model_selection import train_test_split\n",
    "X_model, X_test, y_model, y_test = train_test_split(images, labels, test_size=0.20, random_state=123)"
   ]
  },
  {
   "cell_type": "code",
   "execution_count": 9,
   "metadata": {},
   "outputs": [],
   "source": [
    "from sklearn.model_selection import train_test_split\n",
    "X_train, X_val, y_train, y_val = train_test_split(X_model, y_model, test_size=0.20, random_state=123)"
   ]
  },
  {
   "cell_type": "markdown",
   "metadata": {},
   "source": [
    "## Convolutional Neural Network (CNN)"
   ]
  },
  {
   "cell_type": "markdown",
   "metadata": {},
   "source": [
    "### Create Model"
   ]
  },
  {
   "cell_type": "code",
   "execution_count": 10,
   "metadata": {
    "scrolled": true
   },
   "outputs": [
    {
     "name": "stdout",
     "output_type": "stream",
     "text": [
      "WARNING:tensorflow:From /anaconda3/lib/python3.7/site-packages/tensorflow/python/framework/op_def_library.py:263: colocate_with (from tensorflow.python.framework.ops) is deprecated and will be removed in a future version.\n",
      "Instructions for updating:\n",
      "Colocations handled automatically by placer.\n"
     ]
    }
   ],
   "source": [
    "cnn = models.Sequential()\n",
    "cnn.add(layers.Conv2D(64, (1, 1), activation='relu', input_shape=(224, 224,  3)))\n",
    "cnn.add(layers.BatchNormalization())\n",
    "cnn.add(layers.MaxPooling2D((2, 2)))\n",
    "cnn.add(layers.Conv2D(64, (3, 3), activation='relu'))\n",
    "cnn.add(layers.BatchNormalization())\n",
    "# 64 bias parameters\n",
    "# 64 * (3 * 3 * 3) weight parametrs\n",
    "# Output is 64*224*224\n",
    "cnn.add(layers.MaxPooling2D((2, 2)))\n",
    "#Output is 64*112*112\n",
    "cnn.add(layers.Conv2D(32, (3, 3), activation='relu', input_shape=(224, 224,  3)))\n",
    "cnn.add(layers.BatchNormalization())\n",
    "#32 bias parameters\n",
    "#32 * (3*3*64)\n",
    "#Output is 32*112*112 \n",
    "cnn.add(layers.MaxPooling2D((2, 2)))\n",
    "cnn.add(layers.Flatten())\n",
    "cnn.add(layers.Dense(32, activation='relu'))\n",
    "cnn.add(layers.Dense(1, activation='sigmoid'))\n",
    "\n",
    "cnn.compile(loss='binary_crossentropy',\n",
    "              optimizer=\"adam\",\n",
    "              metrics=['acc'])"
   ]
  },
  {
   "cell_type": "markdown",
   "metadata": {},
   "source": [
    "### Train Model"
   ]
  },
  {
   "cell_type": "code",
   "execution_count": 11,
   "metadata": {
    "scrolled": true
   },
   "outputs": [
    {
     "name": "stdout",
     "output_type": "stream",
     "text": [
      "WARNING:tensorflow:From /anaconda3/lib/python3.7/site-packages/tensorflow/python/ops/math_ops.py:3066: to_int32 (from tensorflow.python.ops.math_ops) is deprecated and will be removed in a future version.\n",
      "Instructions for updating:\n",
      "Use tf.cast instead.\n",
      "Train on 435 samples, validate on 109 samples\n",
      "Epoch 1/100\n",
      "435/435 [==============================] - 56s 129ms/step - loss: 1.4276 - acc: 0.5931 - val_loss: 1.1248 - val_acc: 0.6514\n",
      "Epoch 2/100\n",
      "435/435 [==============================] - 52s 120ms/step - loss: 0.5554 - acc: 0.7678 - val_loss: 0.6978 - val_acc: 0.6972\n",
      "Epoch 3/100\n",
      "435/435 [==============================] - 51s 116ms/step - loss: 0.3215 - acc: 0.8713 - val_loss: 0.7529 - val_acc: 0.7156\n",
      "Epoch 4/100\n",
      "435/435 [==============================] - 52s 119ms/step - loss: 0.1671 - acc: 0.9333 - val_loss: 0.7437 - val_acc: 0.7339\n",
      "Epoch 5/100\n",
      "435/435 [==============================] - 51s 117ms/step - loss: 0.0840 - acc: 0.9724 - val_loss: 0.6139 - val_acc: 0.7982\n",
      "Epoch 6/100\n",
      "435/435 [==============================] - 50s 114ms/step - loss: 0.0589 - acc: 0.9793 - val_loss: 0.7033 - val_acc: 0.7615\n",
      "Epoch 7/100\n",
      "435/435 [==============================] - 50s 114ms/step - loss: 0.0293 - acc: 0.9839 - val_loss: 0.6666 - val_acc: 0.7615\n",
      "Epoch 8/100\n",
      "435/435 [==============================] - 50s 115ms/step - loss: 0.0430 - acc: 0.9839 - val_loss: 0.5363 - val_acc: 0.7798\n",
      "Epoch 9/100\n",
      "435/435 [==============================] - 50s 115ms/step - loss: 0.0181 - acc: 0.9931 - val_loss: 0.6792 - val_acc: 0.7706\n",
      "Epoch 10/100\n",
      "435/435 [==============================] - 50s 115ms/step - loss: 0.0204 - acc: 0.9931 - val_loss: 0.7325 - val_acc: 0.7706\n",
      "Epoch 11/100\n",
      "435/435 [==============================] - 50s 116ms/step - loss: 0.0326 - acc: 0.9885 - val_loss: 0.7143 - val_acc: 0.7890\n",
      "Epoch 12/100\n",
      "435/435 [==============================] - 51s 117ms/step - loss: 0.0145 - acc: 0.9954 - val_loss: 0.8512 - val_acc: 0.7798\n",
      "Epoch 13/100\n",
      "435/435 [==============================] - 52s 119ms/step - loss: 0.0124 - acc: 0.9977 - val_loss: 0.8506 - val_acc: 0.7890\n",
      "Epoch 14/100\n",
      "435/435 [==============================] - 51s 118ms/step - loss: 0.0055 - acc: 1.0000 - val_loss: 0.9392 - val_acc: 0.7890\n",
      "Epoch 15/100\n",
      "435/435 [==============================] - 51s 118ms/step - loss: 0.0027 - acc: 1.0000 - val_loss: 0.9380 - val_acc: 0.7890\n",
      "Epoch 16/100\n",
      "435/435 [==============================] - 51s 118ms/step - loss: 0.0020 - acc: 1.0000 - val_loss: 0.9034 - val_acc: 0.7982\n",
      "Epoch 17/100\n",
      "435/435 [==============================] - 51s 116ms/step - loss: 0.0013 - acc: 1.0000 - val_loss: 0.8765 - val_acc: 0.7982\n",
      "Epoch 18/100\n",
      "435/435 [==============================] - 52s 120ms/step - loss: 0.0011 - acc: 1.0000 - val_loss: 0.8701 - val_acc: 0.7982\n",
      "Epoch 19/100\n",
      "435/435 [==============================] - 53s 121ms/step - loss: 9.2332e-04 - acc: 1.0000 - val_loss: 0.8581 - val_acc: 0.8165\n",
      "Epoch 20/100\n",
      "435/435 [==============================] - 53s 121ms/step - loss: 8.4491e-04 - acc: 1.0000 - val_loss: 0.8547 - val_acc: 0.8257\n",
      "Epoch 21/100\n",
      "435/435 [==============================] - 53s 122ms/step - loss: 6.4849e-04 - acc: 1.0000 - val_loss: 0.8564 - val_acc: 0.8257\n",
      "Epoch 22/100\n",
      "435/435 [==============================] - 52s 120ms/step - loss: 5.6267e-04 - acc: 1.0000 - val_loss: 0.8578 - val_acc: 0.8257\n",
      "Epoch 23/100\n",
      "435/435 [==============================] - 52s 119ms/step - loss: 6.7568e-04 - acc: 1.0000 - val_loss: 0.8580 - val_acc: 0.8257\n",
      "Epoch 24/100\n",
      "435/435 [==============================] - 51s 118ms/step - loss: 5.4097e-04 - acc: 1.0000 - val_loss: 0.8584 - val_acc: 0.8257\n",
      "Epoch 25/100\n",
      "435/435 [==============================] - 52s 119ms/step - loss: 6.1729e-04 - acc: 1.0000 - val_loss: 0.8589 - val_acc: 0.8257\n",
      "Epoch 26/100\n",
      "435/435 [==============================] - 52s 118ms/step - loss: 4.8982e-04 - acc: 1.0000 - val_loss: 0.8623 - val_acc: 0.8257\n",
      "Epoch 27/100\n",
      "435/435 [==============================] - 52s 118ms/step - loss: 4.7296e-04 - acc: 1.0000 - val_loss: 0.8651 - val_acc: 0.8257\n",
      "Epoch 28/100\n",
      "435/435 [==============================] - 51s 118ms/step - loss: 4.2694e-04 - acc: 1.0000 - val_loss: 0.8640 - val_acc: 0.8257\n",
      "Epoch 29/100\n",
      "435/435 [==============================] - 53s 121ms/step - loss: 3.5607e-04 - acc: 1.0000 - val_loss: 0.8634 - val_acc: 0.8257\n",
      "Epoch 30/100\n",
      "435/435 [==============================] - 52s 119ms/step - loss: 3.5732e-04 - acc: 1.0000 - val_loss: 0.8651 - val_acc: 0.8257\n",
      "Epoch 31/100\n",
      "435/435 [==============================] - 52s 119ms/step - loss: 4.8542e-04 - acc: 1.0000 - val_loss: 0.8654 - val_acc: 0.8257\n",
      "Epoch 32/100\n",
      "435/435 [==============================] - 51s 118ms/step - loss: 3.4852e-04 - acc: 1.0000 - val_loss: 0.8632 - val_acc: 0.8165\n",
      "Epoch 33/100\n",
      "435/435 [==============================] - 52s 118ms/step - loss: 3.3437e-04 - acc: 1.0000 - val_loss: 0.8650 - val_acc: 0.8165\n",
      "Epoch 34/100\n",
      "435/435 [==============================] - 52s 119ms/step - loss: 4.1106e-04 - acc: 1.0000 - val_loss: 0.8721 - val_acc: 0.7982\n",
      "Epoch 35/100\n",
      "435/435 [==============================] - 51s 118ms/step - loss: 3.5687e-04 - acc: 1.0000 - val_loss: 0.8721 - val_acc: 0.7982\n",
      "Epoch 36/100\n",
      "435/435 [==============================] - 52s 120ms/step - loss: 2.7081e-04 - acc: 1.0000 - val_loss: 0.8757 - val_acc: 0.7982\n",
      "Epoch 37/100\n",
      "435/435 [==============================] - 51s 118ms/step - loss: 3.1356e-04 - acc: 1.0000 - val_loss: 0.8777 - val_acc: 0.7982\n",
      "Epoch 38/100\n",
      "435/435 [==============================] - 52s 119ms/step - loss: 2.3835e-04 - acc: 1.0000 - val_loss: 0.8810 - val_acc: 0.7982\n",
      "Epoch 39/100\n",
      "435/435 [==============================] - 51s 118ms/step - loss: 2.5588e-04 - acc: 1.0000 - val_loss: 0.8825 - val_acc: 0.7982\n",
      "Epoch 40/100\n",
      "435/435 [==============================] - 55s 126ms/step - loss: 3.3033e-04 - acc: 1.0000 - val_loss: 0.8865 - val_acc: 0.7982\n",
      "Epoch 41/100\n",
      "435/435 [==============================] - 51s 118ms/step - loss: 1.8961e-04 - acc: 1.0000 - val_loss: 0.8872 - val_acc: 0.7982\n",
      "Epoch 42/100\n",
      "435/435 [==============================] - 50s 116ms/step - loss: 2.1607e-04 - acc: 1.0000 - val_loss: 0.8895 - val_acc: 0.7982\n",
      "Epoch 43/100\n",
      "435/435 [==============================] - 51s 117ms/step - loss: 2.3215e-04 - acc: 1.0000 - val_loss: 0.8934 - val_acc: 0.7982\n",
      "Epoch 44/100\n",
      "435/435 [==============================] - 51s 117ms/step - loss: 1.9556e-04 - acc: 1.0000 - val_loss: 0.8942 - val_acc: 0.7982\n",
      "Epoch 45/100\n",
      "435/435 [==============================] - 51s 117ms/step - loss: 2.2481e-04 - acc: 1.0000 - val_loss: 0.8948 - val_acc: 0.7982\n",
      "Epoch 46/100\n",
      "435/435 [==============================] - 51s 116ms/step - loss: 2.2116e-04 - acc: 1.0000 - val_loss: 0.8884 - val_acc: 0.7982\n",
      "Epoch 47/100\n",
      "435/435 [==============================] - 51s 118ms/step - loss: 2.6518e-04 - acc: 1.0000 - val_loss: 0.8904 - val_acc: 0.7982\n",
      "Epoch 48/100\n",
      "435/435 [==============================] - 52s 119ms/step - loss: 1.6713e-04 - acc: 1.0000 - val_loss: 0.8933 - val_acc: 0.7982\n",
      "Epoch 49/100\n",
      "435/435 [==============================] - 51s 118ms/step - loss: 1.8909e-04 - acc: 1.0000 - val_loss: 0.8949 - val_acc: 0.7982\n",
      "Epoch 50/100\n",
      "435/435 [==============================] - 51s 118ms/step - loss: 1.5671e-04 - acc: 1.0000 - val_loss: 0.8998 - val_acc: 0.7982\n",
      "Epoch 51/100\n",
      "435/435 [==============================] - 51s 117ms/step - loss: 2.1847e-04 - acc: 1.0000 - val_loss: 0.9005 - val_acc: 0.7982\n",
      "Epoch 52/100\n",
      "435/435 [==============================] - 49s 113ms/step - loss: 2.3964e-04 - acc: 1.0000 - val_loss: 0.8987 - val_acc: 0.7982\n",
      "Epoch 53/100\n",
      "435/435 [==============================] - 50s 114ms/step - loss: 1.8618e-04 - acc: 1.0000 - val_loss: 0.9005 - val_acc: 0.7982\n",
      "Epoch 54/100\n",
      "435/435 [==============================] - 49s 113ms/step - loss: 1.9056e-04 - acc: 1.0000 - val_loss: 0.9019 - val_acc: 0.7982\n",
      "Epoch 55/100\n",
      "435/435 [==============================] - 47s 109ms/step - loss: 1.8373e-04 - acc: 1.0000 - val_loss: 0.9008 - val_acc: 0.7982\n",
      "Epoch 56/100\n",
      "435/435 [==============================] - 49s 112ms/step - loss: 1.5669e-04 - acc: 1.0000 - val_loss: 0.9008 - val_acc: 0.7982\n",
      "Epoch 57/100\n"
     ]
    },
    {
     "name": "stdout",
     "output_type": "stream",
     "text": [
      "435/435 [==============================] - 48s 110ms/step - loss: 1.4492e-04 - acc: 1.0000 - val_loss: 0.9016 - val_acc: 0.7982\n",
      "Epoch 58/100\n",
      "435/435 [==============================] - 49s 112ms/step - loss: 2.2440e-04 - acc: 1.0000 - val_loss: 0.9052 - val_acc: 0.7982\n",
      "Epoch 59/100\n",
      "435/435 [==============================] - 49s 113ms/step - loss: 1.2284e-04 - acc: 1.0000 - val_loss: 0.9109 - val_acc: 0.7982\n",
      "Epoch 60/100\n",
      "435/435 [==============================] - 48s 111ms/step - loss: 1.7419e-04 - acc: 1.0000 - val_loss: 0.9143 - val_acc: 0.7982\n",
      "Epoch 61/100\n",
      "435/435 [==============================] - 49s 113ms/step - loss: 1.3077e-04 - acc: 1.0000 - val_loss: 0.9165 - val_acc: 0.7982\n",
      "Epoch 62/100\n",
      "435/435 [==============================] - 49s 112ms/step - loss: 1.4943e-04 - acc: 1.0000 - val_loss: 0.9140 - val_acc: 0.7982\n",
      "Epoch 63/100\n",
      "435/435 [==============================] - 49s 113ms/step - loss: 1.1945e-04 - acc: 1.0000 - val_loss: 0.9154 - val_acc: 0.7982\n",
      "Epoch 64/100\n",
      "435/435 [==============================] - 49s 112ms/step - loss: 1.1285e-04 - acc: 1.0000 - val_loss: 0.9166 - val_acc: 0.7982\n",
      "Epoch 65/100\n",
      "435/435 [==============================] - 49s 113ms/step - loss: 1.1733e-04 - acc: 1.0000 - val_loss: 0.9191 - val_acc: 0.7982\n",
      "Epoch 66/100\n",
      "435/435 [==============================] - 49s 113ms/step - loss: 1.2054e-04 - acc: 1.0000 - val_loss: 0.9223 - val_acc: 0.7982\n",
      "Epoch 67/100\n",
      "435/435 [==============================] - 48s 111ms/step - loss: 1.1398e-04 - acc: 1.0000 - val_loss: 0.9262 - val_acc: 0.7982\n",
      "Epoch 68/100\n",
      "435/435 [==============================] - 49s 113ms/step - loss: 1.0566e-04 - acc: 1.0000 - val_loss: 0.9270 - val_acc: 0.7982\n",
      "Epoch 69/100\n",
      "435/435 [==============================] - 50s 115ms/step - loss: 1.0229e-04 - acc: 1.0000 - val_loss: 0.9271 - val_acc: 0.7982\n",
      "Epoch 70/100\n",
      "435/435 [==============================] - 49s 113ms/step - loss: 1.2445e-04 - acc: 1.0000 - val_loss: 0.9286 - val_acc: 0.7982\n",
      "Epoch 71/100\n",
      "435/435 [==============================] - 50s 114ms/step - loss: 8.6499e-05 - acc: 1.0000 - val_loss: 0.9303 - val_acc: 0.7982\n",
      "Epoch 72/100\n",
      "435/435 [==============================] - 48s 111ms/step - loss: 1.4265e-04 - acc: 1.0000 - val_loss: 0.9303 - val_acc: 0.7982\n",
      "Epoch 73/100\n",
      "435/435 [==============================] - 49s 113ms/step - loss: 1.5800e-04 - acc: 1.0000 - val_loss: 0.9285 - val_acc: 0.7982\n",
      "Epoch 74/100\n",
      "435/435 [==============================] - 48s 111ms/step - loss: 2.9625e-04 - acc: 1.0000 - val_loss: 0.9206 - val_acc: 0.7982\n",
      "Epoch 75/100\n",
      "435/435 [==============================] - 49s 112ms/step - loss: 9.6337e-05 - acc: 1.0000 - val_loss: 0.9002 - val_acc: 0.8073\n",
      "Epoch 76/100\n",
      "435/435 [==============================] - 50s 115ms/step - loss: 2.0532e-04 - acc: 1.0000 - val_loss: 0.9058 - val_acc: 0.8073\n",
      "Epoch 77/100\n",
      "435/435 [==============================] - 49s 112ms/step - loss: 1.2902e-04 - acc: 1.0000 - val_loss: 0.9083 - val_acc: 0.8073\n",
      "Epoch 78/100\n",
      "435/435 [==============================] - 49s 114ms/step - loss: 1.1017e-04 - acc: 1.0000 - val_loss: 0.9071 - val_acc: 0.8073\n",
      "Epoch 79/100\n",
      "435/435 [==============================] - 49s 112ms/step - loss: 1.0522e-04 - acc: 1.0000 - val_loss: 0.9075 - val_acc: 0.8073\n",
      "Epoch 80/100\n",
      "435/435 [==============================] - 49s 113ms/step - loss: 1.0205e-04 - acc: 1.0000 - val_loss: 0.9103 - val_acc: 0.8073\n",
      "Epoch 81/100\n",
      "435/435 [==============================] - 51s 116ms/step - loss: 1.4261e-04 - acc: 1.0000 - val_loss: 0.9149 - val_acc: 0.8073\n",
      "Epoch 82/100\n",
      "435/435 [==============================] - 51s 117ms/step - loss: 1.1726e-04 - acc: 1.0000 - val_loss: 0.9205 - val_acc: 0.8073\n",
      "Epoch 83/100\n",
      "435/435 [==============================] - 49s 112ms/step - loss: 8.7846e-05 - acc: 1.0000 - val_loss: 0.9224 - val_acc: 0.8073\n",
      "Epoch 84/100\n",
      "435/435 [==============================] - 50s 114ms/step - loss: 1.1300e-04 - acc: 1.0000 - val_loss: 0.9205 - val_acc: 0.8073\n",
      "Epoch 85/100\n",
      "435/435 [==============================] - 49s 112ms/step - loss: 7.6725e-05 - acc: 1.0000 - val_loss: 0.9164 - val_acc: 0.8073\n",
      "Epoch 86/100\n",
      "435/435 [==============================] - 49s 113ms/step - loss: 7.9613e-05 - acc: 1.0000 - val_loss: 0.9186 - val_acc: 0.8073\n",
      "Epoch 87/100\n",
      "435/435 [==============================] - 49s 112ms/step - loss: 8.5237e-05 - acc: 1.0000 - val_loss: 0.9198 - val_acc: 0.8073\n",
      "Epoch 88/100\n",
      "435/435 [==============================] - 50s 115ms/step - loss: 7.5686e-05 - acc: 1.0000 - val_loss: 0.9187 - val_acc: 0.8073\n",
      "Epoch 89/100\n",
      "435/435 [==============================] - 48s 111ms/step - loss: 7.4338e-05 - acc: 1.0000 - val_loss: 0.9157 - val_acc: 0.8073\n",
      "Epoch 90/100\n",
      "435/435 [==============================] - 50s 115ms/step - loss: 7.5784e-05 - acc: 1.0000 - val_loss: 0.9154 - val_acc: 0.8073\n",
      "Epoch 91/100\n",
      "435/435 [==============================] - 49s 112ms/step - loss: 6.4362e-05 - acc: 1.0000 - val_loss: 0.9158 - val_acc: 0.8073\n",
      "Epoch 92/100\n",
      "435/435 [==============================] - 48s 111ms/step - loss: 9.4047e-05 - acc: 1.0000 - val_loss: 0.9176 - val_acc: 0.8073\n",
      "Epoch 93/100\n",
      "435/435 [==============================] - 49s 112ms/step - loss: 8.1360e-05 - acc: 1.0000 - val_loss: 0.9225 - val_acc: 0.8073\n",
      "Epoch 94/100\n",
      "435/435 [==============================] - 49s 112ms/step - loss: 6.0855e-05 - acc: 1.0000 - val_loss: 0.9244 - val_acc: 0.8073\n",
      "Epoch 95/100\n",
      "435/435 [==============================] - 49s 112ms/step - loss: 7.3106e-05 - acc: 1.0000 - val_loss: 0.9264 - val_acc: 0.8073\n",
      "Epoch 96/100\n",
      "435/435 [==============================] - 48s 111ms/step - loss: 7.0987e-05 - acc: 1.0000 - val_loss: 0.9273 - val_acc: 0.8073\n",
      "Epoch 97/100\n",
      "435/435 [==============================] - 49s 112ms/step - loss: 6.3573e-05 - acc: 1.0000 - val_loss: 0.9244 - val_acc: 0.8073\n",
      "Epoch 98/100\n",
      "435/435 [==============================] - 49s 112ms/step - loss: 7.2077e-05 - acc: 1.0000 - val_loss: 0.9251 - val_acc: 0.8073\n",
      "Epoch 99/100\n",
      "435/435 [==============================] - 49s 112ms/step - loss: 7.7480e-05 - acc: 1.0000 - val_loss: 0.9221 - val_acc: 0.8073\n",
      "Epoch 100/100\n",
      "435/435 [==============================] - 49s 112ms/step - loss: 7.5039e-05 - acc: 1.0000 - val_loss: 0.9253 - val_acc: 0.8073\n"
     ]
    }
   ],
   "source": [
    "cnn1 = cnn.fit(X_train,\n",
    "                    y_train,\n",
    "                    epochs=100, # 100\n",
    "                    batch_size=50, #50\n",
    "                    validation_data=(X_val, y_val))"
   ]
  },
  {
   "cell_type": "markdown",
   "metadata": {},
   "source": [
    "### Save Loaded CNN Model"
   ]
  },
  {
   "cell_type": "code",
   "execution_count": 12,
   "metadata": {},
   "outputs": [],
   "source": [
    "cnn.save('cnn1.h5')"
   ]
  },
  {
   "cell_type": "markdown",
   "metadata": {},
   "source": [
    "### Load Saved CNN Model"
   ]
  },
  {
   "cell_type": "code",
   "execution_count": 13,
   "metadata": {},
   "outputs": [],
   "source": [
    "# from numpy import loadtxt\n",
    "# from keras.models import load_model\n",
    "\n",
    "\n",
    "# cnn.load_weights('/Users/j.markdaniels/Desktop/flatiron_final_project/cnn_first_draft.h5')\n",
    "\n",
    "# model = load_model('/Users/j.markdaniels/Desktop/flatiron_final_project/cnn_first_draft.h5')\n",
    "\n",
    "# cnn.summary()\n",
    "\n"
   ]
  },
  {
   "cell_type": "markdown",
   "metadata": {},
   "source": [
    "#### Summary"
   ]
  },
  {
   "cell_type": "code",
   "execution_count": 14,
   "metadata": {},
   "outputs": [
    {
     "name": "stdout",
     "output_type": "stream",
     "text": [
      "_________________________________________________________________\n",
      "Layer (type)                 Output Shape              Param #   \n",
      "=================================================================\n",
      "conv2d_1 (Conv2D)            (None, 224, 224, 64)      256       \n",
      "_________________________________________________________________\n",
      "batch_normalization_1 (Batch (None, 224, 224, 64)      256       \n",
      "_________________________________________________________________\n",
      "max_pooling2d_1 (MaxPooling2 (None, 112, 112, 64)      0         \n",
      "_________________________________________________________________\n",
      "conv2d_2 (Conv2D)            (None, 110, 110, 64)      36928     \n",
      "_________________________________________________________________\n",
      "batch_normalization_2 (Batch (None, 110, 110, 64)      256       \n",
      "_________________________________________________________________\n",
      "max_pooling2d_2 (MaxPooling2 (None, 55, 55, 64)        0         \n",
      "_________________________________________________________________\n",
      "conv2d_3 (Conv2D)            (None, 53, 53, 32)        18464     \n",
      "_________________________________________________________________\n",
      "batch_normalization_3 (Batch (None, 53, 53, 32)        128       \n",
      "_________________________________________________________________\n",
      "max_pooling2d_3 (MaxPooling2 (None, 26, 26, 32)        0         \n",
      "_________________________________________________________________\n",
      "flatten_1 (Flatten)          (None, 21632)             0         \n",
      "_________________________________________________________________\n",
      "dense_1 (Dense)              (None, 32)                692256    \n",
      "_________________________________________________________________\n",
      "dense_2 (Dense)              (None, 1)                 33        \n",
      "=================================================================\n",
      "Total params: 748,577\n",
      "Trainable params: 748,257\n",
      "Non-trainable params: 320\n",
      "_________________________________________________________________\n",
      "None\n"
     ]
    }
   ],
   "source": [
    "### Which should I keep? ###\n",
    "print(cnn.summary())\n"
   ]
  },
  {
   "cell_type": "markdown",
   "metadata": {},
   "source": [
    "### Evaluate CNN Model Performance"
   ]
  },
  {
   "cell_type": "markdown",
   "metadata": {},
   "source": [
    "Build a function and export to .py to call these in to avoid conflicts"
   ]
  },
  {
   "cell_type": "code",
   "execution_count": 15,
   "metadata": {},
   "outputs": [],
   "source": [
    "from keras.callbacks import History \n",
    "history = History()"
   ]
  },
  {
   "cell_type": "code",
   "execution_count": 16,
   "metadata": {},
   "outputs": [
    {
     "data": {
      "image/png": "[encoded data removed]",
      "text/plain": [
       "<Figure size 1080x288 with 2 Axes>"
      ]
     },
     "metadata": {
      "needs_background": "light"
     },
     "output_type": "display_data"
    }
   ],
   "source": [
    "hist_cnn = cnn1.history\n",
    "loss_values = hist_cnn['loss']\n",
    "val_loss_values = hist_cnn['val_loss']\n",
    "acc_values = hist_cnn['acc'] \n",
    "val_acc_values = hist_cnn['val_acc']\n",
    "\n",
    "\n",
    "epochs = range(1, len(loss_values) + 1)\n",
    "\n",
    "plt.figure(figsize=(15,4))\n",
    "plt.subplot(121)\n",
    "plt.plot(epochs, loss_values, 'g.', label='Training loss')\n",
    "plt.plot(epochs, val_loss_values, 'g', label='Validation loss')\n",
    "\n",
    "plt.title('Training and validation loss')\n",
    "plt.xlabel('Epochs')\n",
    "plt.ylabel('Loss')\n",
    "plt.legend()\n",
    "\n",
    "plt.subplot(122)\n",
    "plt.plot(epochs, acc_values, 'r.', label='Training acc')\n",
    "plt.plot(epochs, val_acc_values, 'r', label='Validation acc')\n",
    "plt.title('Training and validation accuracy')\n",
    "plt.xlabel('Epochs')\n",
    "plt.ylabel('Accuracy')\n",
    "plt.legend()\n",
    "plt.show()"
   ]
  },
  {
   "cell_type": "markdown",
   "metadata": {},
   "source": [
    "#### Accuracy"
   ]
  },
  {
   "cell_type": "markdown",
   "metadata": {},
   "source": [
    "Build a function and export to .py to call these in to avoid conflicts"
   ]
  },
  {
   "cell_type": "code",
   "execution_count": null,
   "metadata": {},
   "outputs": [],
   "source": []
  },
  {
   "cell_type": "code",
   "execution_count": 17,
   "metadata": {},
   "outputs": [
    {
     "name": "stdout",
     "output_type": "stream",
     "text": [
      "435/435 [==============================] - 20s 46ms/step\n",
      "136/136 [==============================] - 6s 47ms/step\n",
      "[4.1923780272241104e-05, 1.0] [0.6363458160091849, 0.8235294117647058]\n"
     ]
    }
   ],
   "source": [
    "results_train = cnn.evaluate(X_train, y_train)\n",
    "results_test = cnn.evaluate(X_test, y_test)\n",
    "print(results_train, results_test)"
   ]
  },
  {
   "cell_type": "markdown",
   "metadata": {},
   "source": [
    "#### Confusion Matrix"
   ]
  },
  {
   "cell_type": "code",
   "execution_count": 18,
   "metadata": {},
   "outputs": [],
   "source": [
    "import itertools\n",
    "\n",
    "def plot_confusion_matrix(cm, classes,\n",
    "                          normalize=False,\n",
    "                          title='Confusion matrix',\n",
    "                          cmap=plt.cm.Blues):\n",
    "    \"\"\"\n",
    "    This function prints and plots the confusion matrix.\n",
    "    Normalization can be applied by setting `normalize=True`.\n",
    "    \"\"\"\n",
    "    if normalize:\n",
    "        cm = cm.astype('float') / cm.sum(axis=1)[:, np.newaxis]\n",
    "        print(\"Normalized confusion matrix\")\n",
    "    else:\n",
    "        print('Confusion matrix, without normalization')\n",
    "\n",
    "    print(cm)\n",
    "\n",
    "    plt.imshow(cm, interpolation='nearest', cmap=cmap)\n",
    "    plt.title(title)\n",
    "    plt.colorbar()\n",
    "    tick_marks = np.arange(len(classes))\n",
    "    plt.xticks(tick_marks, classes, rotation=45)\n",
    "    plt.yticks(tick_marks, classes)\n",
    "\n",
    "    fmt = '.2f' if normalize else 'd'\n",
    "    thresh = cm.max() / 2.\n",
    "    for i, j in itertools.product(range(cm.shape[0]), range(cm.shape[1])):\n",
    "        plt.text(j, i, format(cm[i, j], fmt),\n",
    "                 horizontalalignment=\"center\",\n",
    "                 color=\"white\" if cm[i, j] > thresh else \"black\")\n",
    "\n",
    "    plt.ylabel('True label')\n",
    "    plt.xlabel('Predicted label')\n",
    "    plt.tight_layout()"
   ]
  },
  {
   "cell_type": "code",
   "execution_count": 19,
   "metadata": {},
   "outputs": [],
   "source": [
    "predictions_transfer = cnn.predict(X_test)\n",
    "predictions_transfer = np.around(predictions_transfer)"
   ]
  },
  {
   "cell_type": "code",
   "execution_count": 20,
   "metadata": {},
   "outputs": [
    {
     "name": "stdout",
     "output_type": "stream",
     "text": [
      "Confusion matrix, without normalization\n",
      "[[56 10]\n",
      " [14 56]]\n"
     ]
    },
    {
     "data": {
      "image/png": "[encoded data removed]",
      "text/plain": [
       "<Figure size 432x288 with 2 Axes>"
      ]
     },
     "metadata": {
      "needs_background": "light"
     },
     "output_type": "display_data"
    }
   ],
   "source": [
    "plt.figure()\n",
    "plot_confusion_matrix(confusion_matrix(y_test, predictions_transfer), classes=['bobcat', 'not bobcat'], normalize=False,\n",
    "                      title='Confusion matrix - ImagenetV3')"
   ]
  },
  {
   "cell_type": "markdown",
   "metadata": {},
   "source": [
    "#### F1 Score"
   ]
  },
  {
   "cell_type": "code",
   "execution_count": 21,
   "metadata": {},
   "outputs": [
    {
     "data": {
      "text/plain": [
       "0.823529411764706"
      ]
     },
     "execution_count": 21,
     "metadata": {},
     "output_type": "execute_result"
    }
   ],
   "source": [
    "f1_score(y_test, predictions_transfer)"
   ]
  },
  {
   "cell_type": "markdown",
   "metadata": {},
   "source": [
    "### ROC Graph"
   ]
  },
  {
   "cell_type": "code",
   "execution_count": 22,
   "metadata": {},
   "outputs": [
    {
     "data": {
      "image/png": "[encoded data removed]",
      "text/plain": [
       "<Figure size 432x288 with 1 Axes>"
      ]
     },
     "metadata": {
      "needs_background": "light"
     },
     "output_type": "display_data"
    }
   ],
   "source": [
    "import numpy as np\n",
    "import sklearn\n",
    "from sklearn import metrics\n",
    "from sklearn.metrics import roc_curve\n",
    "from sklearn.metrics import roc_auc_score\n",
    "\n",
    "roc_predictions_transfer = cnn.predict(X_test)\n",
    "\n",
    "fpr, tpr = roc_curve(y_test, roc_predictions_transfer)[:2]\n",
    "\n",
    "auc_cnn = roc_auc_score(y_test, roc_predictions_transfer)\n",
    "\n",
    "plt.figure()\n",
    "lw = 2\n",
    "plt.plot(fpr, tpr, color='darkorange',\n",
    "         lw=lw, label='ROC curve (area = %0.2f)' % auc_cnn)\n",
    "plt.plot([0, 1], [0, 1], color='navy', lw=lw, linestyle='--')\n",
    "plt.xlim([0.0, 1.0])\n",
    "plt.ylim([0.0, 1.05])\n",
    "plt.xlabel('False Positive Rate')\n",
    "plt.ylabel('True Positive Rate')\n",
    "plt.title('Receiver operating characteristic example')\n",
    "plt.legend(loc=\"lower right\")\n",
    "plt.show()"
   ]
  },
  {
   "cell_type": "code",
   "execution_count": 23,
   "metadata": {},
   "outputs": [
    {
     "data": {
      "text/plain": [
       "(39,)"
      ]
     },
     "execution_count": 23,
     "metadata": {},
     "output_type": "execute_result"
    }
   ],
   "source": [
    "fpr.shape"
   ]
  },
  {
   "cell_type": "code",
   "execution_count": 24,
   "metadata": {},
   "outputs": [
    {
     "data": {
      "text/plain": [
       "(39,)"
      ]
     },
     "execution_count": 24,
     "metadata": {},
     "output_type": "execute_result"
    }
   ],
   "source": [
    "tpr.shape"
   ]
  },
  {
   "cell_type": "code",
   "execution_count": 25,
   "metadata": {},
   "outputs": [
    {
     "data": {
      "text/plain": [
       "array([[4.47034836e-07],\n",
       "       [1.93706155e-03],\n",
       "       [6.47489548e-01],\n",
       "       [2.41121650e-03],\n",
       "       [9.22708154e-01],\n",
       "       [2.89174914e-03],\n",
       "       [1.79590225e-01],\n",
       "       [1.23319924e-02],\n",
       "       [2.24582851e-02],\n",
       "       [9.97241199e-01],\n",
       "       [9.99039888e-01],\n",
       "       [4.22894955e-05],\n",
       "       [3.02991271e-03],\n",
       "       [9.99952793e-01],\n",
       "       [3.01600099e-02],\n",
       "       [3.10242176e-05],\n",
       "       [1.40070915e-06],\n",
       "       [1.22368336e-04],\n",
       "       [7.62489796e-01],\n",
       "       [9.99999642e-01],\n",
       "       [2.24582851e-02],\n",
       "       [8.80297899e-01],\n",
       "       [4.68679667e-02],\n",
       "       [5.99936903e-01],\n",
       "       [9.99654412e-01],\n",
       "       [6.83286309e-01],\n",
       "       [9.99942899e-01],\n",
       "       [3.29576373e-01],\n",
       "       [1.00000000e+00],\n",
       "       [0.00000000e+00],\n",
       "       [8.85128975e-06],\n",
       "       [9.28508759e-01],\n",
       "       [1.30076319e-01],\n",
       "       [5.74588776e-05],\n",
       "       [9.99938011e-01],\n",
       "       [3.81100684e-01],\n",
       "       [5.85129261e-02],\n",
       "       [2.06559837e-01],\n",
       "       [2.38418579e-06],\n",
       "       [7.46548176e-05],\n",
       "       [9.99999881e-01],\n",
       "       [9.99874949e-01],\n",
       "       [9.54224467e-01],\n",
       "       [9.23871994e-07],\n",
       "       [9.99984086e-01],\n",
       "       [9.82659996e-01],\n",
       "       [9.99997556e-01],\n",
       "       [9.99997854e-01],\n",
       "       [7.77205825e-03],\n",
       "       [2.89174914e-03],\n",
       "       [0.00000000e+00],\n",
       "       [9.99752879e-01],\n",
       "       [7.14666724e-01],\n",
       "       [9.99955058e-01],\n",
       "       [4.31537628e-05],\n",
       "       [1.32173300e-04],\n",
       "       [3.94284725e-05],\n",
       "       [4.83858585e-03],\n",
       "       [1.57418847e-03],\n",
       "       [3.13294828e-01],\n",
       "       [9.99999225e-01],\n",
       "       [1.27282888e-01],\n",
       "       [3.60608101e-06],\n",
       "       [1.08338892e-02],\n",
       "       [7.23585725e-01],\n",
       "       [6.93495274e-02],\n",
       "       [5.57303429e-05],\n",
       "       [2.50339508e-06],\n",
       "       [3.77325416e-02],\n",
       "       [9.99995351e-01],\n",
       "       [9.98974800e-01],\n",
       "       [9.99993622e-01],\n",
       "       [2.32869565e-01],\n",
       "       [9.94481921e-01],\n",
       "       [9.97544110e-01],\n",
       "       [9.99998808e-01],\n",
       "       [9.99953866e-01],\n",
       "       [9.36848760e-01],\n",
       "       [9.99996543e-01],\n",
       "       [1.45515501e-02],\n",
       "       [7.56317496e-01],\n",
       "       [9.99975085e-01],\n",
       "       [9.96271491e-01],\n",
       "       [1.27282888e-01],\n",
       "       [9.62854505e-01],\n",
       "       [5.27501106e-06],\n",
       "       [5.19752502e-05],\n",
       "       [1.46645486e-01],\n",
       "       [9.99981761e-01],\n",
       "       [3.73423100e-05],\n",
       "       [8.64267349e-07],\n",
       "       [9.99177217e-01],\n",
       "       [9.99546170e-01],\n",
       "       [8.12366962e-01],\n",
       "       [8.01824093e-01],\n",
       "       [9.99957860e-01],\n",
       "       [4.56478000e-02],\n",
       "       [0.00000000e+00],\n",
       "       [9.73761201e-01],\n",
       "       [9.99823689e-01],\n",
       "       [6.20812178e-03],\n",
       "       [9.99995708e-01],\n",
       "       [9.99990582e-01],\n",
       "       [6.21622801e-03],\n",
       "       [1.01327896e-06],\n",
       "       [9.95441079e-01],\n",
       "       [9.88079965e-01],\n",
       "       [1.88618302e-01],\n",
       "       [1.86920166e-04],\n",
       "       [9.96930420e-01],\n",
       "       [7.20699906e-01],\n",
       "       [9.99991655e-01],\n",
       "       [7.52925873e-04],\n",
       "       [9.87946987e-05],\n",
       "       [4.25112247e-03],\n",
       "       [1.00000000e+00],\n",
       "       [1.00000000e+00],\n",
       "       [6.41047955e-05],\n",
       "       [8.35292697e-01],\n",
       "       [1.21086836e-04],\n",
       "       [9.99999702e-01],\n",
       "       [1.10682964e-01],\n",
       "       [8.04951787e-03],\n",
       "       [9.95759487e-01],\n",
       "       [9.99999642e-01],\n",
       "       [9.99932766e-01],\n",
       "       [9.99999642e-01],\n",
       "       [3.72529030e-06],\n",
       "       [9.97063398e-01],\n",
       "       [2.85506248e-05],\n",
       "       [9.99998152e-01],\n",
       "       [1.51991844e-06],\n",
       "       [9.99970257e-01],\n",
       "       [9.61720943e-05],\n",
       "       [1.67816877e-04],\n",
       "       [2.06559837e-01]], dtype=float32)"
      ]
     },
     "execution_count": 25,
     "metadata": {},
     "output_type": "execute_result"
    }
   ],
   "source": [
    "roc_predictions_transfer"
   ]
  },
  {
   "cell_type": "code",
   "execution_count": null,
   "metadata": {},
   "outputs": [],
   "source": []
  },
  {
   "cell_type": "code",
   "execution_count": null,
   "metadata": {},
   "outputs": [],
   "source": []
  },
  {
   "cell_type": "code",
   "execution_count": null,
   "metadata": {},
   "outputs": [],
   "source": []
  },
  {
   "cell_type": "markdown",
   "metadata": {},
   "source": [
    "## Convolutional Neural Network with Inception (CNN-i)"
   ]
  },
  {
   "cell_type": "markdown",
   "metadata": {},
   "source": [
    "### Create Model"
   ]
  },
  {
   "cell_type": "code",
   "execution_count": 26,
   "metadata": {},
   "outputs": [],
   "source": [
    "imagenet=inception_v3.InceptionV3(weights='imagenet',include_top=False)\n",
    "imagenet_new=imagenet.output\n",
    "cnn_i = models.Sequential()\n",
    "cnn_i.add(imagenet)\n",
    "cnn_i.add(GlobalAveragePooling2D())\n",
    "cnn_i.add(Dense(1024,activation='relu'))\n",
    "cnn_i.add(Dense(1024,activation='relu')) #dense layer 2\n",
    "cnn_i.add(Dense(512,activation='relu')) #dense layer 3\n",
    "cnn_i.add(Dense(1,activation='sigmoid')) #final layer with sigmoid activation"
   ]
  },
  {
   "cell_type": "code",
   "execution_count": 27,
   "metadata": {},
   "outputs": [
    {
     "name": "stdout",
     "output_type": "stream",
     "text": [
      "0 input_1 False\n",
      "1 conv2d_4 True\n",
      "2 batch_normalization_4 True\n",
      "3 activation_1 True\n",
      "4 conv2d_5 True\n",
      "5 batch_normalization_5 True\n",
      "6 activation_2 True\n",
      "7 conv2d_6 True\n",
      "8 batch_normalization_6 True\n",
      "9 activation_3 True\n",
      "10 max_pooling2d_4 True\n",
      "11 conv2d_7 True\n",
      "12 batch_normalization_7 True\n",
      "13 activation_4 True\n",
      "14 conv2d_8 True\n",
      "15 batch_normalization_8 True\n",
      "16 activation_5 True\n",
      "17 max_pooling2d_5 True\n",
      "18 conv2d_12 True\n",
      "19 batch_normalization_12 True\n",
      "20 activation_9 True\n",
      "21 conv2d_10 True\n",
      "22 conv2d_13 True\n",
      "23 batch_normalization_10 True\n",
      "24 batch_normalization_13 True\n",
      "25 activation_7 True\n",
      "26 activation_10 True\n",
      "27 average_pooling2d_1 True\n",
      "28 conv2d_9 True\n",
      "29 conv2d_11 True\n",
      "30 conv2d_14 True\n",
      "31 conv2d_15 True\n",
      "32 batch_normalization_9 True\n",
      "33 batch_normalization_11 True\n",
      "34 batch_normalization_14 True\n",
      "35 batch_normalization_15 True\n",
      "36 activation_6 True\n",
      "37 activation_8 True\n",
      "38 activation_11 True\n",
      "39 activation_12 True\n",
      "40 mixed0 True\n",
      "41 conv2d_19 True\n",
      "42 batch_normalization_19 True\n",
      "43 activation_16 True\n",
      "44 conv2d_17 True\n",
      "45 conv2d_20 True\n",
      "46 batch_normalization_17 True\n",
      "47 batch_normalization_20 True\n",
      "48 activation_14 True\n",
      "49 activation_17 True\n",
      "50 average_pooling2d_2 True\n",
      "51 conv2d_16 True\n",
      "52 conv2d_18 True\n",
      "53 conv2d_21 True\n",
      "54 conv2d_22 True\n",
      "55 batch_normalization_16 True\n",
      "56 batch_normalization_18 True\n",
      "57 batch_normalization_21 True\n",
      "58 batch_normalization_22 True\n",
      "59 activation_13 True\n",
      "60 activation_15 True\n",
      "61 activation_18 True\n",
      "62 activation_19 True\n",
      "63 mixed1 True\n",
      "64 conv2d_26 True\n",
      "65 batch_normalization_26 True\n",
      "66 activation_23 True\n",
      "67 conv2d_24 True\n",
      "68 conv2d_27 True\n",
      "69 batch_normalization_24 True\n",
      "70 batch_normalization_27 True\n",
      "71 activation_21 True\n",
      "72 activation_24 True\n",
      "73 average_pooling2d_3 True\n",
      "74 conv2d_23 True\n",
      "75 conv2d_25 True\n",
      "76 conv2d_28 True\n",
      "77 conv2d_29 True\n",
      "78 batch_normalization_23 True\n",
      "79 batch_normalization_25 True\n",
      "80 batch_normalization_28 True\n",
      "81 batch_normalization_29 True\n",
      "82 activation_20 True\n",
      "83 activation_22 True\n",
      "84 activation_25 True\n",
      "85 activation_26 True\n",
      "86 mixed2 True\n",
      "87 conv2d_31 True\n",
      "88 batch_normalization_31 True\n",
      "89 activation_28 True\n",
      "90 conv2d_32 True\n",
      "91 batch_normalization_32 True\n",
      "92 activation_29 True\n",
      "93 conv2d_30 True\n",
      "94 conv2d_33 True\n",
      "95 batch_normalization_30 True\n",
      "96 batch_normalization_33 True\n",
      "97 activation_27 True\n",
      "98 activation_30 True\n",
      "99 max_pooling2d_6 True\n",
      "100 mixed3 True\n",
      "101 conv2d_38 True\n",
      "102 batch_normalization_38 True\n",
      "103 activation_35 True\n",
      "104 conv2d_39 True\n",
      "105 batch_normalization_39 True\n",
      "106 activation_36 True\n",
      "107 conv2d_35 True\n",
      "108 conv2d_40 True\n",
      "109 batch_normalization_35 True\n",
      "110 batch_normalization_40 True\n",
      "111 activation_32 True\n",
      "112 activation_37 True\n",
      "113 conv2d_36 True\n",
      "114 conv2d_41 True\n",
      "115 batch_normalization_36 True\n",
      "116 batch_normalization_41 True\n",
      "117 activation_33 True\n",
      "118 activation_38 True\n",
      "119 average_pooling2d_4 True\n",
      "120 conv2d_34 True\n",
      "121 conv2d_37 True\n",
      "122 conv2d_42 True\n",
      "123 conv2d_43 True\n",
      "124 batch_normalization_34 True\n",
      "125 batch_normalization_37 True\n",
      "126 batch_normalization_42 True\n",
      "127 batch_normalization_43 True\n",
      "128 activation_31 True\n",
      "129 activation_34 True\n",
      "130 activation_39 True\n",
      "131 activation_40 True\n",
      "132 mixed4 True\n",
      "133 conv2d_48 True\n",
      "134 batch_normalization_48 True\n",
      "135 activation_45 True\n",
      "136 conv2d_49 True\n",
      "137 batch_normalization_49 True\n",
      "138 activation_46 True\n",
      "139 conv2d_45 True\n",
      "140 conv2d_50 True\n",
      "141 batch_normalization_45 True\n",
      "142 batch_normalization_50 True\n",
      "143 activation_42 True\n",
      "144 activation_47 True\n",
      "145 conv2d_46 True\n",
      "146 conv2d_51 True\n",
      "147 batch_normalization_46 True\n",
      "148 batch_normalization_51 True\n",
      "149 activation_43 True\n",
      "150 activation_48 True\n",
      "151 average_pooling2d_5 True\n",
      "152 conv2d_44 True\n",
      "153 conv2d_47 True\n",
      "154 conv2d_52 True\n",
      "155 conv2d_53 True\n",
      "156 batch_normalization_44 True\n",
      "157 batch_normalization_47 True\n",
      "158 batch_normalization_52 True\n",
      "159 batch_normalization_53 True\n",
      "160 activation_41 True\n",
      "161 activation_44 True\n",
      "162 activation_49 True\n",
      "163 activation_50 True\n",
      "164 mixed5 True\n",
      "165 conv2d_58 True\n",
      "166 batch_normalization_58 True\n",
      "167 activation_55 True\n",
      "168 conv2d_59 True\n",
      "169 batch_normalization_59 True\n",
      "170 activation_56 True\n",
      "171 conv2d_55 True\n",
      "172 conv2d_60 True\n",
      "173 batch_normalization_55 True\n",
      "174 batch_normalization_60 True\n",
      "175 activation_52 True\n",
      "176 activation_57 True\n",
      "177 conv2d_56 True\n",
      "178 conv2d_61 True\n",
      "179 batch_normalization_56 True\n",
      "180 batch_normalization_61 True\n",
      "181 activation_53 True\n",
      "182 activation_58 True\n",
      "183 average_pooling2d_6 True\n",
      "184 conv2d_54 True\n",
      "185 conv2d_57 True\n",
      "186 conv2d_62 True\n",
      "187 conv2d_63 True\n",
      "188 batch_normalization_54 True\n",
      "189 batch_normalization_57 True\n",
      "190 batch_normalization_62 True\n",
      "191 batch_normalization_63 True\n",
      "192 activation_51 True\n",
      "193 activation_54 True\n",
      "194 activation_59 True\n",
      "195 activation_60 True\n",
      "196 mixed6 True\n",
      "197 conv2d_68 True\n",
      "198 batch_normalization_68 True\n",
      "199 activation_65 True\n",
      "200 conv2d_69 True\n",
      "201 batch_normalization_69 True\n",
      "202 activation_66 True\n",
      "203 conv2d_65 True\n",
      "204 conv2d_70 True\n",
      "205 batch_normalization_65 True\n",
      "206 batch_normalization_70 True\n",
      "207 activation_62 True\n",
      "208 activation_67 True\n",
      "209 conv2d_66 True\n",
      "210 conv2d_71 True\n",
      "211 batch_normalization_66 True\n",
      "212 batch_normalization_71 True\n",
      "213 activation_63 True\n",
      "214 activation_68 True\n",
      "215 average_pooling2d_7 True\n",
      "216 conv2d_64 True\n",
      "217 conv2d_67 True\n",
      "218 conv2d_72 True\n",
      "219 conv2d_73 True\n",
      "220 batch_normalization_64 True\n",
      "221 batch_normalization_67 True\n",
      "222 batch_normalization_72 True\n",
      "223 batch_normalization_73 True\n",
      "224 activation_61 True\n",
      "225 activation_64 True\n",
      "226 activation_69 True\n",
      "227 activation_70 True\n",
      "228 mixed7 True\n",
      "229 conv2d_76 True\n",
      "230 batch_normalization_76 True\n",
      "231 activation_73 True\n",
      "232 conv2d_77 True\n",
      "233 batch_normalization_77 True\n",
      "234 activation_74 True\n",
      "235 conv2d_74 True\n",
      "236 conv2d_78 True\n",
      "237 batch_normalization_74 True\n",
      "238 batch_normalization_78 True\n",
      "239 activation_71 True\n",
      "240 activation_75 True\n",
      "241 conv2d_75 True\n",
      "242 conv2d_79 True\n",
      "243 batch_normalization_75 True\n",
      "244 batch_normalization_79 True\n",
      "245 activation_72 True\n",
      "246 activation_76 True\n",
      "247 max_pooling2d_7 True\n",
      "248 mixed8 True\n",
      "249 conv2d_84 True\n",
      "250 batch_normalization_84 True\n",
      "251 activation_81 True\n",
      "252 conv2d_81 True\n",
      "253 conv2d_85 True\n",
      "254 batch_normalization_81 True\n",
      "255 batch_normalization_85 True\n",
      "256 activation_78 True\n",
      "257 activation_82 True\n",
      "258 conv2d_82 True\n",
      "259 conv2d_83 True\n",
      "260 conv2d_86 True\n",
      "261 conv2d_87 True\n",
      "262 average_pooling2d_8 True\n",
      "263 conv2d_80 True\n",
      "264 batch_normalization_82 True\n",
      "265 batch_normalization_83 True\n",
      "266 batch_normalization_86 True\n",
      "267 batch_normalization_87 True\n",
      "268 conv2d_88 True\n",
      "269 batch_normalization_80 True\n",
      "270 activation_79 True\n",
      "271 activation_80 True\n",
      "272 activation_83 True\n",
      "273 activation_84 True\n",
      "274 batch_normalization_88 True\n",
      "275 activation_77 True\n",
      "276 mixed9_0 True\n",
      "277 concatenate_1 True\n",
      "278 activation_85 True\n",
      "279 mixed9 True\n",
      "280 conv2d_93 True\n",
      "281 batch_normalization_93 True\n",
      "282 activation_90 True\n",
      "283 conv2d_90 True\n",
      "284 conv2d_94 True\n",
      "285 batch_normalization_90 True\n",
      "286 batch_normalization_94 True\n",
      "287 activation_87 True\n",
      "288 activation_91 True\n",
      "289 conv2d_91 True\n",
      "290 conv2d_92 True\n",
      "291 conv2d_95 True\n",
      "292 conv2d_96 True\n",
      "293 average_pooling2d_9 True\n",
      "294 conv2d_89 True\n",
      "295 batch_normalization_91 True\n",
      "296 batch_normalization_92 True\n",
      "297 batch_normalization_95 True\n",
      "298 batch_normalization_96 True\n",
      "299 conv2d_97 True\n",
      "300 batch_normalization_89 True\n",
      "301 activation_88 True\n",
      "302 activation_89 True\n",
      "303 activation_92 True\n",
      "304 activation_93 True\n",
      "305 batch_normalization_97 True\n",
      "306 activation_86 True\n",
      "307 mixed9_1 True\n",
      "308 concatenate_2 True\n",
      "309 activation_94 True\n",
      "310 mixed10 True\n"
     ]
    }
   ],
   "source": [
    "for i,layer in enumerate(imagenet.layers):\n",
    "  print(i,layer.name, layer.trainable)"
   ]
  },
  {
   "cell_type": "code",
   "execution_count": 28,
   "metadata": {},
   "outputs": [
    {
     "name": "stdout",
     "output_type": "stream",
     "text": [
      "0 inception_v3 True\n",
      "1 global_average_pooling2d_1 True\n",
      "2 dense_3 True\n",
      "3 dense_4 True\n",
      "4 dense_5 True\n",
      "5 dense_6 True\n"
     ]
    }
   ],
   "source": [
    "for i,layer in enumerate(cnn_i.layers):\n",
    "  print(i,layer.name, layer.trainable)"
   ]
  },
  {
   "cell_type": "code",
   "execution_count": 29,
   "metadata": {},
   "outputs": [],
   "source": [
    "for layer in cnn_i.layers[:1]:\n",
    "    layer.trainable=False"
   ]
  },
  {
   "cell_type": "code",
   "execution_count": 30,
   "metadata": {},
   "outputs": [
    {
     "name": "stdout",
     "output_type": "stream",
     "text": [
      "0 inception_v3 False\n",
      "1 global_average_pooling2d_1 True\n",
      "2 dense_3 True\n",
      "3 dense_4 True\n",
      "4 dense_5 True\n",
      "5 dense_6 True\n"
     ]
    }
   ],
   "source": [
    "for i,layer in enumerate(cnn_i.layers):\n",
    "  print(i,layer.name, layer.trainable)"
   ]
  },
  {
   "cell_type": "markdown",
   "metadata": {},
   "source": [
    "### Train Model"
   ]
  },
  {
   "cell_type": "code",
   "execution_count": 31,
   "metadata": {
    "scrolled": true
   },
   "outputs": [
    {
     "name": "stdout",
     "output_type": "stream",
     "text": [
      "Train on 435 samples, validate on 109 samples\n",
      "Epoch 1/100\n",
      "435/435 [==============================] - 50s 115ms/step - loss: 0.8741 - acc: 0.5793 - val_loss: 0.3246 - val_acc: 0.8899\n",
      "Epoch 2/100\n",
      "435/435 [==============================] - 38s 87ms/step - loss: 0.3431 - acc: 0.8598 - val_loss: 0.2833 - val_acc: 0.9541\n",
      "Epoch 3/100\n",
      "435/435 [==============================] - 38s 86ms/step - loss: 0.2553 - acc: 0.9057 - val_loss: 0.3803 - val_acc: 0.9450\n",
      "Epoch 4/100\n",
      "435/435 [==============================] - 37s 84ms/step - loss: 0.2403 - acc: 0.9011 - val_loss: 0.3440 - val_acc: 0.9450\n",
      "Epoch 5/100\n",
      "435/435 [==============================] - 38s 87ms/step - loss: 0.1214 - acc: 0.9540 - val_loss: 0.3332 - val_acc: 0.9450\n",
      "Epoch 6/100\n",
      "435/435 [==============================] - 37s 85ms/step - loss: 0.0474 - acc: 0.9839 - val_loss: 0.4180 - val_acc: 0.9450\n",
      "Epoch 7/100\n",
      "435/435 [==============================] - 37s 84ms/step - loss: 0.0710 - acc: 0.9793 - val_loss: 0.4749 - val_acc: 0.9266\n",
      "Epoch 8/100\n",
      "435/435 [==============================] - 37s 84ms/step - loss: 0.0336 - acc: 0.9862 - val_loss: 0.4985 - val_acc: 0.9450\n",
      "Epoch 9/100\n",
      "435/435 [==============================] - 37s 85ms/step - loss: 0.0987 - acc: 0.9609 - val_loss: 0.4942 - val_acc: 0.9450\n",
      "Epoch 10/100\n",
      "435/435 [==============================] - 37s 86ms/step - loss: 0.2121 - acc: 0.9195 - val_loss: 0.3977 - val_acc: 0.9083\n",
      "Epoch 11/100\n",
      "435/435 [==============================] - 37s 84ms/step - loss: 0.1010 - acc: 0.9609 - val_loss: 0.3975 - val_acc: 0.9450\n",
      "Epoch 12/100\n",
      "435/435 [==============================] - 37s 84ms/step - loss: 0.0631 - acc: 0.9816 - val_loss: 0.4633 - val_acc: 0.9541\n",
      "Epoch 13/100\n",
      "435/435 [==============================] - 36s 83ms/step - loss: 0.0307 - acc: 0.9908 - val_loss: 0.5837 - val_acc: 0.9358\n",
      "Epoch 14/100\n",
      "435/435 [==============================] - 36s 82ms/step - loss: 0.0585 - acc: 0.9770 - val_loss: 0.5659 - val_acc: 0.9450\n",
      "Epoch 15/100\n",
      "435/435 [==============================] - 36s 83ms/step - loss: 0.0097 - acc: 0.9977 - val_loss: 0.4485 - val_acc: 0.9266\n",
      "Epoch 16/100\n",
      "435/435 [==============================] - 36s 82ms/step - loss: 0.0215 - acc: 0.9931 - val_loss: 0.4893 - val_acc: 0.9174\n",
      "Epoch 17/100\n",
      "435/435 [==============================] - 36s 83ms/step - loss: 0.0149 - acc: 0.9977 - val_loss: 0.5739 - val_acc: 0.9174\n",
      "Epoch 18/100\n",
      "435/435 [==============================] - 36s 84ms/step - loss: 0.0304 - acc: 0.9885 - val_loss: 0.6618 - val_acc: 0.9450\n",
      "Epoch 19/100\n",
      "435/435 [==============================] - 37s 85ms/step - loss: 0.0126 - acc: 0.9931 - val_loss: 0.7172 - val_acc: 0.9266\n",
      "Epoch 20/100\n",
      "435/435 [==============================] - 37s 85ms/step - loss: 0.1054 - acc: 0.9655 - val_loss: 0.6631 - val_acc: 0.9174\n",
      "Epoch 21/100\n",
      "435/435 [==============================] - 36s 84ms/step - loss: 0.0893 - acc: 0.9609 - val_loss: 0.6303 - val_acc: 0.9083\n",
      "Epoch 22/100\n",
      "435/435 [==============================] - 37s 86ms/step - loss: 0.2118 - acc: 0.9241 - val_loss: 0.2870 - val_acc: 0.9266\n",
      "Epoch 23/100\n",
      "435/435 [==============================] - 37s 86ms/step - loss: 0.0720 - acc: 0.9747 - val_loss: 0.4295 - val_acc: 0.9450\n",
      "Epoch 24/100\n",
      "435/435 [==============================] - 39s 89ms/step - loss: 0.0253 - acc: 0.9954 - val_loss: 0.6886 - val_acc: 0.9266\n",
      "Epoch 25/100\n",
      "435/435 [==============================] - 36s 84ms/step - loss: 0.0271 - acc: 0.9908 - val_loss: 0.6107 - val_acc: 0.9450\n",
      "Epoch 26/100\n",
      "435/435 [==============================] - 36s 82ms/step - loss: 0.0060 - acc: 1.0000 - val_loss: 0.6504 - val_acc: 0.9266\n",
      "Epoch 27/100\n",
      "435/435 [==============================] - 36s 83ms/step - loss: 0.0200 - acc: 0.9954 - val_loss: 0.6763 - val_acc: 0.9541\n",
      "Epoch 28/100\n",
      "435/435 [==============================] - 37s 84ms/step - loss: 0.0081 - acc: 0.9977 - val_loss: 0.6576 - val_acc: 0.9450\n",
      "Epoch 29/100\n",
      "435/435 [==============================] - 36s 83ms/step - loss: 0.0066 - acc: 0.9977 - val_loss: 0.7404 - val_acc: 0.9358\n",
      "Epoch 30/100\n",
      "435/435 [==============================] - 37s 85ms/step - loss: 0.0072 - acc: 0.9977 - val_loss: 0.7230 - val_acc: 0.9450\n",
      "Epoch 31/100\n",
      "435/435 [==============================] - 37s 85ms/step - loss: 0.0078 - acc: 0.9977 - val_loss: 0.7137 - val_acc: 0.9450\n",
      "Epoch 32/100\n",
      "435/435 [==============================] - 36s 84ms/step - loss: 0.0062 - acc: 0.9977 - val_loss: 0.7018 - val_acc: 0.9358\n",
      "Epoch 33/100\n",
      "435/435 [==============================] - 37s 85ms/step - loss: 0.0463 - acc: 0.9885 - val_loss: 0.7103 - val_acc: 0.9174\n",
      "Epoch 34/100\n",
      "435/435 [==============================] - 38s 87ms/step - loss: 0.1277 - acc: 0.9448 - val_loss: 0.4882 - val_acc: 0.9450\n",
      "Epoch 35/100\n",
      "435/435 [==============================] - 38s 87ms/step - loss: 0.0731 - acc: 0.9701 - val_loss: 0.4199 - val_acc: 0.9358\n",
      "Epoch 36/100\n",
      "435/435 [==============================] - 37s 84ms/step - loss: 0.0158 - acc: 0.9931 - val_loss: 0.5717 - val_acc: 0.9450\n",
      "Epoch 37/100\n",
      "435/435 [==============================] - 37s 85ms/step - loss: 0.0018 - acc: 1.0000 - val_loss: 0.6714 - val_acc: 0.9358\n",
      "Epoch 38/100\n",
      "435/435 [==============================] - 37s 86ms/step - loss: 0.0022 - acc: 1.0000 - val_loss: 0.7692 - val_acc: 0.9358\n",
      "Epoch 39/100\n",
      "435/435 [==============================] - 37s 86ms/step - loss: 0.0364 - acc: 0.9862 - val_loss: 0.6426 - val_acc: 0.9541\n",
      "Epoch 40/100\n",
      "435/435 [==============================] - 37s 85ms/step - loss: 0.0387 - acc: 0.9839 - val_loss: 0.6772 - val_acc: 0.9174\n",
      "Epoch 41/100\n",
      "435/435 [==============================] - 36s 84ms/step - loss: 0.0865 - acc: 0.9563 - val_loss: 0.5567 - val_acc: 0.9450\n",
      "Epoch 42/100\n",
      "435/435 [==============================] - 36s 83ms/step - loss: 0.1188 - acc: 0.9563 - val_loss: 0.4071 - val_acc: 0.9358\n",
      "Epoch 43/100\n",
      "435/435 [==============================] - 36s 84ms/step - loss: 0.0152 - acc: 1.0000 - val_loss: 0.4734 - val_acc: 0.9266\n",
      "Epoch 44/100\n",
      "435/435 [==============================] - 36s 83ms/step - loss: 0.0175 - acc: 0.9954 - val_loss: 0.6649 - val_acc: 0.9266\n",
      "Epoch 45/100\n",
      "435/435 [==============================] - 36s 84ms/step - loss: 0.0149 - acc: 0.9977 - val_loss: 0.6560 - val_acc: 0.9450\n",
      "Epoch 46/100\n",
      "435/435 [==============================] - 36s 83ms/step - loss: 0.0035 - acc: 0.9977 - val_loss: 0.7721 - val_acc: 0.9266\n",
      "Epoch 47/100\n",
      "435/435 [==============================] - 36s 83ms/step - loss: 0.0293 - acc: 0.9885 - val_loss: 0.6936 - val_acc: 0.9266\n",
      "Epoch 48/100\n",
      "435/435 [==============================] - 36s 83ms/step - loss: 0.0216 - acc: 0.9862 - val_loss: 0.5224 - val_acc: 0.9450\n",
      "Epoch 49/100\n",
      "435/435 [==============================] - 36s 83ms/step - loss: 0.0272 - acc: 0.9931 - val_loss: 0.5486 - val_acc: 0.9266\n",
      "Epoch 50/100\n",
      "435/435 [==============================] - 36s 83ms/step - loss: 0.0146 - acc: 0.9954 - val_loss: 0.5821 - val_acc: 0.9450\n",
      "Epoch 51/100\n",
      "435/435 [==============================] - 36s 83ms/step - loss: 0.0061 - acc: 0.9977 - val_loss: 0.6018 - val_acc: 0.9541\n",
      "Epoch 52/100\n",
      "435/435 [==============================] - 36s 83ms/step - loss: 0.0095 - acc: 0.9954 - val_loss: 0.6912 - val_acc: 0.9174\n",
      "Epoch 53/100\n",
      "435/435 [==============================] - 36s 83ms/step - loss: 0.0032 - acc: 0.9977 - val_loss: 0.6923 - val_acc: 0.9358\n",
      "Epoch 54/100\n",
      "435/435 [==============================] - 37s 85ms/step - loss: 3.9935e-04 - acc: 1.0000 - val_loss: 0.7613 - val_acc: 0.9174\n",
      "Epoch 55/100\n",
      "435/435 [==============================] - 36s 84ms/step - loss: 0.0245 - acc: 0.9908 - val_loss: 0.5941 - val_acc: 0.9450\n",
      "Epoch 56/100\n",
      "435/435 [==============================] - 36s 83ms/step - loss: 0.0275 - acc: 0.9908 - val_loss: 0.4472 - val_acc: 0.9358\n",
      "Epoch 57/100\n",
      "435/435 [==============================] - 36s 83ms/step - loss: 0.0207 - acc: 0.9931 - val_loss: 0.5134 - val_acc: 0.9450\n",
      "Epoch 58/100\n",
      "435/435 [==============================] - 37s 84ms/step - loss: 0.0492 - acc: 0.9908 - val_loss: 0.5019 - val_acc: 0.9541\n",
      "Epoch 59/100\n",
      "435/435 [==============================] - 37s 85ms/step - loss: 0.0633 - acc: 0.9770 - val_loss: 0.4757 - val_acc: 0.9083\n",
      "Epoch 60/100\n",
      "435/435 [==============================] - 36s 83ms/step - loss: 0.0171 - acc: 0.9908 - val_loss: 0.4676 - val_acc: 0.9450\n"
     ]
    },
    {
     "name": "stdout",
     "output_type": "stream",
     "text": [
      "Epoch 61/100\n",
      "435/435 [==============================] - 36s 83ms/step - loss: 0.0123 - acc: 0.9977 - val_loss: 0.5747 - val_acc: 0.9358\n",
      "Epoch 62/100\n",
      "435/435 [==============================] - 35s 81ms/step - loss: 0.0033 - acc: 1.0000 - val_loss: 0.7070 - val_acc: 0.9358\n",
      "Epoch 63/100\n",
      "435/435 [==============================] - 36s 83ms/step - loss: 9.1695e-04 - acc: 1.0000 - val_loss: 0.6515 - val_acc: 0.9541\n",
      "Epoch 64/100\n",
      "435/435 [==============================] - 36s 83ms/step - loss: 0.0086 - acc: 0.9977 - val_loss: 0.7524 - val_acc: 0.9358\n",
      "Epoch 65/100\n",
      "435/435 [==============================] - 37s 85ms/step - loss: 0.0079 - acc: 0.9977 - val_loss: 0.6583 - val_acc: 0.9450\n",
      "Epoch 66/100\n",
      "435/435 [==============================] - 36s 83ms/step - loss: 0.0053 - acc: 1.0000 - val_loss: 0.6499 - val_acc: 0.9541\n",
      "Epoch 67/100\n",
      "435/435 [==============================] - 37s 85ms/step - loss: 0.0031 - acc: 0.9977 - val_loss: 0.7271 - val_acc: 0.9358\n",
      "Epoch 68/100\n",
      "435/435 [==============================] - 36s 84ms/step - loss: 0.0011 - acc: 1.0000 - val_loss: 0.6517 - val_acc: 0.9541\n",
      "Epoch 69/100\n",
      "435/435 [==============================] - 37s 85ms/step - loss: 2.6935e-04 - acc: 1.0000 - val_loss: 0.6719 - val_acc: 0.9450\n",
      "Epoch 70/100\n",
      "435/435 [==============================] - 37s 86ms/step - loss: 0.0352 - acc: 0.9931 - val_loss: 0.6935 - val_acc: 0.9450\n",
      "Epoch 71/100\n",
      "435/435 [==============================] - 36s 83ms/step - loss: 0.0032 - acc: 0.9977 - val_loss: 0.6086 - val_acc: 0.9541\n",
      "Epoch 72/100\n",
      "435/435 [==============================] - 37s 85ms/step - loss: 0.0017 - acc: 1.0000 - val_loss: 0.6056 - val_acc: 0.9450\n",
      "Epoch 73/100\n",
      "435/435 [==============================] - 36s 83ms/step - loss: 0.0181 - acc: 0.9954 - val_loss: 0.6563 - val_acc: 0.9358\n",
      "Epoch 74/100\n",
      "435/435 [==============================] - 37s 85ms/step - loss: 0.1020 - acc: 0.9494 - val_loss: 0.5659 - val_acc: 0.9266\n",
      "Epoch 75/100\n",
      "435/435 [==============================] - 36s 83ms/step - loss: 0.0364 - acc: 0.9816 - val_loss: 0.5746 - val_acc: 0.9266\n",
      "Epoch 76/100\n",
      "435/435 [==============================] - 36s 84ms/step - loss: 0.0505 - acc: 0.9816 - val_loss: 0.7611 - val_acc: 0.9083\n",
      "Epoch 77/100\n",
      "435/435 [==============================] - 37s 84ms/step - loss: 0.0279 - acc: 0.9908 - val_loss: 0.6150 - val_acc: 0.9358\n",
      "Epoch 78/100\n",
      "435/435 [==============================] - 37s 84ms/step - loss: 0.0273 - acc: 0.9931 - val_loss: 0.7159 - val_acc: 0.9174\n",
      "Epoch 79/100\n",
      "435/435 [==============================] - 36s 82ms/step - loss: 0.1750 - acc: 0.9402 - val_loss: 0.4644 - val_acc: 0.9450\n",
      "Epoch 80/100\n",
      "435/435 [==============================] - 36s 82ms/step - loss: 0.0941 - acc: 0.9632 - val_loss: 0.4516 - val_acc: 0.9450\n",
      "Epoch 81/100\n",
      "435/435 [==============================] - 36s 84ms/step - loss: 0.0380 - acc: 0.9816 - val_loss: 0.7946 - val_acc: 0.9083\n",
      "Epoch 82/100\n",
      "435/435 [==============================] - 36s 83ms/step - loss: 0.0207 - acc: 0.9954 - val_loss: 0.5115 - val_acc: 0.9450\n",
      "Epoch 83/100\n",
      "435/435 [==============================] - 37s 84ms/step - loss: 0.0128 - acc: 0.9931 - val_loss: 0.5380 - val_acc: 0.9358\n",
      "Epoch 84/100\n",
      "435/435 [==============================] - 37s 84ms/step - loss: 0.0107 - acc: 0.9954 - val_loss: 0.5619 - val_acc: 0.9358\n",
      "Epoch 85/100\n",
      "435/435 [==============================] - 36s 83ms/step - loss: 0.0068 - acc: 0.9977 - val_loss: 0.6361 - val_acc: 0.9358\n",
      "Epoch 86/100\n",
      "435/435 [==============================] - 36s 83ms/step - loss: 0.0077 - acc: 0.9977 - val_loss: 0.6639 - val_acc: 0.9358\n",
      "Epoch 87/100\n",
      "435/435 [==============================] - 37s 86ms/step - loss: 3.3157e-04 - acc: 1.0000 - val_loss: 0.6505 - val_acc: 0.9450\n",
      "Epoch 88/100\n",
      "435/435 [==============================] - 37s 84ms/step - loss: 3.5995e-04 - acc: 1.0000 - val_loss: 0.6646 - val_acc: 0.9450\n",
      "Epoch 89/100\n",
      "435/435 [==============================] - 36s 83ms/step - loss: 0.0270 - acc: 0.9908 - val_loss: 0.6917 - val_acc: 0.9083\n",
      "Epoch 90/100\n",
      "435/435 [==============================] - 37s 86ms/step - loss: 0.0447 - acc: 0.9816 - val_loss: 0.4796 - val_acc: 0.9450\n",
      "Epoch 91/100\n",
      "435/435 [==============================] - 36s 83ms/step - loss: 0.0209 - acc: 0.9954 - val_loss: 0.6373 - val_acc: 0.9174\n",
      "Epoch 92/100\n",
      "435/435 [==============================] - 36s 83ms/step - loss: 0.0186 - acc: 0.9908 - val_loss: 0.5951 - val_acc: 0.9450\n",
      "Epoch 93/100\n",
      "435/435 [==============================] - 37s 84ms/step - loss: 0.0022 - acc: 1.0000 - val_loss: 0.6007 - val_acc: 0.9450\n",
      "Epoch 94/100\n",
      "435/435 [==============================] - 37s 84ms/step - loss: 4.9045e-04 - acc: 1.0000 - val_loss: 0.6406 - val_acc: 0.9358\n",
      "Epoch 95/100\n",
      "435/435 [==============================] - 37s 85ms/step - loss: 4.3649e-04 - acc: 1.0000 - val_loss: 0.6697 - val_acc: 0.9358\n",
      "Epoch 96/100\n",
      "435/435 [==============================] - 38s 88ms/step - loss: 6.7989e-04 - acc: 1.0000 - val_loss: 0.6945 - val_acc: 0.9358\n",
      "Epoch 97/100\n",
      "435/435 [==============================] - 38s 87ms/step - loss: 0.0074 - acc: 0.9954 - val_loss: 0.6454 - val_acc: 0.9450\n",
      "Epoch 98/100\n",
      "435/435 [==============================] - 37s 84ms/step - loss: 1.7397e-04 - acc: 1.0000 - val_loss: 0.7583 - val_acc: 0.9266\n",
      "Epoch 99/100\n",
      "435/435 [==============================] - 36s 82ms/step - loss: 0.0019 - acc: 1.0000 - val_loss: 0.7537 - val_acc: 0.9266\n",
      "Epoch 100/100\n",
      "435/435 [==============================] - 36s 83ms/step - loss: 0.0092 - acc: 0.9977 - val_loss: 0.9036 - val_acc: 0.9083\n"
     ]
    }
   ],
   "source": [
    "cnn_i.compile(optimizer='Adam',loss='binary_crossentropy',metrics=['accuracy'])\n",
    "\n",
    "# step_size_train=train_generator.n//train_generator.batch_size\n",
    "cnn_i_1= cnn_i.fit(X_train,\n",
    "          y_train,\n",
    "          epochs=100, # 100\n",
    "          batch_size=50, # 50\n",
    "          validation_data=(X_val, y_val))"
   ]
  },
  {
   "cell_type": "markdown",
   "metadata": {},
   "source": [
    "### Save Loaded CNN-i Model"
   ]
  },
  {
   "cell_type": "code",
   "execution_count": 32,
   "metadata": {},
   "outputs": [],
   "source": [
    "cnn_i.save('cnn_i.h5')"
   ]
  },
  {
   "cell_type": "markdown",
   "metadata": {},
   "source": [
    "### Load Saved CNN-i Model"
   ]
  },
  {
   "cell_type": "code",
   "execution_count": 33,
   "metadata": {},
   "outputs": [],
   "source": [
    "\n",
    "# from numpy import loadtxt\n",
    "# from keras.models import load_model\n",
    "\n",
    "\n",
    "# cnn_i.load_weights('/Users/j.markdaniels/iCloud Drive (Archive)/Desktop/Flatiron/projects/Final_Project/final_project/flatiron_final_project/cnn_i.h5')\n",
    "\n",
    "# model = load_model('/Users/j.markdaniels/iCloud Drive (Archive)/Desktop/Flatiron/projects/Final_Project/final_project/flatiron_final_project/cnn_i.h5')\n",
    "\n",
    "# cnn_i.summary()\n",
    "\n"
   ]
  },
  {
   "cell_type": "markdown",
   "metadata": {},
   "source": [
    "#### Summary"
   ]
  },
  {
   "cell_type": "code",
   "execution_count": 34,
   "metadata": {},
   "outputs": [
    {
     "name": "stdout",
     "output_type": "stream",
     "text": [
      "_________________________________________________________________\n",
      "Layer (type)                 Output Shape              Param #   \n",
      "=================================================================\n",
      "inception_v3 (Model)         (None, None, None, 2048)  21802784  \n",
      "_________________________________________________________________\n",
      "global_average_pooling2d_1 ( (None, 2048)              0         \n",
      "_________________________________________________________________\n",
      "dense_3 (Dense)              (None, 1024)              2098176   \n",
      "_________________________________________________________________\n",
      "dense_4 (Dense)              (None, 1024)              1049600   \n",
      "_________________________________________________________________\n",
      "dense_5 (Dense)              (None, 512)               524800    \n",
      "_________________________________________________________________\n",
      "dense_6 (Dense)              (None, 1)                 513       \n",
      "=================================================================\n",
      "Total params: 25,475,873\n",
      "Trainable params: 3,673,089\n",
      "Non-trainable params: 21,802,784\n",
      "_________________________________________________________________\n",
      "None\n"
     ]
    }
   ],
   "source": [
    "print(cnn_i.summary())"
   ]
  },
  {
   "cell_type": "markdown",
   "metadata": {},
   "source": [
    "### Evaluate CNN-i Model Performance"
   ]
  },
  {
   "cell_type": "code",
   "execution_count": 35,
   "metadata": {},
   "outputs": [
    {
     "data": {
      "image/png": "[encoded data removed]",
      "text/plain": [
       "<Figure size 1080x288 with 2 Axes>"
      ]
     },
     "metadata": {
      "needs_background": "light"
     },
     "output_type": "display_data"
    }
   ],
   "source": [
    "hist_cnn_i = cnn_i_1.history\n",
    "loss_values = hist_cnn_i['loss']\n",
    "val_loss_values = hist_cnn_i['val_loss']\n",
    "acc_values = hist_cnn_i['acc'] \n",
    "val_acc_values = hist_cnn_i['val_acc']\n",
    "\n",
    "\n",
    "epochs = range(1, len(loss_values) + 1)\n",
    "\n",
    "plt.figure(figsize=(15,4))\n",
    "plt.subplot(121)\n",
    "plt.plot(epochs, loss_values, 'g.', label='Training loss')\n",
    "plt.plot(epochs, val_loss_values, 'g', label='Validation loss')\n",
    "\n",
    "plt.title('Training and validation loss')\n",
    "plt.xlabel('Epochs')\n",
    "plt.ylabel('Loss')\n",
    "plt.legend()\n",
    "\n",
    "plt.subplot(122)\n",
    "plt.plot(epochs, acc_values, 'r.', label='Training acc')\n",
    "plt.plot(epochs, val_acc_values, 'r', label='Validation acc')\n",
    "plt.title('Training and validation accuracy')\n",
    "plt.xlabel('Epochs')\n",
    "plt.ylabel('Accuracy')\n",
    "plt.legend()\n",
    "plt.show()"
   ]
  },
  {
   "cell_type": "code",
   "execution_count": 36,
   "metadata": {},
   "outputs": [],
   "source": [
    "# hist_cnn_i = cnn_i.history\n",
    "# loss_values = hist_cnn_i['loss']\n",
    "# val_loss_values = hist_cnn_i['val_loss']\n",
    "# acc_values = hist_cnn_i['acc'] \n",
    "# val_acc_values = hist_cnn_i['val_acc']\n",
    "\n",
    "\n",
    "# epochs = range(1, len(loss_values) + 1)\n",
    "\n",
    "# plt.figure(figsize=(15,4))\n",
    "# plt.subplot(121)\n",
    "# plt.plot(epochs, loss_values, 'g.', label='Training loss')\n",
    "# plt.plot(epochs, val_loss_values, 'g', label='Validation loss')\n",
    "\n",
    "# plt.title('Training and validation loss')\n",
    "# plt.xlabel('Epochs')\n",
    "# plt.ylabel('Loss')\n",
    "# plt.legend()\n",
    "\n",
    "# plt.subplot(122)\n",
    "# plt.plot(epochs, acc_values, 'r.', label='Training acc')\n",
    "# plt.plot(epochs, val_acc_values, 'r', label='Validation acc')\n",
    "# plt.title('Training and validation accuracy')\n",
    "# plt.xlabel('Epochs')\n",
    "# plt.ylabel('Accuracy')\n",
    "# plt.legend()\n",
    "# plt.show()"
   ]
  },
  {
   "cell_type": "markdown",
   "metadata": {},
   "source": [
    "#### Accuracy"
   ]
  },
  {
   "cell_type": "code",
   "execution_count": 37,
   "metadata": {},
   "outputs": [
    {
     "name": "stdout",
     "output_type": "stream",
     "text": [
      "435/435 [==============================] - 32s 73ms/step\n",
      "136/136 [==============================] - 10s 73ms/step\n",
      "[0.6942408467161244, 0.9218390814189253] [0.978951773222755, 0.8823529411764706]\n"
     ]
    }
   ],
   "source": [
    "results_train = cnn_i.evaluate(X_train, y_train)\n",
    "results_test = cnn_i.evaluate(X_test, y_test)\n",
    "print(results_train, results_test)"
   ]
  },
  {
   "cell_type": "markdown",
   "metadata": {},
   "source": [
    "#### Confusion Matrix"
   ]
  },
  {
   "cell_type": "code",
   "execution_count": 38,
   "metadata": {},
   "outputs": [],
   "source": [
    "predictions_transfer_cnn_i = cnn_i.predict(X_test)\n",
    "predictions_transfer_cnn_i = np.around(predictions_transfer)"
   ]
  },
  {
   "cell_type": "code",
   "execution_count": 39,
   "metadata": {},
   "outputs": [
    {
     "name": "stdout",
     "output_type": "stream",
     "text": [
      "Confusion matrix, without normalization\n",
      "[[56 10]\n",
      " [14 56]]\n"
     ]
    },
    {
     "data": {
      "image/png": "[encoded data removed]",
      "text/plain": [
       "<Figure size 432x288 with 2 Axes>"
      ]
     },
     "metadata": {
      "needs_background": "light"
     },
     "output_type": "display_data"
    }
   ],
   "source": [
    "plt.figure()\n",
    "plot_confusion_matrix(confusion_matrix(y_test, predictions_transfer_cnn_i), classes=['bobcat', 'not bobcat'], normalize=False,\n",
    "                      title='Confusion matrix - ImagenetV3')"
   ]
  },
  {
   "cell_type": "markdown",
   "metadata": {},
   "source": [
    "#### F1 Score"
   ]
  },
  {
   "cell_type": "code",
   "execution_count": 40,
   "metadata": {},
   "outputs": [],
   "source": [
    "predictions_transfer_cnn_i = cnn_i.predict(X_test)\n",
    "predictions_transfer_cnn_i = np.around(predictions_transfer)"
   ]
  },
  {
   "cell_type": "code",
   "execution_count": 41,
   "metadata": {},
   "outputs": [
    {
     "data": {
      "text/plain": [
       "0.823529411764706"
      ]
     },
     "execution_count": 41,
     "metadata": {},
     "output_type": "execute_result"
    }
   ],
   "source": [
    "f1_score(y_test, predictions_transfer_cnn_i)"
   ]
  },
  {
   "cell_type": "code",
   "execution_count": null,
   "metadata": {},
   "outputs": [],
   "source": []
  },
  {
   "cell_type": "code",
   "execution_count": null,
   "metadata": {},
   "outputs": [],
   "source": []
  },
  {
   "cell_type": "markdown",
   "metadata": {},
   "source": [
    "#### ROC Graph"
   ]
  },
  {
   "cell_type": "code",
   "execution_count": 42,
   "metadata": {},
   "outputs": [
    {
     "data": {
      "image/png": "[encoded data removed]",
      "text/plain": [
       "<Figure size 432x288 with 1 Axes>"
      ]
     },
     "metadata": {
      "needs_background": "light"
     },
     "output_type": "display_data"
    }
   ],
   "source": [
    "import numpy as np\n",
    "import sklearn\n",
    "from sklearn import metrics\n",
    "from sklearn.metrics import roc_curve\n",
    "from sklearn.metrics import roc_auc_score\n",
    "\n",
    "roc_predictions_transfer = cnn.predict(X_test)\n",
    "\n",
    "fpr, tpr = roc_curve(y_test, roc_predictions_transfer)[:2]\n",
    "\n",
    "auc_cnn_i = roc_auc_score(y_test, roc_predictions_transfer)\n",
    "\n",
    "plt.figure()\n",
    "lw = 2\n",
    "plt.plot(fpr, tpr, color='darkorange',\n",
    "         lw=lw, label='ROC curve (area = %0.2f)' % auc_cnn)\n",
    "plt.plot([0, 1], [0, 1], color='navy', lw=lw, linestyle='--')\n",
    "plt.xlim([0.0, 1.0])\n",
    "plt.ylim([0.0, 1.05])\n",
    "plt.xlabel('False Positive Rate')\n",
    "plt.ylabel('True Positive Rate')\n",
    "plt.title('Receiver operating characteristic example')\n",
    "plt.legend(loc=\"lower right\")\n",
    "plt.show()"
   ]
  },
  {
   "cell_type": "code",
   "execution_count": null,
   "metadata": {},
   "outputs": [],
   "source": []
  },
  {
   "cell_type": "markdown",
   "metadata": {},
   "source": [
    "# 20-class Wildlife Classification"
   ]
  },
  {
   "cell_type": "markdown",
   "metadata": {},
   "source": [
    "## Import Libraries for Multiclass CNN with Inception"
   ]
  },
  {
   "cell_type": "code",
   "execution_count": 43,
   "metadata": {},
   "outputs": [],
   "source": [
    "import matplotlib.pyplot as plt\n",
    "import numpy as np\n",
    "import os, shutil\n",
    "import os\n",
    "import numpy as np\n",
    "import pandas as pd\n",
    "import itertools\n",
    "import seaborn as sns\n",
    "import functools\n",
    "\n",
    "from keras import models\n",
    "from keras import layers\n",
    "from keras.models import load_model\n",
    "from keras.preprocessing.image import ImageDataGenerator, array_to_img, img_to_array, load_img\n",
    "from sklearn.metrics import confusion_matrix, f1_score\n",
    "from sklearn.model_selection import train_test_split\n",
    "from shutil import copy2\n",
    "\n",
    "from keras.applications import inception_v3\n",
    "from keras.layers import Dense,GlobalAveragePooling2D\n",
    "from sklearn.metrics import confusion_matrix, f1_score\n",
    "from keras.models import Model\n",
    "from sklearn.model_selection import train_test_split\n",
    "from keras.metrics import top_k_categorical_accuracy\n",
    "\n",
    "np.random.seed(123)"
   ]
  },
  {
   "cell_type": "markdown",
   "metadata": {},
   "source": [
    "## Prepare Data"
   ]
  },
  {
   "cell_type": "markdown",
   "metadata": {},
   "source": [
    "### Import, Resize, and Rescale Images"
   ]
  },
  {
   "cell_type": "code",
   "execution_count": 44,
   "metadata": {},
   "outputs": [
    {
     "name": "stdout",
     "output_type": "stream",
     "text": [
      "Found 2776 images belonging to 20 classes.\n",
      "Found 11179 images belonging to 20 classes.\n"
     ]
    }
   ],
   "source": [
    "multi_data_te = ImageDataGenerator(rescale=1./255).flow_from_directory( \n",
    "        '/Users/j.markdaniels/Desktop/Data/multiclass/test/', \n",
    "        target_size=(224, 224), \n",
    "        batch_size = 2776, \n",
    "        class_mode='categorical',\n",
    "        seed = 123)\n",
    "\n",
    "multi_data_tr = ImageDataGenerator(rescale=1./255).flow_from_directory( \n",
    "        '/Users/j.markdaniels/Desktop/Data/multiclass/train/', \n",
    "        target_size=(224, 224), \n",
    "        batch_size = 340, \n",
    "        class_mode='categorical',\n",
    "        seed = 123) "
   ]
  },
  {
   "cell_type": "code",
   "execution_count": null,
   "metadata": {},
   "outputs": [],
   "source": [
    "# def imagenlabel_gen_multi(test_dir, train_dir, images=None, labels=None):\n",
    "#     # Generate and resize images\n",
    "#     multi_data_te = ImageDataGenerator(rescale=1./255).flow_from_directory( \n",
    "#         '/Users/j.markdaniels/Desktop/Data/multiclass/test/', \n",
    "#         target_size=(224, 224), \n",
    "#         batch_size = 2776, \n",
    "#         class_mode='categorical',\n",
    "#         seed = 123)\n",
    "#     multi_data_tr = ImageDataGenerator(rescale=1./255).flow_from_directory( \n",
    "#         '/Users/j.markdaniels/Desktop/Data/multiclass/train/', \n",
    "#         target_size=(224, 224), \n",
    "#         batch_size = 340, \n",
    "#         class_mode='categorical',\n",
    "#         seed = 123) \n",
    "    \n",
    "#     # Split images and labels into arrays\n",
    "#     multi_images_te, multi_labels_te = next(multi_data_te)\n",
    "#     multi_images_tr, multi_labels_tr = next(multi_data_tr)\n",
    "    \n",
    "#     # Final images and labels\n",
    "#     multi_images = np.concatenate((multi_images_tr, multi_images_te))\n",
    "#     multi_labels = np.concatenate((multi_labels_tr[:,0], multi_labels_te[:,0]))\n",
    "    \n",
    "#     return(multi_images_te, multi_labels_te,multi_images_tr, multi_labels_tr, multi_images, multi_labels)"
   ]
  },
  {
   "cell_type": "markdown",
   "metadata": {},
   "source": [
    "### Split Images and Labels into Arrays"
   ]
  },
  {
   "cell_type": "code",
   "execution_count": 45,
   "metadata": {},
   "outputs": [
    {
     "name": "stderr",
     "output_type": "stream",
     "text": [
      "/anaconda3/lib/python3.7/site-packages/PIL/TiffImagePlugin.py:763: UserWarning: Possibly corrupt EXIF data.  Expecting to read 85 bytes but only got 0. Skipping tag 33285\n",
      "  \" Skipping tag %s\" % (size, len(data), tag))\n",
      "/anaconda3/lib/python3.7/site-packages/PIL/TiffImagePlugin.py:763: UserWarning: Possibly corrupt EXIF data.  Expecting to read 93 bytes but only got 0. Skipping tag 33285\n",
      "  \" Skipping tag %s\" % (size, len(data), tag))\n",
      "/anaconda3/lib/python3.7/site-packages/PIL/TiffImagePlugin.py:763: UserWarning: Possibly corrupt EXIF data.  Expecting to read 141 bytes but only got 0. Skipping tag 37386\n",
      "  \" Skipping tag %s\" % (size, len(data), tag))\n",
      "/anaconda3/lib/python3.7/site-packages/PIL/TiffImagePlugin.py:763: UserWarning: Possibly corrupt EXIF data.  Expecting to read 149 bytes but only got 0. Skipping tag 37381\n",
      "  \" Skipping tag %s\" % (size, len(data), tag))\n",
      "/anaconda3/lib/python3.7/site-packages/PIL/TiffImagePlugin.py:763: UserWarning: Possibly corrupt EXIF data.  Expecting to read 157 bytes but only got 0. Skipping tag 37381\n",
      "  \" Skipping tag %s\" % (size, len(data), tag))\n",
      "/anaconda3/lib/python3.7/site-packages/PIL/TiffImagePlugin.py:763: UserWarning: Possibly corrupt EXIF data.  Expecting to read 144 bytes but only got 0. Skipping tag 40964\n",
      "  \" Skipping tag %s\" % (size, len(data), tag))\n",
      "/anaconda3/lib/python3.7/site-packages/PIL/TiffImagePlugin.py:763: UserWarning: Possibly corrupt EXIF data.  Expecting to read 192 bytes but only got 0. Skipping tag 40964\n",
      "  \" Skipping tag %s\" % (size, len(data), tag))\n",
      "/anaconda3/lib/python3.7/site-packages/PIL/TiffImagePlugin.py:763: UserWarning: Possibly corrupt EXIF data.  Expecting to read 192 bytes but only got 0. Skipping tag 41735\n",
      "  \" Skipping tag %s\" % (size, len(data), tag))\n",
      "/anaconda3/lib/python3.7/site-packages/PIL/TiffImagePlugin.py:763: UserWarning: Possibly corrupt EXIF data.  Expecting to read 62 bytes but only got 0. Skipping tag 41989\n",
      "  \" Skipping tag %s\" % (size, len(data), tag))\n",
      "/anaconda3/lib/python3.7/site-packages/PIL/TiffImagePlugin.py:763: UserWarning: Possibly corrupt EXIF data.  Expecting to read 16908320 bytes but only got 8068. Skipping tag 2048\n",
      "  \" Skipping tag %s\" % (size, len(data), tag))\n",
      "/anaconda3/lib/python3.7/site-packages/PIL/TiffImagePlugin.py:763: UserWarning: Possibly corrupt EXIF data.  Expecting to read 16908320 bytes but only got 8036. Skipping tag 2048\n",
      "  \" Skipping tag %s\" % (size, len(data), tag))\n",
      "/anaconda3/lib/python3.7/site-packages/PIL/TiffImagePlugin.py:763: UserWarning: Possibly corrupt EXIF data.  Expecting to read 34209794 bytes but only got 8258. Skipping tag 2048\n",
      "  \" Skipping tag %s\" % (size, len(data), tag))\n",
      "/anaconda3/lib/python3.7/site-packages/PIL/TiffImagePlugin.py:763: UserWarning: Possibly corrupt EXIF data.  Expecting to read 68157444 bytes but only got 8276. Skipping tag 2304\n",
      "  \" Skipping tag %s\" % (size, len(data), tag))\n",
      "/anaconda3/lib/python3.7/site-packages/PIL/TiffImagePlugin.py:763: UserWarning: Possibly corrupt EXIF data.  Expecting to read 34078722 bytes but only got 8193. Skipping tag 1536\n",
      "  \" Skipping tag %s\" % (size, len(data), tag))\n",
      "/anaconda3/lib/python3.7/site-packages/PIL/TiffImagePlugin.py:763: UserWarning: Possibly corrupt EXIF data.  Expecting to read 34078722 bytes but only got 8105. Skipping tag 1024\n",
      "  \" Skipping tag %s\" % (size, len(data), tag))\n",
      "/anaconda3/lib/python3.7/site-packages/PIL/TiffImagePlugin.py:763: UserWarning: Possibly corrupt EXIF data.  Expecting to read 68157442 bytes but only got 8126. Skipping tag 768\n",
      "  \" Skipping tag %s\" % (size, len(data), tag))\n",
      "/anaconda3/lib/python3.7/site-packages/PIL/TiffImagePlugin.py:763: UserWarning: Possibly corrupt EXIF data.  Expecting to read 136315212 bytes but only got 8268. Skipping tag 1280\n",
      "  \" Skipping tag %s\" % (size, len(data), tag))\n",
      "/anaconda3/lib/python3.7/site-packages/PIL/TiffImagePlugin.py:763: UserWarning: Possibly corrupt EXIF data.  Expecting to read 135004164 bytes but only got 8023. Skipping tag 3584\n",
      "  \" Skipping tag %s\" % (size, len(data), tag))\n",
      "/anaconda3/lib/python3.7/site-packages/PIL/TiffImagePlugin.py:763: UserWarning: Possibly corrupt EXIF data.  Expecting to read 270008328 bytes but only got 8278. Skipping tag 0\n",
      "  \" Skipping tag %s\" % (size, len(data), tag))\n",
      "/anaconda3/lib/python3.7/site-packages/PIL/TiffImagePlugin.py:763: UserWarning: Possibly corrupt EXIF data.  Expecting to read 135004164 bytes but only got 8278. Skipping tag 0\n",
      "  \" Skipping tag %s\" % (size, len(data), tag))\n",
      "/anaconda3/lib/python3.7/site-packages/PIL/TiffImagePlugin.py:763: UserWarning: Possibly corrupt EXIF data.  Expecting to read 50528257 bytes but only got 8074. Skipping tag 0\n",
      "  \" Skipping tag %s\" % (size, len(data), tag))\n",
      "/anaconda3/lib/python3.7/site-packages/PIL/TiffImagePlugin.py:763: UserWarning: Possibly corrupt EXIF data.  Expecting to read 50528257 bytes but only got 8278. Skipping tag 256\n",
      "  \" Skipping tag %s\" % (size, len(data), tag))\n",
      "/anaconda3/lib/python3.7/site-packages/PIL/TiffImagePlugin.py:763: UserWarning: Possibly corrupt EXIF data.  Expecting to read 101056514 bytes but only got 8081. Skipping tag 0\n",
      "  \" Skipping tag %s\" % (size, len(data), tag))\n",
      "/anaconda3/lib/python3.7/site-packages/PIL/TiffImagePlugin.py:763: UserWarning: Possibly corrupt EXIF data.  Expecting to read 202113028 bytes but only got 8056. Skipping tag 256\n",
      "  \" Skipping tag %s\" % (size, len(data), tag))\n",
      "/anaconda3/lib/python3.7/site-packages/PIL/TiffImagePlugin.py:763: UserWarning: Possibly corrupt EXIF data.  Expecting to read 405274632 bytes but only got 8182. Skipping tag 256\n",
      "  \" Skipping tag %s\" % (size, len(data), tag))\n",
      "/anaconda3/lib/python3.7/site-packages/PIL/TiffImagePlugin.py:763: UserWarning: Possibly corrupt EXIF data.  Expecting to read 50528257 bytes but only got 8278. Skipping tag 6656\n",
      "  \" Skipping tag %s\" % (size, len(data), tag))\n",
      "/anaconda3/lib/python3.7/site-packages/PIL/TiffImagePlugin.py:763: UserWarning: Possibly corrupt EXIF data.  Expecting to read 101056514 bytes but only got 8278. Skipping tag 0\n",
      "  \" Skipping tag %s\" % (size, len(data), tag))\n",
      "/anaconda3/lib/python3.7/site-packages/PIL/TiffImagePlugin.py:763: UserWarning: Possibly corrupt EXIF data.  Expecting to read 404226064 bytes but only got 8278. Skipping tag 0\n",
      "  \" Skipping tag %s\" % (size, len(data), tag))\n",
      "/anaconda3/lib/python3.7/site-packages/PIL/TiffImagePlugin.py:763: UserWarning: Possibly corrupt EXIF data.  Expecting to read 302186498 bytes but only got 8278. Skipping tag 0\n",
      "  \" Skipping tag %s\" % (size, len(data), tag))\n",
      "/anaconda3/lib/python3.7/site-packages/PIL/TiffImagePlugin.py:763: UserWarning: Possibly corrupt EXIF data.  Expecting to read 302186497 bytes but only got 8198. Skipping tag 0\n",
      "  \" Skipping tag %s\" % (size, len(data), tag))\n",
      "/anaconda3/lib/python3.7/site-packages/PIL/TiffImagePlugin.py:763: UserWarning: Possibly corrupt EXIF data.  Expecting to read 605290498 bytes but only got 8090. Skipping tag 0\n",
      "  \" Skipping tag %s\" % (size, len(data), tag))\n",
      "/anaconda3/lib/python3.7/site-packages/PIL/TiffImagePlugin.py:763: UserWarning: Possibly corrupt EXIF data.  Expecting to read 1208745988 bytes but only got 8278. Skipping tag 6656\n",
      "  \" Skipping tag %s\" % (size, len(data), tag))\n",
      "/anaconda3/lib/python3.7/site-packages/PIL/TiffImagePlugin.py:763: UserWarning: Possibly corrupt EXIF data.  Expecting to read 2418540552 bytes but only got 8078. Skipping tag 0\n",
      "  \" Skipping tag %s\" % (size, len(data), tag))\n",
      "/anaconda3/lib/python3.7/site-packages/PIL/TiffImagePlugin.py:763: UserWarning: Possibly corrupt EXIF data.  Expecting to read 302186497 bytes but only got 8278. Skipping tag 6656\n",
      "  \" Skipping tag %s\" % (size, len(data), tag))\n",
      "/anaconda3/lib/python3.7/site-packages/PIL/TiffImagePlugin.py:763: UserWarning: Possibly corrupt EXIF data.  Expecting to read 302186497 bytes but only got 8278. Skipping tag 0\n",
      "  \" Skipping tag %s\" % (size, len(data), tag))\n",
      "/anaconda3/lib/python3.7/site-packages/PIL/TiffImagePlugin.py:763: UserWarning: Possibly corrupt EXIF data.  Expecting to read 604372994 bytes but only got 8278. Skipping tag 0\n",
      "  \" Skipping tag %s\" % (size, len(data), tag))\n",
      "/anaconda3/lib/python3.7/site-packages/PIL/TiffImagePlugin.py:763: UserWarning: Possibly corrupt EXIF data.  Expecting to read 2417491976 bytes but only got 8278. Skipping tag 0\n",
      "  \" Skipping tag %s\" % (size, len(data), tag))\n",
      "/anaconda3/lib/python3.7/site-packages/PIL/TiffImagePlugin.py:763: UserWarning: Possibly corrupt EXIF data.  Expecting to read 65537 bytes but only got 0. Skipping tag 1\n",
      "  \" Skipping tag %s\" % (size, len(data), tag))\n",
      "/anaconda3/lib/python3.7/site-packages/PIL/TiffImagePlugin.py:763: UserWarning: Possibly corrupt EXIF data.  Expecting to read 393222 bytes but only got 0. Skipping tag 3\n",
      "  \" Skipping tag %s\" % (size, len(data), tag))\n",
      "/anaconda3/lib/python3.7/site-packages/PIL/TiffImagePlugin.py:763: UserWarning: Possibly corrupt EXIF data.  Expecting to read 65536 bytes but only got 8278. Skipping tag 0\n",
      "  \" Skipping tag %s\" % (size, len(data), tag))\n",
      "/anaconda3/lib/python3.7/site-packages/PIL/TiffImagePlugin.py:763: UserWarning: Possibly corrupt EXIF data.  Expecting to read 6553646 bytes but only got 0. Skipping tag 4608\n",
      "  \" Skipping tag %s\" % (size, len(data), tag))\n",
      "/anaconda3/lib/python3.7/site-packages/PIL/TiffImagePlugin.py:763: UserWarning: Possibly corrupt EXIF data.  Expecting to read 3221260288 bytes but only got 0. Skipping tag 2072\n",
      "  \" Skipping tag %s\" % (size, len(data), tag))\n",
      "/anaconda3/lib/python3.7/site-packages/PIL/TiffImagePlugin.py:763: UserWarning: Possibly corrupt EXIF data.  Expecting to read 268435640 bytes but only got 0. Skipping tag 768\n",
      "  \" Skipping tag %s\" % (size, len(data), tag))\n",
      "/anaconda3/lib/python3.7/site-packages/PIL/TiffImagePlugin.py:763: UserWarning: Possibly corrupt EXIF data.  Expecting to read 4718640 bytes but only got 0. Skipping tag 2560\n",
      "  \" Skipping tag %s\" % (size, len(data), tag))\n",
      "/anaconda3/lib/python3.7/site-packages/PIL/TiffImagePlugin.py:763: UserWarning: Possibly corrupt EXIF data.  Expecting to read 458765 bytes but only got 0. Skipping tag 23\n",
      "  \" Skipping tag %s\" % (size, len(data), tag))\n",
      "/anaconda3/lib/python3.7/site-packages/PIL/TiffImagePlugin.py:763: UserWarning: Possibly corrupt EXIF data.  Expecting to read 1441794 bytes but only got 8278. Skipping tag 161\n",
      "  \" Skipping tag %s\" % (size, len(data), tag))\n",
      "/anaconda3/lib/python3.7/site-packages/PIL/TiffImagePlugin.py:763: UserWarning: Possibly corrupt EXIF data.  Expecting to read 65575 bytes but only got 0. Skipping tag 55\n",
      "  \" Skipping tag %s\" % (size, len(data), tag))\n",
      "/anaconda3/lib/python3.7/site-packages/PIL/TiffImagePlugin.py:763: UserWarning: Possibly corrupt EXIF data.  Expecting to read 393219 bytes but only got 0. Skipping tag 7\n",
      "  \" Skipping tag %s\" % (size, len(data), tag))\n",
      "/anaconda3/lib/python3.7/site-packages/PIL/TiffImagePlugin.py:763: UserWarning: Possibly corrupt EXIF data.  Expecting to read 13369600 bytes but only got 0. Skipping tag 180\n",
      "  \" Skipping tag %s\" % (size, len(data), tag))\n",
      "/anaconda3/lib/python3.7/site-packages/PIL/TiffImagePlugin.py:763: UserWarning: Possibly corrupt EXIF data.  Expecting to read 2080374824 bytes but only got 8278. Skipping tag 256\n",
      "  \" Skipping tag %s\" % (size, len(data), tag))\n",
      "/anaconda3/lib/python3.7/site-packages/PIL/TiffImagePlugin.py:780: UserWarning: Corrupt EXIF data.  Expecting to read 12 bytes but only got 0. \n",
      "  warnings.warn(str(msg))\n"
     ]
    },
    {
     "name": "stderr",
     "output_type": "stream",
     "text": [
      "/anaconda3/lib/python3.7/site-packages/PIL/Image.py:968: UserWarning: Palette images with Transparency   expressed in bytes should be converted to RGBA images\n",
      "  ' expressed in bytes should be converted ' +\n"
     ]
    }
   ],
   "source": [
    "multi_images_tr, multi_labels_tr = next(multi_data_tr)"
   ]
  },
  {
   "cell_type": "code",
   "execution_count": 46,
   "metadata": {},
   "outputs": [],
   "source": [
    "multi_images_te, multi_labels_te = next(multi_data_te)"
   ]
  },
  {
   "cell_type": "code",
   "execution_count": 47,
   "metadata": {},
   "outputs": [],
   "source": [
    "multi_images = np.concatenate((multi_images_tr, multi_images_te))\n",
    "multi_labels = np.concatenate((multi_labels_tr[:,0], multi_labels_te[:,0]))"
   ]
  },
  {
   "cell_type": "code",
   "execution_count": 48,
   "metadata": {},
   "outputs": [],
   "source": [
    "# multi_test = '/Users/j.markdaniels/Desktop/Data/multiclass/test/'\n",
    "# multi_train = '/Users/j.markdaniels/Desktop/Data/multiclass/train/'"
   ]
  },
  {
   "cell_type": "code",
   "execution_count": 49,
   "metadata": {},
   "outputs": [],
   "source": [
    "# multi_images_te, multi_labels_te,multi_images_tr, multi_labels_tr, multi_images, multi_labels = imagenlabel_gen_multi(multi_test, multi_train)"
   ]
  },
  {
   "cell_type": "markdown",
   "metadata": {},
   "source": [
    "### Perform Train-Test Split"
   ]
  },
  {
   "cell_type": "code",
   "execution_count": 50,
   "metadata": {},
   "outputs": [],
   "source": [
    "X_train, X_val, y_train, y_val = train_test_split(multi_images_tr, multi_labels_tr, test_size=0.20, random_state=123)"
   ]
  },
  {
   "cell_type": "code",
   "execution_count": 51,
   "metadata": {},
   "outputs": [],
   "source": [
    "y_test  = multi_labels_te"
   ]
  },
  {
   "cell_type": "code",
   "execution_count": 52,
   "metadata": {},
   "outputs": [
    {
     "data": {
      "text/plain": [
       "(2776, 20)"
      ]
     },
     "execution_count": 52,
     "metadata": {},
     "output_type": "execute_result"
    }
   ],
   "source": [
    "y_test.shape"
   ]
  },
  {
   "cell_type": "code",
   "execution_count": 55,
   "metadata": {},
   "outputs": [
    {
     "data": {
      "text/plain": [
       "(272, 224, 224, 3)"
      ]
     },
     "execution_count": 55,
     "metadata": {},
     "output_type": "execute_result"
    }
   ],
   "source": [
    "X_train.shape"
   ]
  },
  {
   "cell_type": "code",
   "execution_count": 53,
   "metadata": {},
   "outputs": [],
   "source": [
    "X_test = multi_images_te"
   ]
  },
  {
   "cell_type": "code",
   "execution_count": 54,
   "metadata": {},
   "outputs": [
    {
     "data": {
      "text/plain": [
       "(2776, 224, 224, 3)"
      ]
     },
     "execution_count": 54,
     "metadata": {},
     "output_type": "execute_result"
    }
   ],
   "source": [
    "X_test.shape"
   ]
  },
  {
   "cell_type": "markdown",
   "metadata": {},
   "source": [
    "## Multi-class CNN-i Model"
   ]
  },
  {
   "cell_type": "markdown",
   "metadata": {},
   "source": [
    "### Create Model"
   ]
  },
  {
   "cell_type": "code",
   "execution_count": null,
   "metadata": {},
   "outputs": [],
   "source": []
  },
  {
   "cell_type": "code",
   "execution_count": 56,
   "metadata": {},
   "outputs": [],
   "source": [
    "imagenet=inception_v3.InceptionV3(weights='imagenet',include_top=False)\n",
    "imagenet_new=imagenet.output\n",
    "multi_class_model = models.Sequential()\n",
    "multi_class_model.add(imagenet)\n",
    "multi_class_model.add(GlobalAveragePooling2D())\n",
    "multi_class_model.add(Dense(1024,activation='relu'))\n",
    "multi_class_model.add(Dense(1024,activation='relu')) #dense layer 2\n",
    "multi_class_model.add(Dense(512,activation='relu')) #dense layer 3\n",
    "multi_class_model.add(Dense(20,activation='softmax')) #final layer with softmax activation"
   ]
  },
  {
   "cell_type": "code",
   "execution_count": 57,
   "metadata": {},
   "outputs": [
    {
     "name": "stdout",
     "output_type": "stream",
     "text": [
      "0 input_2 False\n",
      "1 conv2d_98 True\n",
      "2 batch_normalization_98 True\n",
      "3 activation_95 True\n",
      "4 conv2d_99 True\n",
      "5 batch_normalization_99 True\n",
      "6 activation_96 True\n",
      "7 conv2d_100 True\n",
      "8 batch_normalization_100 True\n",
      "9 activation_97 True\n",
      "10 max_pooling2d_8 True\n",
      "11 conv2d_101 True\n",
      "12 batch_normalization_101 True\n",
      "13 activation_98 True\n",
      "14 conv2d_102 True\n",
      "15 batch_normalization_102 True\n",
      "16 activation_99 True\n",
      "17 max_pooling2d_9 True\n",
      "18 conv2d_106 True\n",
      "19 batch_normalization_106 True\n",
      "20 activation_103 True\n",
      "21 conv2d_104 True\n",
      "22 conv2d_107 True\n",
      "23 batch_normalization_104 True\n",
      "24 batch_normalization_107 True\n",
      "25 activation_101 True\n",
      "26 activation_104 True\n",
      "27 average_pooling2d_10 True\n",
      "28 conv2d_103 True\n",
      "29 conv2d_105 True\n",
      "30 conv2d_108 True\n",
      "31 conv2d_109 True\n",
      "32 batch_normalization_103 True\n",
      "33 batch_normalization_105 True\n",
      "34 batch_normalization_108 True\n",
      "35 batch_normalization_109 True\n",
      "36 activation_100 True\n",
      "37 activation_102 True\n",
      "38 activation_105 True\n",
      "39 activation_106 True\n",
      "40 mixed0 True\n",
      "41 conv2d_113 True\n",
      "42 batch_normalization_113 True\n",
      "43 activation_110 True\n",
      "44 conv2d_111 True\n",
      "45 conv2d_114 True\n",
      "46 batch_normalization_111 True\n",
      "47 batch_normalization_114 True\n",
      "48 activation_108 True\n",
      "49 activation_111 True\n",
      "50 average_pooling2d_11 True\n",
      "51 conv2d_110 True\n",
      "52 conv2d_112 True\n",
      "53 conv2d_115 True\n",
      "54 conv2d_116 True\n",
      "55 batch_normalization_110 True\n",
      "56 batch_normalization_112 True\n",
      "57 batch_normalization_115 True\n",
      "58 batch_normalization_116 True\n",
      "59 activation_107 True\n",
      "60 activation_109 True\n",
      "61 activation_112 True\n",
      "62 activation_113 True\n",
      "63 mixed1 True\n",
      "64 conv2d_120 True\n",
      "65 batch_normalization_120 True\n",
      "66 activation_117 True\n",
      "67 conv2d_118 True\n",
      "68 conv2d_121 True\n",
      "69 batch_normalization_118 True\n",
      "70 batch_normalization_121 True\n",
      "71 activation_115 True\n",
      "72 activation_118 True\n",
      "73 average_pooling2d_12 True\n",
      "74 conv2d_117 True\n",
      "75 conv2d_119 True\n",
      "76 conv2d_122 True\n",
      "77 conv2d_123 True\n",
      "78 batch_normalization_117 True\n",
      "79 batch_normalization_119 True\n",
      "80 batch_normalization_122 True\n",
      "81 batch_normalization_123 True\n",
      "82 activation_114 True\n",
      "83 activation_116 True\n",
      "84 activation_119 True\n",
      "85 activation_120 True\n",
      "86 mixed2 True\n",
      "87 conv2d_125 True\n",
      "88 batch_normalization_125 True\n",
      "89 activation_122 True\n",
      "90 conv2d_126 True\n",
      "91 batch_normalization_126 True\n",
      "92 activation_123 True\n",
      "93 conv2d_124 True\n",
      "94 conv2d_127 True\n",
      "95 batch_normalization_124 True\n",
      "96 batch_normalization_127 True\n",
      "97 activation_121 True\n",
      "98 activation_124 True\n",
      "99 max_pooling2d_10 True\n",
      "100 mixed3 True\n",
      "101 conv2d_132 True\n",
      "102 batch_normalization_132 True\n",
      "103 activation_129 True\n",
      "104 conv2d_133 True\n",
      "105 batch_normalization_133 True\n",
      "106 activation_130 True\n",
      "107 conv2d_129 True\n",
      "108 conv2d_134 True\n",
      "109 batch_normalization_129 True\n",
      "110 batch_normalization_134 True\n",
      "111 activation_126 True\n",
      "112 activation_131 True\n",
      "113 conv2d_130 True\n",
      "114 conv2d_135 True\n",
      "115 batch_normalization_130 True\n",
      "116 batch_normalization_135 True\n",
      "117 activation_127 True\n",
      "118 activation_132 True\n",
      "119 average_pooling2d_13 True\n",
      "120 conv2d_128 True\n",
      "121 conv2d_131 True\n",
      "122 conv2d_136 True\n",
      "123 conv2d_137 True\n",
      "124 batch_normalization_128 True\n",
      "125 batch_normalization_131 True\n",
      "126 batch_normalization_136 True\n",
      "127 batch_normalization_137 True\n",
      "128 activation_125 True\n",
      "129 activation_128 True\n",
      "130 activation_133 True\n",
      "131 activation_134 True\n",
      "132 mixed4 True\n",
      "133 conv2d_142 True\n",
      "134 batch_normalization_142 True\n",
      "135 activation_139 True\n",
      "136 conv2d_143 True\n",
      "137 batch_normalization_143 True\n",
      "138 activation_140 True\n",
      "139 conv2d_139 True\n",
      "140 conv2d_144 True\n",
      "141 batch_normalization_139 True\n",
      "142 batch_normalization_144 True\n",
      "143 activation_136 True\n",
      "144 activation_141 True\n",
      "145 conv2d_140 True\n",
      "146 conv2d_145 True\n",
      "147 batch_normalization_140 True\n",
      "148 batch_normalization_145 True\n",
      "149 activation_137 True\n",
      "150 activation_142 True\n",
      "151 average_pooling2d_14 True\n",
      "152 conv2d_138 True\n",
      "153 conv2d_141 True\n",
      "154 conv2d_146 True\n",
      "155 conv2d_147 True\n",
      "156 batch_normalization_138 True\n",
      "157 batch_normalization_141 True\n",
      "158 batch_normalization_146 True\n",
      "159 batch_normalization_147 True\n",
      "160 activation_135 True\n",
      "161 activation_138 True\n",
      "162 activation_143 True\n",
      "163 activation_144 True\n",
      "164 mixed5 True\n",
      "165 conv2d_152 True\n",
      "166 batch_normalization_152 True\n",
      "167 activation_149 True\n",
      "168 conv2d_153 True\n",
      "169 batch_normalization_153 True\n",
      "170 activation_150 True\n",
      "171 conv2d_149 True\n",
      "172 conv2d_154 True\n",
      "173 batch_normalization_149 True\n",
      "174 batch_normalization_154 True\n",
      "175 activation_146 True\n",
      "176 activation_151 True\n",
      "177 conv2d_150 True\n",
      "178 conv2d_155 True\n",
      "179 batch_normalization_150 True\n",
      "180 batch_normalization_155 True\n",
      "181 activation_147 True\n",
      "182 activation_152 True\n",
      "183 average_pooling2d_15 True\n",
      "184 conv2d_148 True\n",
      "185 conv2d_151 True\n",
      "186 conv2d_156 True\n",
      "187 conv2d_157 True\n",
      "188 batch_normalization_148 True\n",
      "189 batch_normalization_151 True\n",
      "190 batch_normalization_156 True\n",
      "191 batch_normalization_157 True\n",
      "192 activation_145 True\n",
      "193 activation_148 True\n",
      "194 activation_153 True\n",
      "195 activation_154 True\n",
      "196 mixed6 True\n",
      "197 conv2d_162 True\n",
      "198 batch_normalization_162 True\n",
      "199 activation_159 True\n",
      "200 conv2d_163 True\n",
      "201 batch_normalization_163 True\n",
      "202 activation_160 True\n",
      "203 conv2d_159 True\n",
      "204 conv2d_164 True\n",
      "205 batch_normalization_159 True\n",
      "206 batch_normalization_164 True\n",
      "207 activation_156 True\n",
      "208 activation_161 True\n",
      "209 conv2d_160 True\n",
      "210 conv2d_165 True\n",
      "211 batch_normalization_160 True\n",
      "212 batch_normalization_165 True\n",
      "213 activation_157 True\n",
      "214 activation_162 True\n",
      "215 average_pooling2d_16 True\n",
      "216 conv2d_158 True\n",
      "217 conv2d_161 True\n",
      "218 conv2d_166 True\n",
      "219 conv2d_167 True\n",
      "220 batch_normalization_158 True\n",
      "221 batch_normalization_161 True\n",
      "222 batch_normalization_166 True\n",
      "223 batch_normalization_167 True\n",
      "224 activation_155 True\n",
      "225 activation_158 True\n",
      "226 activation_163 True\n",
      "227 activation_164 True\n",
      "228 mixed7 True\n",
      "229 conv2d_170 True\n",
      "230 batch_normalization_170 True\n",
      "231 activation_167 True\n",
      "232 conv2d_171 True\n",
      "233 batch_normalization_171 True\n",
      "234 activation_168 True\n",
      "235 conv2d_168 True\n",
      "236 conv2d_172 True\n",
      "237 batch_normalization_168 True\n",
      "238 batch_normalization_172 True\n",
      "239 activation_165 True\n",
      "240 activation_169 True\n",
      "241 conv2d_169 True\n",
      "242 conv2d_173 True\n",
      "243 batch_normalization_169 True\n",
      "244 batch_normalization_173 True\n",
      "245 activation_166 True\n",
      "246 activation_170 True\n",
      "247 max_pooling2d_11 True\n",
      "248 mixed8 True\n",
      "249 conv2d_178 True\n",
      "250 batch_normalization_178 True\n",
      "251 activation_175 True\n",
      "252 conv2d_175 True\n",
      "253 conv2d_179 True\n",
      "254 batch_normalization_175 True\n",
      "255 batch_normalization_179 True\n",
      "256 activation_172 True\n",
      "257 activation_176 True\n",
      "258 conv2d_176 True\n",
      "259 conv2d_177 True\n",
      "260 conv2d_180 True\n",
      "261 conv2d_181 True\n",
      "262 average_pooling2d_17 True\n",
      "263 conv2d_174 True\n",
      "264 batch_normalization_176 True\n",
      "265 batch_normalization_177 True\n",
      "266 batch_normalization_180 True\n",
      "267 batch_normalization_181 True\n",
      "268 conv2d_182 True\n",
      "269 batch_normalization_174 True\n",
      "270 activation_173 True\n",
      "271 activation_174 True\n",
      "272 activation_177 True\n",
      "273 activation_178 True\n",
      "274 batch_normalization_182 True\n",
      "275 activation_171 True\n",
      "276 mixed9_0 True\n",
      "277 concatenate_3 True\n",
      "278 activation_179 True\n",
      "279 mixed9 True\n",
      "280 conv2d_187 True\n",
      "281 batch_normalization_187 True\n",
      "282 activation_184 True\n",
      "283 conv2d_184 True\n",
      "284 conv2d_188 True\n",
      "285 batch_normalization_184 True\n",
      "286 batch_normalization_188 True\n",
      "287 activation_181 True\n",
      "288 activation_185 True\n",
      "289 conv2d_185 True\n",
      "290 conv2d_186 True\n",
      "291 conv2d_189 True\n",
      "292 conv2d_190 True\n",
      "293 average_pooling2d_18 True\n",
      "294 conv2d_183 True\n",
      "295 batch_normalization_185 True\n",
      "296 batch_normalization_186 True\n",
      "297 batch_normalization_189 True\n",
      "298 batch_normalization_190 True\n",
      "299 conv2d_191 True\n",
      "300 batch_normalization_183 True\n",
      "301 activation_182 True\n",
      "302 activation_183 True\n",
      "303 activation_186 True\n",
      "304 activation_187 True\n",
      "305 batch_normalization_191 True\n",
      "306 activation_180 True\n",
      "307 mixed9_1 True\n",
      "308 concatenate_4 True\n",
      "309 activation_188 True\n",
      "310 mixed10 True\n"
     ]
    }
   ],
   "source": [
    "for i,layer in enumerate(imagenet.layers):\n",
    "  print(i,layer.name, layer.trainable)"
   ]
  },
  {
   "cell_type": "code",
   "execution_count": 58,
   "metadata": {},
   "outputs": [
    {
     "name": "stdout",
     "output_type": "stream",
     "text": [
      "0 inception_v3 True\n",
      "1 global_average_pooling2d_2 True\n",
      "2 dense_7 True\n",
      "3 dense_8 True\n",
      "4 dense_9 True\n",
      "5 dense_10 True\n"
     ]
    }
   ],
   "source": [
    "for i,layer in enumerate(multi_class_model.layers):\n",
    "  print(i,layer.name, layer.trainable)"
   ]
  },
  {
   "cell_type": "code",
   "execution_count": 59,
   "metadata": {},
   "outputs": [],
   "source": [
    "for layer in multi_class_model.layers[:1]:\n",
    "    layer.trainable=False"
   ]
  },
  {
   "cell_type": "code",
   "execution_count": 60,
   "metadata": {
    "scrolled": true
   },
   "outputs": [
    {
     "name": "stdout",
     "output_type": "stream",
     "text": [
      "0 inception_v3 False\n",
      "1 global_average_pooling2d_2 True\n",
      "2 dense_7 True\n",
      "3 dense_8 True\n",
      "4 dense_9 True\n",
      "5 dense_10 True\n"
     ]
    }
   ],
   "source": [
    "for i,layer in enumerate(multi_class_model.layers):\n",
    "  print(i,layer.name, layer.trainable)"
   ]
  },
  {
   "cell_type": "code",
   "execution_count": 61,
   "metadata": {},
   "outputs": [
    {
     "data": {
      "text/plain": [
       "(68, 20)"
      ]
     },
     "execution_count": 61,
     "metadata": {},
     "output_type": "execute_result"
    }
   ],
   "source": [
    "y_val.shape"
   ]
  },
  {
   "cell_type": "markdown",
   "metadata": {},
   "source": [
    "### Train Model"
   ]
  },
  {
   "cell_type": "code",
   "execution_count": 62,
   "metadata": {},
   "outputs": [],
   "source": [
    "# top5_accuracy = functools.partial(top_k_categorical_accuracy, k=5)\n",
    "\n",
    "top3_acc = functools.partial(top_k_categorical_accuracy, k=3)\n",
    "\n",
    "top3_acc.__name__ = 'top3_acc'"
   ]
  },
  {
   "cell_type": "code",
   "execution_count": 63,
   "metadata": {},
   "outputs": [],
   "source": [
    "multi_class_model.compile(optimizer='Adam',loss='categorical_crossentropy',metrics=['accuracy', top3_acc])"
   ]
  },
  {
   "cell_type": "code",
   "execution_count": 64,
   "metadata": {
    "scrolled": true
   },
   "outputs": [
    {
     "name": "stdout",
     "output_type": "stream",
     "text": [
      "Train on 272 samples, validate on 68 samples\n",
      "Epoch 1/100\n",
      "272/272 [==============================] - 40s 147ms/step - loss: 2.9203 - acc: 0.1066 - top3_acc: 0.2684 - val_loss: 2.4718 - val_acc: 0.3235 - val_top3_acc: 0.5294\n",
      "Epoch 2/100\n",
      "272/272 [==============================] - 23s 83ms/step - loss: 1.8550 - acc: 0.5221 - top3_acc: 0.7206 - val_loss: 2.3592 - val_acc: 0.3971 - val_top3_acc: 0.7647\n",
      "Epoch 3/100\n",
      "272/272 [==============================] - 22s 83ms/step - loss: 1.0322 - acc: 0.7500 - top3_acc: 0.8750 - val_loss: 1.5893 - val_acc: 0.5588 - val_top3_acc: 0.8824\n",
      "Epoch 4/100\n",
      "272/272 [==============================] - 23s 83ms/step - loss: 0.5896 - acc: 0.8456 - top3_acc: 0.9596 - val_loss: 2.1274 - val_acc: 0.4853 - val_top3_acc: 0.8235\n",
      "Epoch 5/100\n",
      "272/272 [==============================] - 23s 83ms/step - loss: 0.3351 - acc: 0.8971 - top3_acc: 0.9743 - val_loss: 1.6099 - val_acc: 0.6618 - val_top3_acc: 0.9118\n",
      "Epoch 6/100\n",
      "272/272 [==============================] - 22s 83ms/step - loss: 0.1644 - acc: 0.9559 - top3_acc: 1.0000 - val_loss: 1.8419 - val_acc: 0.5147 - val_top3_acc: 0.8676\n",
      "Epoch 7/100\n",
      "272/272 [==============================] - 22s 83ms/step - loss: 0.0861 - acc: 0.9853 - top3_acc: 1.0000 - val_loss: 2.2627 - val_acc: 0.6176 - val_top3_acc: 0.8529\n",
      "Epoch 8/100\n",
      "272/272 [==============================] - 22s 82ms/step - loss: 0.0285 - acc: 1.0000 - top3_acc: 1.0000 - val_loss: 1.7645 - val_acc: 0.6765 - val_top3_acc: 0.9118\n",
      "Epoch 9/100\n",
      "272/272 [==============================] - 22s 82ms/step - loss: 0.0338 - acc: 0.9963 - top3_acc: 1.0000 - val_loss: 1.7670 - val_acc: 0.6471 - val_top3_acc: 0.9118\n",
      "Epoch 10/100\n",
      "272/272 [==============================] - 22s 83ms/step - loss: 0.0189 - acc: 1.0000 - top3_acc: 1.0000 - val_loss: 2.0532 - val_acc: 0.6618 - val_top3_acc: 0.8382\n",
      "Epoch 11/100\n",
      "272/272 [==============================] - 22s 82ms/step - loss: 0.0128 - acc: 0.9963 - top3_acc: 1.0000 - val_loss: 2.4271 - val_acc: 0.6029 - val_top3_acc: 0.8382\n",
      "Epoch 12/100\n",
      "272/272 [==============================] - 22s 82ms/step - loss: 0.0381 - acc: 0.9926 - top3_acc: 1.0000 - val_loss: 2.7587 - val_acc: 0.5294 - val_top3_acc: 0.8971\n",
      "Epoch 13/100\n",
      "272/272 [==============================] - 22s 82ms/step - loss: 0.0129 - acc: 0.9963 - top3_acc: 1.0000 - val_loss: 3.9530 - val_acc: 0.5441 - val_top3_acc: 0.8235\n",
      "Epoch 14/100\n",
      "272/272 [==============================] - 22s 82ms/step - loss: 0.0633 - acc: 0.9890 - top3_acc: 1.0000 - val_loss: 2.7489 - val_acc: 0.6618 - val_top3_acc: 0.8824\n",
      "Epoch 15/100\n",
      "272/272 [==============================] - 22s 82ms/step - loss: 0.0610 - acc: 0.9743 - top3_acc: 1.0000 - val_loss: 3.2871 - val_acc: 0.5735 - val_top3_acc: 0.8382\n",
      "Epoch 16/100\n",
      "272/272 [==============================] - 22s 82ms/step - loss: 0.1599 - acc: 0.9706 - top3_acc: 0.9926 - val_loss: 2.0101 - val_acc: 0.6471 - val_top3_acc: 0.9118\n",
      "Epoch 17/100\n",
      "272/272 [==============================] - 22s 82ms/step - loss: 0.0820 - acc: 0.9816 - top3_acc: 0.9890 - val_loss: 2.9467 - val_acc: 0.5294 - val_top3_acc: 0.8529\n",
      "Epoch 18/100\n",
      "272/272 [==============================] - 22s 82ms/step - loss: 0.0648 - acc: 0.9853 - top3_acc: 1.0000 - val_loss: 1.7907 - val_acc: 0.6324 - val_top3_acc: 0.9265\n",
      "Epoch 19/100\n",
      "272/272 [==============================] - 22s 82ms/step - loss: 0.1247 - acc: 0.9632 - top3_acc: 0.9926 - val_loss: 2.1625 - val_acc: 0.6176 - val_top3_acc: 0.8824\n",
      "Epoch 20/100\n",
      "272/272 [==============================] - 22s 82ms/step - loss: 0.4164 - acc: 0.9375 - top3_acc: 0.9669 - val_loss: 1.6552 - val_acc: 0.6471 - val_top3_acc: 0.8676\n",
      "Epoch 21/100\n",
      "272/272 [==============================] - 22s 82ms/step - loss: 0.0945 - acc: 0.9890 - top3_acc: 1.0000 - val_loss: 1.7064 - val_acc: 0.5441 - val_top3_acc: 0.8529\n",
      "Epoch 22/100\n",
      "272/272 [==============================] - 22s 82ms/step - loss: 0.0440 - acc: 0.9963 - top3_acc: 1.0000 - val_loss: 1.6893 - val_acc: 0.6029 - val_top3_acc: 0.8971\n",
      "Epoch 23/100\n",
      "272/272 [==============================] - 22s 82ms/step - loss: 0.0220 - acc: 0.9963 - top3_acc: 1.0000 - val_loss: 1.8045 - val_acc: 0.5735 - val_top3_acc: 0.9265\n",
      "Epoch 24/100\n",
      "272/272 [==============================] - 22s 82ms/step - loss: 0.0160 - acc: 1.0000 - top3_acc: 1.0000 - val_loss: 2.1170 - val_acc: 0.5882 - val_top3_acc: 0.8971\n",
      "Epoch 25/100\n",
      "272/272 [==============================] - 22s 82ms/step - loss: 0.0020 - acc: 1.0000 - top3_acc: 1.0000 - val_loss: 2.5890 - val_acc: 0.6765 - val_top3_acc: 0.8676\n",
      "Epoch 26/100\n",
      "272/272 [==============================] - 22s 82ms/step - loss: 0.0113 - acc: 0.9963 - top3_acc: 1.0000 - val_loss: 2.0565 - val_acc: 0.6912 - val_top3_acc: 0.9118\n",
      "Epoch 27/100\n",
      "272/272 [==============================] - 22s 81ms/step - loss: 0.0348 - acc: 0.9926 - top3_acc: 1.0000 - val_loss: 2.2196 - val_acc: 0.6912 - val_top3_acc: 0.9118\n",
      "Epoch 28/100\n",
      "272/272 [==============================] - 22s 82ms/step - loss: 0.0167 - acc: 0.9926 - top3_acc: 1.0000 - val_loss: 2.2114 - val_acc: 0.6324 - val_top3_acc: 0.8971\n",
      "Epoch 29/100\n",
      "272/272 [==============================] - 22s 82ms/step - loss: 0.0094 - acc: 1.0000 - top3_acc: 1.0000 - val_loss: 2.7657 - val_acc: 0.5588 - val_top3_acc: 0.8676\n",
      "Epoch 30/100\n",
      "272/272 [==============================] - 22s 82ms/step - loss: 0.0137 - acc: 0.9963 - top3_acc: 1.0000 - val_loss: 4.0270 - val_acc: 0.5294 - val_top3_acc: 0.8382\n",
      "Epoch 31/100\n",
      "272/272 [==============================] - 22s 82ms/step - loss: 0.0141 - acc: 0.9963 - top3_acc: 1.0000 - val_loss: 2.1928 - val_acc: 0.6618 - val_top3_acc: 0.9118\n",
      "Epoch 32/100\n",
      "272/272 [==============================] - 22s 82ms/step - loss: 0.0103 - acc: 0.9963 - top3_acc: 1.0000 - val_loss: 2.2891 - val_acc: 0.6324 - val_top3_acc: 0.8971\n",
      "Epoch 33/100\n",
      "272/272 [==============================] - 23s 84ms/step - loss: 0.0090 - acc: 1.0000 - top3_acc: 1.0000 - val_loss: 2.9234 - val_acc: 0.5882 - val_top3_acc: 0.8382\n",
      "Epoch 34/100\n",
      "272/272 [==============================] - 22s 82ms/step - loss: 0.0046 - acc: 1.0000 - top3_acc: 1.0000 - val_loss: 2.2193 - val_acc: 0.6176 - val_top3_acc: 0.8971\n",
      "Epoch 35/100\n",
      "272/272 [==============================] - 22s 83ms/step - loss: 0.0031 - acc: 1.0000 - top3_acc: 1.0000 - val_loss: 2.0205 - val_acc: 0.6912 - val_top3_acc: 0.8971\n",
      "Epoch 36/100\n",
      "272/272 [==============================] - 22s 82ms/step - loss: 9.3428e-04 - acc: 1.0000 - top3_acc: 1.0000 - val_loss: 2.0751 - val_acc: 0.6029 - val_top3_acc: 0.9265\n",
      "Epoch 37/100\n",
      "272/272 [==============================] - 22s 82ms/step - loss: 0.0014 - acc: 1.0000 - top3_acc: 1.0000 - val_loss: 2.0975 - val_acc: 0.6176 - val_top3_acc: 0.9265\n",
      "Epoch 38/100\n",
      "272/272 [==============================] - 22s 82ms/step - loss: 0.0015 - acc: 1.0000 - top3_acc: 1.0000 - val_loss: 2.0664 - val_acc: 0.6029 - val_top3_acc: 0.9118\n",
      "Epoch 39/100\n",
      "272/272 [==============================] - 22s 81ms/step - loss: 4.0189e-04 - acc: 1.0000 - top3_acc: 1.0000 - val_loss: 2.0676 - val_acc: 0.6176 - val_top3_acc: 0.9265\n",
      "Epoch 40/100\n",
      "272/272 [==============================] - 22s 82ms/step - loss: 4.9549e-04 - acc: 1.0000 - top3_acc: 1.0000 - val_loss: 2.2699 - val_acc: 0.6029 - val_top3_acc: 0.9265\n",
      "Epoch 41/100\n",
      "272/272 [==============================] - 22s 82ms/step - loss: 8.0911e-04 - acc: 1.0000 - top3_acc: 1.0000 - val_loss: 2.3818 - val_acc: 0.5735 - val_top3_acc: 0.9118\n",
      "Epoch 42/100\n",
      "272/272 [==============================] - 22s 82ms/step - loss: 2.2582e-04 - acc: 1.0000 - top3_acc: 1.0000 - val_loss: 2.4540 - val_acc: 0.5735 - val_top3_acc: 0.9118\n",
      "Epoch 43/100\n",
      "272/272 [==============================] - 22s 82ms/step - loss: 1.7891e-04 - acc: 1.0000 - top3_acc: 1.0000 - val_loss: 2.4697 - val_acc: 0.5735 - val_top3_acc: 0.9118\n",
      "Epoch 44/100\n",
      "272/272 [==============================] - 22s 82ms/step - loss: 2.1057e-04 - acc: 1.0000 - top3_acc: 1.0000 - val_loss: 2.4556 - val_acc: 0.5735 - val_top3_acc: 0.9118\n",
      "Epoch 45/100\n",
      "272/272 [==============================] - 22s 82ms/step - loss: 2.3000e-04 - acc: 1.0000 - top3_acc: 1.0000 - val_loss: 2.4035 - val_acc: 0.6176 - val_top3_acc: 0.9118\n",
      "Epoch 46/100\n"
     ]
    },
    {
     "name": "stdout",
     "output_type": "stream",
     "text": [
      "272/272 [==============================] - 22s 82ms/step - loss: 3.8548e-04 - acc: 1.0000 - top3_acc: 1.0000 - val_loss: 2.3823 - val_acc: 0.6765 - val_top3_acc: 0.9265\n",
      "Epoch 47/100\n",
      "272/272 [==============================] - 22s 82ms/step - loss: 1.1676e-04 - acc: 1.0000 - top3_acc: 1.0000 - val_loss: 2.4037 - val_acc: 0.6471 - val_top3_acc: 0.9265\n",
      "Epoch 48/100\n",
      "272/272 [==============================] - 24s 89ms/step - loss: 1.1592e-04 - acc: 1.0000 - top3_acc: 1.0000 - val_loss: 2.4291 - val_acc: 0.6618 - val_top3_acc: 0.9118\n",
      "Epoch 49/100\n",
      "272/272 [==============================] - 22s 82ms/step - loss: 7.6093e-05 - acc: 1.0000 - top3_acc: 1.0000 - val_loss: 2.4364 - val_acc: 0.6471 - val_top3_acc: 0.9118\n",
      "Epoch 50/100\n",
      "272/272 [==============================] - 23s 84ms/step - loss: 1.3612e-04 - acc: 1.0000 - top3_acc: 1.0000 - val_loss: 2.4449 - val_acc: 0.6471 - val_top3_acc: 0.9118\n",
      "Epoch 51/100\n",
      "272/272 [==============================] - 22s 82ms/step - loss: 1.1094e-04 - acc: 1.0000 - top3_acc: 1.0000 - val_loss: 2.4585 - val_acc: 0.6471 - val_top3_acc: 0.9118\n",
      "Epoch 52/100\n",
      "272/272 [==============================] - 22s 82ms/step - loss: 2.8509e-04 - acc: 1.0000 - top3_acc: 1.0000 - val_loss: 2.4652 - val_acc: 0.6471 - val_top3_acc: 0.9118\n",
      "Epoch 53/100\n",
      "272/272 [==============================] - 22s 82ms/step - loss: 1.3934e-04 - acc: 1.0000 - top3_acc: 1.0000 - val_loss: 2.4975 - val_acc: 0.6471 - val_top3_acc: 0.9118\n",
      "Epoch 54/100\n",
      "272/272 [==============================] - 22s 81ms/step - loss: 9.3407e-05 - acc: 1.0000 - top3_acc: 1.0000 - val_loss: 2.5246 - val_acc: 0.6471 - val_top3_acc: 0.9118\n",
      "Epoch 55/100\n",
      "272/272 [==============================] - 22s 81ms/step - loss: 1.3167e-04 - acc: 1.0000 - top3_acc: 1.0000 - val_loss: 2.5363 - val_acc: 0.6324 - val_top3_acc: 0.9118\n",
      "Epoch 56/100\n",
      "272/272 [==============================] - 22s 81ms/step - loss: 9.7458e-05 - acc: 1.0000 - top3_acc: 1.0000 - val_loss: 2.5518 - val_acc: 0.6176 - val_top3_acc: 0.9265\n",
      "Epoch 57/100\n",
      "272/272 [==============================] - 22s 82ms/step - loss: 4.6894e-04 - acc: 1.0000 - top3_acc: 1.0000 - val_loss: 2.5304 - val_acc: 0.6176 - val_top3_acc: 0.9265\n",
      "Epoch 58/100\n",
      "272/272 [==============================] - 22s 82ms/step - loss: 7.5102e-05 - acc: 1.0000 - top3_acc: 1.0000 - val_loss: 2.5185 - val_acc: 0.6176 - val_top3_acc: 0.9118\n",
      "Epoch 59/100\n",
      "272/272 [==============================] - 22s 82ms/step - loss: 1.0291e-04 - acc: 1.0000 - top3_acc: 1.0000 - val_loss: 2.5607 - val_acc: 0.6324 - val_top3_acc: 0.9118\n",
      "Epoch 60/100\n",
      "272/272 [==============================] - 22s 81ms/step - loss: 5.2794e-04 - acc: 1.0000 - top3_acc: 1.0000 - val_loss: 2.5438 - val_acc: 0.6324 - val_top3_acc: 0.9118\n",
      "Epoch 61/100\n",
      "272/272 [==============================] - 22s 81ms/step - loss: 1.3623e-04 - acc: 1.0000 - top3_acc: 1.0000 - val_loss: 2.5088 - val_acc: 0.6324 - val_top3_acc: 0.9118\n",
      "Epoch 62/100\n",
      "272/272 [==============================] - 22s 81ms/step - loss: 1.4323e-04 - acc: 1.0000 - top3_acc: 1.0000 - val_loss: 2.4797 - val_acc: 0.6324 - val_top3_acc: 0.9118\n",
      "Epoch 63/100\n",
      "272/272 [==============================] - 22s 82ms/step - loss: 7.9810e-05 - acc: 1.0000 - top3_acc: 1.0000 - val_loss: 2.4480 - val_acc: 0.6324 - val_top3_acc: 0.9118\n",
      "Epoch 64/100\n",
      "272/272 [==============================] - 22s 81ms/step - loss: 1.1453e-04 - acc: 1.0000 - top3_acc: 1.0000 - val_loss: 2.4299 - val_acc: 0.6324 - val_top3_acc: 0.9118\n",
      "Epoch 65/100\n",
      "272/272 [==============================] - 22s 81ms/step - loss: 1.2514e-04 - acc: 1.0000 - top3_acc: 1.0000 - val_loss: 2.4128 - val_acc: 0.6324 - val_top3_acc: 0.9118\n",
      "Epoch 66/100\n",
      "272/272 [==============================] - 22s 82ms/step - loss: 1.4291e-04 - acc: 1.0000 - top3_acc: 1.0000 - val_loss: 2.3763 - val_acc: 0.6324 - val_top3_acc: 0.9265\n",
      "Epoch 67/100\n",
      "272/272 [==============================] - 22s 81ms/step - loss: 2.1431e-04 - acc: 1.0000 - top3_acc: 1.0000 - val_loss: 2.2999 - val_acc: 0.6912 - val_top3_acc: 0.9265\n",
      "Epoch 68/100\n",
      "272/272 [==============================] - 22s 82ms/step - loss: 4.3521e-05 - acc: 1.0000 - top3_acc: 1.0000 - val_loss: 2.2172 - val_acc: 0.6765 - val_top3_acc: 0.9265\n",
      "Epoch 69/100\n",
      "272/272 [==============================] - 22s 82ms/step - loss: 8.4266e-05 - acc: 1.0000 - top3_acc: 1.0000 - val_loss: 2.2012 - val_acc: 0.6765 - val_top3_acc: 0.9265\n",
      "Epoch 70/100\n",
      "272/272 [==============================] - 22s 82ms/step - loss: 5.8582e-05 - acc: 1.0000 - top3_acc: 1.0000 - val_loss: 2.1963 - val_acc: 0.6618 - val_top3_acc: 0.9265\n",
      "Epoch 71/100\n",
      "272/272 [==============================] - 22s 81ms/step - loss: 0.0030 - acc: 1.0000 - top3_acc: 1.0000 - val_loss: 2.2540 - val_acc: 0.6618 - val_top3_acc: 0.9118\n",
      "Epoch 72/100\n",
      "272/272 [==============================] - 22s 81ms/step - loss: 0.0061 - acc: 1.0000 - top3_acc: 1.0000 - val_loss: 2.3300 - val_acc: 0.6765 - val_top3_acc: 0.9118\n",
      "Epoch 73/100\n",
      "272/272 [==============================] - 22s 82ms/step - loss: 1.2570e-04 - acc: 1.0000 - top3_acc: 1.0000 - val_loss: 1.9574 - val_acc: 0.6765 - val_top3_acc: 0.9265\n",
      "Epoch 74/100\n",
      "272/272 [==============================] - 22s 82ms/step - loss: 1.8594e-04 - acc: 1.0000 - top3_acc: 1.0000 - val_loss: 2.2138 - val_acc: 0.6471 - val_top3_acc: 0.8971\n",
      "Epoch 75/100\n",
      "272/272 [==============================] - 23s 85ms/step - loss: 0.0011 - acc: 1.0000 - top3_acc: 1.0000 - val_loss: 2.1374 - val_acc: 0.6176 - val_top3_acc: 0.9118\n",
      "Epoch 76/100\n",
      "272/272 [==============================] - 22s 81ms/step - loss: 2.0980e-04 - acc: 1.0000 - top3_acc: 1.0000 - val_loss: 2.4172 - val_acc: 0.5882 - val_top3_acc: 0.9265\n",
      "Epoch 77/100\n",
      "272/272 [==============================] - 22s 82ms/step - loss: 5.5883e-05 - acc: 1.0000 - top3_acc: 1.0000 - val_loss: 2.7373 - val_acc: 0.6029 - val_top3_acc: 0.9265\n",
      "Epoch 78/100\n",
      "272/272 [==============================] - 22s 81ms/step - loss: 2.9445e-04 - acc: 1.0000 - top3_acc: 1.0000 - val_loss: 2.8263 - val_acc: 0.6029 - val_top3_acc: 0.9265\n",
      "Epoch 79/100\n",
      "272/272 [==============================] - 22s 81ms/step - loss: 1.0750e-04 - acc: 1.0000 - top3_acc: 1.0000 - val_loss: 2.7014 - val_acc: 0.5882 - val_top3_acc: 0.9265\n",
      "Epoch 80/100\n",
      "272/272 [==============================] - 22s 83ms/step - loss: 2.4557e-04 - acc: 1.0000 - top3_acc: 1.0000 - val_loss: 2.5632 - val_acc: 0.6029 - val_top3_acc: 0.9265\n",
      "Epoch 81/100\n",
      "272/272 [==============================] - 22s 82ms/step - loss: 1.5775e-04 - acc: 1.0000 - top3_acc: 1.0000 - val_loss: 2.3690 - val_acc: 0.6324 - val_top3_acc: 0.9118\n",
      "Epoch 82/100\n",
      "272/272 [==============================] - 22s 82ms/step - loss: 9.7631e-05 - acc: 1.0000 - top3_acc: 1.0000 - val_loss: 2.3207 - val_acc: 0.6324 - val_top3_acc: 0.8971\n",
      "Epoch 83/100\n",
      "272/272 [==============================] - 22s 81ms/step - loss: 1.4698e-04 - acc: 1.0000 - top3_acc: 1.0000 - val_loss: 2.2906 - val_acc: 0.6324 - val_top3_acc: 0.9118\n",
      "Epoch 84/100\n",
      "272/272 [==============================] - 22s 82ms/step - loss: 1.5614e-04 - acc: 1.0000 - top3_acc: 1.0000 - val_loss: 2.2754 - val_acc: 0.6471 - val_top3_acc: 0.9118\n",
      "Epoch 85/100\n",
      "272/272 [==============================] - 22s 82ms/step - loss: 1.0095e-04 - acc: 1.0000 - top3_acc: 1.0000 - val_loss: 2.2625 - val_acc: 0.6471 - val_top3_acc: 0.9118\n",
      "Epoch 86/100\n",
      "272/272 [==============================] - 22s 81ms/step - loss: 7.4965e-05 - acc: 1.0000 - top3_acc: 1.0000 - val_loss: 2.2463 - val_acc: 0.6471 - val_top3_acc: 0.9118\n",
      "Epoch 87/100\n",
      "272/272 [==============================] - 22s 81ms/step - loss: 9.7709e-05 - acc: 1.0000 - top3_acc: 1.0000 - val_loss: 2.2082 - val_acc: 0.6471 - val_top3_acc: 0.9118\n",
      "Epoch 88/100\n",
      "272/272 [==============================] - 23s 84ms/step - loss: 5.1261e-05 - acc: 1.0000 - top3_acc: 1.0000 - val_loss: 2.1933 - val_acc: 0.6471 - val_top3_acc: 0.9265\n",
      "Epoch 89/100\n",
      "272/272 [==============================] - 22s 82ms/step - loss: 6.3372e-05 - acc: 1.0000 - top3_acc: 1.0000 - val_loss: 2.1868 - val_acc: 0.6618 - val_top3_acc: 0.9265\n",
      "Epoch 90/100\n",
      "272/272 [==============================] - 22s 82ms/step - loss: 3.0436e-05 - acc: 1.0000 - top3_acc: 1.0000 - val_loss: 2.1808 - val_acc: 0.6618 - val_top3_acc: 0.9265\n",
      "Epoch 91/100\n"
     ]
    },
    {
     "name": "stdout",
     "output_type": "stream",
     "text": [
      "272/272 [==============================] - 22s 82ms/step - loss: 4.8660e-05 - acc: 1.0000 - top3_acc: 1.0000 - val_loss: 2.1799 - val_acc: 0.6618 - val_top3_acc: 0.9265\n",
      "Epoch 92/100\n",
      "272/272 [==============================] - 22s 82ms/step - loss: 2.1556e-05 - acc: 1.0000 - top3_acc: 1.0000 - val_loss: 2.1815 - val_acc: 0.6618 - val_top3_acc: 0.9265\n",
      "Epoch 93/100\n",
      "272/272 [==============================] - 23s 84ms/step - loss: 3.1444e-05 - acc: 1.0000 - top3_acc: 1.0000 - val_loss: 2.1835 - val_acc: 0.6471 - val_top3_acc: 0.9265\n",
      "Epoch 94/100\n",
      "272/272 [==============================] - 22s 82ms/step - loss: 4.9000e-05 - acc: 1.0000 - top3_acc: 1.0000 - val_loss: 2.1814 - val_acc: 0.6618 - val_top3_acc: 0.9265\n",
      "Epoch 95/100\n",
      "272/272 [==============================] - 23s 83ms/step - loss: 4.3540e-05 - acc: 1.0000 - top3_acc: 1.0000 - val_loss: 2.1676 - val_acc: 0.6471 - val_top3_acc: 0.9265\n",
      "Epoch 96/100\n",
      "272/272 [==============================] - 23s 83ms/step - loss: 2.7275e-05 - acc: 1.0000 - top3_acc: 1.0000 - val_loss: 2.1525 - val_acc: 0.6471 - val_top3_acc: 0.9265\n",
      "Epoch 97/100\n",
      "272/272 [==============================] - 22s 81ms/step - loss: 3.8686e-05 - acc: 1.0000 - top3_acc: 1.0000 - val_loss: 2.1441 - val_acc: 0.6471 - val_top3_acc: 0.9265\n",
      "Epoch 98/100\n",
      "272/272 [==============================] - 22s 82ms/step - loss: 7.2968e-05 - acc: 1.0000 - top3_acc: 1.0000 - val_loss: 2.1291 - val_acc: 0.6618 - val_top3_acc: 0.9265\n",
      "Epoch 99/100\n",
      "272/272 [==============================] - 22s 82ms/step - loss: 2.9949e-05 - acc: 1.0000 - top3_acc: 1.0000 - val_loss: 2.1194 - val_acc: 0.6618 - val_top3_acc: 0.9265\n",
      "Epoch 100/100\n",
      "272/272 [==============================] - 22s 82ms/step - loss: 4.5375e-05 - acc: 1.0000 - top3_acc: 1.0000 - val_loss: 2.1190 - val_acc: 0.6618 - val_top3_acc: 0.9265\n"
     ]
    }
   ],
   "source": [
    "multi_class_model_1 = multi_class_model.fit(X_train,\n",
    "                                          y_train,\n",
    "                                          epochs=100, #100\n",
    "                                          batch_size=60, #60\n",
    "                                          validation_data=(X_val, y_val))"
   ]
  },
  {
   "cell_type": "markdown",
   "metadata": {},
   "source": [
    "### Save Loaded Multi-class Model"
   ]
  },
  {
   "cell_type": "code",
   "execution_count": 65,
   "metadata": {},
   "outputs": [],
   "source": [
    "multi_class_model.save('multiple_classes.h5')"
   ]
  },
  {
   "cell_type": "markdown",
   "metadata": {},
   "source": [
    "### Load Saved Multi-class Model"
   ]
  },
  {
   "cell_type": "code",
   "execution_count": 66,
   "metadata": {},
   "outputs": [],
   "source": [
    "# from numpy import loadtxt\n",
    "# from keras.models import load_model\n",
    "\n",
    "\n",
    "# multi_class_model.load_weights('/Users/j.markdaniels/iCloud Drive (Archive)/Desktop/Flatiron/projects/Final_Project/final_project/flatiron_final_project/inception_multiple_classes.h5')\n",
    "\n",
    "# model = load_model('/Users/j.markdaniels/iCloud Drive (Archive)/Desktop/Flatiron/projects/Final_Project/final_project/flatiron_final_project/inception_multiple_classes.h5')\n",
    "\n",
    "# multi_class_model.summary()\n"
   ]
  },
  {
   "cell_type": "markdown",
   "metadata": {},
   "source": [
    "#### Summary"
   ]
  },
  {
   "cell_type": "code",
   "execution_count": 67,
   "metadata": {
    "scrolled": false
   },
   "outputs": [
    {
     "name": "stdout",
     "output_type": "stream",
     "text": [
      "_________________________________________________________________\n",
      "Layer (type)                 Output Shape              Param #   \n",
      "=================================================================\n",
      "inception_v3 (Model)         (None, None, None, 2048)  21802784  \n",
      "_________________________________________________________________\n",
      "global_average_pooling2d_2 ( (None, 2048)              0         \n",
      "_________________________________________________________________\n",
      "dense_7 (Dense)              (None, 1024)              2098176   \n",
      "_________________________________________________________________\n",
      "dense_8 (Dense)              (None, 1024)              1049600   \n",
      "_________________________________________________________________\n",
      "dense_9 (Dense)              (None, 512)               524800    \n",
      "_________________________________________________________________\n",
      "dense_10 (Dense)             (None, 20)                10260     \n",
      "=================================================================\n",
      "Total params: 25,485,620\n",
      "Trainable params: 3,682,836\n",
      "Non-trainable params: 21,802,784\n",
      "_________________________________________________________________\n",
      "None\n"
     ]
    }
   ],
   "source": [
    "\n",
    "print(multi_class_model.summary())\n"
   ]
  },
  {
   "cell_type": "code",
   "execution_count": 68,
   "metadata": {},
   "outputs": [
    {
     "data": {
      "image/png": "[encoded data removed]",
      "text/plain": [
       "<Figure size 1080x288 with 2 Axes>"
      ]
     },
     "metadata": {
      "needs_background": "light"
     },
     "output_type": "display_data"
    }
   ],
   "source": [
    "hist_multi = multi_class_model_1.history\n",
    "loss_values = hist_multi['loss']\n",
    "val_loss_values = hist_multi['val_loss']\n",
    "acc_values = hist_multi['acc'] \n",
    "val_acc_values = hist_multi['val_acc']\n",
    "\n",
    "\n",
    "epochs = range(1, len(loss_values) + 1)\n",
    "\n",
    "plt.figure(figsize=(15,4))\n",
    "plt.subplot(121)\n",
    "plt.plot(epochs, loss_values, 'g.', label='Training loss')\n",
    "plt.plot(epochs, val_loss_values, 'g', label='Validation loss')\n",
    "\n",
    "plt.title('Training and validation loss')\n",
    "plt.xlabel('Epochs')\n",
    "plt.ylabel('Loss')\n",
    "plt.legend()\n",
    "\n",
    "plt.subplot(122)\n",
    "plt.plot(epochs, acc_values, 'r.', label='Training acc')\n",
    "plt.plot(epochs, val_acc_values, 'r', label='Validation acc')\n",
    "plt.title('Training and validation accuracy')\n",
    "plt.xlabel('Epochs')\n",
    "plt.ylabel('Accuracy')\n",
    "plt.legend()\n",
    "plt.show()"
   ]
  },
  {
   "cell_type": "markdown",
   "metadata": {},
   "source": [
    "### Evaluate Model"
   ]
  },
  {
   "cell_type": "markdown",
   "metadata": {},
   "source": [
    "#### Accuracy"
   ]
  },
  {
   "cell_type": "code",
   "execution_count": 69,
   "metadata": {
    "scrolled": true
   },
   "outputs": [
    {
     "name": "stdout",
     "output_type": "stream",
     "text": [
      "2776/2776 [==============================] - 201s 72ms/step\n"
     ]
    },
    {
     "data": {
      "text/plain": [
       "[2.4385253180687982, 0.6887608067446552, 0.917507204610951]"
      ]
     },
     "execution_count": 69,
     "metadata": {},
     "output_type": "execute_result"
    }
   ],
   "source": [
    "multi_class_model.evaluate(X_test, y_test)"
   ]
  },
  {
   "cell_type": "markdown",
   "metadata": {},
   "source": [
    "#### Confusion Matrix"
   ]
  },
  {
   "cell_type": "code",
   "execution_count": 70,
   "metadata": {},
   "outputs": [],
   "source": [
    "predictions_transfer = multi_class_model.predict(X_test)"
   ]
  },
  {
   "cell_type": "code",
   "execution_count": 71,
   "metadata": {},
   "outputs": [
    {
     "data": {
      "text/plain": [
       "['bald_eagle_test',\n",
       " 'black_bear_test',\n",
       " 'bobcat_test',\n",
       " 'canada_lynx_test',\n",
       " 'columbian_deer_test',\n",
       " 'cougar_test',\n",
       " 'coyote_test',\n",
       " 'deer_test',\n",
       " 'elk_test',\n",
       " 'gray_fox_test',\n",
       " 'gray_wolf_test',\n",
       " 'mountain_beaver_test',\n",
       " 'nutria_test',\n",
       " 'raccoon_test',\n",
       " 'raven_test',\n",
       " 'red_fox_test',\n",
       " 'ringtail_test',\n",
       " 'sea_lions_test',\n",
       " 'seals_test',\n",
       " 'virginia_opossum_test']"
      ]
     },
     "execution_count": 71,
     "metadata": {},
     "output_type": "execute_result"
    }
   ],
   "source": [
    "labels = [label for label in multi_data_te.class_indices] \n",
    "labels"
   ]
  },
  {
   "cell_type": "code",
   "execution_count": 72,
   "metadata": {},
   "outputs": [
    {
     "name": "stdout",
     "output_type": "stream",
     "text": [
      "Top 3 guesses: ['cougar', 'canada_lynx', 'bald_eagle']\n",
      "cougar\n"
     ]
    },
    {
     "data": {
      "image/png": "[encoded data removed]",
      "text/plain": [
       "<Figure size 432x288 with 1 Axes>"
      ]
     },
     "metadata": {
      "needs_background": "light"
     },
     "output_type": "display_data"
    }
   ],
   "source": [
    "\n",
    "\n",
    "k = 3\n",
    "i=890\n",
    "top_k_predictions = [x[:k] for x in (-predictions_transfer).argsort()]\n",
    "top_values_index=top_k_predictions[i]\n",
    "plt.imshow(X_test[i])\n",
    "print('Top 3 guesses: {}'.format([labels[i].replace('_test','') for i in top_values_index]))\n",
    "print(labels[y_test[i].argmax()].replace('_test',''))"
   ]
  },
  {
   "cell_type": "code",
   "execution_count": 73,
   "metadata": {},
   "outputs": [
    {
     "data": {
      "text/plain": [
       "{'bald_eagle_test': 0,\n",
       " 'black_bear_test': 1,\n",
       " 'bobcat_test': 2,\n",
       " 'canada_lynx_test': 3,\n",
       " 'columbian_deer_test': 4,\n",
       " 'cougar_test': 5,\n",
       " 'coyote_test': 6,\n",
       " 'deer_test': 7,\n",
       " 'elk_test': 8,\n",
       " 'gray_fox_test': 9,\n",
       " 'gray_wolf_test': 10,\n",
       " 'mountain_beaver_test': 11,\n",
       " 'nutria_test': 12,\n",
       " 'raccoon_test': 13,\n",
       " 'raven_test': 14,\n",
       " 'red_fox_test': 15,\n",
       " 'ringtail_test': 16,\n",
       " 'sea_lions_test': 17,\n",
       " 'seals_test': 18,\n",
       " 'virginia_opossum_test': 19}"
      ]
     },
     "execution_count": 73,
     "metadata": {},
     "output_type": "execute_result"
    }
   ],
   "source": [
    "multi_data_te.class_indices\n"
   ]
  },
  {
   "cell_type": "code",
   "execution_count": 74,
   "metadata": {},
   "outputs": [],
   "source": [
    "y_pred = np.argmax(predictions_transfer, axis=1)\n",
    "\n",
    "y_true = np.where(y_test != 0)[1]"
   ]
  },
  {
   "cell_type": "code",
   "execution_count": 75,
   "metadata": {},
   "outputs": [
    {
     "data": {
      "image/png": "[encoded data removed]",
      "text/plain": [
       "<Figure size 1440x2160 with 1 Axes>"
      ]
     },
     "metadata": {
      "needs_background": "light"
     },
     "output_type": "display_data"
    }
   ],
   "source": [
    "# Calculate Confusion Matrix\n",
    "cm = confusion_matrix(y_true, y_pred)\n",
    "# classes = classes[unique_labels(y_true, y_pred)]\n",
    "# Figure adjustment and heatmap plot\n",
    "f = plt.figure(figsize=(20,30))\n",
    "ax= plt.subplot()\n",
    "sns.heatmap(cm, annot=True, ax = ax, vmax=100, cbar=False, cmap='Paired', mask=(cm==0), fmt=',.0f', linewidths=2, linecolor='grey', ); \n",
    "\n",
    "# labels\n",
    "ax.set_xlabel('Predicted labels', fontsize=16);\n",
    "ax.set_ylabel('True labels', labelpad=30, fontsize=16); \n",
    "ax.set_title('Confusion Matrix', fontsize=18); \n",
    "ax.xaxis.set_ticklabels(labels, rotation=90); \n",
    "ax.yaxis.set_ticklabels(labels, rotation=0);\n",
    "ax.set_facecolor('white')"
   ]
  },
  {
   "cell_type": "markdown",
   "metadata": {},
   "source": [
    "#### Top-k Categorical Accuracy"
   ]
  },
  {
   "cell_type": "code",
   "execution_count": 76,
   "metadata": {},
   "outputs": [],
   "source": [
    "import functools\n",
    "from keras.metrics import top_k_categorical_accuracy"
   ]
  },
  {
   "cell_type": "code",
   "execution_count": 77,
   "metadata": {},
   "outputs": [],
   "source": [
    "\n",
    "\n",
    "top_5_accuracy = functools.partial(top_k_categorical_accuracy, k=5)"
   ]
  },
  {
   "cell_type": "code",
   "execution_count": 78,
   "metadata": {},
   "outputs": [
    {
     "ename": "NameError",
     "evalue": "name 'opt' is not defined",
     "output_type": "error",
     "traceback": [
      "\u001b[0;31m---------------------------------------------------------------------------\u001b[0m",
      "\u001b[0;31mNameError\u001b[0m                                 Traceback (most recent call last)",
      "\u001b[0;32m<ipython-input-78-764e9281d71b>\u001b[0m in \u001b[0;36m<module>\u001b[0;34m\u001b[0m\n\u001b[1;32m      9\u001b[0m \u001b[0mtop3_acc\u001b[0m\u001b[0;34m.\u001b[0m\u001b[0m__name__\u001b[0m \u001b[0;34m=\u001b[0m \u001b[0;34m'top3_acc'\u001b[0m\u001b[0;34m\u001b[0m\u001b[0;34m\u001b[0m\u001b[0m\n\u001b[1;32m     10\u001b[0m \u001b[0;34m\u001b[0m\u001b[0m\n\u001b[0;32m---> 11\u001b[0;31m \u001b[0mcnn\u001b[0m\u001b[0;34m.\u001b[0m\u001b[0mcompile\u001b[0m\u001b[0;34m(\u001b[0m\u001b[0mloss\u001b[0m\u001b[0;34m=\u001b[0m\u001b[0;34m\"categorical_crossentropy\"\u001b[0m\u001b[0;34m,\u001b[0m \u001b[0moptimizer\u001b[0m\u001b[0;34m=\u001b[0m\u001b[0mopt\u001b[0m\u001b[0;34m,\u001b[0m \u001b[0mmetrics\u001b[0m\u001b[0;34m=\u001b[0m\u001b[0;34m[\u001b[0m\u001b[0;34m\"accuracy\"\u001b[0m\u001b[0;34m,\u001b[0m \u001b[0mtop3_acc\u001b[0m\u001b[0;34m,\u001b[0m \u001b[0mtop10_acc\u001b[0m\u001b[0;34m]\u001b[0m\u001b[0;34m)\u001b[0m\u001b[0;34m\u001b[0m\u001b[0;34m\u001b[0m\u001b[0m\n\u001b[0m",
      "\u001b[0;31mNameError\u001b[0m: name 'opt' is not defined"
     ]
    }
   ],
   "source": [
    "\n",
    "import functools\n",
    "\n",
    "top10_acc = functools.partial(top_k_categorical_accuracy, k=10)\n",
    "\n",
    "top10_acc.__name__ = 'top10_acc'\n",
    "\n",
    "top3_acc = functools.partial(top_k_categorical_accuracy, k=3)\n",
    "\n",
    "top3_acc.__name__ = 'top3_acc'\n",
    "\n",
    "cnn.compile(loss=\"categorical_crossentropy\", optimizer=opt, metrics=[\"accuracy\", top3_acc, top10_acc])"
   ]
  },
  {
   "cell_type": "code",
   "execution_count": null,
   "metadata": {},
   "outputs": [],
   "source": []
  },
  {
   "cell_type": "code",
   "execution_count": null,
   "metadata": {},
   "outputs": [],
   "source": []
  },
  {
   "cell_type": "code",
   "execution_count": null,
   "metadata": {},
   "outputs": [],
   "source": []
  }
 ],
 "metadata": {
  "kernelspec": {
   "display_name": "Python 3",
   "language": "python",
   "name": "python3"
  },
  "language_info": {
   "codemirror_mode": {
    "name": "ipython",
    "version": 3
   },
   "file_extension": ".py",
   "mimetype": "text/x-python",
   "name": "python",
   "nbconvert_exporter": "python",
   "pygments_lexer": "ipython3",
   "version": "3.7.1"
  },
  "toc": {
   "base_numbering": 1,
   "nav_menu": {},
   "number_sections": false,
   "sideBar": true,
   "skip_h1_title": false,
   "title_cell": "Table of Contents",
   "title_sidebar": "Contents",
   "toc_cell": false,
   "toc_position": {
    "height": "calc(100% - 180px)",
    "left": "10px",
    "top": "150px",
    "width": "277px"
   },
   "toc_section_display": true,
   "toc_window_display": true
  },
  "varInspector": {
   "cols": {
    "lenName": 16,
    "lenType": 16,
    "lenVar": 40
   },
   "kernels_config": {
    "python": {
     "delete_cmd_postfix": "",
     "delete_cmd_prefix": "del ",
     "library": "var_list.py",
     "varRefreshCmd": "print(var_dic_list())"
    },
    "r": {
     "delete_cmd_postfix": ") ",
     "delete_cmd_prefix": "rm(",
     "library": "var_list.r",
     "varRefreshCmd": "cat(var_dic_list()) "
    }
   },
   "types_to_exclude": [
    "module",
    "function",
    "builtin_function_or_method",
    "instance",
    "_Feature"
   ],
   "window_display": false
  }
 },
 "nbformat": 4,
 "nbformat_minor": 2
}
