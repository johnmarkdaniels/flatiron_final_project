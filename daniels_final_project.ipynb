{
 "cells": [
  {
   "cell_type": "markdown",
   "metadata": {},
   "source": [
    "# Oregon Wildlife Image Classification\n",
    "# Final Project\n",
    "\n",
    "# Flatiron School - Washington DC\n",
    "# Data Science Fellowship\n",
    "\n",
    "### J. Mark Daniels, PhD"
   ]
  },
  {
   "cell_type": "markdown",
   "metadata": {},
   "source": [
    "# Binary Classification - Bobcat"
   ]
  },
  {
   "cell_type": "markdown",
   "metadata": {},
   "source": [
    "## Import Libraries for CNN"
   ]
  },
  {
   "cell_type": "code",
   "execution_count": 1,
   "metadata": {},
   "outputs": [
    {
     "name": "stderr",
     "output_type": "stream",
     "text": [
      "Using TensorFlow backend.\n"
     ]
    }
   ],
   "source": [
    "import matplotlib.pyplot as plt\n",
    "import numpy as np\n",
    "import os, shutil\n",
    "import itertools\n",
    "from keras import models\n",
    "from keras.models import Model\n",
    "from keras import layers\n",
    "from sklearn.metrics import confusion_matrix, f1_score\n",
    "np.random.seed(123)\n",
    "from keras.models import load_model\n",
    "from keras.preprocessing.image import ImageDataGenerator, array_to_img, img_to_array, load_img\n",
    "from keras.applications import inception_v3\n",
    "from keras.layers import Dense,GlobalAveragePooling2D"
   ]
  },
  {
   "cell_type": "markdown",
   "metadata": {},
   "source": [
    "## Prepare Data"
   ]
  },
  {
   "cell_type": "markdown",
   "metadata": {},
   "source": [
    "### Import, Resize, and Rescale Images"
   ]
  },
  {
   "cell_type": "markdown",
   "metadata": {},
   "source": [
    "Build a function and export to .py to call these in to avoid conflicts"
   ]
  },
  {
   "cell_type": "code",
   "execution_count": 2,
   "metadata": {},
   "outputs": [],
   "source": [
    "def imagenlabel_gen(test_dir, train_dir, images=None, labels=None):\n",
    "    # Generate and resize images\n",
    "    data_te = ImageDataGenerator(rescale=1./255).flow_from_directory( \n",
    "        '/Users/j.markdaniels/Downloads/final_proj_data/bobcat_cougar_data/test/', \n",
    "        target_size=(224, 224), \n",
    "        batch_size = 340, \n",
    "        seed = 123)\n",
    "    data_tr = ImageDataGenerator(rescale=1./255).flow_from_directory( \n",
    "        '/Users/j.markdaniels/Downloads/final_proj_data/bobcat_cougar_data/train/', \n",
    "        target_size=(224, 224), \n",
    "        batch_size = 340, \n",
    "        seed = 123) \n",
    "    \n",
    "    # Split images and labels into arrays\n",
    "    images_te, labels_te = next(data_te)\n",
    "    images_tr, labels_tr = next(data_tr)\n",
    "    \n",
    "    # Final images and labels\n",
    "    images = np.concatenate((images_tr, images_te))\n",
    "    labels = np.concatenate((labels_tr[:,0], labels_te[:,0]))\n",
    "    \n",
    "    return(images_te, labels_te,images_tr, labels_tr, images, labels)"
   ]
  },
  {
   "cell_type": "code",
   "execution_count": 3,
   "metadata": {},
   "outputs": [],
   "source": [
    "cnn_test = '/Users/j.markdaniels/Downloads/final_proj_data/bobcat_cougar_data/test/'\n",
    "cnn_train = '/Users/j.markdaniels/Downloads/final_proj_data/bobcat_cougar_data/train/'"
   ]
  },
  {
   "cell_type": "code",
   "execution_count": 4,
   "metadata": {},
   "outputs": [
    {
     "name": "stdout",
     "output_type": "stream",
     "text": [
      "Found 685 images belonging to 2 classes.\n",
      "Found 680 images belonging to 2 classes.\n"
     ]
    },
    {
     "name": "stderr",
     "output_type": "stream",
     "text": [
      "/anaconda3/lib/python3.7/site-packages/PIL/TiffImagePlugin.py:763: UserWarning: Possibly corrupt EXIF data.  Expecting to read 85 bytes but only got 0. Skipping tag 33285\n",
      "  \" Skipping tag %s\" % (size, len(data), tag))\n",
      "/anaconda3/lib/python3.7/site-packages/PIL/TiffImagePlugin.py:763: UserWarning: Possibly corrupt EXIF data.  Expecting to read 93 bytes but only got 0. Skipping tag 33285\n",
      "  \" Skipping tag %s\" % (size, len(data), tag))\n",
      "/anaconda3/lib/python3.7/site-packages/PIL/TiffImagePlugin.py:763: UserWarning: Possibly corrupt EXIF data.  Expecting to read 141 bytes but only got 0. Skipping tag 37386\n",
      "  \" Skipping tag %s\" % (size, len(data), tag))\n",
      "/anaconda3/lib/python3.7/site-packages/PIL/TiffImagePlugin.py:763: UserWarning: Possibly corrupt EXIF data.  Expecting to read 149 bytes but only got 0. Skipping tag 37381\n",
      "  \" Skipping tag %s\" % (size, len(data), tag))\n",
      "/anaconda3/lib/python3.7/site-packages/PIL/TiffImagePlugin.py:763: UserWarning: Possibly corrupt EXIF data.  Expecting to read 157 bytes but only got 0. Skipping tag 37381\n",
      "  \" Skipping tag %s\" % (size, len(data), tag))\n",
      "/anaconda3/lib/python3.7/site-packages/PIL/TiffImagePlugin.py:763: UserWarning: Possibly corrupt EXIF data.  Expecting to read 144 bytes but only got 0. Skipping tag 40964\n",
      "  \" Skipping tag %s\" % (size, len(data), tag))\n",
      "/anaconda3/lib/python3.7/site-packages/PIL/TiffImagePlugin.py:763: UserWarning: Possibly corrupt EXIF data.  Expecting to read 192 bytes but only got 0. Skipping tag 40964\n",
      "  \" Skipping tag %s\" % (size, len(data), tag))\n",
      "/anaconda3/lib/python3.7/site-packages/PIL/TiffImagePlugin.py:763: UserWarning: Possibly corrupt EXIF data.  Expecting to read 192 bytes but only got 0. Skipping tag 41735\n",
      "  \" Skipping tag %s\" % (size, len(data), tag))\n",
      "/anaconda3/lib/python3.7/site-packages/PIL/TiffImagePlugin.py:763: UserWarning: Possibly corrupt EXIF data.  Expecting to read 62 bytes but only got 0. Skipping tag 41989\n",
      "  \" Skipping tag %s\" % (size, len(data), tag))\n",
      "/anaconda3/lib/python3.7/site-packages/PIL/TiffImagePlugin.py:763: UserWarning: Possibly corrupt EXIF data.  Expecting to read 16908320 bytes but only got 8068. Skipping tag 2048\n",
      "  \" Skipping tag %s\" % (size, len(data), tag))\n",
      "/anaconda3/lib/python3.7/site-packages/PIL/TiffImagePlugin.py:763: UserWarning: Possibly corrupt EXIF data.  Expecting to read 16908320 bytes but only got 8036. Skipping tag 2048\n",
      "  \" Skipping tag %s\" % (size, len(data), tag))\n",
      "/anaconda3/lib/python3.7/site-packages/PIL/TiffImagePlugin.py:763: UserWarning: Possibly corrupt EXIF data.  Expecting to read 34209794 bytes but only got 8258. Skipping tag 2048\n",
      "  \" Skipping tag %s\" % (size, len(data), tag))\n",
      "/anaconda3/lib/python3.7/site-packages/PIL/TiffImagePlugin.py:763: UserWarning: Possibly corrupt EXIF data.  Expecting to read 68157444 bytes but only got 8276. Skipping tag 2304\n",
      "  \" Skipping tag %s\" % (size, len(data), tag))\n",
      "/anaconda3/lib/python3.7/site-packages/PIL/TiffImagePlugin.py:763: UserWarning: Possibly corrupt EXIF data.  Expecting to read 34078722 bytes but only got 8193. Skipping tag 1536\n",
      "  \" Skipping tag %s\" % (size, len(data), tag))\n",
      "/anaconda3/lib/python3.7/site-packages/PIL/TiffImagePlugin.py:763: UserWarning: Possibly corrupt EXIF data.  Expecting to read 34078722 bytes but only got 8105. Skipping tag 1024\n",
      "  \" Skipping tag %s\" % (size, len(data), tag))\n",
      "/anaconda3/lib/python3.7/site-packages/PIL/TiffImagePlugin.py:763: UserWarning: Possibly corrupt EXIF data.  Expecting to read 68157442 bytes but only got 8126. Skipping tag 768\n",
      "  \" Skipping tag %s\" % (size, len(data), tag))\n",
      "/anaconda3/lib/python3.7/site-packages/PIL/TiffImagePlugin.py:763: UserWarning: Possibly corrupt EXIF data.  Expecting to read 136315212 bytes but only got 8268. Skipping tag 1280\n",
      "  \" Skipping tag %s\" % (size, len(data), tag))\n",
      "/anaconda3/lib/python3.7/site-packages/PIL/TiffImagePlugin.py:763: UserWarning: Possibly corrupt EXIF data.  Expecting to read 135004164 bytes but only got 8023. Skipping tag 3584\n",
      "  \" Skipping tag %s\" % (size, len(data), tag))\n",
      "/anaconda3/lib/python3.7/site-packages/PIL/TiffImagePlugin.py:763: UserWarning: Possibly corrupt EXIF data.  Expecting to read 270008328 bytes but only got 8278. Skipping tag 0\n",
      "  \" Skipping tag %s\" % (size, len(data), tag))\n",
      "/anaconda3/lib/python3.7/site-packages/PIL/TiffImagePlugin.py:763: UserWarning: Possibly corrupt EXIF data.  Expecting to read 135004164 bytes but only got 8278. Skipping tag 0\n",
      "  \" Skipping tag %s\" % (size, len(data), tag))\n",
      "/anaconda3/lib/python3.7/site-packages/PIL/TiffImagePlugin.py:763: UserWarning: Possibly corrupt EXIF data.  Expecting to read 50528257 bytes but only got 8074. Skipping tag 0\n",
      "  \" Skipping tag %s\" % (size, len(data), tag))\n",
      "/anaconda3/lib/python3.7/site-packages/PIL/TiffImagePlugin.py:763: UserWarning: Possibly corrupt EXIF data.  Expecting to read 50528257 bytes but only got 8278. Skipping tag 256\n",
      "  \" Skipping tag %s\" % (size, len(data), tag))\n",
      "/anaconda3/lib/python3.7/site-packages/PIL/TiffImagePlugin.py:763: UserWarning: Possibly corrupt EXIF data.  Expecting to read 101056514 bytes but only got 8081. Skipping tag 0\n",
      "  \" Skipping tag %s\" % (size, len(data), tag))\n",
      "/anaconda3/lib/python3.7/site-packages/PIL/TiffImagePlugin.py:763: UserWarning: Possibly corrupt EXIF data.  Expecting to read 202113028 bytes but only got 8056. Skipping tag 256\n",
      "  \" Skipping tag %s\" % (size, len(data), tag))\n",
      "/anaconda3/lib/python3.7/site-packages/PIL/TiffImagePlugin.py:763: UserWarning: Possibly corrupt EXIF data.  Expecting to read 405274632 bytes but only got 8182. Skipping tag 256\n",
      "  \" Skipping tag %s\" % (size, len(data), tag))\n",
      "/anaconda3/lib/python3.7/site-packages/PIL/TiffImagePlugin.py:763: UserWarning: Possibly corrupt EXIF data.  Expecting to read 50528257 bytes but only got 8278. Skipping tag 6656\n",
      "  \" Skipping tag %s\" % (size, len(data), tag))\n",
      "/anaconda3/lib/python3.7/site-packages/PIL/TiffImagePlugin.py:763: UserWarning: Possibly corrupt EXIF data.  Expecting to read 101056514 bytes but only got 8278. Skipping tag 0\n",
      "  \" Skipping tag %s\" % (size, len(data), tag))\n",
      "/anaconda3/lib/python3.7/site-packages/PIL/TiffImagePlugin.py:763: UserWarning: Possibly corrupt EXIF data.  Expecting to read 404226064 bytes but only got 8278. Skipping tag 0\n",
      "  \" Skipping tag %s\" % (size, len(data), tag))\n",
      "/anaconda3/lib/python3.7/site-packages/PIL/TiffImagePlugin.py:763: UserWarning: Possibly corrupt EXIF data.  Expecting to read 302186498 bytes but only got 8278. Skipping tag 0\n",
      "  \" Skipping tag %s\" % (size, len(data), tag))\n",
      "/anaconda3/lib/python3.7/site-packages/PIL/TiffImagePlugin.py:763: UserWarning: Possibly corrupt EXIF data.  Expecting to read 302186497 bytes but only got 8198. Skipping tag 0\n",
      "  \" Skipping tag %s\" % (size, len(data), tag))\n",
      "/anaconda3/lib/python3.7/site-packages/PIL/TiffImagePlugin.py:763: UserWarning: Possibly corrupt EXIF data.  Expecting to read 605290498 bytes but only got 8090. Skipping tag 0\n",
      "  \" Skipping tag %s\" % (size, len(data), tag))\n",
      "/anaconda3/lib/python3.7/site-packages/PIL/TiffImagePlugin.py:763: UserWarning: Possibly corrupt EXIF data.  Expecting to read 1208745988 bytes but only got 8278. Skipping tag 6656\n",
      "  \" Skipping tag %s\" % (size, len(data), tag))\n",
      "/anaconda3/lib/python3.7/site-packages/PIL/TiffImagePlugin.py:763: UserWarning: Possibly corrupt EXIF data.  Expecting to read 2418540552 bytes but only got 8078. Skipping tag 0\n",
      "  \" Skipping tag %s\" % (size, len(data), tag))\n",
      "/anaconda3/lib/python3.7/site-packages/PIL/TiffImagePlugin.py:763: UserWarning: Possibly corrupt EXIF data.  Expecting to read 302186497 bytes but only got 8278. Skipping tag 6656\n",
      "  \" Skipping tag %s\" % (size, len(data), tag))\n",
      "/anaconda3/lib/python3.7/site-packages/PIL/TiffImagePlugin.py:763: UserWarning: Possibly corrupt EXIF data.  Expecting to read 302186497 bytes but only got 8278. Skipping tag 0\n",
      "  \" Skipping tag %s\" % (size, len(data), tag))\n",
      "/anaconda3/lib/python3.7/site-packages/PIL/TiffImagePlugin.py:763: UserWarning: Possibly corrupt EXIF data.  Expecting to read 604372994 bytes but only got 8278. Skipping tag 0\n",
      "  \" Skipping tag %s\" % (size, len(data), tag))\n",
      "/anaconda3/lib/python3.7/site-packages/PIL/TiffImagePlugin.py:763: UserWarning: Possibly corrupt EXIF data.  Expecting to read 2417491976 bytes but only got 8278. Skipping tag 0\n",
      "  \" Skipping tag %s\" % (size, len(data), tag))\n",
      "/anaconda3/lib/python3.7/site-packages/PIL/TiffImagePlugin.py:763: UserWarning: Possibly corrupt EXIF data.  Expecting to read 65537 bytes but only got 0. Skipping tag 1\n",
      "  \" Skipping tag %s\" % (size, len(data), tag))\n",
      "/anaconda3/lib/python3.7/site-packages/PIL/TiffImagePlugin.py:763: UserWarning: Possibly corrupt EXIF data.  Expecting to read 393222 bytes but only got 0. Skipping tag 3\n",
      "  \" Skipping tag %s\" % (size, len(data), tag))\n",
      "/anaconda3/lib/python3.7/site-packages/PIL/TiffImagePlugin.py:763: UserWarning: Possibly corrupt EXIF data.  Expecting to read 65536 bytes but only got 8278. Skipping tag 0\n",
      "  \" Skipping tag %s\" % (size, len(data), tag))\n",
      "/anaconda3/lib/python3.7/site-packages/PIL/TiffImagePlugin.py:763: UserWarning: Possibly corrupt EXIF data.  Expecting to read 6553646 bytes but only got 0. Skipping tag 4608\n",
      "  \" Skipping tag %s\" % (size, len(data), tag))\n",
      "/anaconda3/lib/python3.7/site-packages/PIL/TiffImagePlugin.py:763: UserWarning: Possibly corrupt EXIF data.  Expecting to read 3221260288 bytes but only got 0. Skipping tag 2072\n",
      "  \" Skipping tag %s\" % (size, len(data), tag))\n",
      "/anaconda3/lib/python3.7/site-packages/PIL/TiffImagePlugin.py:763: UserWarning: Possibly corrupt EXIF data.  Expecting to read 268435640 bytes but only got 0. Skipping tag 768\n",
      "  \" Skipping tag %s\" % (size, len(data), tag))\n",
      "/anaconda3/lib/python3.7/site-packages/PIL/TiffImagePlugin.py:763: UserWarning: Possibly corrupt EXIF data.  Expecting to read 4718640 bytes but only got 0. Skipping tag 2560\n",
      "  \" Skipping tag %s\" % (size, len(data), tag))\n",
      "/anaconda3/lib/python3.7/site-packages/PIL/TiffImagePlugin.py:763: UserWarning: Possibly corrupt EXIF data.  Expecting to read 458765 bytes but only got 0. Skipping tag 23\n",
      "  \" Skipping tag %s\" % (size, len(data), tag))\n",
      "/anaconda3/lib/python3.7/site-packages/PIL/TiffImagePlugin.py:763: UserWarning: Possibly corrupt EXIF data.  Expecting to read 1441794 bytes but only got 8278. Skipping tag 161\n",
      "  \" Skipping tag %s\" % (size, len(data), tag))\n",
      "/anaconda3/lib/python3.7/site-packages/PIL/TiffImagePlugin.py:763: UserWarning: Possibly corrupt EXIF data.  Expecting to read 65575 bytes but only got 0. Skipping tag 55\n",
      "  \" Skipping tag %s\" % (size, len(data), tag))\n",
      "/anaconda3/lib/python3.7/site-packages/PIL/TiffImagePlugin.py:763: UserWarning: Possibly corrupt EXIF data.  Expecting to read 393219 bytes but only got 0. Skipping tag 7\n",
      "  \" Skipping tag %s\" % (size, len(data), tag))\n",
      "/anaconda3/lib/python3.7/site-packages/PIL/TiffImagePlugin.py:763: UserWarning: Possibly corrupt EXIF data.  Expecting to read 13369600 bytes but only got 0. Skipping tag 180\n",
      "  \" Skipping tag %s\" % (size, len(data), tag))\n",
      "/anaconda3/lib/python3.7/site-packages/PIL/TiffImagePlugin.py:763: UserWarning: Possibly corrupt EXIF data.  Expecting to read 2080374824 bytes but only got 8278. Skipping tag 256\n",
      "  \" Skipping tag %s\" % (size, len(data), tag))\n",
      "/anaconda3/lib/python3.7/site-packages/PIL/TiffImagePlugin.py:780: UserWarning: Corrupt EXIF data.  Expecting to read 12 bytes but only got 0. \n",
      "  warnings.warn(str(msg))\n"
     ]
    },
    {
     "name": "stderr",
     "output_type": "stream",
     "text": [
      "/anaconda3/lib/python3.7/site-packages/PIL/Image.py:968: UserWarning: Palette images with Transparency   expressed in bytes should be converted to RGBA images\n",
      "  ' expressed in bytes should be converted ' +\n"
     ]
    }
   ],
   "source": [
    "images_te, labels_te,images_tr, labels_tr, images, labels = imagenlabel_gen(cnn_test, cnn_train)"
   ]
  },
  {
   "cell_type": "code",
   "execution_count": null,
   "metadata": {},
   "outputs": [],
   "source": [
    "# data_te = ImageDataGenerator(rescale=1./255).flow_from_directory( \n",
    "#         '/Users/j.markdaniels/Downloads/final_proj_data/bobcat_cougar_data/test/', \n",
    "#         target_size=(224, 224), \n",
    "#         batch_size = 340, \n",
    "#         seed = 123)"
   ]
  },
  {
   "cell_type": "code",
   "execution_count": null,
   "metadata": {},
   "outputs": [],
   "source": [
    "# data_tr = ImageDataGenerator(rescale=1./255).flow_from_directory( \n",
    "#         '/Users/j.markdaniels/Downloads/final_proj_data/bobcat_cougar_data/train/', \n",
    "#         target_size=(224, 224), \n",
    "#         batch_size = 340, \n",
    "#         seed = 123) "
   ]
  },
  {
   "cell_type": "markdown",
   "metadata": {},
   "source": [
    "### Split Images and Labels into Arrays"
   ]
  },
  {
   "cell_type": "markdown",
   "metadata": {},
   "source": [
    "Build a function and export to .py to call these in to avoid conflicts"
   ]
  },
  {
   "cell_type": "code",
   "execution_count": null,
   "metadata": {},
   "outputs": [],
   "source": [
    "# images_tr, labels_tr = next(data_tr)\n",
    "\n",
    "# images_te, labels_te = next(data_te)\n",
    "\n",
    "# images = np.concatenate((images_tr, images_te))\n",
    "\n",
    "# labels = np.concatenate((labels_tr[:,0], labels_te[:,0]))"
   ]
  },
  {
   "cell_type": "markdown",
   "metadata": {},
   "source": [
    "### Perform Train-Test Split"
   ]
  },
  {
   "cell_type": "markdown",
   "metadata": {},
   "source": [
    "Build a function and export to .py to call these in to avoid conflicts"
   ]
  },
  {
   "cell_type": "code",
   "execution_count": null,
   "metadata": {},
   "outputs": [],
   "source": []
  },
  {
   "cell_type": "code",
   "execution_count": 5,
   "metadata": {},
   "outputs": [],
   "source": [
    "from sklearn.model_selection import train_test_split\n",
    "X_model, X_test, y_model, y_test = train_test_split(images, labels, test_size=0.20, random_state=123)"
   ]
  },
  {
   "cell_type": "code",
   "execution_count": 6,
   "metadata": {},
   "outputs": [],
   "source": [
    "from sklearn.model_selection import train_test_split\n",
    "X_train, X_val, y_train, y_val = train_test_split(X_model, y_model, test_size=0.20, random_state=123)"
   ]
  },
  {
   "cell_type": "markdown",
   "metadata": {},
   "source": [
    "## Convolutional Neural Network (CNN)"
   ]
  },
  {
   "cell_type": "markdown",
   "metadata": {},
   "source": [
    "### Create Model"
   ]
  },
  {
   "cell_type": "code",
   "execution_count": 7,
   "metadata": {
    "scrolled": true
   },
   "outputs": [
    {
     "name": "stdout",
     "output_type": "stream",
     "text": [
      "WARNING:tensorflow:From /anaconda3/lib/python3.7/site-packages/tensorflow/python/framework/op_def_library.py:263: colocate_with (from tensorflow.python.framework.ops) is deprecated and will be removed in a future version.\n",
      "Instructions for updating:\n",
      "Colocations handled automatically by placer.\n"
     ]
    }
   ],
   "source": [
    "cnn = models.Sequential()\n",
    "cnn.add(layers.Conv2D(64, (1, 1), activation='relu', input_shape=(224, 224,  3)))\n",
    "cnn.add(layers.BatchNormalization())\n",
    "cnn.add(layers.MaxPooling2D((2, 2)))\n",
    "cnn.add(layers.Conv2D(64, (3, 3), activation='relu'))\n",
    "cnn.add(layers.BatchNormalization())\n",
    "# 64 bias parameters\n",
    "# 64 * (3 * 3 * 3) weight parametrs\n",
    "# Output is 64*224*224\n",
    "cnn.add(layers.MaxPooling2D((2, 2)))\n",
    "#Output is 64*112*112\n",
    "cnn.add(layers.Conv2D(32, (3, 3), activation='relu', input_shape=(224, 224,  3)))\n",
    "cnn.add(layers.BatchNormalization())\n",
    "#32 bias parameters\n",
    "#32 * (3*3*64)\n",
    "#Output is 32*112*112 \n",
    "cnn.add(layers.MaxPooling2D((2, 2)))\n",
    "cnn.add(layers.Flatten())\n",
    "cnn.add(layers.Dense(32, activation='relu'))\n",
    "cnn.add(layers.Dense(1, activation='sigmoid'))\n",
    "\n",
    "cnn.compile(loss='binary_crossentropy',\n",
    "              optimizer=\"adam\",\n",
    "              metrics=['acc'])"
   ]
  },
  {
   "cell_type": "markdown",
   "metadata": {},
   "source": [
    "### Train Model"
   ]
  },
  {
   "cell_type": "code",
   "execution_count": 8,
   "metadata": {
    "scrolled": true
   },
   "outputs": [
    {
     "name": "stdout",
     "output_type": "stream",
     "text": [
      "WARNING:tensorflow:From /anaconda3/lib/python3.7/site-packages/tensorflow/python/ops/math_ops.py:3066: to_int32 (from tensorflow.python.ops.math_ops) is deprecated and will be removed in a future version.\n",
      "Instructions for updating:\n",
      "Use tf.cast instead.\n",
      "Train on 435 samples, validate on 109 samples\n",
      "Epoch 1/10\n",
      "435/435 [==============================] - 56s 128ms/step - loss: 1.4276 - acc: 0.5931 - val_loss: 1.1248 - val_acc: 0.6514\n",
      "Epoch 2/10\n",
      "435/435 [==============================] - 52s 119ms/step - loss: 0.5554 - acc: 0.7678 - val_loss: 0.6978 - val_acc: 0.6972\n",
      "Epoch 3/10\n",
      "435/435 [==============================] - 51s 118ms/step - loss: 0.3215 - acc: 0.8713 - val_loss: 0.7529 - val_acc: 0.7156\n",
      "Epoch 4/10\n",
      "435/435 [==============================] - 51s 118ms/step - loss: 0.1671 - acc: 0.9333 - val_loss: 0.7437 - val_acc: 0.7339\n",
      "Epoch 5/10\n",
      "435/435 [==============================] - 51s 118ms/step - loss: 0.0840 - acc: 0.9724 - val_loss: 0.6139 - val_acc: 0.7982\n",
      "Epoch 6/10\n",
      "435/435 [==============================] - 52s 121ms/step - loss: 0.0589 - acc: 0.9793 - val_loss: 0.7033 - val_acc: 0.7615\n",
      "Epoch 7/10\n",
      "435/435 [==============================] - 51s 116ms/step - loss: 0.0293 - acc: 0.9839 - val_loss: 0.6666 - val_acc: 0.7615\n",
      "Epoch 8/10\n",
      "435/435 [==============================] - 51s 116ms/step - loss: 0.0430 - acc: 0.9839 - val_loss: 0.5363 - val_acc: 0.7798\n",
      "Epoch 9/10\n",
      "435/435 [==============================] - 50s 115ms/step - loss: 0.0181 - acc: 0.9931 - val_loss: 0.6792 - val_acc: 0.7706\n",
      "Epoch 10/10\n",
      "435/435 [==============================] - 50s 115ms/step - loss: 0.0204 - acc: 0.9931 - val_loss: 0.7325 - val_acc: 0.7706\n"
     ]
    }
   ],
   "source": [
    "cnn1 = cnn.fit(X_train,\n",
    "                    y_train,\n",
    "                    epochs=10, # 100\n",
    "                    batch_size=50, #50\n",
    "                    validation_data=(X_val, y_val))"
   ]
  },
  {
   "cell_type": "markdown",
   "metadata": {},
   "source": [
    "### Save Loaded CNN Model"
   ]
  },
  {
   "cell_type": "code",
   "execution_count": null,
   "metadata": {},
   "outputs": [],
   "source": [
    "cnn.save('cnn1.h5')"
   ]
  },
  {
   "cell_type": "markdown",
   "metadata": {},
   "source": [
    "### Load Saved CNN Model"
   ]
  },
  {
   "cell_type": "code",
   "execution_count": 42,
   "metadata": {},
   "outputs": [
    {
     "name": "stdout",
     "output_type": "stream",
     "text": [
      "_________________________________________________________________\n",
      "Layer (type)                 Output Shape              Param #   \n",
      "=================================================================\n",
      "conv2d_1 (Conv2D)            (None, 224, 224, 64)      256       \n",
      "_________________________________________________________________\n",
      "batch_normalization_1 (Batch (None, 224, 224, 64)      256       \n",
      "_________________________________________________________________\n",
      "max_pooling2d_1 (MaxPooling2 (None, 112, 112, 64)      0         \n",
      "_________________________________________________________________\n",
      "conv2d_2 (Conv2D)            (None, 110, 110, 64)      36928     \n",
      "_________________________________________________________________\n",
      "batch_normalization_2 (Batch (None, 110, 110, 64)      256       \n",
      "_________________________________________________________________\n",
      "max_pooling2d_2 (MaxPooling2 (None, 55, 55, 64)        0         \n",
      "_________________________________________________________________\n",
      "conv2d_3 (Conv2D)            (None, 53, 53, 32)        18464     \n",
      "_________________________________________________________________\n",
      "batch_normalization_3 (Batch (None, 53, 53, 32)        128       \n",
      "_________________________________________________________________\n",
      "max_pooling2d_3 (MaxPooling2 (None, 26, 26, 32)        0         \n",
      "_________________________________________________________________\n",
      "flatten_1 (Flatten)          (None, 21632)             0         \n",
      "_________________________________________________________________\n",
      "dense_1 (Dense)              (None, 32)                692256    \n",
      "_________________________________________________________________\n",
      "dense_2 (Dense)              (None, 1)                 33        \n",
      "=================================================================\n",
      "Total params: 748,577\n",
      "Trainable params: 748,257\n",
      "Non-trainable params: 320\n",
      "_________________________________________________________________\n"
     ]
    }
   ],
   "source": [
    "from numpy import loadtxt\n",
    "from keras.models import load_model\n",
    "\n",
    "\n",
    "cnn.load_weights('/Users/j.markdaniels/Desktop/flatiron_final_project/cnn_first_draft.h5')\n",
    "\n",
    "model = load_model('/Users/j.markdaniels/Desktop/flatiron_final_project/cnn_first_draft.h5')\n",
    "\n",
    "cnn.summary()\n",
    "\n"
   ]
  },
  {
   "cell_type": "markdown",
   "metadata": {},
   "source": [
    "#### Summary"
   ]
  },
  {
   "cell_type": "code",
   "execution_count": null,
   "metadata": {},
   "outputs": [],
   "source": [
    "### Which should I keep? ###\n",
    "print(cnn.summary())\n"
   ]
  },
  {
   "cell_type": "markdown",
   "metadata": {},
   "source": [
    "### Evaluate CNN Model Performance"
   ]
  },
  {
   "cell_type": "markdown",
   "metadata": {},
   "source": [
    "Build a function and export to .py to call these in to avoid conflicts"
   ]
  },
  {
   "cell_type": "code",
   "execution_count": null,
   "metadata": {},
   "outputs": [],
   "source": [
    "from keras.callbacks import History \n",
    "history = History()"
   ]
  },
  {
   "cell_type": "code",
   "execution_count": null,
   "metadata": {},
   "outputs": [],
   "source": [
    "hist_cnn = cnn1.history\n",
    "loss_values = hist_cnn['loss']\n",
    "val_loss_values = hist_cnn['val_loss']\n",
    "acc_values = hist_cnn['acc'] \n",
    "val_acc_values = hist_cnn['val_acc']\n",
    "\n",
    "\n",
    "epochs = range(1, len(loss_values) + 1)\n",
    "\n",
    "plt.figure(figsize=(15,4))\n",
    "plt.subplot(121)\n",
    "plt.plot(epochs, loss_values, 'g.', label='Training loss')\n",
    "plt.plot(epochs, val_loss_values, 'g', label='Validation loss')\n",
    "\n",
    "plt.title('Training and validation loss')\n",
    "plt.xlabel('Epochs')\n",
    "plt.ylabel('Loss')\n",
    "plt.legend()\n",
    "\n",
    "plt.subplot(122)\n",
    "plt.plot(epochs, acc_values, 'r.', label='Training acc')\n",
    "plt.plot(epochs, val_acc_values, 'r', label='Validation acc')\n",
    "plt.title('Training and validation accuracy')\n",
    "plt.xlabel('Epochs')\n",
    "plt.ylabel('Accuracy')\n",
    "plt.legend()\n",
    "plt.show()"
   ]
  },
  {
   "cell_type": "markdown",
   "metadata": {},
   "source": [
    "#### Accuracy"
   ]
  },
  {
   "cell_type": "markdown",
   "metadata": {},
   "source": [
    "Build a function and export to .py to call these in to avoid conflicts"
   ]
  },
  {
   "cell_type": "code",
   "execution_count": null,
   "metadata": {},
   "outputs": [],
   "source": []
  },
  {
   "cell_type": "code",
   "execution_count": 18,
   "metadata": {},
   "outputs": [
    {
     "name": "stdout",
     "output_type": "stream",
     "text": [
      "435/435 [==============================] - 20s 47ms/step\n",
      "136/136 [==============================] - 6s 46ms/step\n",
      "[0.049299614491133854, 0.9908045977011494] [0.7055814003243166, 0.75]\n"
     ]
    }
   ],
   "source": [
    "results_train = cnn.evaluate(X_train, y_train)\n",
    "results_test = cnn.evaluate(X_test, y_test)\n",
    "print(results_train, results_test)"
   ]
  },
  {
   "cell_type": "markdown",
   "metadata": {},
   "source": [
    "#### Confusion Matrix"
   ]
  },
  {
   "cell_type": "code",
   "execution_count": 19,
   "metadata": {},
   "outputs": [],
   "source": [
    "import itertools\n",
    "\n",
    "def plot_confusion_matrix(cm, classes,\n",
    "                          normalize=False,\n",
    "                          title='Confusion matrix',\n",
    "                          cmap=plt.cm.Blues):\n",
    "    \"\"\"\n",
    "    This function prints and plots the confusion matrix.\n",
    "    Normalization can be applied by setting `normalize=True`.\n",
    "    \"\"\"\n",
    "    if normalize:\n",
    "        cm = cm.astype('float') / cm.sum(axis=1)[:, np.newaxis]\n",
    "        print(\"Normalized confusion matrix\")\n",
    "    else:\n",
    "        print('Confusion matrix, without normalization')\n",
    "\n",
    "    print(cm)\n",
    "\n",
    "    plt.imshow(cm, interpolation='nearest', cmap=cmap)\n",
    "    plt.title(title)\n",
    "    plt.colorbar()\n",
    "    tick_marks = np.arange(len(classes))\n",
    "    plt.xticks(tick_marks, classes, rotation=45)\n",
    "    plt.yticks(tick_marks, classes)\n",
    "\n",
    "    fmt = '.2f' if normalize else 'd'\n",
    "    thresh = cm.max() / 2.\n",
    "    for i, j in itertools.product(range(cm.shape[0]), range(cm.shape[1])):\n",
    "        plt.text(j, i, format(cm[i, j], fmt),\n",
    "                 horizontalalignment=\"center\",\n",
    "                 color=\"white\" if cm[i, j] > thresh else \"black\")\n",
    "\n",
    "    plt.ylabel('True label')\n",
    "    plt.xlabel('Predicted label')\n",
    "    plt.tight_layout()"
   ]
  },
  {
   "cell_type": "code",
   "execution_count": 16,
   "metadata": {},
   "outputs": [],
   "source": [
    "predictions_transfer = cnn.predict(X_test)\n",
    "predictions_transfer = np.around(predictions_transfer)"
   ]
  },
  {
   "cell_type": "code",
   "execution_count": 20,
   "metadata": {},
   "outputs": [
    {
     "name": "stdout",
     "output_type": "stream",
     "text": [
      "Confusion matrix, without normalization\n",
      "[[51 15]\n",
      " [19 51]]\n"
     ]
    },
    {
     "data": {
      "image/png": "[encoded data removed]",
      "text/plain": [
       "<Figure size 432x288 with 2 Axes>"
      ]
     },
     "metadata": {
      "needs_background": "light"
     },
     "output_type": "display_data"
    }
   ],
   "source": [
    "plt.figure()\n",
    "plot_confusion_matrix(confusion_matrix(y_test, predictions_transfer), classes=['bobcat', 'not bobcat'], normalize=False,\n",
    "                      title='Confusion matrix - ImagenetV3')"
   ]
  },
  {
   "cell_type": "markdown",
   "metadata": {},
   "source": [
    "#### F1 Score"
   ]
  },
  {
   "cell_type": "code",
   "execution_count": 21,
   "metadata": {},
   "outputs": [
    {
     "data": {
      "text/plain": [
       "0.75"
      ]
     },
     "execution_count": 21,
     "metadata": {},
     "output_type": "execute_result"
    }
   ],
   "source": [
    "f1_score(y_test, predictions_transfer)"
   ]
  },
  {
   "cell_type": "markdown",
   "metadata": {},
   "source": [
    "### ROC Graph"
   ]
  },
  {
   "cell_type": "code",
   "execution_count": 29,
   "metadata": {},
   "outputs": [
    {
     "data": {
      "image/png": "[encoded data removed]",
      "text/plain": [
       "<Figure size 432x288 with 1 Axes>"
      ]
     },
     "metadata": {
      "needs_background": "light"
     },
     "output_type": "display_data"
    }
   ],
   "source": [
    "import numpy as np\n",
    "import sklearn\n",
    "from sklearn import metrics\n",
    "from sklearn.metrics import roc_curve\n",
    "from sklearn.metrics import roc_auc_score\n",
    "\n",
    "roc_predictions_transfer = cnn.predict(X_test)\n",
    "\n",
    "fpr, tpr = roc_curve(y_test, roc_predictions_transfer)[:2]\n",
    "\n",
    "auc_cnn = roc_auc_score(y_test, roc_predictions_transfer)\n",
    "\n",
    "plt.figure()\n",
    "lw = 2\n",
    "plt.plot(fpr, tpr, color='darkorange',\n",
    "         lw=lw, label='ROC curve (area = %0.2f)' % auc_cnn)\n",
    "plt.plot([0, 1], [0, 1], color='navy', lw=lw, linestyle='--')\n",
    "plt.xlim([0.0, 1.0])\n",
    "plt.ylim([0.0, 1.05])\n",
    "plt.xlabel('False Positive Rate')\n",
    "plt.ylabel('True Positive Rate')\n",
    "plt.title('Receiver operating characteristic example')\n",
    "plt.legend(loc=\"lower right\")\n",
    "plt.show()"
   ]
  },
  {
   "cell_type": "code",
   "execution_count": 39,
   "metadata": {},
   "outputs": [
    {
     "data": {
      "text/plain": [
       "(50,)"
      ]
     },
     "execution_count": 39,
     "metadata": {},
     "output_type": "execute_result"
    }
   ],
   "source": [
    "fpr.shape"
   ]
  },
  {
   "cell_type": "code",
   "execution_count": 40,
   "metadata": {},
   "outputs": [
    {
     "data": {
      "text/plain": [
       "(50,)"
      ]
     },
     "execution_count": 40,
     "metadata": {},
     "output_type": "execute_result"
    }
   ],
   "source": [
    "tpr.shape"
   ]
  },
  {
   "cell_type": "code",
   "execution_count": 41,
   "metadata": {},
   "outputs": [
    {
     "data": {
      "text/plain": [
       "array([[1.55568123e-05],\n",
       "       [2.03122497e-02],\n",
       "       [6.59058988e-01],\n",
       "       [1.13725662e-03],\n",
       "       [8.31411004e-01],\n",
       "       [9.27741230e-02],\n",
       "       [6.86174989e-01],\n",
       "       [4.37064469e-02],\n",
       "       [5.62494695e-02],\n",
       "       [1.63642317e-01],\n",
       "       [9.98306394e-01],\n",
       "       [3.59318852e-02],\n",
       "       [9.75096226e-03],\n",
       "       [9.94756341e-01],\n",
       "       [1.05382234e-01],\n",
       "       [2.61190534e-03],\n",
       "       [2.74300575e-04],\n",
       "       [1.18685961e-02],\n",
       "       [5.95617652e-01],\n",
       "       [9.99972165e-01],\n",
       "       [5.62494695e-02],\n",
       "       [9.23847675e-01],\n",
       "       [3.52249622e-01],\n",
       "       [8.64681721e-01],\n",
       "       [9.92258310e-01],\n",
       "       [8.93594146e-01],\n",
       "       [9.97466326e-01],\n",
       "       [1.05864197e-01],\n",
       "       [9.99694765e-01],\n",
       "       [6.61611557e-06],\n",
       "       [6.07967377e-05],\n",
       "       [9.24252272e-02],\n",
       "       [6.16405606e-01],\n",
       "       [1.63380027e-01],\n",
       "       [9.99673724e-01],\n",
       "       [1.55037284e-01],\n",
       "       [2.26279497e-02],\n",
       "       [6.96355343e-01],\n",
       "       [9.28938389e-04],\n",
       "       [7.17192888e-03],\n",
       "       [9.99924302e-01],\n",
       "       [9.63983834e-01],\n",
       "       [5.64372480e-01],\n",
       "       [1.25467777e-05],\n",
       "       [9.99353051e-01],\n",
       "       [1.88993901e-01],\n",
       "       [9.99900401e-01],\n",
       "       [9.99756336e-01],\n",
       "       [8.83558989e-02],\n",
       "       [9.27741230e-02],\n",
       "       [1.68323517e-04],\n",
       "       [9.99790192e-01],\n",
       "       [2.36129910e-01],\n",
       "       [9.99077678e-01],\n",
       "       [1.37145221e-02],\n",
       "       [1.21659040e-03],\n",
       "       [4.42448258e-03],\n",
       "       [1.22539192e-01],\n",
       "       [1.76746845e-02],\n",
       "       [8.75769377e-01],\n",
       "       [9.99663472e-01],\n",
       "       [9.42817926e-02],\n",
       "       [3.37958336e-05],\n",
       "       [6.04250133e-02],\n",
       "       [3.00924778e-01],\n",
       "       [7.31107593e-02],\n",
       "       [6.44117594e-04],\n",
       "       [6.49690628e-06],\n",
       "       [5.36668241e-01],\n",
       "       [9.99963880e-01],\n",
       "       [9.88552213e-01],\n",
       "       [9.99968708e-01],\n",
       "       [4.47538555e-01],\n",
       "       [9.99917150e-01],\n",
       "       [9.98344123e-01],\n",
       "       [9.99890745e-01],\n",
       "       [9.96716499e-01],\n",
       "       [7.51289904e-01],\n",
       "       [9.98640418e-01],\n",
       "       [1.71148479e-02],\n",
       "       [3.68761599e-01],\n",
       "       [9.90239263e-01],\n",
       "       [9.18053865e-01],\n",
       "       [9.42817926e-02],\n",
       "       [9.71749544e-01],\n",
       "       [1.65241957e-03],\n",
       "       [9.57447708e-01],\n",
       "       [3.81958067e-01],\n",
       "       [9.99413371e-01],\n",
       "       [1.03653073e-02],\n",
       "       [5.06639481e-06],\n",
       "       [1.73611879e-01],\n",
       "       [9.97442603e-01],\n",
       "       [4.06399131e-01],\n",
       "       [7.30188072e-01],\n",
       "       [9.82671857e-01],\n",
       "       [9.99315321e-01],\n",
       "       [2.68220901e-06],\n",
       "       [6.02129281e-01],\n",
       "       [9.87652302e-01],\n",
       "       [4.07041341e-01],\n",
       "       [9.97232318e-01],\n",
       "       [9.99996901e-01],\n",
       "       [1.18435383e-01],\n",
       "       [1.70102417e-01],\n",
       "       [6.24518692e-01],\n",
       "       [9.77112770e-01],\n",
       "       [8.31167102e-01],\n",
       "       [1.19042397e-03],\n",
       "       [9.97617006e-01],\n",
       "       [9.66142297e-01],\n",
       "       [9.99377489e-01],\n",
       "       [3.17055464e-01],\n",
       "       [3.57729197e-03],\n",
       "       [9.97224808e-01],\n",
       "       [9.99999821e-01],\n",
       "       [9.99990940e-01],\n",
       "       [1.28066540e-03],\n",
       "       [2.73704827e-01],\n",
       "       [1.09642148e-02],\n",
       "       [9.99555051e-01],\n",
       "       [5.47931492e-02],\n",
       "       [2.26714909e-02],\n",
       "       [9.43879902e-01],\n",
       "       [9.99995351e-01],\n",
       "       [9.98120904e-01],\n",
       "       [9.99824762e-01],\n",
       "       [2.89052725e-04],\n",
       "       [4.26513493e-01],\n",
       "       [3.09490383e-01],\n",
       "       [9.99954402e-01],\n",
       "       [1.26716495e-03],\n",
       "       [9.99962449e-01],\n",
       "       [1.73463821e-02],\n",
       "       [1.63567066e-03],\n",
       "       [6.96355343e-01]], dtype=float32)"
      ]
     },
     "execution_count": 41,
     "metadata": {},
     "output_type": "execute_result"
    }
   ],
   "source": [
    "roc_predictions_transfer"
   ]
  },
  {
   "cell_type": "code",
   "execution_count": null,
   "metadata": {},
   "outputs": [],
   "source": []
  },
  {
   "cell_type": "code",
   "execution_count": null,
   "metadata": {},
   "outputs": [],
   "source": []
  },
  {
   "cell_type": "code",
   "execution_count": null,
   "metadata": {},
   "outputs": [],
   "source": []
  },
  {
   "cell_type": "markdown",
   "metadata": {},
   "source": [
    "## Convolutional Neural Network with Inception (CNN-i)"
   ]
  },
  {
   "cell_type": "markdown",
   "metadata": {},
   "source": [
    "### Create Model"
   ]
  },
  {
   "cell_type": "code",
   "execution_count": 30,
   "metadata": {},
   "outputs": [],
   "source": [
    "imagenet=inception_v3.InceptionV3(weights='imagenet',include_top=False)\n",
    "imagenet_new=imagenet.output\n",
    "cnn_i = models.Sequential()\n",
    "cnn_i.add(imagenet)\n",
    "cnn_i.add(GlobalAveragePooling2D())\n",
    "cnn_i.add(Dense(1024,activation='relu'))\n",
    "cnn_i.add(Dense(1024,activation='relu')) #dense layer 2\n",
    "cnn_i.add(Dense(512,activation='relu')) #dense layer 3\n",
    "cnn_i.add(Dense(1,activation='sigmoid')) #final layer with sigmoid activation"
   ]
  },
  {
   "cell_type": "code",
   "execution_count": 31,
   "metadata": {},
   "outputs": [
    {
     "name": "stdout",
     "output_type": "stream",
     "text": [
      "0 input_1 False\n",
      "1 conv2d_4 True\n",
      "2 batch_normalization_4 True\n",
      "3 activation_1 True\n",
      "4 conv2d_5 True\n",
      "5 batch_normalization_5 True\n",
      "6 activation_2 True\n",
      "7 conv2d_6 True\n",
      "8 batch_normalization_6 True\n",
      "9 activation_3 True\n",
      "10 max_pooling2d_4 True\n",
      "11 conv2d_7 True\n",
      "12 batch_normalization_7 True\n",
      "13 activation_4 True\n",
      "14 conv2d_8 True\n",
      "15 batch_normalization_8 True\n",
      "16 activation_5 True\n",
      "17 max_pooling2d_5 True\n",
      "18 conv2d_12 True\n",
      "19 batch_normalization_12 True\n",
      "20 activation_9 True\n",
      "21 conv2d_10 True\n",
      "22 conv2d_13 True\n",
      "23 batch_normalization_10 True\n",
      "24 batch_normalization_13 True\n",
      "25 activation_7 True\n",
      "26 activation_10 True\n",
      "27 average_pooling2d_1 True\n",
      "28 conv2d_9 True\n",
      "29 conv2d_11 True\n",
      "30 conv2d_14 True\n",
      "31 conv2d_15 True\n",
      "32 batch_normalization_9 True\n",
      "33 batch_normalization_11 True\n",
      "34 batch_normalization_14 True\n",
      "35 batch_normalization_15 True\n",
      "36 activation_6 True\n",
      "37 activation_8 True\n",
      "38 activation_11 True\n",
      "39 activation_12 True\n",
      "40 mixed0 True\n",
      "41 conv2d_19 True\n",
      "42 batch_normalization_19 True\n",
      "43 activation_16 True\n",
      "44 conv2d_17 True\n",
      "45 conv2d_20 True\n",
      "46 batch_normalization_17 True\n",
      "47 batch_normalization_20 True\n",
      "48 activation_14 True\n",
      "49 activation_17 True\n",
      "50 average_pooling2d_2 True\n",
      "51 conv2d_16 True\n",
      "52 conv2d_18 True\n",
      "53 conv2d_21 True\n",
      "54 conv2d_22 True\n",
      "55 batch_normalization_16 True\n",
      "56 batch_normalization_18 True\n",
      "57 batch_normalization_21 True\n",
      "58 batch_normalization_22 True\n",
      "59 activation_13 True\n",
      "60 activation_15 True\n",
      "61 activation_18 True\n",
      "62 activation_19 True\n",
      "63 mixed1 True\n",
      "64 conv2d_26 True\n",
      "65 batch_normalization_26 True\n",
      "66 activation_23 True\n",
      "67 conv2d_24 True\n",
      "68 conv2d_27 True\n",
      "69 batch_normalization_24 True\n",
      "70 batch_normalization_27 True\n",
      "71 activation_21 True\n",
      "72 activation_24 True\n",
      "73 average_pooling2d_3 True\n",
      "74 conv2d_23 True\n",
      "75 conv2d_25 True\n",
      "76 conv2d_28 True\n",
      "77 conv2d_29 True\n",
      "78 batch_normalization_23 True\n",
      "79 batch_normalization_25 True\n",
      "80 batch_normalization_28 True\n",
      "81 batch_normalization_29 True\n",
      "82 activation_20 True\n",
      "83 activation_22 True\n",
      "84 activation_25 True\n",
      "85 activation_26 True\n",
      "86 mixed2 True\n",
      "87 conv2d_31 True\n",
      "88 batch_normalization_31 True\n",
      "89 activation_28 True\n",
      "90 conv2d_32 True\n",
      "91 batch_normalization_32 True\n",
      "92 activation_29 True\n",
      "93 conv2d_30 True\n",
      "94 conv2d_33 True\n",
      "95 batch_normalization_30 True\n",
      "96 batch_normalization_33 True\n",
      "97 activation_27 True\n",
      "98 activation_30 True\n",
      "99 max_pooling2d_6 True\n",
      "100 mixed3 True\n",
      "101 conv2d_38 True\n",
      "102 batch_normalization_38 True\n",
      "103 activation_35 True\n",
      "104 conv2d_39 True\n",
      "105 batch_normalization_39 True\n",
      "106 activation_36 True\n",
      "107 conv2d_35 True\n",
      "108 conv2d_40 True\n",
      "109 batch_normalization_35 True\n",
      "110 batch_normalization_40 True\n",
      "111 activation_32 True\n",
      "112 activation_37 True\n",
      "113 conv2d_36 True\n",
      "114 conv2d_41 True\n",
      "115 batch_normalization_36 True\n",
      "116 batch_normalization_41 True\n",
      "117 activation_33 True\n",
      "118 activation_38 True\n",
      "119 average_pooling2d_4 True\n",
      "120 conv2d_34 True\n",
      "121 conv2d_37 True\n",
      "122 conv2d_42 True\n",
      "123 conv2d_43 True\n",
      "124 batch_normalization_34 True\n",
      "125 batch_normalization_37 True\n",
      "126 batch_normalization_42 True\n",
      "127 batch_normalization_43 True\n",
      "128 activation_31 True\n",
      "129 activation_34 True\n",
      "130 activation_39 True\n",
      "131 activation_40 True\n",
      "132 mixed4 True\n",
      "133 conv2d_48 True\n",
      "134 batch_normalization_48 True\n",
      "135 activation_45 True\n",
      "136 conv2d_49 True\n",
      "137 batch_normalization_49 True\n",
      "138 activation_46 True\n",
      "139 conv2d_45 True\n",
      "140 conv2d_50 True\n",
      "141 batch_normalization_45 True\n",
      "142 batch_normalization_50 True\n",
      "143 activation_42 True\n",
      "144 activation_47 True\n",
      "145 conv2d_46 True\n",
      "146 conv2d_51 True\n",
      "147 batch_normalization_46 True\n",
      "148 batch_normalization_51 True\n",
      "149 activation_43 True\n",
      "150 activation_48 True\n",
      "151 average_pooling2d_5 True\n",
      "152 conv2d_44 True\n",
      "153 conv2d_47 True\n",
      "154 conv2d_52 True\n",
      "155 conv2d_53 True\n",
      "156 batch_normalization_44 True\n",
      "157 batch_normalization_47 True\n",
      "158 batch_normalization_52 True\n",
      "159 batch_normalization_53 True\n",
      "160 activation_41 True\n",
      "161 activation_44 True\n",
      "162 activation_49 True\n",
      "163 activation_50 True\n",
      "164 mixed5 True\n",
      "165 conv2d_58 True\n",
      "166 batch_normalization_58 True\n",
      "167 activation_55 True\n",
      "168 conv2d_59 True\n",
      "169 batch_normalization_59 True\n",
      "170 activation_56 True\n",
      "171 conv2d_55 True\n",
      "172 conv2d_60 True\n",
      "173 batch_normalization_55 True\n",
      "174 batch_normalization_60 True\n",
      "175 activation_52 True\n",
      "176 activation_57 True\n",
      "177 conv2d_56 True\n",
      "178 conv2d_61 True\n",
      "179 batch_normalization_56 True\n",
      "180 batch_normalization_61 True\n",
      "181 activation_53 True\n",
      "182 activation_58 True\n",
      "183 average_pooling2d_6 True\n",
      "184 conv2d_54 True\n",
      "185 conv2d_57 True\n",
      "186 conv2d_62 True\n",
      "187 conv2d_63 True\n",
      "188 batch_normalization_54 True\n",
      "189 batch_normalization_57 True\n",
      "190 batch_normalization_62 True\n",
      "191 batch_normalization_63 True\n",
      "192 activation_51 True\n",
      "193 activation_54 True\n",
      "194 activation_59 True\n",
      "195 activation_60 True\n",
      "196 mixed6 True\n",
      "197 conv2d_68 True\n",
      "198 batch_normalization_68 True\n",
      "199 activation_65 True\n",
      "200 conv2d_69 True\n",
      "201 batch_normalization_69 True\n",
      "202 activation_66 True\n",
      "203 conv2d_65 True\n",
      "204 conv2d_70 True\n",
      "205 batch_normalization_65 True\n",
      "206 batch_normalization_70 True\n",
      "207 activation_62 True\n",
      "208 activation_67 True\n",
      "209 conv2d_66 True\n",
      "210 conv2d_71 True\n",
      "211 batch_normalization_66 True\n",
      "212 batch_normalization_71 True\n",
      "213 activation_63 True\n",
      "214 activation_68 True\n",
      "215 average_pooling2d_7 True\n",
      "216 conv2d_64 True\n",
      "217 conv2d_67 True\n",
      "218 conv2d_72 True\n",
      "219 conv2d_73 True\n",
      "220 batch_normalization_64 True\n",
      "221 batch_normalization_67 True\n",
      "222 batch_normalization_72 True\n",
      "223 batch_normalization_73 True\n",
      "224 activation_61 True\n",
      "225 activation_64 True\n",
      "226 activation_69 True\n",
      "227 activation_70 True\n",
      "228 mixed7 True\n",
      "229 conv2d_76 True\n",
      "230 batch_normalization_76 True\n",
      "231 activation_73 True\n",
      "232 conv2d_77 True\n",
      "233 batch_normalization_77 True\n",
      "234 activation_74 True\n",
      "235 conv2d_74 True\n",
      "236 conv2d_78 True\n",
      "237 batch_normalization_74 True\n",
      "238 batch_normalization_78 True\n",
      "239 activation_71 True\n",
      "240 activation_75 True\n",
      "241 conv2d_75 True\n",
      "242 conv2d_79 True\n",
      "243 batch_normalization_75 True\n",
      "244 batch_normalization_79 True\n",
      "245 activation_72 True\n",
      "246 activation_76 True\n",
      "247 max_pooling2d_7 True\n",
      "248 mixed8 True\n",
      "249 conv2d_84 True\n",
      "250 batch_normalization_84 True\n",
      "251 activation_81 True\n",
      "252 conv2d_81 True\n",
      "253 conv2d_85 True\n",
      "254 batch_normalization_81 True\n",
      "255 batch_normalization_85 True\n",
      "256 activation_78 True\n",
      "257 activation_82 True\n",
      "258 conv2d_82 True\n",
      "259 conv2d_83 True\n",
      "260 conv2d_86 True\n",
      "261 conv2d_87 True\n",
      "262 average_pooling2d_8 True\n",
      "263 conv2d_80 True\n",
      "264 batch_normalization_82 True\n",
      "265 batch_normalization_83 True\n",
      "266 batch_normalization_86 True\n",
      "267 batch_normalization_87 True\n",
      "268 conv2d_88 True\n",
      "269 batch_normalization_80 True\n",
      "270 activation_79 True\n",
      "271 activation_80 True\n",
      "272 activation_83 True\n",
      "273 activation_84 True\n",
      "274 batch_normalization_88 True\n",
      "275 activation_77 True\n",
      "276 mixed9_0 True\n",
      "277 concatenate_1 True\n",
      "278 activation_85 True\n",
      "279 mixed9 True\n",
      "280 conv2d_93 True\n",
      "281 batch_normalization_93 True\n",
      "282 activation_90 True\n",
      "283 conv2d_90 True\n",
      "284 conv2d_94 True\n",
      "285 batch_normalization_90 True\n",
      "286 batch_normalization_94 True\n",
      "287 activation_87 True\n",
      "288 activation_91 True\n",
      "289 conv2d_91 True\n",
      "290 conv2d_92 True\n",
      "291 conv2d_95 True\n",
      "292 conv2d_96 True\n",
      "293 average_pooling2d_9 True\n",
      "294 conv2d_89 True\n",
      "295 batch_normalization_91 True\n",
      "296 batch_normalization_92 True\n",
      "297 batch_normalization_95 True\n",
      "298 batch_normalization_96 True\n",
      "299 conv2d_97 True\n",
      "300 batch_normalization_89 True\n",
      "301 activation_88 True\n",
      "302 activation_89 True\n",
      "303 activation_92 True\n",
      "304 activation_93 True\n",
      "305 batch_normalization_97 True\n",
      "306 activation_86 True\n",
      "307 mixed9_1 True\n",
      "308 concatenate_2 True\n",
      "309 activation_94 True\n",
      "310 mixed10 True\n"
     ]
    }
   ],
   "source": [
    "for i,layer in enumerate(imagenet.layers):\n",
    "  print(i,layer.name, layer.trainable)"
   ]
  },
  {
   "cell_type": "code",
   "execution_count": 32,
   "metadata": {},
   "outputs": [
    {
     "name": "stdout",
     "output_type": "stream",
     "text": [
      "0 inception_v3 True\n",
      "1 global_average_pooling2d_1 True\n",
      "2 dense_3 True\n",
      "3 dense_4 True\n",
      "4 dense_5 True\n",
      "5 dense_6 True\n"
     ]
    }
   ],
   "source": [
    "for i,layer in enumerate(cnn_i.layers):\n",
    "  print(i,layer.name, layer.trainable)"
   ]
  },
  {
   "cell_type": "code",
   "execution_count": 33,
   "metadata": {},
   "outputs": [],
   "source": [
    "for layer in cnn_i.layers[:1]:\n",
    "    layer.trainable=False"
   ]
  },
  {
   "cell_type": "code",
   "execution_count": 34,
   "metadata": {},
   "outputs": [
    {
     "name": "stdout",
     "output_type": "stream",
     "text": [
      "0 inception_v3 False\n",
      "1 global_average_pooling2d_1 True\n",
      "2 dense_3 True\n",
      "3 dense_4 True\n",
      "4 dense_5 True\n",
      "5 dense_6 True\n"
     ]
    }
   ],
   "source": [
    "for i,layer in enumerate(cnn_i.layers):\n",
    "  print(i,layer.name, layer.trainable)"
   ]
  },
  {
   "cell_type": "markdown",
   "metadata": {},
   "source": [
    "### Train Model"
   ]
  },
  {
   "cell_type": "code",
   "execution_count": 35,
   "metadata": {
    "scrolled": true
   },
   "outputs": [
    {
     "name": "stdout",
     "output_type": "stream",
     "text": [
      "Train on 435 samples, validate on 109 samples\n",
      "Epoch 1/10\n",
      "435/435 [==============================] - 53s 121ms/step - loss: 0.7718 - acc: 0.6046 - val_loss: 0.2616 - val_acc: 0.8899\n",
      "Epoch 2/10\n",
      "435/435 [==============================] - 38s 87ms/step - loss: 0.3097 - acc: 0.8782 - val_loss: 0.3284 - val_acc: 0.9083\n",
      "Epoch 3/10\n",
      "435/435 [==============================] - 39s 89ms/step - loss: 0.1917 - acc: 0.9057 - val_loss: 0.3892 - val_acc: 0.9541\n",
      "Epoch 4/10\n",
      "435/435 [==============================] - 39s 90ms/step - loss: 0.3819 - acc: 0.8598 - val_loss: 0.2866 - val_acc: 0.9358\n",
      "Epoch 5/10\n",
      "435/435 [==============================] - 38s 87ms/step - loss: 0.2340 - acc: 0.8828 - val_loss: 0.3331 - val_acc: 0.9083\n",
      "Epoch 6/10\n",
      "435/435 [==============================] - 38s 88ms/step - loss: 0.0985 - acc: 0.9747 - val_loss: 0.3670 - val_acc: 0.9450\n",
      "Epoch 7/10\n",
      "435/435 [==============================] - 39s 90ms/step - loss: 0.0606 - acc: 0.9724 - val_loss: 0.5353 - val_acc: 0.9541\n",
      "Epoch 8/10\n",
      "435/435 [==============================] - 38s 87ms/step - loss: 0.0809 - acc: 0.9747 - val_loss: 0.4505 - val_acc: 0.9541\n",
      "Epoch 9/10\n",
      "435/435 [==============================] - 38s 87ms/step - loss: 0.0258 - acc: 0.9885 - val_loss: 0.4508 - val_acc: 0.9450\n",
      "Epoch 10/10\n",
      "435/435 [==============================] - 38s 87ms/step - loss: 0.0335 - acc: 0.9954 - val_loss: 0.4774 - val_acc: 0.9541\n"
     ]
    }
   ],
   "source": [
    "cnn_i.compile(optimizer='Adam',loss='binary_crossentropy',metrics=['accuracy'])\n",
    "\n",
    "# step_size_train=train_generator.n//train_generator.batch_size\n",
    "cnn_i_1= cnn_i.fit(X_train,\n",
    "          y_train,\n",
    "          epochs=10, # 100\n",
    "          batch_size=50, # 50\n",
    "          validation_data=(X_val, y_val))"
   ]
  },
  {
   "cell_type": "markdown",
   "metadata": {},
   "source": [
    "### Save Loaded CNN-i Model"
   ]
  },
  {
   "cell_type": "code",
   "execution_count": null,
   "metadata": {},
   "outputs": [],
   "source": [
    "cnn_i.save('cnn_i.h5')"
   ]
  },
  {
   "cell_type": "markdown",
   "metadata": {},
   "source": [
    "### Load Saved CNN-i Model"
   ]
  },
  {
   "cell_type": "code",
   "execution_count": 46,
   "metadata": {},
   "outputs": [
    {
     "name": "stdout",
     "output_type": "stream",
     "text": [
      "_________________________________________________________________\n",
      "Layer (type)                 Output Shape              Param #   \n",
      "=================================================================\n",
      "inception_v3 (Model)         (None, None, None, 2048)  21802784  \n",
      "_________________________________________________________________\n",
      "global_average_pooling2d_1 ( (None, 2048)              0         \n",
      "_________________________________________________________________\n",
      "dense_3 (Dense)              (None, 1024)              2098176   \n",
      "_________________________________________________________________\n",
      "dense_4 (Dense)              (None, 1024)              1049600   \n",
      "_________________________________________________________________\n",
      "dense_5 (Dense)              (None, 512)               524800    \n",
      "_________________________________________________________________\n",
      "dense_6 (Dense)              (None, 1)                 513       \n",
      "=================================================================\n",
      "Total params: 25,475,873\n",
      "Trainable params: 3,673,089\n",
      "Non-trainable params: 21,802,784\n",
      "_________________________________________________________________\n"
     ]
    },
    {
     "name": "stderr",
     "output_type": "stream",
     "text": [
      "/anaconda3/lib/python3.7/site-packages/keras/engine/saving.py:327: UserWarning: Error in loading the saved optimizer state. As a result, your model is starting with a freshly initialized optimizer.\n",
      "  warnings.warn('Error in loading the saved optimizer '\n"
     ]
    }
   ],
   "source": [
    "\n",
    "from numpy import loadtxt\n",
    "from keras.models import load_model\n",
    "\n",
    "\n",
    "cnn_i.load_weights('/Users/j.markdaniels/iCloud Drive (Archive)/Desktop/Flatiron/projects/Final_Project/final_project/flatiron_final_project/cnn_i.h5')\n",
    "\n",
    "model = load_model('/Users/j.markdaniels/iCloud Drive (Archive)/Desktop/Flatiron/projects/Final_Project/final_project/flatiron_final_project/cnn_i.h5')\n",
    "\n",
    "cnn_i.summary()\n",
    "\n"
   ]
  },
  {
   "cell_type": "markdown",
   "metadata": {},
   "source": [
    "#### Summary"
   ]
  },
  {
   "cell_type": "code",
   "execution_count": null,
   "metadata": {},
   "outputs": [],
   "source": [
    "print(cnn_i.summary())"
   ]
  },
  {
   "cell_type": "markdown",
   "metadata": {},
   "source": [
    "### Evaluate CNN-i Model Performance"
   ]
  },
  {
   "cell_type": "code",
   "execution_count": null,
   "metadata": {},
   "outputs": [],
   "source": [
    "hist_cnn_i = cnn_i_1.history\n",
    "loss_values = hist_cnn_i['loss']\n",
    "val_loss_values = hist_cnn_i['val_loss']\n",
    "acc_values = hist_cnn_i['acc'] \n",
    "val_acc_values = hist_cnn_i['val_acc']\n",
    "\n",
    "\n",
    "epochs = range(1, len(loss_values) + 1)\n",
    "\n",
    "plt.figure(figsize=(15,4))\n",
    "plt.subplot(121)\n",
    "plt.plot(epochs, loss_values, 'g.', label='Training loss')\n",
    "plt.plot(epochs, val_loss_values, 'g', label='Validation loss')\n",
    "\n",
    "plt.title('Training and validation loss')\n",
    "plt.xlabel('Epochs')\n",
    "plt.ylabel('Loss')\n",
    "plt.legend()\n",
    "\n",
    "plt.subplot(122)\n",
    "plt.plot(epochs, acc_values, 'r.', label='Training acc')\n",
    "plt.plot(epochs, val_acc_values, 'r', label='Validation acc')\n",
    "plt.title('Training and validation accuracy')\n",
    "plt.xlabel('Epochs')\n",
    "plt.ylabel('Accuracy')\n",
    "plt.legend()\n",
    "plt.show()"
   ]
  },
  {
   "cell_type": "code",
   "execution_count": null,
   "metadata": {},
   "outputs": [],
   "source": [
    "# hist_cnn_i = cnn_i.history\n",
    "# loss_values = hist_cnn_i['loss']\n",
    "# val_loss_values = hist_cnn_i['val_loss']\n",
    "# acc_values = hist_cnn_i['acc'] \n",
    "# val_acc_values = hist_cnn_i['val_acc']\n",
    "\n",
    "\n",
    "# epochs = range(1, len(loss_values) + 1)\n",
    "\n",
    "# plt.figure(figsize=(15,4))\n",
    "# plt.subplot(121)\n",
    "# plt.plot(epochs, loss_values, 'g.', label='Training loss')\n",
    "# plt.plot(epochs, val_loss_values, 'g', label='Validation loss')\n",
    "\n",
    "# plt.title('Training and validation loss')\n",
    "# plt.xlabel('Epochs')\n",
    "# plt.ylabel('Loss')\n",
    "# plt.legend()\n",
    "\n",
    "# plt.subplot(122)\n",
    "# plt.plot(epochs, acc_values, 'r.', label='Training acc')\n",
    "# plt.plot(epochs, val_acc_values, 'r', label='Validation acc')\n",
    "# plt.title('Training and validation accuracy')\n",
    "# plt.xlabel('Epochs')\n",
    "# plt.ylabel('Accuracy')\n",
    "# plt.legend()\n",
    "# plt.show()"
   ]
  },
  {
   "cell_type": "markdown",
   "metadata": {},
   "source": [
    "#### Accuracy"
   ]
  },
  {
   "cell_type": "code",
   "execution_count": null,
   "metadata": {},
   "outputs": [],
   "source": [
    "results_train = cnn_i.evaluate(X_train, y_train)\n",
    "results_test = cnn_i.evaluate(X_test, y_test)\n",
    "print(results_train, results_test)"
   ]
  },
  {
   "cell_type": "markdown",
   "metadata": {},
   "source": [
    "#### Confusion Matrix"
   ]
  },
  {
   "cell_type": "code",
   "execution_count": null,
   "metadata": {},
   "outputs": [],
   "source": [
    "predictions_transfer_cnn_i = cnn_i.predict(X_test)\n",
    "predictions_transfer_cnn_i = np.around(predictions_transfer)"
   ]
  },
  {
   "cell_type": "code",
   "execution_count": null,
   "metadata": {},
   "outputs": [],
   "source": [
    "plt.figure()\n",
    "plot_confusion_matrix(confusion_matrix(y_test, predictions_transfer_cnn_i), classes=['bobcat', 'not bobcat'], normalize=False,\n",
    "                      title='Confusion matrix - ImagenetV3')"
   ]
  },
  {
   "cell_type": "markdown",
   "metadata": {},
   "source": [
    "#### F1 Score"
   ]
  },
  {
   "cell_type": "code",
   "execution_count": null,
   "metadata": {},
   "outputs": [],
   "source": [
    "predictions_transfer_cnn_i = cnn_i.predict(X_test)\n",
    "predictions_transfer_cnn_i = np.around(predictions_transfer)"
   ]
  },
  {
   "cell_type": "code",
   "execution_count": null,
   "metadata": {},
   "outputs": [],
   "source": [
    "f1_score(y_test, predictions_transfer_cnn_i)"
   ]
  },
  {
   "cell_type": "code",
   "execution_count": null,
   "metadata": {},
   "outputs": [],
   "source": []
  },
  {
   "cell_type": "code",
   "execution_count": null,
   "metadata": {},
   "outputs": [],
   "source": []
  },
  {
   "cell_type": "markdown",
   "metadata": {},
   "source": [
    "#### ROC Graph"
   ]
  },
  {
   "cell_type": "code",
   "execution_count": 36,
   "metadata": {},
   "outputs": [
    {
     "data": {
      "image/png": "[encoded data removed]",
      "text/plain": [
       "<Figure size 432x288 with 1 Axes>"
      ]
     },
     "metadata": {
      "needs_background": "light"
     },
     "output_type": "display_data"
    }
   ],
   "source": [
    "import numpy as np\n",
    "import sklearn\n",
    "from sklearn import metrics\n",
    "from sklearn.metrics import roc_curve\n",
    "from sklearn.metrics import roc_auc_score\n",
    "\n",
    "roc_predictions_transfer = cnn.predict(X_test)\n",
    "\n",
    "fpr, tpr = roc_curve(y_test, roc_predictions_transfer)[:2]\n",
    "\n",
    "auc_cnn_i = roc_auc_score(y_test, roc_predictions_transfer)\n",
    "\n",
    "plt.figure()\n",
    "lw = 2\n",
    "plt.plot(fpr, tpr, color='darkorange',\n",
    "         lw=lw, label='ROC curve (area = %0.2f)' % auc_cnn)\n",
    "plt.plot([0, 1], [0, 1], color='navy', lw=lw, linestyle='--')\n",
    "plt.xlim([0.0, 1.0])\n",
    "plt.ylim([0.0, 1.05])\n",
    "plt.xlabel('False Positive Rate')\n",
    "plt.ylabel('True Positive Rate')\n",
    "plt.title('Receiver operating characteristic example')\n",
    "plt.legend(loc=\"lower right\")\n",
    "plt.show()"
   ]
  },
  {
   "cell_type": "code",
   "execution_count": null,
   "metadata": {},
   "outputs": [],
   "source": []
  },
  {
   "cell_type": "markdown",
   "metadata": {},
   "source": [
    "# 20-class Wildlife Classification"
   ]
  },
  {
   "cell_type": "markdown",
   "metadata": {},
   "source": [
    "## Import Libraries for Multiclass CNN with Inception"
   ]
  },
  {
   "cell_type": "code",
   "execution_count": 68,
   "metadata": {},
   "outputs": [],
   "source": [
    "import matplotlib.pyplot as plt\n",
    "import numpy as np\n",
    "import os, shutil\n",
    "import os\n",
    "import numpy as np\n",
    "import pandas as pd\n",
    "import itertools\n",
    "import seaborn as sns\n",
    "import functools\n",
    "\n",
    "from keras import models\n",
    "from keras import layers\n",
    "from keras.models import load_model\n",
    "from keras.preprocessing.image import ImageDataGenerator, array_to_img, img_to_array, load_img\n",
    "from sklearn.metrics import confusion_matrix, f1_score\n",
    "from sklearn.model_selection import train_test_split\n",
    "from shutil import copy2\n",
    "\n",
    "from keras.applications import inception_v3\n",
    "from keras.layers import Dense,GlobalAveragePooling2D\n",
    "from sklearn.metrics import confusion_matrix, f1_score\n",
    "from keras.models import Model\n",
    "from sklearn.model_selection import train_test_split\n",
    "from keras.metrics import top_k_categorical_accuracy\n",
    "\n",
    "np.random.seed(123)"
   ]
  },
  {
   "cell_type": "markdown",
   "metadata": {},
   "source": [
    "## Prepare Data"
   ]
  },
  {
   "cell_type": "markdown",
   "metadata": {},
   "source": [
    "### Import, Resize, and Rescale Images"
   ]
  },
  {
   "cell_type": "code",
   "execution_count": 69,
   "metadata": {},
   "outputs": [
    {
     "name": "stdout",
     "output_type": "stream",
     "text": [
      "Found 2776 images belonging to 20 classes.\n",
      "Found 11179 images belonging to 20 classes.\n"
     ]
    }
   ],
   "source": [
    "multi_data_te = ImageDataGenerator(rescale=1./255).flow_from_directory( \n",
    "        '/Users/j.markdaniels/Desktop/Data/multiclass/test/', \n",
    "        target_size=(224, 224), \n",
    "        batch_size = 2776, \n",
    "        class_mode='categorical',\n",
    "        seed = 123)\n",
    "\n",
    "multi_data_tr = ImageDataGenerator(rescale=1./255).flow_from_directory( \n",
    "        '/Users/j.markdaniels/Desktop/Data/multiclass/train/', \n",
    "        target_size=(224, 224), \n",
    "        batch_size = 340, \n",
    "        class_mode='categorical',\n",
    "        seed = 123) "
   ]
  },
  {
   "cell_type": "code",
   "execution_count": 70,
   "metadata": {},
   "outputs": [],
   "source": [
    "def imagenlabel_gen_multi(test_dir, train_dir, images=None, labels=None):\n",
    "    # Generate and resize images\n",
    "    multi_data_te = ImageDataGenerator(rescale=1./255).flow_from_directory( \n",
    "        '/Users/j.markdaniels/Desktop/Data/multiclass/test/', \n",
    "        target_size=(224, 224), \n",
    "        batch_size = 2776, \n",
    "        class_mode='categorical',\n",
    "        seed = 123)\n",
    "    multi_data_tr = ImageDataGenerator(rescale=1./255).flow_from_directory( \n",
    "        '/Users/j.markdaniels/Desktop/Data/multiclass/train/', \n",
    "        target_size=(224, 224), \n",
    "        batch_size = 340, \n",
    "        class_mode='categorical',\n",
    "        seed = 123) \n",
    "    \n",
    "    # Split images and labels into arrays\n",
    "    multi_images_te, multi_labels_te = next(multi_data_te)\n",
    "    multi_images_tr, multi_labels_tr = next(multi_data_tr)\n",
    "    \n",
    "    # Final images and labels\n",
    "    multi_images = np.concatenate((multi_images_tr, multi_images_te))\n",
    "    multi_labels = np.concatenate((multi_labels_tr[:,0], multi_labels_te[:,0]))\n",
    "    \n",
    "    return(multi_images_te, multi_labels_te,multi_images_tr, multi_labels_tr, multi_images, multi_labels)"
   ]
  },
  {
   "cell_type": "markdown",
   "metadata": {},
   "source": [
    "### Split Images and Labels into Arrays"
   ]
  },
  {
   "cell_type": "code",
   "execution_count": 71,
   "metadata": {},
   "outputs": [],
   "source": [
    "# multi_images_tr, multi_labels_tr = next(multi_data_tr)"
   ]
  },
  {
   "cell_type": "code",
   "execution_count": 72,
   "metadata": {},
   "outputs": [],
   "source": [
    "# multi_images_te, multi_labels_te = next(multi_data_te)"
   ]
  },
  {
   "cell_type": "code",
   "execution_count": 73,
   "metadata": {},
   "outputs": [],
   "source": [
    "multi_test = '/Users/j.markdaniels/Desktop/Data/multiclass/test/'\n",
    "multi_train = '/Users/j.markdaniels/Desktop/Data/multiclass/train/'"
   ]
  },
  {
   "cell_type": "code",
   "execution_count": 74,
   "metadata": {},
   "outputs": [
    {
     "name": "stdout",
     "output_type": "stream",
     "text": [
      "Found 2776 images belonging to 20 classes.\n",
      "Found 11179 images belonging to 20 classes.\n"
     ]
    },
    {
     "name": "stderr",
     "output_type": "stream",
     "text": [
      "/anaconda3/lib/python3.7/site-packages/PIL/Image.py:968: UserWarning: Palette images with Transparency   expressed in bytes should be converted to RGBA images\n",
      "  ' expressed in bytes should be converted ' +\n",
      "/anaconda3/lib/python3.7/site-packages/PIL/TiffImagePlugin.py:763: UserWarning: Possibly corrupt EXIF data.  Expecting to read 85 bytes but only got 0. Skipping tag 33285\n",
      "  \" Skipping tag %s\" % (size, len(data), tag))\n",
      "/anaconda3/lib/python3.7/site-packages/PIL/TiffImagePlugin.py:763: UserWarning: Possibly corrupt EXIF data.  Expecting to read 93 bytes but only got 0. Skipping tag 33285\n",
      "  \" Skipping tag %s\" % (size, len(data), tag))\n",
      "/anaconda3/lib/python3.7/site-packages/PIL/TiffImagePlugin.py:763: UserWarning: Possibly corrupt EXIF data.  Expecting to read 141 bytes but only got 0. Skipping tag 37386\n",
      "  \" Skipping tag %s\" % (size, len(data), tag))\n",
      "/anaconda3/lib/python3.7/site-packages/PIL/TiffImagePlugin.py:763: UserWarning: Possibly corrupt EXIF data.  Expecting to read 149 bytes but only got 0. Skipping tag 37381\n",
      "  \" Skipping tag %s\" % (size, len(data), tag))\n",
      "/anaconda3/lib/python3.7/site-packages/PIL/TiffImagePlugin.py:763: UserWarning: Possibly corrupt EXIF data.  Expecting to read 157 bytes but only got 0. Skipping tag 37381\n",
      "  \" Skipping tag %s\" % (size, len(data), tag))\n",
      "/anaconda3/lib/python3.7/site-packages/PIL/TiffImagePlugin.py:763: UserWarning: Possibly corrupt EXIF data.  Expecting to read 144 bytes but only got 0. Skipping tag 40964\n",
      "  \" Skipping tag %s\" % (size, len(data), tag))\n",
      "/anaconda3/lib/python3.7/site-packages/PIL/TiffImagePlugin.py:763: UserWarning: Possibly corrupt EXIF data.  Expecting to read 192 bytes but only got 0. Skipping tag 40964\n",
      "  \" Skipping tag %s\" % (size, len(data), tag))\n",
      "/anaconda3/lib/python3.7/site-packages/PIL/TiffImagePlugin.py:763: UserWarning: Possibly corrupt EXIF data.  Expecting to read 192 bytes but only got 0. Skipping tag 41735\n",
      "  \" Skipping tag %s\" % (size, len(data), tag))\n",
      "/anaconda3/lib/python3.7/site-packages/PIL/TiffImagePlugin.py:763: UserWarning: Possibly corrupt EXIF data.  Expecting to read 62 bytes but only got 0. Skipping tag 41989\n",
      "  \" Skipping tag %s\" % (size, len(data), tag))\n",
      "/anaconda3/lib/python3.7/site-packages/PIL/TiffImagePlugin.py:763: UserWarning: Possibly corrupt EXIF data.  Expecting to read 16908320 bytes but only got 8068. Skipping tag 2048\n",
      "  \" Skipping tag %s\" % (size, len(data), tag))\n",
      "/anaconda3/lib/python3.7/site-packages/PIL/TiffImagePlugin.py:763: UserWarning: Possibly corrupt EXIF data.  Expecting to read 16908320 bytes but only got 8036. Skipping tag 2048\n",
      "  \" Skipping tag %s\" % (size, len(data), tag))\n",
      "/anaconda3/lib/python3.7/site-packages/PIL/TiffImagePlugin.py:763: UserWarning: Possibly corrupt EXIF data.  Expecting to read 34209794 bytes but only got 8258. Skipping tag 2048\n",
      "  \" Skipping tag %s\" % (size, len(data), tag))\n",
      "/anaconda3/lib/python3.7/site-packages/PIL/TiffImagePlugin.py:763: UserWarning: Possibly corrupt EXIF data.  Expecting to read 68157444 bytes but only got 8276. Skipping tag 2304\n",
      "  \" Skipping tag %s\" % (size, len(data), tag))\n",
      "/anaconda3/lib/python3.7/site-packages/PIL/TiffImagePlugin.py:763: UserWarning: Possibly corrupt EXIF data.  Expecting to read 34078722 bytes but only got 8193. Skipping tag 1536\n",
      "  \" Skipping tag %s\" % (size, len(data), tag))\n",
      "/anaconda3/lib/python3.7/site-packages/PIL/TiffImagePlugin.py:763: UserWarning: Possibly corrupt EXIF data.  Expecting to read 34078722 bytes but only got 8105. Skipping tag 1024\n",
      "  \" Skipping tag %s\" % (size, len(data), tag))\n",
      "/anaconda3/lib/python3.7/site-packages/PIL/TiffImagePlugin.py:763: UserWarning: Possibly corrupt EXIF data.  Expecting to read 68157442 bytes but only got 8126. Skipping tag 768\n",
      "  \" Skipping tag %s\" % (size, len(data), tag))\n",
      "/anaconda3/lib/python3.7/site-packages/PIL/TiffImagePlugin.py:763: UserWarning: Possibly corrupt EXIF data.  Expecting to read 136315212 bytes but only got 8268. Skipping tag 1280\n",
      "  \" Skipping tag %s\" % (size, len(data), tag))\n",
      "/anaconda3/lib/python3.7/site-packages/PIL/TiffImagePlugin.py:763: UserWarning: Possibly corrupt EXIF data.  Expecting to read 135004164 bytes but only got 8023. Skipping tag 3584\n",
      "  \" Skipping tag %s\" % (size, len(data), tag))\n",
      "/anaconda3/lib/python3.7/site-packages/PIL/TiffImagePlugin.py:763: UserWarning: Possibly corrupt EXIF data.  Expecting to read 270008328 bytes but only got 8278. Skipping tag 0\n",
      "  \" Skipping tag %s\" % (size, len(data), tag))\n",
      "/anaconda3/lib/python3.7/site-packages/PIL/TiffImagePlugin.py:763: UserWarning: Possibly corrupt EXIF data.  Expecting to read 135004164 bytes but only got 8278. Skipping tag 0\n",
      "  \" Skipping tag %s\" % (size, len(data), tag))\n",
      "/anaconda3/lib/python3.7/site-packages/PIL/TiffImagePlugin.py:763: UserWarning: Possibly corrupt EXIF data.  Expecting to read 50528257 bytes but only got 8074. Skipping tag 0\n",
      "  \" Skipping tag %s\" % (size, len(data), tag))\n",
      "/anaconda3/lib/python3.7/site-packages/PIL/TiffImagePlugin.py:763: UserWarning: Possibly corrupt EXIF data.  Expecting to read 50528257 bytes but only got 8278. Skipping tag 256\n",
      "  \" Skipping tag %s\" % (size, len(data), tag))\n",
      "/anaconda3/lib/python3.7/site-packages/PIL/TiffImagePlugin.py:763: UserWarning: Possibly corrupt EXIF data.  Expecting to read 101056514 bytes but only got 8081. Skipping tag 0\n",
      "  \" Skipping tag %s\" % (size, len(data), tag))\n",
      "/anaconda3/lib/python3.7/site-packages/PIL/TiffImagePlugin.py:763: UserWarning: Possibly corrupt EXIF data.  Expecting to read 202113028 bytes but only got 8056. Skipping tag 256\n",
      "  \" Skipping tag %s\" % (size, len(data), tag))\n",
      "/anaconda3/lib/python3.7/site-packages/PIL/TiffImagePlugin.py:763: UserWarning: Possibly corrupt EXIF data.  Expecting to read 405274632 bytes but only got 8182. Skipping tag 256\n",
      "  \" Skipping tag %s\" % (size, len(data), tag))\n",
      "/anaconda3/lib/python3.7/site-packages/PIL/TiffImagePlugin.py:763: UserWarning: Possibly corrupt EXIF data.  Expecting to read 50528257 bytes but only got 8278. Skipping tag 6656\n",
      "  \" Skipping tag %s\" % (size, len(data), tag))\n",
      "/anaconda3/lib/python3.7/site-packages/PIL/TiffImagePlugin.py:763: UserWarning: Possibly corrupt EXIF data.  Expecting to read 101056514 bytes but only got 8278. Skipping tag 0\n",
      "  \" Skipping tag %s\" % (size, len(data), tag))\n",
      "/anaconda3/lib/python3.7/site-packages/PIL/TiffImagePlugin.py:763: UserWarning: Possibly corrupt EXIF data.  Expecting to read 404226064 bytes but only got 8278. Skipping tag 0\n",
      "  \" Skipping tag %s\" % (size, len(data), tag))\n",
      "/anaconda3/lib/python3.7/site-packages/PIL/TiffImagePlugin.py:763: UserWarning: Possibly corrupt EXIF data.  Expecting to read 302186498 bytes but only got 8278. Skipping tag 0\n",
      "  \" Skipping tag %s\" % (size, len(data), tag))\n",
      "/anaconda3/lib/python3.7/site-packages/PIL/TiffImagePlugin.py:763: UserWarning: Possibly corrupt EXIF data.  Expecting to read 302186497 bytes but only got 8198. Skipping tag 0\n",
      "  \" Skipping tag %s\" % (size, len(data), tag))\n",
      "/anaconda3/lib/python3.7/site-packages/PIL/TiffImagePlugin.py:763: UserWarning: Possibly corrupt EXIF data.  Expecting to read 605290498 bytes but only got 8090. Skipping tag 0\n",
      "  \" Skipping tag %s\" % (size, len(data), tag))\n",
      "/anaconda3/lib/python3.7/site-packages/PIL/TiffImagePlugin.py:763: UserWarning: Possibly corrupt EXIF data.  Expecting to read 1208745988 bytes but only got 8278. Skipping tag 6656\n",
      "  \" Skipping tag %s\" % (size, len(data), tag))\n",
      "/anaconda3/lib/python3.7/site-packages/PIL/TiffImagePlugin.py:763: UserWarning: Possibly corrupt EXIF data.  Expecting to read 2418540552 bytes but only got 8078. Skipping tag 0\n",
      "  \" Skipping tag %s\" % (size, len(data), tag))\n",
      "/anaconda3/lib/python3.7/site-packages/PIL/TiffImagePlugin.py:763: UserWarning: Possibly corrupt EXIF data.  Expecting to read 302186497 bytes but only got 8278. Skipping tag 6656\n",
      "  \" Skipping tag %s\" % (size, len(data), tag))\n",
      "/anaconda3/lib/python3.7/site-packages/PIL/TiffImagePlugin.py:763: UserWarning: Possibly corrupt EXIF data.  Expecting to read 302186497 bytes but only got 8278. Skipping tag 0\n",
      "  \" Skipping tag %s\" % (size, len(data), tag))\n",
      "/anaconda3/lib/python3.7/site-packages/PIL/TiffImagePlugin.py:763: UserWarning: Possibly corrupt EXIF data.  Expecting to read 604372994 bytes but only got 8278. Skipping tag 0\n",
      "  \" Skipping tag %s\" % (size, len(data), tag))\n",
      "/anaconda3/lib/python3.7/site-packages/PIL/TiffImagePlugin.py:763: UserWarning: Possibly corrupt EXIF data.  Expecting to read 2417491976 bytes but only got 8278. Skipping tag 0\n",
      "  \" Skipping tag %s\" % (size, len(data), tag))\n",
      "/anaconda3/lib/python3.7/site-packages/PIL/TiffImagePlugin.py:763: UserWarning: Possibly corrupt EXIF data.  Expecting to read 65537 bytes but only got 0. Skipping tag 1\n",
      "  \" Skipping tag %s\" % (size, len(data), tag))\n",
      "/anaconda3/lib/python3.7/site-packages/PIL/TiffImagePlugin.py:763: UserWarning: Possibly corrupt EXIF data.  Expecting to read 393222 bytes but only got 0. Skipping tag 3\n",
      "  \" Skipping tag %s\" % (size, len(data), tag))\n",
      "/anaconda3/lib/python3.7/site-packages/PIL/TiffImagePlugin.py:763: UserWarning: Possibly corrupt EXIF data.  Expecting to read 65536 bytes but only got 8278. Skipping tag 0\n",
      "  \" Skipping tag %s\" % (size, len(data), tag))\n",
      "/anaconda3/lib/python3.7/site-packages/PIL/TiffImagePlugin.py:763: UserWarning: Possibly corrupt EXIF data.  Expecting to read 6553646 bytes but only got 0. Skipping tag 4608\n",
      "  \" Skipping tag %s\" % (size, len(data), tag))\n",
      "/anaconda3/lib/python3.7/site-packages/PIL/TiffImagePlugin.py:763: UserWarning: Possibly corrupt EXIF data.  Expecting to read 3221260288 bytes but only got 0. Skipping tag 2072\n",
      "  \" Skipping tag %s\" % (size, len(data), tag))\n",
      "/anaconda3/lib/python3.7/site-packages/PIL/TiffImagePlugin.py:763: UserWarning: Possibly corrupt EXIF data.  Expecting to read 268435640 bytes but only got 0. Skipping tag 768\n",
      "  \" Skipping tag %s\" % (size, len(data), tag))\n",
      "/anaconda3/lib/python3.7/site-packages/PIL/TiffImagePlugin.py:763: UserWarning: Possibly corrupt EXIF data.  Expecting to read 4718640 bytes but only got 0. Skipping tag 2560\n",
      "  \" Skipping tag %s\" % (size, len(data), tag))\n",
      "/anaconda3/lib/python3.7/site-packages/PIL/TiffImagePlugin.py:763: UserWarning: Possibly corrupt EXIF data.  Expecting to read 458765 bytes but only got 0. Skipping tag 23\n",
      "  \" Skipping tag %s\" % (size, len(data), tag))\n",
      "/anaconda3/lib/python3.7/site-packages/PIL/TiffImagePlugin.py:763: UserWarning: Possibly corrupt EXIF data.  Expecting to read 1441794 bytes but only got 8278. Skipping tag 161\n",
      "  \" Skipping tag %s\" % (size, len(data), tag))\n",
      "/anaconda3/lib/python3.7/site-packages/PIL/TiffImagePlugin.py:763: UserWarning: Possibly corrupt EXIF data.  Expecting to read 65575 bytes but only got 0. Skipping tag 55\n",
      "  \" Skipping tag %s\" % (size, len(data), tag))\n",
      "/anaconda3/lib/python3.7/site-packages/PIL/TiffImagePlugin.py:763: UserWarning: Possibly corrupt EXIF data.  Expecting to read 393219 bytes but only got 0. Skipping tag 7\n",
      "  \" Skipping tag %s\" % (size, len(data), tag))\n",
      "/anaconda3/lib/python3.7/site-packages/PIL/TiffImagePlugin.py:763: UserWarning: Possibly corrupt EXIF data.  Expecting to read 13369600 bytes but only got 0. Skipping tag 180\n",
      "  \" Skipping tag %s\" % (size, len(data), tag))\n",
      "/anaconda3/lib/python3.7/site-packages/PIL/TiffImagePlugin.py:763: UserWarning: Possibly corrupt EXIF data.  Expecting to read 2080374824 bytes but only got 8278. Skipping tag 256\n",
      "  \" Skipping tag %s\" % (size, len(data), tag))\n",
      "/anaconda3/lib/python3.7/site-packages/PIL/TiffImagePlugin.py:780: UserWarning: Corrupt EXIF data.  Expecting to read 12 bytes but only got 0. \n",
      "  warnings.warn(str(msg))\n"
     ]
    }
   ],
   "source": [
    "multi_images_te, multi_labels_te,multi_images_tr, multi_labels_tr, multi_images, multi_labels = imagenlabel_gen_multi(multi_test, multi_train)"
   ]
  },
  {
   "cell_type": "markdown",
   "metadata": {},
   "source": [
    "### Perform Train-Test Split"
   ]
  },
  {
   "cell_type": "code",
   "execution_count": 75,
   "metadata": {},
   "outputs": [],
   "source": [
    "X_train, X_val, y_train, y_val = train_test_split(multi_images_tr, multi_labels_tr, test_size=0.20, random_state=123)"
   ]
  },
  {
   "cell_type": "code",
   "execution_count": 76,
   "metadata": {},
   "outputs": [],
   "source": [
    "y_test  = multi_labels_te"
   ]
  },
  {
   "cell_type": "code",
   "execution_count": 77,
   "metadata": {},
   "outputs": [
    {
     "data": {
      "text/plain": [
       "(2776, 20)"
      ]
     },
     "execution_count": 77,
     "metadata": {},
     "output_type": "execute_result"
    }
   ],
   "source": [
    "y_test.shape"
   ]
  },
  {
   "cell_type": "code",
   "execution_count": 78,
   "metadata": {},
   "outputs": [],
   "source": [
    "X_test = multi_images_te"
   ]
  },
  {
   "cell_type": "code",
   "execution_count": 79,
   "metadata": {},
   "outputs": [
    {
     "data": {
      "text/plain": [
       "(2776, 224, 224, 3)"
      ]
     },
     "execution_count": 79,
     "metadata": {},
     "output_type": "execute_result"
    }
   ],
   "source": [
    "X_test.shape"
   ]
  },
  {
   "cell_type": "markdown",
   "metadata": {},
   "source": [
    "## Multi-class CNN-i Model"
   ]
  },
  {
   "cell_type": "markdown",
   "metadata": {},
   "source": [
    "### Create Model"
   ]
  },
  {
   "cell_type": "code",
   "execution_count": null,
   "metadata": {},
   "outputs": [],
   "source": []
  },
  {
   "cell_type": "code",
   "execution_count": 80,
   "metadata": {},
   "outputs": [],
   "source": [
    "imagenet=inception_v3.InceptionV3(weights='imagenet',include_top=False)\n",
    "imagenet_new=imagenet.output\n",
    "multi_class_model = models.Sequential()\n",
    "multi_class_model.add(imagenet)\n",
    "multi_class_model.add(GlobalAveragePooling2D())\n",
    "multi_class_model.add(Dense(1024,activation='relu'))\n",
    "multi_class_model.add(Dense(1024,activation='relu')) #dense layer 2\n",
    "multi_class_model.add(Dense(512,activation='relu')) #dense layer 3\n",
    "multi_class_model.add(Dense(20,activation='softmax')) #final layer with softmax activation"
   ]
  },
  {
   "cell_type": "code",
   "execution_count": 81,
   "metadata": {},
   "outputs": [
    {
     "name": "stdout",
     "output_type": "stream",
     "text": [
      "0 input_3 False\n",
      "1 conv2d_192 True\n",
      "2 batch_normalization_192 True\n",
      "3 activation_189 True\n",
      "4 conv2d_193 True\n",
      "5 batch_normalization_193 True\n",
      "6 activation_190 True\n",
      "7 conv2d_194 True\n",
      "8 batch_normalization_194 True\n",
      "9 activation_191 True\n",
      "10 max_pooling2d_12 True\n",
      "11 conv2d_195 True\n",
      "12 batch_normalization_195 True\n",
      "13 activation_192 True\n",
      "14 conv2d_196 True\n",
      "15 batch_normalization_196 True\n",
      "16 activation_193 True\n",
      "17 max_pooling2d_13 True\n",
      "18 conv2d_200 True\n",
      "19 batch_normalization_200 True\n",
      "20 activation_197 True\n",
      "21 conv2d_198 True\n",
      "22 conv2d_201 True\n",
      "23 batch_normalization_198 True\n",
      "24 batch_normalization_201 True\n",
      "25 activation_195 True\n",
      "26 activation_198 True\n",
      "27 average_pooling2d_19 True\n",
      "28 conv2d_197 True\n",
      "29 conv2d_199 True\n",
      "30 conv2d_202 True\n",
      "31 conv2d_203 True\n",
      "32 batch_normalization_197 True\n",
      "33 batch_normalization_199 True\n",
      "34 batch_normalization_202 True\n",
      "35 batch_normalization_203 True\n",
      "36 activation_194 True\n",
      "37 activation_196 True\n",
      "38 activation_199 True\n",
      "39 activation_200 True\n",
      "40 mixed0 True\n",
      "41 conv2d_207 True\n",
      "42 batch_normalization_207 True\n",
      "43 activation_204 True\n",
      "44 conv2d_205 True\n",
      "45 conv2d_208 True\n",
      "46 batch_normalization_205 True\n",
      "47 batch_normalization_208 True\n",
      "48 activation_202 True\n",
      "49 activation_205 True\n",
      "50 average_pooling2d_20 True\n",
      "51 conv2d_204 True\n",
      "52 conv2d_206 True\n",
      "53 conv2d_209 True\n",
      "54 conv2d_210 True\n",
      "55 batch_normalization_204 True\n",
      "56 batch_normalization_206 True\n",
      "57 batch_normalization_209 True\n",
      "58 batch_normalization_210 True\n",
      "59 activation_201 True\n",
      "60 activation_203 True\n",
      "61 activation_206 True\n",
      "62 activation_207 True\n",
      "63 mixed1 True\n",
      "64 conv2d_214 True\n",
      "65 batch_normalization_214 True\n",
      "66 activation_211 True\n",
      "67 conv2d_212 True\n",
      "68 conv2d_215 True\n",
      "69 batch_normalization_212 True\n",
      "70 batch_normalization_215 True\n",
      "71 activation_209 True\n",
      "72 activation_212 True\n",
      "73 average_pooling2d_21 True\n",
      "74 conv2d_211 True\n",
      "75 conv2d_213 True\n",
      "76 conv2d_216 True\n",
      "77 conv2d_217 True\n",
      "78 batch_normalization_211 True\n",
      "79 batch_normalization_213 True\n",
      "80 batch_normalization_216 True\n",
      "81 batch_normalization_217 True\n",
      "82 activation_208 True\n",
      "83 activation_210 True\n",
      "84 activation_213 True\n",
      "85 activation_214 True\n",
      "86 mixed2 True\n",
      "87 conv2d_219 True\n",
      "88 batch_normalization_219 True\n",
      "89 activation_216 True\n",
      "90 conv2d_220 True\n",
      "91 batch_normalization_220 True\n",
      "92 activation_217 True\n",
      "93 conv2d_218 True\n",
      "94 conv2d_221 True\n",
      "95 batch_normalization_218 True\n",
      "96 batch_normalization_221 True\n",
      "97 activation_215 True\n",
      "98 activation_218 True\n",
      "99 max_pooling2d_14 True\n",
      "100 mixed3 True\n",
      "101 conv2d_226 True\n",
      "102 batch_normalization_226 True\n",
      "103 activation_223 True\n",
      "104 conv2d_227 True\n",
      "105 batch_normalization_227 True\n",
      "106 activation_224 True\n",
      "107 conv2d_223 True\n",
      "108 conv2d_228 True\n",
      "109 batch_normalization_223 True\n",
      "110 batch_normalization_228 True\n",
      "111 activation_220 True\n",
      "112 activation_225 True\n",
      "113 conv2d_224 True\n",
      "114 conv2d_229 True\n",
      "115 batch_normalization_224 True\n",
      "116 batch_normalization_229 True\n",
      "117 activation_221 True\n",
      "118 activation_226 True\n",
      "119 average_pooling2d_22 True\n",
      "120 conv2d_222 True\n",
      "121 conv2d_225 True\n",
      "122 conv2d_230 True\n",
      "123 conv2d_231 True\n",
      "124 batch_normalization_222 True\n",
      "125 batch_normalization_225 True\n",
      "126 batch_normalization_230 True\n",
      "127 batch_normalization_231 True\n",
      "128 activation_219 True\n",
      "129 activation_222 True\n",
      "130 activation_227 True\n",
      "131 activation_228 True\n",
      "132 mixed4 True\n",
      "133 conv2d_236 True\n",
      "134 batch_normalization_236 True\n",
      "135 activation_233 True\n",
      "136 conv2d_237 True\n",
      "137 batch_normalization_237 True\n",
      "138 activation_234 True\n",
      "139 conv2d_233 True\n",
      "140 conv2d_238 True\n",
      "141 batch_normalization_233 True\n",
      "142 batch_normalization_238 True\n",
      "143 activation_230 True\n",
      "144 activation_235 True\n",
      "145 conv2d_234 True\n",
      "146 conv2d_239 True\n",
      "147 batch_normalization_234 True\n",
      "148 batch_normalization_239 True\n",
      "149 activation_231 True\n",
      "150 activation_236 True\n",
      "151 average_pooling2d_23 True\n",
      "152 conv2d_232 True\n",
      "153 conv2d_235 True\n",
      "154 conv2d_240 True\n",
      "155 conv2d_241 True\n",
      "156 batch_normalization_232 True\n",
      "157 batch_normalization_235 True\n",
      "158 batch_normalization_240 True\n",
      "159 batch_normalization_241 True\n",
      "160 activation_229 True\n",
      "161 activation_232 True\n",
      "162 activation_237 True\n",
      "163 activation_238 True\n",
      "164 mixed5 True\n",
      "165 conv2d_246 True\n",
      "166 batch_normalization_246 True\n",
      "167 activation_243 True\n",
      "168 conv2d_247 True\n",
      "169 batch_normalization_247 True\n",
      "170 activation_244 True\n",
      "171 conv2d_243 True\n",
      "172 conv2d_248 True\n",
      "173 batch_normalization_243 True\n",
      "174 batch_normalization_248 True\n",
      "175 activation_240 True\n",
      "176 activation_245 True\n",
      "177 conv2d_244 True\n",
      "178 conv2d_249 True\n",
      "179 batch_normalization_244 True\n",
      "180 batch_normalization_249 True\n",
      "181 activation_241 True\n",
      "182 activation_246 True\n",
      "183 average_pooling2d_24 True\n",
      "184 conv2d_242 True\n",
      "185 conv2d_245 True\n",
      "186 conv2d_250 True\n",
      "187 conv2d_251 True\n",
      "188 batch_normalization_242 True\n",
      "189 batch_normalization_245 True\n",
      "190 batch_normalization_250 True\n",
      "191 batch_normalization_251 True\n",
      "192 activation_239 True\n",
      "193 activation_242 True\n",
      "194 activation_247 True\n",
      "195 activation_248 True\n",
      "196 mixed6 True\n",
      "197 conv2d_256 True\n",
      "198 batch_normalization_256 True\n",
      "199 activation_253 True\n",
      "200 conv2d_257 True\n",
      "201 batch_normalization_257 True\n",
      "202 activation_254 True\n",
      "203 conv2d_253 True\n",
      "204 conv2d_258 True\n",
      "205 batch_normalization_253 True\n",
      "206 batch_normalization_258 True\n",
      "207 activation_250 True\n",
      "208 activation_255 True\n",
      "209 conv2d_254 True\n",
      "210 conv2d_259 True\n",
      "211 batch_normalization_254 True\n",
      "212 batch_normalization_259 True\n",
      "213 activation_251 True\n",
      "214 activation_256 True\n",
      "215 average_pooling2d_25 True\n",
      "216 conv2d_252 True\n",
      "217 conv2d_255 True\n",
      "218 conv2d_260 True\n",
      "219 conv2d_261 True\n",
      "220 batch_normalization_252 True\n",
      "221 batch_normalization_255 True\n",
      "222 batch_normalization_260 True\n",
      "223 batch_normalization_261 True\n",
      "224 activation_249 True\n",
      "225 activation_252 True\n",
      "226 activation_257 True\n",
      "227 activation_258 True\n",
      "228 mixed7 True\n",
      "229 conv2d_264 True\n",
      "230 batch_normalization_264 True\n",
      "231 activation_261 True\n",
      "232 conv2d_265 True\n",
      "233 batch_normalization_265 True\n",
      "234 activation_262 True\n",
      "235 conv2d_262 True\n",
      "236 conv2d_266 True\n",
      "237 batch_normalization_262 True\n",
      "238 batch_normalization_266 True\n",
      "239 activation_259 True\n",
      "240 activation_263 True\n",
      "241 conv2d_263 True\n",
      "242 conv2d_267 True\n",
      "243 batch_normalization_263 True\n",
      "244 batch_normalization_267 True\n",
      "245 activation_260 True\n",
      "246 activation_264 True\n",
      "247 max_pooling2d_15 True\n",
      "248 mixed8 True\n",
      "249 conv2d_272 True\n",
      "250 batch_normalization_272 True\n",
      "251 activation_269 True\n",
      "252 conv2d_269 True\n",
      "253 conv2d_273 True\n",
      "254 batch_normalization_269 True\n",
      "255 batch_normalization_273 True\n",
      "256 activation_266 True\n",
      "257 activation_270 True\n",
      "258 conv2d_270 True\n",
      "259 conv2d_271 True\n",
      "260 conv2d_274 True\n",
      "261 conv2d_275 True\n",
      "262 average_pooling2d_26 True\n",
      "263 conv2d_268 True\n",
      "264 batch_normalization_270 True\n",
      "265 batch_normalization_271 True\n",
      "266 batch_normalization_274 True\n",
      "267 batch_normalization_275 True\n",
      "268 conv2d_276 True\n",
      "269 batch_normalization_268 True\n",
      "270 activation_267 True\n",
      "271 activation_268 True\n",
      "272 activation_271 True\n",
      "273 activation_272 True\n",
      "274 batch_normalization_276 True\n",
      "275 activation_265 True\n",
      "276 mixed9_0 True\n",
      "277 concatenate_5 True\n",
      "278 activation_273 True\n",
      "279 mixed9 True\n",
      "280 conv2d_281 True\n",
      "281 batch_normalization_281 True\n",
      "282 activation_278 True\n",
      "283 conv2d_278 True\n",
      "284 conv2d_282 True\n",
      "285 batch_normalization_278 True\n",
      "286 batch_normalization_282 True\n",
      "287 activation_275 True\n",
      "288 activation_279 True\n",
      "289 conv2d_279 True\n",
      "290 conv2d_280 True\n",
      "291 conv2d_283 True\n",
      "292 conv2d_284 True\n",
      "293 average_pooling2d_27 True\n",
      "294 conv2d_277 True\n",
      "295 batch_normalization_279 True\n",
      "296 batch_normalization_280 True\n",
      "297 batch_normalization_283 True\n",
      "298 batch_normalization_284 True\n",
      "299 conv2d_285 True\n",
      "300 batch_normalization_277 True\n",
      "301 activation_276 True\n",
      "302 activation_277 True\n",
      "303 activation_280 True\n",
      "304 activation_281 True\n",
      "305 batch_normalization_285 True\n",
      "306 activation_274 True\n",
      "307 mixed9_1 True\n",
      "308 concatenate_6 True\n",
      "309 activation_282 True\n",
      "310 mixed10 True\n"
     ]
    }
   ],
   "source": [
    "for i,layer in enumerate(imagenet.layers):\n",
    "  print(i,layer.name, layer.trainable)"
   ]
  },
  {
   "cell_type": "code",
   "execution_count": 82,
   "metadata": {},
   "outputs": [
    {
     "name": "stdout",
     "output_type": "stream",
     "text": [
      "0 inception_v3 True\n",
      "1 global_average_pooling2d_3 True\n",
      "2 dense_11 True\n",
      "3 dense_12 True\n",
      "4 dense_13 True\n",
      "5 dense_14 True\n"
     ]
    }
   ],
   "source": [
    "for i,layer in enumerate(multi_class_model.layers):\n",
    "  print(i,layer.name, layer.trainable)"
   ]
  },
  {
   "cell_type": "code",
   "execution_count": 83,
   "metadata": {},
   "outputs": [],
   "source": [
    "for layer in multi_class_model.layers[:1]:\n",
    "    layer.trainable=False"
   ]
  },
  {
   "cell_type": "code",
   "execution_count": 84,
   "metadata": {
    "scrolled": true
   },
   "outputs": [
    {
     "name": "stdout",
     "output_type": "stream",
     "text": [
      "0 inception_v3 False\n",
      "1 global_average_pooling2d_3 True\n",
      "2 dense_11 True\n",
      "3 dense_12 True\n",
      "4 dense_13 True\n",
      "5 dense_14 True\n"
     ]
    }
   ],
   "source": [
    "for i,layer in enumerate(multi_class_model.layers):\n",
    "  print(i,layer.name, layer.trainable)"
   ]
  },
  {
   "cell_type": "code",
   "execution_count": 85,
   "metadata": {},
   "outputs": [
    {
     "data": {
      "text/plain": [
       "(68, 20)"
      ]
     },
     "execution_count": 85,
     "metadata": {},
     "output_type": "execute_result"
    }
   ],
   "source": [
    "y_val.shape"
   ]
  },
  {
   "cell_type": "markdown",
   "metadata": {},
   "source": [
    "### Train Model"
   ]
  },
  {
   "cell_type": "code",
   "execution_count": 86,
   "metadata": {},
   "outputs": [],
   "source": [
    "# top5_accuracy = functools.partial(top_k_categorical_accuracy, k=5)\n",
    "\n",
    "top3_acc = functools.partial(top_k_categorical_accuracy, k=3)\n",
    "\n",
    "top3_acc.__name__ = 'top3_acc'"
   ]
  },
  {
   "cell_type": "code",
   "execution_count": 87,
   "metadata": {},
   "outputs": [],
   "source": [
    "multi_class_model.compile(optimizer='Adam',loss='categorical_crossentropy',metrics=['accuracy', top3_acc])"
   ]
  },
  {
   "cell_type": "code",
   "execution_count": 67,
   "metadata": {
    "scrolled": true
   },
   "outputs": [
    {
     "ename": "ValueError",
     "evalue": "Error when checking target: expected dense_10 to have shape (20,) but got array with shape (1,)",
     "output_type": "error",
     "traceback": [
      "\u001b[0;31m---------------------------------------------------------------------------\u001b[0m",
      "\u001b[0;31mValueError\u001b[0m                                Traceback (most recent call last)",
      "\u001b[0;32m<ipython-input-67-2b3c85910779>\u001b[0m in \u001b[0;36m<module>\u001b[0;34m\u001b[0m\n\u001b[1;32m      3\u001b[0m                                           \u001b[0mepochs\u001b[0m\u001b[0;34m=\u001b[0m\u001b[0;36m1\u001b[0m\u001b[0;34m,\u001b[0m \u001b[0;31m#100\u001b[0m\u001b[0;34m\u001b[0m\u001b[0;34m\u001b[0m\u001b[0m\n\u001b[1;32m      4\u001b[0m                                           \u001b[0mbatch_size\u001b[0m\u001b[0;34m=\u001b[0m\u001b[0;36m20\u001b[0m\u001b[0;34m,\u001b[0m \u001b[0;31m#60\u001b[0m\u001b[0;34m\u001b[0m\u001b[0;34m\u001b[0m\u001b[0m\n\u001b[0;32m----> 5\u001b[0;31m                                           validation_data=(X_val, y_val))\n\u001b[0m",
      "\u001b[0;32m/anaconda3/lib/python3.7/site-packages/keras/engine/training.py\u001b[0m in \u001b[0;36mfit\u001b[0;34m(self, x, y, batch_size, epochs, verbose, callbacks, validation_split, validation_data, shuffle, class_weight, sample_weight, initial_epoch, steps_per_epoch, validation_steps, **kwargs)\u001b[0m\n\u001b[1;32m    950\u001b[0m             \u001b[0msample_weight\u001b[0m\u001b[0;34m=\u001b[0m\u001b[0msample_weight\u001b[0m\u001b[0;34m,\u001b[0m\u001b[0;34m\u001b[0m\u001b[0;34m\u001b[0m\u001b[0m\n\u001b[1;32m    951\u001b[0m             \u001b[0mclass_weight\u001b[0m\u001b[0;34m=\u001b[0m\u001b[0mclass_weight\u001b[0m\u001b[0;34m,\u001b[0m\u001b[0;34m\u001b[0m\u001b[0;34m\u001b[0m\u001b[0m\n\u001b[0;32m--> 952\u001b[0;31m             batch_size=batch_size)\n\u001b[0m\u001b[1;32m    953\u001b[0m         \u001b[0;31m# Prepare validation data.\u001b[0m\u001b[0;34m\u001b[0m\u001b[0;34m\u001b[0m\u001b[0;34m\u001b[0m\u001b[0m\n\u001b[1;32m    954\u001b[0m         \u001b[0mdo_validation\u001b[0m \u001b[0;34m=\u001b[0m \u001b[0;32mFalse\u001b[0m\u001b[0;34m\u001b[0m\u001b[0;34m\u001b[0m\u001b[0m\n",
      "\u001b[0;32m/anaconda3/lib/python3.7/site-packages/keras/engine/training.py\u001b[0m in \u001b[0;36m_standardize_user_data\u001b[0;34m(self, x, y, sample_weight, class_weight, check_array_lengths, batch_size)\u001b[0m\n\u001b[1;32m    787\u001b[0m                 \u001b[0mfeed_output_shapes\u001b[0m\u001b[0;34m,\u001b[0m\u001b[0;34m\u001b[0m\u001b[0;34m\u001b[0m\u001b[0m\n\u001b[1;32m    788\u001b[0m                 \u001b[0mcheck_batch_axis\u001b[0m\u001b[0;34m=\u001b[0m\u001b[0;32mFalse\u001b[0m\u001b[0;34m,\u001b[0m  \u001b[0;31m# Don't enforce the batch size.\u001b[0m\u001b[0;34m\u001b[0m\u001b[0;34m\u001b[0m\u001b[0m\n\u001b[0;32m--> 789\u001b[0;31m                 exception_prefix='target')\n\u001b[0m\u001b[1;32m    790\u001b[0m \u001b[0;34m\u001b[0m\u001b[0m\n\u001b[1;32m    791\u001b[0m             \u001b[0;31m# Generate sample-wise weight values given the `sample_weight` and\u001b[0m\u001b[0;34m\u001b[0m\u001b[0;34m\u001b[0m\u001b[0;34m\u001b[0m\u001b[0m\n",
      "\u001b[0;32m/anaconda3/lib/python3.7/site-packages/keras/engine/training_utils.py\u001b[0m in \u001b[0;36mstandardize_input_data\u001b[0;34m(data, names, shapes, check_batch_axis, exception_prefix)\u001b[0m\n\u001b[1;32m    136\u001b[0m                             \u001b[0;34m': expected '\u001b[0m \u001b[0;34m+\u001b[0m \u001b[0mnames\u001b[0m\u001b[0;34m[\u001b[0m\u001b[0mi\u001b[0m\u001b[0;34m]\u001b[0m \u001b[0;34m+\u001b[0m \u001b[0;34m' to have shape '\u001b[0m \u001b[0;34m+\u001b[0m\u001b[0;34m\u001b[0m\u001b[0;34m\u001b[0m\u001b[0m\n\u001b[1;32m    137\u001b[0m                             \u001b[0mstr\u001b[0m\u001b[0;34m(\u001b[0m\u001b[0mshape\u001b[0m\u001b[0;34m)\u001b[0m \u001b[0;34m+\u001b[0m \u001b[0;34m' but got array with shape '\u001b[0m \u001b[0;34m+\u001b[0m\u001b[0;34m\u001b[0m\u001b[0;34m\u001b[0m\u001b[0m\n\u001b[0;32m--> 138\u001b[0;31m                             str(data_shape))\n\u001b[0m\u001b[1;32m    139\u001b[0m     \u001b[0;32mreturn\u001b[0m \u001b[0mdata\u001b[0m\u001b[0;34m\u001b[0m\u001b[0;34m\u001b[0m\u001b[0m\n\u001b[1;32m    140\u001b[0m \u001b[0;34m\u001b[0m\u001b[0m\n",
      "\u001b[0;31mValueError\u001b[0m: Error when checking target: expected dense_10 to have shape (20,) but got array with shape (1,)"
     ]
    }
   ],
   "source": [
    "multi_class_model_1 = multi_class_model.fit(X_train,\n",
    "                                          y_train,\n",
    "                                          epochs=1, #100\n",
    "                                          batch_size=20, #60\n",
    "                                          validation_data=(X_val, y_val))"
   ]
  },
  {
   "cell_type": "markdown",
   "metadata": {},
   "source": [
    "### Save Loaded Multi-class Model"
   ]
  },
  {
   "cell_type": "code",
   "execution_count": null,
   "metadata": {},
   "outputs": [],
   "source": [
    "###multi_class_model.save('inception_multiple_classes.h5')"
   ]
  },
  {
   "cell_type": "markdown",
   "metadata": {},
   "source": [
    "### Load Saved Multi-class Model"
   ]
  },
  {
   "cell_type": "code",
   "execution_count": 88,
   "metadata": {},
   "outputs": [
    {
     "name": "stdout",
     "output_type": "stream",
     "text": [
      "_________________________________________________________________\n",
      "Layer (type)                 Output Shape              Param #   \n",
      "=================================================================\n",
      "inception_v3 (Model)         (None, None, None, 2048)  21802784  \n",
      "_________________________________________________________________\n",
      "global_average_pooling2d_3 ( (None, 2048)              0         \n",
      "_________________________________________________________________\n",
      "dense_11 (Dense)             (None, 1024)              2098176   \n",
      "_________________________________________________________________\n",
      "dense_12 (Dense)             (None, 1024)              1049600   \n",
      "_________________________________________________________________\n",
      "dense_13 (Dense)             (None, 512)               524800    \n",
      "_________________________________________________________________\n",
      "dense_14 (Dense)             (None, 20)                10260     \n",
      "=================================================================\n",
      "Total params: 25,485,620\n",
      "Trainable params: 3,682,836\n",
      "Non-trainable params: 21,802,784\n",
      "_________________________________________________________________\n"
     ]
    }
   ],
   "source": [
    "from numpy import loadtxt\n",
    "from keras.models import load_model\n",
    "\n",
    "\n",
    "multi_class_model.load_weights('/Users/j.markdaniels/iCloud Drive (Archive)/Desktop/Flatiron/projects/Final_Project/final_project/flatiron_final_project/inception_multiple_classes.h5')\n",
    "\n",
    "# model = load_model('/Users/j.markdaniels/iCloud Drive (Archive)/Desktop/Flatiron/projects/Final_Project/final_project/flatiron_final_project/inception_multiple_classes.h5')\n",
    "\n",
    "multi_class_model.summary()\n"
   ]
  },
  {
   "cell_type": "markdown",
   "metadata": {},
   "source": [
    "#### Summary"
   ]
  },
  {
   "cell_type": "code",
   "execution_count": null,
   "metadata": {
    "scrolled": true
   },
   "outputs": [],
   "source": [
    "\n",
    "print(multi_class_model.summary())\n"
   ]
  },
  {
   "cell_type": "markdown",
   "metadata": {},
   "source": [
    "### Evaluate Model"
   ]
  },
  {
   "cell_type": "markdown",
   "metadata": {},
   "source": [
    "#### Accuracy"
   ]
  },
  {
   "cell_type": "code",
   "execution_count": 89,
   "metadata": {
    "scrolled": true
   },
   "outputs": [
    {
     "name": "stdout",
     "output_type": "stream",
     "text": [
      "2776/2776 [==============================] - 222s 80ms/step\n"
     ]
    },
    {
     "data": {
      "text/plain": [
       "[2.667107081894229, 0.7118155621314255, 0.9056195965417867]"
      ]
     },
     "execution_count": 89,
     "metadata": {},
     "output_type": "execute_result"
    }
   ],
   "source": [
    "multi_class_model.evaluate(X_test, y_test)"
   ]
  },
  {
   "cell_type": "markdown",
   "metadata": {},
   "source": [
    "#### Confusion Matrix"
   ]
  },
  {
   "cell_type": "code",
   "execution_count": 90,
   "metadata": {},
   "outputs": [],
   "source": [
    "predictions_transfer = multi_class_model.predict(X_test)"
   ]
  },
  {
   "cell_type": "code",
   "execution_count": 117,
   "metadata": {},
   "outputs": [
    {
     "data": {
      "text/plain": [
       "['bald_eagle_test',\n",
       " 'black_bear_test',\n",
       " 'bobcat_test',\n",
       " 'canada_lynx_test',\n",
       " 'columbian_deer_test',\n",
       " 'cougar_test',\n",
       " 'coyote_test',\n",
       " 'deer_test',\n",
       " 'elk_test',\n",
       " 'gray_fox_test',\n",
       " 'gray_wolf_test',\n",
       " 'mountain_beaver_test',\n",
       " 'nutria_test',\n",
       " 'raccoon_test',\n",
       " 'raven_test',\n",
       " 'red_fox_test',\n",
       " 'ringtail_test',\n",
       " 'sea_lions_test',\n",
       " 'seals_test',\n",
       " 'virginia_opossum_test']"
      ]
     },
     "execution_count": 117,
     "metadata": {},
     "output_type": "execute_result"
    }
   ],
   "source": [
    "labels = [label for label in multi_data_te.class_indices] \n",
    "labels"
   ]
  },
  {
   "cell_type": "code",
   "execution_count": 131,
   "metadata": {},
   "outputs": [
    {
     "name": "stdout",
     "output_type": "stream",
     "text": [
      "Top 3 guesses: ['cougar', 'canada_lynx', 'sea_lions']\n",
      "cougar\n"
     ]
    },
    {
     "data": {
      "image/png": "[encoded data removed]",
      "text/plain": [
       "<Figure size 432x288 with 1 Axes>"
      ]
     },
     "metadata": {
      "needs_background": "light"
     },
     "output_type": "display_data"
    }
   ],
   "source": [
    "\n",
    "\n",
    "k = 3\n",
    "i=890\n",
    "top_k_predictions = [x[:k] for x in (-predictions_transfer).argsort()]\n",
    "top_values_index=top_k_predictions[i]\n",
    "plt.imshow(X_test[i])\n",
    "print('Top 3 guesses: {}'.format([labels[i].replace('_test','') for i in top_values_index]))\n",
    "print(labels[y_test[i].argmax()].replace('_test',''))"
   ]
  },
  {
   "cell_type": "code",
   "execution_count": 115,
   "metadata": {},
   "outputs": [
    {
     "data": {
      "text/plain": [
       "{'bald_eagle_test': 0,\n",
       " 'black_bear_test': 1,\n",
       " 'bobcat_test': 2,\n",
       " 'canada_lynx_test': 3,\n",
       " 'columbian_deer_test': 4,\n",
       " 'cougar_test': 5,\n",
       " 'coyote_test': 6,\n",
       " 'deer_test': 7,\n",
       " 'elk_test': 8,\n",
       " 'gray_fox_test': 9,\n",
       " 'gray_wolf_test': 10,\n",
       " 'mountain_beaver_test': 11,\n",
       " 'nutria_test': 12,\n",
       " 'raccoon_test': 13,\n",
       " 'raven_test': 14,\n",
       " 'red_fox_test': 15,\n",
       " 'ringtail_test': 16,\n",
       " 'sea_lions_test': 17,\n",
       " 'seals_test': 18,\n",
       " 'virginia_opossum_test': 19}"
      ]
     },
     "execution_count": 115,
     "metadata": {},
     "output_type": "execute_result"
    }
   ],
   "source": [
    "multi_data_te.class_indices\n"
   ]
  },
  {
   "cell_type": "code",
   "execution_count": 98,
   "metadata": {},
   "outputs": [],
   "source": [
    "y_pred = np.argmax(predictions_transfer, axis=1)\n",
    "\n",
    "y_true = np.where(y_test != 0)[1]"
   ]
  },
  {
   "cell_type": "code",
   "execution_count": 99,
   "metadata": {},
   "outputs": [
    {
     "data": {
      "image/png": "[encoded data removed]",
      "text/plain": [
       "<Figure size 1440x2160 with 1 Axes>"
      ]
     },
     "metadata": {
      "needs_background": "light"
     },
     "output_type": "display_data"
    }
   ],
   "source": [
    "# Calculate Confusion Matrix\n",
    "cm = confusion_matrix(y_true, y_pred)\n",
    "# classes = classes[unique_labels(y_true, y_pred)]\n",
    "# Figure adjustment and heatmap plot\n",
    "f = plt.figure(figsize=(20,30))\n",
    "ax= plt.subplot()\n",
    "sns.heatmap(cm, annot=True, ax = ax, vmax=100, cbar=False, cmap='Paired', mask=(cm==0), fmt=',.0f', linewidths=2, linecolor='grey', ); \n",
    "\n",
    "# labels\n",
    "ax.set_xlabel('Predicted labels', fontsize=16);\n",
    "ax.set_ylabel('True labels', labelpad=30, fontsize=16); \n",
    "ax.set_title('Confusion Matrix', fontsize=18); \n",
    "ax.xaxis.set_ticklabels(labels, rotation=90); \n",
    "ax.yaxis.set_ticklabels(labels, rotation=0);\n",
    "ax.set_facecolor('white')"
   ]
  },
  {
   "cell_type": "markdown",
   "metadata": {},
   "source": [
    "#### Top-k Categorical Accuracy"
   ]
  },
  {
   "cell_type": "code",
   "execution_count": 57,
   "metadata": {},
   "outputs": [],
   "source": [
    "import functools\n",
    "from keras.metrics import top_k_categorical_accuracy"
   ]
  },
  {
   "cell_type": "code",
   "execution_count": 58,
   "metadata": {},
   "outputs": [],
   "source": [
    "\n",
    "\n",
    "top_5_accuracy = functools.partial(top_k_categorical_accuracy, k=5)"
   ]
  },
  {
   "cell_type": "code",
   "execution_count": null,
   "metadata": {},
   "outputs": [],
   "source": [
    "\n",
    "import functools\n",
    "\n",
    "top10_acc = functools.partial(top_k_categorical_accuracy, k=10)\n",
    "\n",
    "top10_acc.__name__ = 'top10_acc'\n",
    "\n",
    "top3_acc = functools.partial(top_k_categorical_accuracy, k=3)\n",
    "\n",
    "top3_acc.__name__ = 'top3_acc'\n",
    "\n",
    "cnn.compile(loss=\"categorical_crossentropy\", optimizer=opt, metrics=[\"accuracy\", top3_acc, top10_acc])"
   ]
  },
  {
   "cell_type": "code",
   "execution_count": null,
   "metadata": {},
   "outputs": [],
   "source": []
  },
  {
   "cell_type": "code",
   "execution_count": null,
   "metadata": {},
   "outputs": [],
   "source": []
  },
  {
   "cell_type": "code",
   "execution_count": null,
   "metadata": {},
   "outputs": [],
   "source": []
  }
 ],
 "metadata": {
  "kernelspec": {
   "display_name": "Python 3",
   "language": "python",
   "name": "python3"
  },
  "language_info": {
   "codemirror_mode": {
    "name": "ipython",
    "version": 3
   },
   "file_extension": ".py",
   "mimetype": "text/x-python",
   "name": "python",
   "nbconvert_exporter": "python",
   "pygments_lexer": "ipython3",
   "version": "3.7.1"
  },
  "toc": {
   "base_numbering": 1,
   "nav_menu": {},
   "number_sections": false,
   "sideBar": true,
   "skip_h1_title": false,
   "title_cell": "Table of Contents",
   "title_sidebar": "Contents",
   "toc_cell": false,
   "toc_position": {
    "height": "calc(100% - 180px)",
    "left": "10px",
    "top": "150px",
    "width": "277px"
   },
   "toc_section_display": true,
   "toc_window_display": true
  },
  "varInspector": {
   "cols": {
    "lenName": 16,
    "lenType": 16,
    "lenVar": 40
   },
   "kernels_config": {
    "python": {
     "delete_cmd_postfix": "",
     "delete_cmd_prefix": "del ",
     "library": "var_list.py",
     "varRefreshCmd": "print(var_dic_list())"
    },
    "r": {
     "delete_cmd_postfix": ") ",
     "delete_cmd_prefix": "rm(",
     "library": "var_list.r",
     "varRefreshCmd": "cat(var_dic_list()) "
    }
   },
   "types_to_exclude": [
    "module",
    "function",
    "builtin_function_or_method",
    "instance",
    "_Feature"
   ],
   "window_display": false
  }
 },
 "nbformat": 4,
 "nbformat_minor": 2
}
